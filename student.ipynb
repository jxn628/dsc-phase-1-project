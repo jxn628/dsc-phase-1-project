{
 "cells": [
  {
   "cell_type": "markdown",
   "metadata": {},
   "source": [
    "# Phase 1 Project\n",
    "\n",
    "**Authors:** Jonathan Holt\n",
    "***"
   ]
  },
  {
   "cell_type": "markdown",
   "metadata": {},
   "source": [
    "## Overview\n",
    "\n",
    "A one-paragraph overview of the project, including the business problem, data, methods, results and recommendations."
   ]
  },
  {
   "cell_type": "markdown",
   "metadata": {},
   "source": [
    "## Business Problem\n",
    "\n",
    "Microsoft sees all the big companies creating original video content and they want to get in on the fun. They have decided to create a new movie studio, but they don’t know anything about creating movies. You are charged with exploring what types of films are currently doing the best at the box office. You must then translate those findings into actionable insights that the head of Microsoft's new movie studio can use to help decide what type of films to create.\n",
    "***\n",
    "Questions to consider:\n",
    "* What are the business's pain points related to this project?\n",
    "* How did you pick the data analysis question(s) that you did?\n",
    "* Why are these questions important from a business perspective?\n",
    "***"
   ]
  },
  {
   "cell_type": "markdown",
   "metadata": {},
   "source": [
    "## Data Understanding\n",
    "\n",
    "Describe the data being used for this project.\n",
    "***\n",
    "Questions to consider:\n",
    "* Where did the data come from, and how do they relate to the data analysis questions?\n",
    "* What do the data represent? Who is in the sample and what variables are included?\n",
    "* What is the target variable?\n",
    "* What are the properties of the variables you intend to use?\n",
    "***"
   ]
  },
  {
   "cell_type": "markdown",
   "metadata": {},
   "source": [
    "## Questions that I want to answer:\n",
    "1. **What movies are doing well at the box office?**\n",
    "2. **What genres should Microsoft make?**\n",
    "3. **How much should Microsoft spend on these movies?**\n",
    "4.\n"
   ]
  },
  {
   "cell_type": "markdown",
   "metadata": {},
   "source": [
    "## Data Preparation\n"
   ]
  },
  {
   "cell_type": "code",
   "execution_count": null,
   "metadata": {},
   "outputs": [],
   "source": [
    "#Describe and justify the process for preparing the data for analysis.\n",
    "\n",
    "#Questions to consider:\n",
    "\n",
    "#Were there variables you dropped or created?\n",
    "#How did you address missing values or outliers?\n",
    "#Why are these choices appropriate given the data and the business problem?\n"
   ]
  },
  {
   "cell_type": "markdown",
   "metadata": {},
   "source": [
    "### START HERE!"
   ]
  },
  {
   "cell_type": "markdown",
   "metadata": {},
   "source": [
    "### Importing"
   ]
  },
  {
   "cell_type": "code",
   "execution_count": 1,
   "metadata": {
    "ExecuteTime": {
     "end_time": "2021-10-01T13:27:56.800928Z",
     "start_time": "2021-10-01T13:27:56.022705Z"
    }
   },
   "outputs": [],
   "source": [
    "# Import standard packages\n",
    "import pandas as pd\n",
    "import numpy as np\n",
    "import matplotlib.pyplot as plt\n",
    "plt.style.use('seaborn') #style that I am using for my visualizations\n",
    "import seaborn as sns\n",
    "\n",
    "%matplotlib inline"
   ]
  },
  {
   "cell_type": "code",
   "execution_count": 2,
   "metadata": {
    "ExecuteTime": {
     "end_time": "2021-10-01T13:27:59.848167Z",
     "start_time": "2021-10-01T13:27:59.838582Z"
    }
   },
   "outputs": [
    {
     "data": {
      "text/plain": [
       "['imdb.title.crew.csv.gz',\n",
       " 'tmdb.movies.csv.gz',\n",
       " 'imdb.title.akas.csv.gz',\n",
       " 'imdb.title.ratings.csv.gz',\n",
       " 'imdb.name.basics.csv.gz',\n",
       " 'rt.reviews.tsv.gz',\n",
       " 'imdb.title.basics.csv.gz',\n",
       " 'rt.movie_info.tsv.gz',\n",
       " 'tn.movie_budgets.csv.gz',\n",
       " 'bom.movie_gross.csv.gz',\n",
       " 'imdb.title.principals.csv.gz']"
      ]
     },
     "execution_count": 2,
     "metadata": {},
     "output_type": "execute_result"
    }
   ],
   "source": [
    "# Here you run your code to explore the data\n",
    "import glob, os\n",
    "fpath = 'zippedData/'\n",
    "os.listdir(fpath)"
   ]
  },
  {
   "cell_type": "code",
   "execution_count": 3,
   "metadata": {
    "ExecuteTime": {
     "end_time": "2021-10-01T13:28:03.149242Z",
     "start_time": "2021-10-01T13:28:03.143546Z"
    }
   },
   "outputs": [
    {
     "data": {
      "text/plain": [
       "['zippedData/imdb.title.crew.csv.gz',\n",
       " 'zippedData/tmdb.movies.csv.gz',\n",
       " 'zippedData/imdb.title.akas.csv.gz',\n",
       " 'zippedData/imdb.title.ratings.csv.gz',\n",
       " 'zippedData/imdb.name.basics.csv.gz',\n",
       " 'zippedData/rt.reviews.tsv.gz',\n",
       " 'zippedData/imdb.title.basics.csv.gz',\n",
       " 'zippedData/rt.movie_info.tsv.gz',\n",
       " 'zippedData/tn.movie_budgets.csv.gz',\n",
       " 'zippedData/bom.movie_gross.csv.gz',\n",
       " 'zippedData/imdb.title.principals.csv.gz']"
      ]
     },
     "execution_count": 3,
     "metadata": {},
     "output_type": "execute_result"
    }
   ],
   "source": [
    "query = fpath+\"*.gz\"\n",
    "\n",
    "file_list=glob.glob(query)\n",
    "file_list"
   ]
  },
  {
   "cell_type": "code",
   "execution_count": 4,
   "metadata": {
    "ExecuteTime": {
     "end_time": "2021-10-01T13:28:15.159198Z",
     "start_time": "2021-10-01T13:28:12.055913Z"
    }
   },
   "outputs": [
    {
     "name": "stdout",
     "output_type": "stream",
     "text": [
      "------------------------------------------------------------\n",
      "imdb_title_crew_csv_gz\n"
     ]
    },
    {
     "data": {
      "text/html": [
       "<div>\n",
       "<style scoped>\n",
       "    .dataframe tbody tr th:only-of-type {\n",
       "        vertical-align: middle;\n",
       "    }\n",
       "\n",
       "    .dataframe tbody tr th {\n",
       "        vertical-align: top;\n",
       "    }\n",
       "\n",
       "    .dataframe thead th {\n",
       "        text-align: right;\n",
       "    }\n",
       "</style>\n",
       "<table border=\"1\" class=\"dataframe\">\n",
       "  <thead>\n",
       "    <tr style=\"text-align: right;\">\n",
       "      <th></th>\n",
       "      <th>tconst</th>\n",
       "      <th>directors</th>\n",
       "      <th>writers</th>\n",
       "    </tr>\n",
       "  </thead>\n",
       "  <tbody>\n",
       "    <tr>\n",
       "      <th>0</th>\n",
       "      <td>tt0285252</td>\n",
       "      <td>nm0899854</td>\n",
       "      <td>nm0899854</td>\n",
       "    </tr>\n",
       "    <tr>\n",
       "      <th>1</th>\n",
       "      <td>tt0438973</td>\n",
       "      <td>NaN</td>\n",
       "      <td>nm0175726,nm1802864</td>\n",
       "    </tr>\n",
       "    <tr>\n",
       "      <th>2</th>\n",
       "      <td>tt0462036</td>\n",
       "      <td>nm1940585</td>\n",
       "      <td>nm1940585</td>\n",
       "    </tr>\n",
       "    <tr>\n",
       "      <th>3</th>\n",
       "      <td>tt0835418</td>\n",
       "      <td>nm0151540</td>\n",
       "      <td>nm0310087,nm0841532</td>\n",
       "    </tr>\n",
       "    <tr>\n",
       "      <th>4</th>\n",
       "      <td>tt0878654</td>\n",
       "      <td>nm0089502,nm2291498,nm2292011</td>\n",
       "      <td>nm0284943</td>\n",
       "    </tr>\n",
       "  </tbody>\n",
       "</table>\n",
       "</div>"
      ],
      "text/plain": [
       "      tconst                      directors              writers\n",
       "0  tt0285252                      nm0899854            nm0899854\n",
       "1  tt0438973                            NaN  nm0175726,nm1802864\n",
       "2  tt0462036                      nm1940585            nm1940585\n",
       "3  tt0835418                      nm0151540  nm0310087,nm0841532\n",
       "4  tt0878654  nm0089502,nm2291498,nm2292011            nm0284943"
      ]
     },
     "metadata": {},
     "output_type": "display_data"
    },
    {
     "data": {
      "text/html": [
       "<div>\n",
       "<style scoped>\n",
       "    .dataframe tbody tr th:only-of-type {\n",
       "        vertical-align: middle;\n",
       "    }\n",
       "\n",
       "    .dataframe tbody tr th {\n",
       "        vertical-align: top;\n",
       "    }\n",
       "\n",
       "    .dataframe thead th {\n",
       "        text-align: right;\n",
       "    }\n",
       "</style>\n",
       "<table border=\"1\" class=\"dataframe\">\n",
       "  <thead>\n",
       "    <tr style=\"text-align: right;\">\n",
       "      <th></th>\n",
       "      <th>tconst</th>\n",
       "      <th>directors</th>\n",
       "      <th>writers</th>\n",
       "    </tr>\n",
       "  </thead>\n",
       "  <tbody>\n",
       "    <tr>\n",
       "      <th>146139</th>\n",
       "      <td>tt8999974</td>\n",
       "      <td>nm10122357</td>\n",
       "      <td>nm10122357</td>\n",
       "    </tr>\n",
       "    <tr>\n",
       "      <th>146140</th>\n",
       "      <td>tt9001390</td>\n",
       "      <td>nm6711477</td>\n",
       "      <td>nm6711477</td>\n",
       "    </tr>\n",
       "    <tr>\n",
       "      <th>146141</th>\n",
       "      <td>tt9001494</td>\n",
       "      <td>nm10123242,nm10123248</td>\n",
       "      <td>NaN</td>\n",
       "    </tr>\n",
       "    <tr>\n",
       "      <th>146142</th>\n",
       "      <td>tt9004986</td>\n",
       "      <td>nm4993825</td>\n",
       "      <td>nm4993825</td>\n",
       "    </tr>\n",
       "    <tr>\n",
       "      <th>146143</th>\n",
       "      <td>tt9010172</td>\n",
       "      <td>NaN</td>\n",
       "      <td>nm8352242</td>\n",
       "    </tr>\n",
       "  </tbody>\n",
       "</table>\n",
       "</div>"
      ],
      "text/plain": [
       "           tconst              directors     writers\n",
       "146139  tt8999974             nm10122357  nm10122357\n",
       "146140  tt9001390              nm6711477   nm6711477\n",
       "146141  tt9001494  nm10123242,nm10123248         NaN\n",
       "146142  tt9004986              nm4993825   nm4993825\n",
       "146143  tt9010172                    NaN   nm8352242"
      ]
     },
     "metadata": {},
     "output_type": "display_data"
    },
    {
     "name": "stdout",
     "output_type": "stream",
     "text": [
      "------------------------------------------------------------\n",
      "tmdb_movies_csv_gz\n"
     ]
    },
    {
     "data": {
      "text/html": [
       "<div>\n",
       "<style scoped>\n",
       "    .dataframe tbody tr th:only-of-type {\n",
       "        vertical-align: middle;\n",
       "    }\n",
       "\n",
       "    .dataframe tbody tr th {\n",
       "        vertical-align: top;\n",
       "    }\n",
       "\n",
       "    .dataframe thead th {\n",
       "        text-align: right;\n",
       "    }\n",
       "</style>\n",
       "<table border=\"1\" class=\"dataframe\">\n",
       "  <thead>\n",
       "    <tr style=\"text-align: right;\">\n",
       "      <th></th>\n",
       "      <th>Unnamed: 0</th>\n",
       "      <th>genre_ids</th>\n",
       "      <th>id</th>\n",
       "      <th>original_language</th>\n",
       "      <th>original_title</th>\n",
       "      <th>popularity</th>\n",
       "      <th>release_date</th>\n",
       "      <th>title</th>\n",
       "      <th>vote_average</th>\n",
       "      <th>vote_count</th>\n",
       "    </tr>\n",
       "  </thead>\n",
       "  <tbody>\n",
       "    <tr>\n",
       "      <th>0</th>\n",
       "      <td>0</td>\n",
       "      <td>[12, 14, 10751]</td>\n",
       "      <td>12444</td>\n",
       "      <td>en</td>\n",
       "      <td>Harry Potter and the Deathly Hallows: Part 1</td>\n",
       "      <td>33.533</td>\n",
       "      <td>2010-11-19</td>\n",
       "      <td>Harry Potter and the Deathly Hallows: Part 1</td>\n",
       "      <td>7.7</td>\n",
       "      <td>10788</td>\n",
       "    </tr>\n",
       "    <tr>\n",
       "      <th>1</th>\n",
       "      <td>1</td>\n",
       "      <td>[14, 12, 16, 10751]</td>\n",
       "      <td>10191</td>\n",
       "      <td>en</td>\n",
       "      <td>How to Train Your Dragon</td>\n",
       "      <td>28.734</td>\n",
       "      <td>2010-03-26</td>\n",
       "      <td>How to Train Your Dragon</td>\n",
       "      <td>7.7</td>\n",
       "      <td>7610</td>\n",
       "    </tr>\n",
       "    <tr>\n",
       "      <th>2</th>\n",
       "      <td>2</td>\n",
       "      <td>[12, 28, 878]</td>\n",
       "      <td>10138</td>\n",
       "      <td>en</td>\n",
       "      <td>Iron Man 2</td>\n",
       "      <td>28.515</td>\n",
       "      <td>2010-05-07</td>\n",
       "      <td>Iron Man 2</td>\n",
       "      <td>6.8</td>\n",
       "      <td>12368</td>\n",
       "    </tr>\n",
       "    <tr>\n",
       "      <th>3</th>\n",
       "      <td>3</td>\n",
       "      <td>[16, 35, 10751]</td>\n",
       "      <td>862</td>\n",
       "      <td>en</td>\n",
       "      <td>Toy Story</td>\n",
       "      <td>28.005</td>\n",
       "      <td>1995-11-22</td>\n",
       "      <td>Toy Story</td>\n",
       "      <td>7.9</td>\n",
       "      <td>10174</td>\n",
       "    </tr>\n",
       "    <tr>\n",
       "      <th>4</th>\n",
       "      <td>4</td>\n",
       "      <td>[28, 878, 12]</td>\n",
       "      <td>27205</td>\n",
       "      <td>en</td>\n",
       "      <td>Inception</td>\n",
       "      <td>27.920</td>\n",
       "      <td>2010-07-16</td>\n",
       "      <td>Inception</td>\n",
       "      <td>8.3</td>\n",
       "      <td>22186</td>\n",
       "    </tr>\n",
       "  </tbody>\n",
       "</table>\n",
       "</div>"
      ],
      "text/plain": [
       "   Unnamed: 0            genre_ids     id original_language  \\\n",
       "0           0      [12, 14, 10751]  12444                en   \n",
       "1           1  [14, 12, 16, 10751]  10191                en   \n",
       "2           2        [12, 28, 878]  10138                en   \n",
       "3           3      [16, 35, 10751]    862                en   \n",
       "4           4        [28, 878, 12]  27205                en   \n",
       "\n",
       "                                 original_title  popularity release_date  \\\n",
       "0  Harry Potter and the Deathly Hallows: Part 1      33.533   2010-11-19   \n",
       "1                      How to Train Your Dragon      28.734   2010-03-26   \n",
       "2                                    Iron Man 2      28.515   2010-05-07   \n",
       "3                                     Toy Story      28.005   1995-11-22   \n",
       "4                                     Inception      27.920   2010-07-16   \n",
       "\n",
       "                                          title  vote_average  vote_count  \n",
       "0  Harry Potter and the Deathly Hallows: Part 1           7.7       10788  \n",
       "1                      How to Train Your Dragon           7.7        7610  \n",
       "2                                    Iron Man 2           6.8       12368  \n",
       "3                                     Toy Story           7.9       10174  \n",
       "4                                     Inception           8.3       22186  "
      ]
     },
     "metadata": {},
     "output_type": "display_data"
    },
    {
     "data": {
      "text/html": [
       "<div>\n",
       "<style scoped>\n",
       "    .dataframe tbody tr th:only-of-type {\n",
       "        vertical-align: middle;\n",
       "    }\n",
       "\n",
       "    .dataframe tbody tr th {\n",
       "        vertical-align: top;\n",
       "    }\n",
       "\n",
       "    .dataframe thead th {\n",
       "        text-align: right;\n",
       "    }\n",
       "</style>\n",
       "<table border=\"1\" class=\"dataframe\">\n",
       "  <thead>\n",
       "    <tr style=\"text-align: right;\">\n",
       "      <th></th>\n",
       "      <th>Unnamed: 0</th>\n",
       "      <th>genre_ids</th>\n",
       "      <th>id</th>\n",
       "      <th>original_language</th>\n",
       "      <th>original_title</th>\n",
       "      <th>popularity</th>\n",
       "      <th>release_date</th>\n",
       "      <th>title</th>\n",
       "      <th>vote_average</th>\n",
       "      <th>vote_count</th>\n",
       "    </tr>\n",
       "  </thead>\n",
       "  <tbody>\n",
       "    <tr>\n",
       "      <th>26512</th>\n",
       "      <td>26512</td>\n",
       "      <td>[27, 18]</td>\n",
       "      <td>488143</td>\n",
       "      <td>en</td>\n",
       "      <td>Laboratory Conditions</td>\n",
       "      <td>0.6</td>\n",
       "      <td>2018-10-13</td>\n",
       "      <td>Laboratory Conditions</td>\n",
       "      <td>0.0</td>\n",
       "      <td>1</td>\n",
       "    </tr>\n",
       "    <tr>\n",
       "      <th>26513</th>\n",
       "      <td>26513</td>\n",
       "      <td>[18, 53]</td>\n",
       "      <td>485975</td>\n",
       "      <td>en</td>\n",
       "      <td>_EXHIBIT_84xxx_</td>\n",
       "      <td>0.6</td>\n",
       "      <td>2018-05-01</td>\n",
       "      <td>_EXHIBIT_84xxx_</td>\n",
       "      <td>0.0</td>\n",
       "      <td>1</td>\n",
       "    </tr>\n",
       "    <tr>\n",
       "      <th>26514</th>\n",
       "      <td>26514</td>\n",
       "      <td>[14, 28, 12]</td>\n",
       "      <td>381231</td>\n",
       "      <td>en</td>\n",
       "      <td>The Last One</td>\n",
       "      <td>0.6</td>\n",
       "      <td>2018-10-01</td>\n",
       "      <td>The Last One</td>\n",
       "      <td>0.0</td>\n",
       "      <td>1</td>\n",
       "    </tr>\n",
       "    <tr>\n",
       "      <th>26515</th>\n",
       "      <td>26515</td>\n",
       "      <td>[10751, 12, 28]</td>\n",
       "      <td>366854</td>\n",
       "      <td>en</td>\n",
       "      <td>Trailer Made</td>\n",
       "      <td>0.6</td>\n",
       "      <td>2018-06-22</td>\n",
       "      <td>Trailer Made</td>\n",
       "      <td>0.0</td>\n",
       "      <td>1</td>\n",
       "    </tr>\n",
       "    <tr>\n",
       "      <th>26516</th>\n",
       "      <td>26516</td>\n",
       "      <td>[53, 27]</td>\n",
       "      <td>309885</td>\n",
       "      <td>en</td>\n",
       "      <td>The Church</td>\n",
       "      <td>0.6</td>\n",
       "      <td>2018-10-05</td>\n",
       "      <td>The Church</td>\n",
       "      <td>0.0</td>\n",
       "      <td>1</td>\n",
       "    </tr>\n",
       "  </tbody>\n",
       "</table>\n",
       "</div>"
      ],
      "text/plain": [
       "       Unnamed: 0        genre_ids      id original_language  \\\n",
       "26512       26512         [27, 18]  488143                en   \n",
       "26513       26513         [18, 53]  485975                en   \n",
       "26514       26514     [14, 28, 12]  381231                en   \n",
       "26515       26515  [10751, 12, 28]  366854                en   \n",
       "26516       26516         [53, 27]  309885                en   \n",
       "\n",
       "              original_title  popularity release_date                  title  \\\n",
       "26512  Laboratory Conditions         0.6   2018-10-13  Laboratory Conditions   \n",
       "26513        _EXHIBIT_84xxx_         0.6   2018-05-01        _EXHIBIT_84xxx_   \n",
       "26514           The Last One         0.6   2018-10-01           The Last One   \n",
       "26515           Trailer Made         0.6   2018-06-22           Trailer Made   \n",
       "26516             The Church         0.6   2018-10-05             The Church   \n",
       "\n",
       "       vote_average  vote_count  \n",
       "26512           0.0           1  \n",
       "26513           0.0           1  \n",
       "26514           0.0           1  \n",
       "26515           0.0           1  \n",
       "26516           0.0           1  "
      ]
     },
     "metadata": {},
     "output_type": "display_data"
    },
    {
     "name": "stdout",
     "output_type": "stream",
     "text": [
      "------------------------------------------------------------\n",
      "imdb_title_akas_csv_gz\n"
     ]
    },
    {
     "data": {
      "text/html": [
       "<div>\n",
       "<style scoped>\n",
       "    .dataframe tbody tr th:only-of-type {\n",
       "        vertical-align: middle;\n",
       "    }\n",
       "\n",
       "    .dataframe tbody tr th {\n",
       "        vertical-align: top;\n",
       "    }\n",
       "\n",
       "    .dataframe thead th {\n",
       "        text-align: right;\n",
       "    }\n",
       "</style>\n",
       "<table border=\"1\" class=\"dataframe\">\n",
       "  <thead>\n",
       "    <tr style=\"text-align: right;\">\n",
       "      <th></th>\n",
       "      <th>title_id</th>\n",
       "      <th>ordering</th>\n",
       "      <th>title</th>\n",
       "      <th>region</th>\n",
       "      <th>language</th>\n",
       "      <th>types</th>\n",
       "      <th>attributes</th>\n",
       "      <th>is_original_title</th>\n",
       "    </tr>\n",
       "  </thead>\n",
       "  <tbody>\n",
       "    <tr>\n",
       "      <th>0</th>\n",
       "      <td>tt0369610</td>\n",
       "      <td>10</td>\n",
       "      <td>Джурасик свят</td>\n",
       "      <td>BG</td>\n",
       "      <td>bg</td>\n",
       "      <td>NaN</td>\n",
       "      <td>NaN</td>\n",
       "      <td>0.0</td>\n",
       "    </tr>\n",
       "    <tr>\n",
       "      <th>1</th>\n",
       "      <td>tt0369610</td>\n",
       "      <td>11</td>\n",
       "      <td>Jurashikku warudo</td>\n",
       "      <td>JP</td>\n",
       "      <td>NaN</td>\n",
       "      <td>imdbDisplay</td>\n",
       "      <td>NaN</td>\n",
       "      <td>0.0</td>\n",
       "    </tr>\n",
       "    <tr>\n",
       "      <th>2</th>\n",
       "      <td>tt0369610</td>\n",
       "      <td>12</td>\n",
       "      <td>Jurassic World: O Mundo dos Dinossauros</td>\n",
       "      <td>BR</td>\n",
       "      <td>NaN</td>\n",
       "      <td>imdbDisplay</td>\n",
       "      <td>NaN</td>\n",
       "      <td>0.0</td>\n",
       "    </tr>\n",
       "    <tr>\n",
       "      <th>3</th>\n",
       "      <td>tt0369610</td>\n",
       "      <td>13</td>\n",
       "      <td>O Mundo dos Dinossauros</td>\n",
       "      <td>BR</td>\n",
       "      <td>NaN</td>\n",
       "      <td>NaN</td>\n",
       "      <td>short title</td>\n",
       "      <td>0.0</td>\n",
       "    </tr>\n",
       "    <tr>\n",
       "      <th>4</th>\n",
       "      <td>tt0369610</td>\n",
       "      <td>14</td>\n",
       "      <td>Jurassic World</td>\n",
       "      <td>FR</td>\n",
       "      <td>NaN</td>\n",
       "      <td>imdbDisplay</td>\n",
       "      <td>NaN</td>\n",
       "      <td>0.0</td>\n",
       "    </tr>\n",
       "  </tbody>\n",
       "</table>\n",
       "</div>"
      ],
      "text/plain": [
       "    title_id  ordering                                    title region  \\\n",
       "0  tt0369610        10                            Джурасик свят     BG   \n",
       "1  tt0369610        11                        Jurashikku warudo     JP   \n",
       "2  tt0369610        12  Jurassic World: O Mundo dos Dinossauros     BR   \n",
       "3  tt0369610        13                  O Mundo dos Dinossauros     BR   \n",
       "4  tt0369610        14                           Jurassic World     FR   \n",
       "\n",
       "  language        types   attributes  is_original_title  \n",
       "0       bg          NaN          NaN                0.0  \n",
       "1      NaN  imdbDisplay          NaN                0.0  \n",
       "2      NaN  imdbDisplay          NaN                0.0  \n",
       "3      NaN          NaN  short title                0.0  \n",
       "4      NaN  imdbDisplay          NaN                0.0  "
      ]
     },
     "metadata": {},
     "output_type": "display_data"
    },
    {
     "data": {
      "text/html": [
       "<div>\n",
       "<style scoped>\n",
       "    .dataframe tbody tr th:only-of-type {\n",
       "        vertical-align: middle;\n",
       "    }\n",
       "\n",
       "    .dataframe tbody tr th {\n",
       "        vertical-align: top;\n",
       "    }\n",
       "\n",
       "    .dataframe thead th {\n",
       "        text-align: right;\n",
       "    }\n",
       "</style>\n",
       "<table border=\"1\" class=\"dataframe\">\n",
       "  <thead>\n",
       "    <tr style=\"text-align: right;\">\n",
       "      <th></th>\n",
       "      <th>title_id</th>\n",
       "      <th>ordering</th>\n",
       "      <th>title</th>\n",
       "      <th>region</th>\n",
       "      <th>language</th>\n",
       "      <th>types</th>\n",
       "      <th>attributes</th>\n",
       "      <th>is_original_title</th>\n",
       "    </tr>\n",
       "  </thead>\n",
       "  <tbody>\n",
       "    <tr>\n",
       "      <th>331698</th>\n",
       "      <td>tt9827784</td>\n",
       "      <td>2</td>\n",
       "      <td>Sayonara kuchibiru</td>\n",
       "      <td>NaN</td>\n",
       "      <td>NaN</td>\n",
       "      <td>original</td>\n",
       "      <td>NaN</td>\n",
       "      <td>1.0</td>\n",
       "    </tr>\n",
       "    <tr>\n",
       "      <th>331699</th>\n",
       "      <td>tt9827784</td>\n",
       "      <td>3</td>\n",
       "      <td>Farewell Song</td>\n",
       "      <td>XWW</td>\n",
       "      <td>en</td>\n",
       "      <td>imdbDisplay</td>\n",
       "      <td>NaN</td>\n",
       "      <td>0.0</td>\n",
       "    </tr>\n",
       "    <tr>\n",
       "      <th>331700</th>\n",
       "      <td>tt9880178</td>\n",
       "      <td>1</td>\n",
       "      <td>La atención</td>\n",
       "      <td>NaN</td>\n",
       "      <td>NaN</td>\n",
       "      <td>original</td>\n",
       "      <td>NaN</td>\n",
       "      <td>1.0</td>\n",
       "    </tr>\n",
       "    <tr>\n",
       "      <th>331701</th>\n",
       "      <td>tt9880178</td>\n",
       "      <td>2</td>\n",
       "      <td>La atención</td>\n",
       "      <td>ES</td>\n",
       "      <td>NaN</td>\n",
       "      <td>NaN</td>\n",
       "      <td>NaN</td>\n",
       "      <td>0.0</td>\n",
       "    </tr>\n",
       "    <tr>\n",
       "      <th>331702</th>\n",
       "      <td>tt9880178</td>\n",
       "      <td>3</td>\n",
       "      <td>The Attention</td>\n",
       "      <td>XWW</td>\n",
       "      <td>en</td>\n",
       "      <td>imdbDisplay</td>\n",
       "      <td>NaN</td>\n",
       "      <td>0.0</td>\n",
       "    </tr>\n",
       "  </tbody>\n",
       "</table>\n",
       "</div>"
      ],
      "text/plain": [
       "         title_id  ordering               title region language        types  \\\n",
       "331698  tt9827784         2  Sayonara kuchibiru    NaN      NaN     original   \n",
       "331699  tt9827784         3       Farewell Song    XWW       en  imdbDisplay   \n",
       "331700  tt9880178         1         La atención    NaN      NaN     original   \n",
       "331701  tt9880178         2         La atención     ES      NaN          NaN   \n",
       "331702  tt9880178         3       The Attention    XWW       en  imdbDisplay   \n",
       "\n",
       "       attributes  is_original_title  \n",
       "331698        NaN                1.0  \n",
       "331699        NaN                0.0  \n",
       "331700        NaN                1.0  \n",
       "331701        NaN                0.0  \n",
       "331702        NaN                0.0  "
      ]
     },
     "metadata": {},
     "output_type": "display_data"
    },
    {
     "name": "stdout",
     "output_type": "stream",
     "text": [
      "------------------------------------------------------------\n",
      "imdb_title_ratings_csv_gz\n"
     ]
    },
    {
     "data": {
      "text/html": [
       "<div>\n",
       "<style scoped>\n",
       "    .dataframe tbody tr th:only-of-type {\n",
       "        vertical-align: middle;\n",
       "    }\n",
       "\n",
       "    .dataframe tbody tr th {\n",
       "        vertical-align: top;\n",
       "    }\n",
       "\n",
       "    .dataframe thead th {\n",
       "        text-align: right;\n",
       "    }\n",
       "</style>\n",
       "<table border=\"1\" class=\"dataframe\">\n",
       "  <thead>\n",
       "    <tr style=\"text-align: right;\">\n",
       "      <th></th>\n",
       "      <th>tconst</th>\n",
       "      <th>averagerating</th>\n",
       "      <th>numvotes</th>\n",
       "    </tr>\n",
       "  </thead>\n",
       "  <tbody>\n",
       "    <tr>\n",
       "      <th>0</th>\n",
       "      <td>tt10356526</td>\n",
       "      <td>8.3</td>\n",
       "      <td>31</td>\n",
       "    </tr>\n",
       "    <tr>\n",
       "      <th>1</th>\n",
       "      <td>tt10384606</td>\n",
       "      <td>8.9</td>\n",
       "      <td>559</td>\n",
       "    </tr>\n",
       "    <tr>\n",
       "      <th>2</th>\n",
       "      <td>tt1042974</td>\n",
       "      <td>6.4</td>\n",
       "      <td>20</td>\n",
       "    </tr>\n",
       "    <tr>\n",
       "      <th>3</th>\n",
       "      <td>tt1043726</td>\n",
       "      <td>4.2</td>\n",
       "      <td>50352</td>\n",
       "    </tr>\n",
       "    <tr>\n",
       "      <th>4</th>\n",
       "      <td>tt1060240</td>\n",
       "      <td>6.5</td>\n",
       "      <td>21</td>\n",
       "    </tr>\n",
       "  </tbody>\n",
       "</table>\n",
       "</div>"
      ],
      "text/plain": [
       "       tconst  averagerating  numvotes\n",
       "0  tt10356526            8.3        31\n",
       "1  tt10384606            8.9       559\n",
       "2   tt1042974            6.4        20\n",
       "3   tt1043726            4.2     50352\n",
       "4   tt1060240            6.5        21"
      ]
     },
     "metadata": {},
     "output_type": "display_data"
    },
    {
     "data": {
      "text/html": [
       "<div>\n",
       "<style scoped>\n",
       "    .dataframe tbody tr th:only-of-type {\n",
       "        vertical-align: middle;\n",
       "    }\n",
       "\n",
       "    .dataframe tbody tr th {\n",
       "        vertical-align: top;\n",
       "    }\n",
       "\n",
       "    .dataframe thead th {\n",
       "        text-align: right;\n",
       "    }\n",
       "</style>\n",
       "<table border=\"1\" class=\"dataframe\">\n",
       "  <thead>\n",
       "    <tr style=\"text-align: right;\">\n",
       "      <th></th>\n",
       "      <th>tconst</th>\n",
       "      <th>averagerating</th>\n",
       "      <th>numvotes</th>\n",
       "    </tr>\n",
       "  </thead>\n",
       "  <tbody>\n",
       "    <tr>\n",
       "      <th>73851</th>\n",
       "      <td>tt9805820</td>\n",
       "      <td>8.1</td>\n",
       "      <td>25</td>\n",
       "    </tr>\n",
       "    <tr>\n",
       "      <th>73852</th>\n",
       "      <td>tt9844256</td>\n",
       "      <td>7.5</td>\n",
       "      <td>24</td>\n",
       "    </tr>\n",
       "    <tr>\n",
       "      <th>73853</th>\n",
       "      <td>tt9851050</td>\n",
       "      <td>4.7</td>\n",
       "      <td>14</td>\n",
       "    </tr>\n",
       "    <tr>\n",
       "      <th>73854</th>\n",
       "      <td>tt9886934</td>\n",
       "      <td>7.0</td>\n",
       "      <td>5</td>\n",
       "    </tr>\n",
       "    <tr>\n",
       "      <th>73855</th>\n",
       "      <td>tt9894098</td>\n",
       "      <td>6.3</td>\n",
       "      <td>128</td>\n",
       "    </tr>\n",
       "  </tbody>\n",
       "</table>\n",
       "</div>"
      ],
      "text/plain": [
       "          tconst  averagerating  numvotes\n",
       "73851  tt9805820            8.1        25\n",
       "73852  tt9844256            7.5        24\n",
       "73853  tt9851050            4.7        14\n",
       "73854  tt9886934            7.0         5\n",
       "73855  tt9894098            6.3       128"
      ]
     },
     "metadata": {},
     "output_type": "display_data"
    },
    {
     "name": "stdout",
     "output_type": "stream",
     "text": [
      "------------------------------------------------------------\n",
      "imdb_name_basics_csv_gz\n"
     ]
    },
    {
     "data": {
      "text/html": [
       "<div>\n",
       "<style scoped>\n",
       "    .dataframe tbody tr th:only-of-type {\n",
       "        vertical-align: middle;\n",
       "    }\n",
       "\n",
       "    .dataframe tbody tr th {\n",
       "        vertical-align: top;\n",
       "    }\n",
       "\n",
       "    .dataframe thead th {\n",
       "        text-align: right;\n",
       "    }\n",
       "</style>\n",
       "<table border=\"1\" class=\"dataframe\">\n",
       "  <thead>\n",
       "    <tr style=\"text-align: right;\">\n",
       "      <th></th>\n",
       "      <th>nconst</th>\n",
       "      <th>primary_name</th>\n",
       "      <th>birth_year</th>\n",
       "      <th>death_year</th>\n",
       "      <th>primary_profession</th>\n",
       "      <th>known_for_titles</th>\n",
       "    </tr>\n",
       "  </thead>\n",
       "  <tbody>\n",
       "    <tr>\n",
       "      <th>0</th>\n",
       "      <td>nm0061671</td>\n",
       "      <td>Mary Ellen Bauder</td>\n",
       "      <td>NaN</td>\n",
       "      <td>NaN</td>\n",
       "      <td>miscellaneous,production_manager,producer</td>\n",
       "      <td>tt0837562,tt2398241,tt0844471,tt0118553</td>\n",
       "    </tr>\n",
       "    <tr>\n",
       "      <th>1</th>\n",
       "      <td>nm0061865</td>\n",
       "      <td>Joseph Bauer</td>\n",
       "      <td>NaN</td>\n",
       "      <td>NaN</td>\n",
       "      <td>composer,music_department,sound_department</td>\n",
       "      <td>tt0896534,tt6791238,tt0287072,tt1682940</td>\n",
       "    </tr>\n",
       "    <tr>\n",
       "      <th>2</th>\n",
       "      <td>nm0062070</td>\n",
       "      <td>Bruce Baum</td>\n",
       "      <td>NaN</td>\n",
       "      <td>NaN</td>\n",
       "      <td>miscellaneous,actor,writer</td>\n",
       "      <td>tt1470654,tt0363631,tt0104030,tt0102898</td>\n",
       "    </tr>\n",
       "    <tr>\n",
       "      <th>3</th>\n",
       "      <td>nm0062195</td>\n",
       "      <td>Axel Baumann</td>\n",
       "      <td>NaN</td>\n",
       "      <td>NaN</td>\n",
       "      <td>camera_department,cinematographer,art_department</td>\n",
       "      <td>tt0114371,tt2004304,tt1618448,tt1224387</td>\n",
       "    </tr>\n",
       "    <tr>\n",
       "      <th>4</th>\n",
       "      <td>nm0062798</td>\n",
       "      <td>Pete Baxter</td>\n",
       "      <td>NaN</td>\n",
       "      <td>NaN</td>\n",
       "      <td>production_designer,art_department,set_decorator</td>\n",
       "      <td>tt0452644,tt0452692,tt3458030,tt2178256</td>\n",
       "    </tr>\n",
       "  </tbody>\n",
       "</table>\n",
       "</div>"
      ],
      "text/plain": [
       "      nconst       primary_name  birth_year  death_year  \\\n",
       "0  nm0061671  Mary Ellen Bauder         NaN         NaN   \n",
       "1  nm0061865       Joseph Bauer         NaN         NaN   \n",
       "2  nm0062070         Bruce Baum         NaN         NaN   \n",
       "3  nm0062195       Axel Baumann         NaN         NaN   \n",
       "4  nm0062798        Pete Baxter         NaN         NaN   \n",
       "\n",
       "                                 primary_profession  \\\n",
       "0         miscellaneous,production_manager,producer   \n",
       "1        composer,music_department,sound_department   \n",
       "2                        miscellaneous,actor,writer   \n",
       "3  camera_department,cinematographer,art_department   \n",
       "4  production_designer,art_department,set_decorator   \n",
       "\n",
       "                          known_for_titles  \n",
       "0  tt0837562,tt2398241,tt0844471,tt0118553  \n",
       "1  tt0896534,tt6791238,tt0287072,tt1682940  \n",
       "2  tt1470654,tt0363631,tt0104030,tt0102898  \n",
       "3  tt0114371,tt2004304,tt1618448,tt1224387  \n",
       "4  tt0452644,tt0452692,tt3458030,tt2178256  "
      ]
     },
     "metadata": {},
     "output_type": "display_data"
    },
    {
     "data": {
      "text/html": [
       "<div>\n",
       "<style scoped>\n",
       "    .dataframe tbody tr th:only-of-type {\n",
       "        vertical-align: middle;\n",
       "    }\n",
       "\n",
       "    .dataframe tbody tr th {\n",
       "        vertical-align: top;\n",
       "    }\n",
       "\n",
       "    .dataframe thead th {\n",
       "        text-align: right;\n",
       "    }\n",
       "</style>\n",
       "<table border=\"1\" class=\"dataframe\">\n",
       "  <thead>\n",
       "    <tr style=\"text-align: right;\">\n",
       "      <th></th>\n",
       "      <th>nconst</th>\n",
       "      <th>primary_name</th>\n",
       "      <th>birth_year</th>\n",
       "      <th>death_year</th>\n",
       "      <th>primary_profession</th>\n",
       "      <th>known_for_titles</th>\n",
       "    </tr>\n",
       "  </thead>\n",
       "  <tbody>\n",
       "    <tr>\n",
       "      <th>606643</th>\n",
       "      <td>nm9990381</td>\n",
       "      <td>Susan Grobes</td>\n",
       "      <td>NaN</td>\n",
       "      <td>NaN</td>\n",
       "      <td>actress</td>\n",
       "      <td>NaN</td>\n",
       "    </tr>\n",
       "    <tr>\n",
       "      <th>606644</th>\n",
       "      <td>nm9990690</td>\n",
       "      <td>Joo Yeon So</td>\n",
       "      <td>NaN</td>\n",
       "      <td>NaN</td>\n",
       "      <td>actress</td>\n",
       "      <td>tt9090932,tt8737130</td>\n",
       "    </tr>\n",
       "    <tr>\n",
       "      <th>606645</th>\n",
       "      <td>nm9991320</td>\n",
       "      <td>Madeline Smith</td>\n",
       "      <td>NaN</td>\n",
       "      <td>NaN</td>\n",
       "      <td>actress</td>\n",
       "      <td>tt8734436,tt9615610</td>\n",
       "    </tr>\n",
       "    <tr>\n",
       "      <th>606646</th>\n",
       "      <td>nm9991786</td>\n",
       "      <td>Michelle Modigliani</td>\n",
       "      <td>NaN</td>\n",
       "      <td>NaN</td>\n",
       "      <td>producer</td>\n",
       "      <td>NaN</td>\n",
       "    </tr>\n",
       "    <tr>\n",
       "      <th>606647</th>\n",
       "      <td>nm9993380</td>\n",
       "      <td>Pegasus Envoyé</td>\n",
       "      <td>NaN</td>\n",
       "      <td>NaN</td>\n",
       "      <td>director,actor,writer</td>\n",
       "      <td>tt8743182</td>\n",
       "    </tr>\n",
       "  </tbody>\n",
       "</table>\n",
       "</div>"
      ],
      "text/plain": [
       "           nconst         primary_name  birth_year  death_year  \\\n",
       "606643  nm9990381         Susan Grobes         NaN         NaN   \n",
       "606644  nm9990690          Joo Yeon So         NaN         NaN   \n",
       "606645  nm9991320       Madeline Smith         NaN         NaN   \n",
       "606646  nm9991786  Michelle Modigliani         NaN         NaN   \n",
       "606647  nm9993380       Pegasus Envoyé         NaN         NaN   \n",
       "\n",
       "           primary_profession     known_for_titles  \n",
       "606643                actress                  NaN  \n",
       "606644                actress  tt9090932,tt8737130  \n",
       "606645                actress  tt8734436,tt9615610  \n",
       "606646               producer                  NaN  \n",
       "606647  director,actor,writer            tt8743182  "
      ]
     },
     "metadata": {},
     "output_type": "display_data"
    },
    {
     "name": "stdout",
     "output_type": "stream",
     "text": [
      "------------------------------------------------------------\n",
      "rt_reviews_tsv_gz\n"
     ]
    },
    {
     "data": {
      "text/html": [
       "<div>\n",
       "<style scoped>\n",
       "    .dataframe tbody tr th:only-of-type {\n",
       "        vertical-align: middle;\n",
       "    }\n",
       "\n",
       "    .dataframe tbody tr th {\n",
       "        vertical-align: top;\n",
       "    }\n",
       "\n",
       "    .dataframe thead th {\n",
       "        text-align: right;\n",
       "    }\n",
       "</style>\n",
       "<table border=\"1\" class=\"dataframe\">\n",
       "  <thead>\n",
       "    <tr style=\"text-align: right;\">\n",
       "      <th></th>\n",
       "      <th>id</th>\n",
       "      <th>review</th>\n",
       "      <th>rating</th>\n",
       "      <th>fresh</th>\n",
       "      <th>critic</th>\n",
       "      <th>top_critic</th>\n",
       "      <th>publisher</th>\n",
       "      <th>date</th>\n",
       "    </tr>\n",
       "  </thead>\n",
       "  <tbody>\n",
       "    <tr>\n",
       "      <th>0</th>\n",
       "      <td>3</td>\n",
       "      <td>A distinctly gallows take on contemporary fina...</td>\n",
       "      <td>3/5</td>\n",
       "      <td>fresh</td>\n",
       "      <td>PJ Nabarro</td>\n",
       "      <td>0</td>\n",
       "      <td>Patrick Nabarro</td>\n",
       "      <td>November 10, 2018</td>\n",
       "    </tr>\n",
       "    <tr>\n",
       "      <th>1</th>\n",
       "      <td>3</td>\n",
       "      <td>It's an allegory in search of a meaning that n...</td>\n",
       "      <td>NaN</td>\n",
       "      <td>rotten</td>\n",
       "      <td>Annalee Newitz</td>\n",
       "      <td>0</td>\n",
       "      <td>io9.com</td>\n",
       "      <td>May 23, 2018</td>\n",
       "    </tr>\n",
       "    <tr>\n",
       "      <th>2</th>\n",
       "      <td>3</td>\n",
       "      <td>... life lived in a bubble in financial dealin...</td>\n",
       "      <td>NaN</td>\n",
       "      <td>fresh</td>\n",
       "      <td>Sean Axmaker</td>\n",
       "      <td>0</td>\n",
       "      <td>Stream on Demand</td>\n",
       "      <td>January 4, 2018</td>\n",
       "    </tr>\n",
       "    <tr>\n",
       "      <th>3</th>\n",
       "      <td>3</td>\n",
       "      <td>Continuing along a line introduced in last yea...</td>\n",
       "      <td>NaN</td>\n",
       "      <td>fresh</td>\n",
       "      <td>Daniel Kasman</td>\n",
       "      <td>0</td>\n",
       "      <td>MUBI</td>\n",
       "      <td>November 16, 2017</td>\n",
       "    </tr>\n",
       "    <tr>\n",
       "      <th>4</th>\n",
       "      <td>3</td>\n",
       "      <td>... a perverse twist on neorealism...</td>\n",
       "      <td>NaN</td>\n",
       "      <td>fresh</td>\n",
       "      <td>NaN</td>\n",
       "      <td>0</td>\n",
       "      <td>Cinema Scope</td>\n",
       "      <td>October 12, 2017</td>\n",
       "    </tr>\n",
       "  </tbody>\n",
       "</table>\n",
       "</div>"
      ],
      "text/plain": [
       "   id                                             review rating   fresh  \\\n",
       "0   3  A distinctly gallows take on contemporary fina...    3/5   fresh   \n",
       "1   3  It's an allegory in search of a meaning that n...    NaN  rotten   \n",
       "2   3  ... life lived in a bubble in financial dealin...    NaN   fresh   \n",
       "3   3  Continuing along a line introduced in last yea...    NaN   fresh   \n",
       "4   3             ... a perverse twist on neorealism...     NaN   fresh   \n",
       "\n",
       "           critic  top_critic         publisher               date  \n",
       "0      PJ Nabarro           0   Patrick Nabarro  November 10, 2018  \n",
       "1  Annalee Newitz           0           io9.com       May 23, 2018  \n",
       "2    Sean Axmaker           0  Stream on Demand    January 4, 2018  \n",
       "3   Daniel Kasman           0              MUBI  November 16, 2017  \n",
       "4             NaN           0      Cinema Scope   October 12, 2017  "
      ]
     },
     "metadata": {},
     "output_type": "display_data"
    },
    {
     "data": {
      "text/html": [
       "<div>\n",
       "<style scoped>\n",
       "    .dataframe tbody tr th:only-of-type {\n",
       "        vertical-align: middle;\n",
       "    }\n",
       "\n",
       "    .dataframe tbody tr th {\n",
       "        vertical-align: top;\n",
       "    }\n",
       "\n",
       "    .dataframe thead th {\n",
       "        text-align: right;\n",
       "    }\n",
       "</style>\n",
       "<table border=\"1\" class=\"dataframe\">\n",
       "  <thead>\n",
       "    <tr style=\"text-align: right;\">\n",
       "      <th></th>\n",
       "      <th>id</th>\n",
       "      <th>review</th>\n",
       "      <th>rating</th>\n",
       "      <th>fresh</th>\n",
       "      <th>critic</th>\n",
       "      <th>top_critic</th>\n",
       "      <th>publisher</th>\n",
       "      <th>date</th>\n",
       "    </tr>\n",
       "  </thead>\n",
       "  <tbody>\n",
       "    <tr>\n",
       "      <th>54427</th>\n",
       "      <td>2000</td>\n",
       "      <td>The real charm of this trifle is the deadpan c...</td>\n",
       "      <td>NaN</td>\n",
       "      <td>fresh</td>\n",
       "      <td>Laura Sinagra</td>\n",
       "      <td>1</td>\n",
       "      <td>Village Voice</td>\n",
       "      <td>September 24, 2002</td>\n",
       "    </tr>\n",
       "    <tr>\n",
       "      <th>54428</th>\n",
       "      <td>2000</td>\n",
       "      <td>NaN</td>\n",
       "      <td>1/5</td>\n",
       "      <td>rotten</td>\n",
       "      <td>Michael Szymanski</td>\n",
       "      <td>0</td>\n",
       "      <td>Zap2it.com</td>\n",
       "      <td>September 21, 2005</td>\n",
       "    </tr>\n",
       "    <tr>\n",
       "      <th>54429</th>\n",
       "      <td>2000</td>\n",
       "      <td>NaN</td>\n",
       "      <td>2/5</td>\n",
       "      <td>rotten</td>\n",
       "      <td>Emanuel Levy</td>\n",
       "      <td>0</td>\n",
       "      <td>EmanuelLevy.Com</td>\n",
       "      <td>July 17, 2005</td>\n",
       "    </tr>\n",
       "    <tr>\n",
       "      <th>54430</th>\n",
       "      <td>2000</td>\n",
       "      <td>NaN</td>\n",
       "      <td>2.5/5</td>\n",
       "      <td>rotten</td>\n",
       "      <td>Christopher Null</td>\n",
       "      <td>0</td>\n",
       "      <td>Filmcritic.com</td>\n",
       "      <td>September 7, 2003</td>\n",
       "    </tr>\n",
       "    <tr>\n",
       "      <th>54431</th>\n",
       "      <td>2000</td>\n",
       "      <td>NaN</td>\n",
       "      <td>3/5</td>\n",
       "      <td>fresh</td>\n",
       "      <td>Nicolas Lacroix</td>\n",
       "      <td>0</td>\n",
       "      <td>Showbizz.net</td>\n",
       "      <td>November 12, 2002</td>\n",
       "    </tr>\n",
       "  </tbody>\n",
       "</table>\n",
       "</div>"
      ],
      "text/plain": [
       "         id                                             review rating   fresh  \\\n",
       "54427  2000  The real charm of this trifle is the deadpan c...    NaN   fresh   \n",
       "54428  2000                                                NaN    1/5  rotten   \n",
       "54429  2000                                                NaN    2/5  rotten   \n",
       "54430  2000                                                NaN  2.5/5  rotten   \n",
       "54431  2000                                                NaN    3/5   fresh   \n",
       "\n",
       "                  critic  top_critic        publisher                date  \n",
       "54427      Laura Sinagra           1    Village Voice  September 24, 2002  \n",
       "54428  Michael Szymanski           0       Zap2it.com  September 21, 2005  \n",
       "54429       Emanuel Levy           0  EmanuelLevy.Com       July 17, 2005  \n",
       "54430   Christopher Null           0   Filmcritic.com   September 7, 2003  \n",
       "54431    Nicolas Lacroix           0     Showbizz.net   November 12, 2002  "
      ]
     },
     "metadata": {},
     "output_type": "display_data"
    },
    {
     "name": "stdout",
     "output_type": "stream",
     "text": [
      "------------------------------------------------------------\n",
      "imdb_title_basics_csv_gz\n"
     ]
    },
    {
     "data": {
      "text/html": [
       "<div>\n",
       "<style scoped>\n",
       "    .dataframe tbody tr th:only-of-type {\n",
       "        vertical-align: middle;\n",
       "    }\n",
       "\n",
       "    .dataframe tbody tr th {\n",
       "        vertical-align: top;\n",
       "    }\n",
       "\n",
       "    .dataframe thead th {\n",
       "        text-align: right;\n",
       "    }\n",
       "</style>\n",
       "<table border=\"1\" class=\"dataframe\">\n",
       "  <thead>\n",
       "    <tr style=\"text-align: right;\">\n",
       "      <th></th>\n",
       "      <th>tconst</th>\n",
       "      <th>primary_title</th>\n",
       "      <th>original_title</th>\n",
       "      <th>start_year</th>\n",
       "      <th>runtime_minutes</th>\n",
       "      <th>genres</th>\n",
       "    </tr>\n",
       "  </thead>\n",
       "  <tbody>\n",
       "    <tr>\n",
       "      <th>0</th>\n",
       "      <td>tt0063540</td>\n",
       "      <td>Sunghursh</td>\n",
       "      <td>Sunghursh</td>\n",
       "      <td>2013</td>\n",
       "      <td>175.0</td>\n",
       "      <td>Action,Crime,Drama</td>\n",
       "    </tr>\n",
       "    <tr>\n",
       "      <th>1</th>\n",
       "      <td>tt0066787</td>\n",
       "      <td>One Day Before the Rainy Season</td>\n",
       "      <td>Ashad Ka Ek Din</td>\n",
       "      <td>2019</td>\n",
       "      <td>114.0</td>\n",
       "      <td>Biography,Drama</td>\n",
       "    </tr>\n",
       "    <tr>\n",
       "      <th>2</th>\n",
       "      <td>tt0069049</td>\n",
       "      <td>The Other Side of the Wind</td>\n",
       "      <td>The Other Side of the Wind</td>\n",
       "      <td>2018</td>\n",
       "      <td>122.0</td>\n",
       "      <td>Drama</td>\n",
       "    </tr>\n",
       "    <tr>\n",
       "      <th>3</th>\n",
       "      <td>tt0069204</td>\n",
       "      <td>Sabse Bada Sukh</td>\n",
       "      <td>Sabse Bada Sukh</td>\n",
       "      <td>2018</td>\n",
       "      <td>NaN</td>\n",
       "      <td>Comedy,Drama</td>\n",
       "    </tr>\n",
       "    <tr>\n",
       "      <th>4</th>\n",
       "      <td>tt0100275</td>\n",
       "      <td>The Wandering Soap Opera</td>\n",
       "      <td>La Telenovela Errante</td>\n",
       "      <td>2017</td>\n",
       "      <td>80.0</td>\n",
       "      <td>Comedy,Drama,Fantasy</td>\n",
       "    </tr>\n",
       "  </tbody>\n",
       "</table>\n",
       "</div>"
      ],
      "text/plain": [
       "      tconst                    primary_title              original_title  \\\n",
       "0  tt0063540                        Sunghursh                   Sunghursh   \n",
       "1  tt0066787  One Day Before the Rainy Season             Ashad Ka Ek Din   \n",
       "2  tt0069049       The Other Side of the Wind  The Other Side of the Wind   \n",
       "3  tt0069204                  Sabse Bada Sukh             Sabse Bada Sukh   \n",
       "4  tt0100275         The Wandering Soap Opera       La Telenovela Errante   \n",
       "\n",
       "   start_year  runtime_minutes                genres  \n",
       "0        2013            175.0    Action,Crime,Drama  \n",
       "1        2019            114.0       Biography,Drama  \n",
       "2        2018            122.0                 Drama  \n",
       "3        2018              NaN          Comedy,Drama  \n",
       "4        2017             80.0  Comedy,Drama,Fantasy  "
      ]
     },
     "metadata": {},
     "output_type": "display_data"
    },
    {
     "data": {
      "text/html": [
       "<div>\n",
       "<style scoped>\n",
       "    .dataframe tbody tr th:only-of-type {\n",
       "        vertical-align: middle;\n",
       "    }\n",
       "\n",
       "    .dataframe tbody tr th {\n",
       "        vertical-align: top;\n",
       "    }\n",
       "\n",
       "    .dataframe thead th {\n",
       "        text-align: right;\n",
       "    }\n",
       "</style>\n",
       "<table border=\"1\" class=\"dataframe\">\n",
       "  <thead>\n",
       "    <tr style=\"text-align: right;\">\n",
       "      <th></th>\n",
       "      <th>tconst</th>\n",
       "      <th>primary_title</th>\n",
       "      <th>original_title</th>\n",
       "      <th>start_year</th>\n",
       "      <th>runtime_minutes</th>\n",
       "      <th>genres</th>\n",
       "    </tr>\n",
       "  </thead>\n",
       "  <tbody>\n",
       "    <tr>\n",
       "      <th>146139</th>\n",
       "      <td>tt9916538</td>\n",
       "      <td>Kuambil Lagi Hatiku</td>\n",
       "      <td>Kuambil Lagi Hatiku</td>\n",
       "      <td>2019</td>\n",
       "      <td>123.0</td>\n",
       "      <td>Drama</td>\n",
       "    </tr>\n",
       "    <tr>\n",
       "      <th>146140</th>\n",
       "      <td>tt9916622</td>\n",
       "      <td>Rodolpho Teóphilo - O Legado de um Pioneiro</td>\n",
       "      <td>Rodolpho Teóphilo - O Legado de um Pioneiro</td>\n",
       "      <td>2015</td>\n",
       "      <td>NaN</td>\n",
       "      <td>Documentary</td>\n",
       "    </tr>\n",
       "    <tr>\n",
       "      <th>146141</th>\n",
       "      <td>tt9916706</td>\n",
       "      <td>Dankyavar Danka</td>\n",
       "      <td>Dankyavar Danka</td>\n",
       "      <td>2013</td>\n",
       "      <td>NaN</td>\n",
       "      <td>Comedy</td>\n",
       "    </tr>\n",
       "    <tr>\n",
       "      <th>146142</th>\n",
       "      <td>tt9916730</td>\n",
       "      <td>6 Gunn</td>\n",
       "      <td>6 Gunn</td>\n",
       "      <td>2017</td>\n",
       "      <td>116.0</td>\n",
       "      <td>NaN</td>\n",
       "    </tr>\n",
       "    <tr>\n",
       "      <th>146143</th>\n",
       "      <td>tt9916754</td>\n",
       "      <td>Chico Albuquerque - Revelações</td>\n",
       "      <td>Chico Albuquerque - Revelações</td>\n",
       "      <td>2013</td>\n",
       "      <td>NaN</td>\n",
       "      <td>Documentary</td>\n",
       "    </tr>\n",
       "  </tbody>\n",
       "</table>\n",
       "</div>"
      ],
      "text/plain": [
       "           tconst                                primary_title  \\\n",
       "146139  tt9916538                          Kuambil Lagi Hatiku   \n",
       "146140  tt9916622  Rodolpho Teóphilo - O Legado de um Pioneiro   \n",
       "146141  tt9916706                              Dankyavar Danka   \n",
       "146142  tt9916730                                       6 Gunn   \n",
       "146143  tt9916754               Chico Albuquerque - Revelações   \n",
       "\n",
       "                                     original_title  start_year  \\\n",
       "146139                          Kuambil Lagi Hatiku        2019   \n",
       "146140  Rodolpho Teóphilo - O Legado de um Pioneiro        2015   \n",
       "146141                              Dankyavar Danka        2013   \n",
       "146142                                       6 Gunn        2017   \n",
       "146143               Chico Albuquerque - Revelações        2013   \n",
       "\n",
       "        runtime_minutes       genres  \n",
       "146139            123.0        Drama  \n",
       "146140              NaN  Documentary  \n",
       "146141              NaN       Comedy  \n",
       "146142            116.0          NaN  \n",
       "146143              NaN  Documentary  "
      ]
     },
     "metadata": {},
     "output_type": "display_data"
    },
    {
     "name": "stdout",
     "output_type": "stream",
     "text": [
      "------------------------------------------------------------\n",
      "rt_movie_info_tsv_gz\n"
     ]
    },
    {
     "data": {
      "text/html": [
       "<div>\n",
       "<style scoped>\n",
       "    .dataframe tbody tr th:only-of-type {\n",
       "        vertical-align: middle;\n",
       "    }\n",
       "\n",
       "    .dataframe tbody tr th {\n",
       "        vertical-align: top;\n",
       "    }\n",
       "\n",
       "    .dataframe thead th {\n",
       "        text-align: right;\n",
       "    }\n",
       "</style>\n",
       "<table border=\"1\" class=\"dataframe\">\n",
       "  <thead>\n",
       "    <tr style=\"text-align: right;\">\n",
       "      <th></th>\n",
       "      <th>id</th>\n",
       "      <th>synopsis</th>\n",
       "      <th>rating</th>\n",
       "      <th>genre</th>\n",
       "      <th>director</th>\n",
       "      <th>writer</th>\n",
       "      <th>theater_date</th>\n",
       "      <th>dvd_date</th>\n",
       "      <th>currency</th>\n",
       "      <th>box_office</th>\n",
       "      <th>runtime</th>\n",
       "      <th>studio</th>\n",
       "    </tr>\n",
       "  </thead>\n",
       "  <tbody>\n",
       "    <tr>\n",
       "      <th>0</th>\n",
       "      <td>1</td>\n",
       "      <td>This gritty, fast-paced, and innovative police...</td>\n",
       "      <td>R</td>\n",
       "      <td>Action and Adventure|Classics|Drama</td>\n",
       "      <td>William Friedkin</td>\n",
       "      <td>Ernest Tidyman</td>\n",
       "      <td>Oct 9, 1971</td>\n",
       "      <td>Sep 25, 2001</td>\n",
       "      <td>NaN</td>\n",
       "      <td>NaN</td>\n",
       "      <td>104 minutes</td>\n",
       "      <td>NaN</td>\n",
       "    </tr>\n",
       "    <tr>\n",
       "      <th>1</th>\n",
       "      <td>3</td>\n",
       "      <td>New York City, not-too-distant-future: Eric Pa...</td>\n",
       "      <td>R</td>\n",
       "      <td>Drama|Science Fiction and Fantasy</td>\n",
       "      <td>David Cronenberg</td>\n",
       "      <td>David Cronenberg|Don DeLillo</td>\n",
       "      <td>Aug 17, 2012</td>\n",
       "      <td>Jan 1, 2013</td>\n",
       "      <td>$</td>\n",
       "      <td>600,000</td>\n",
       "      <td>108 minutes</td>\n",
       "      <td>Entertainment One</td>\n",
       "    </tr>\n",
       "    <tr>\n",
       "      <th>2</th>\n",
       "      <td>5</td>\n",
       "      <td>Illeana Douglas delivers a superb performance ...</td>\n",
       "      <td>R</td>\n",
       "      <td>Drama|Musical and Performing Arts</td>\n",
       "      <td>Allison Anders</td>\n",
       "      <td>Allison Anders</td>\n",
       "      <td>Sep 13, 1996</td>\n",
       "      <td>Apr 18, 2000</td>\n",
       "      <td>NaN</td>\n",
       "      <td>NaN</td>\n",
       "      <td>116 minutes</td>\n",
       "      <td>NaN</td>\n",
       "    </tr>\n",
       "    <tr>\n",
       "      <th>3</th>\n",
       "      <td>6</td>\n",
       "      <td>Michael Douglas runs afoul of a treacherous su...</td>\n",
       "      <td>R</td>\n",
       "      <td>Drama|Mystery and Suspense</td>\n",
       "      <td>Barry Levinson</td>\n",
       "      <td>Paul Attanasio|Michael Crichton</td>\n",
       "      <td>Dec 9, 1994</td>\n",
       "      <td>Aug 27, 1997</td>\n",
       "      <td>NaN</td>\n",
       "      <td>NaN</td>\n",
       "      <td>128 minutes</td>\n",
       "      <td>NaN</td>\n",
       "    </tr>\n",
       "    <tr>\n",
       "      <th>4</th>\n",
       "      <td>7</td>\n",
       "      <td>NaN</td>\n",
       "      <td>NR</td>\n",
       "      <td>Drama|Romance</td>\n",
       "      <td>Rodney Bennett</td>\n",
       "      <td>Giles Cooper</td>\n",
       "      <td>NaN</td>\n",
       "      <td>NaN</td>\n",
       "      <td>NaN</td>\n",
       "      <td>NaN</td>\n",
       "      <td>200 minutes</td>\n",
       "      <td>NaN</td>\n",
       "    </tr>\n",
       "  </tbody>\n",
       "</table>\n",
       "</div>"
      ],
      "text/plain": [
       "   id                                           synopsis rating  \\\n",
       "0   1  This gritty, fast-paced, and innovative police...      R   \n",
       "1   3  New York City, not-too-distant-future: Eric Pa...      R   \n",
       "2   5  Illeana Douglas delivers a superb performance ...      R   \n",
       "3   6  Michael Douglas runs afoul of a treacherous su...      R   \n",
       "4   7                                                NaN     NR   \n",
       "\n",
       "                                 genre          director  \\\n",
       "0  Action and Adventure|Classics|Drama  William Friedkin   \n",
       "1    Drama|Science Fiction and Fantasy  David Cronenberg   \n",
       "2    Drama|Musical and Performing Arts    Allison Anders   \n",
       "3           Drama|Mystery and Suspense    Barry Levinson   \n",
       "4                        Drama|Romance    Rodney Bennett   \n",
       "\n",
       "                            writer  theater_date      dvd_date currency  \\\n",
       "0                   Ernest Tidyman   Oct 9, 1971  Sep 25, 2001      NaN   \n",
       "1     David Cronenberg|Don DeLillo  Aug 17, 2012   Jan 1, 2013        $   \n",
       "2                   Allison Anders  Sep 13, 1996  Apr 18, 2000      NaN   \n",
       "3  Paul Attanasio|Michael Crichton   Dec 9, 1994  Aug 27, 1997      NaN   \n",
       "4                     Giles Cooper           NaN           NaN      NaN   \n",
       "\n",
       "  box_office      runtime             studio  \n",
       "0        NaN  104 minutes                NaN  \n",
       "1    600,000  108 minutes  Entertainment One  \n",
       "2        NaN  116 minutes                NaN  \n",
       "3        NaN  128 minutes                NaN  \n",
       "4        NaN  200 minutes                NaN  "
      ]
     },
     "metadata": {},
     "output_type": "display_data"
    },
    {
     "data": {
      "text/html": [
       "<div>\n",
       "<style scoped>\n",
       "    .dataframe tbody tr th:only-of-type {\n",
       "        vertical-align: middle;\n",
       "    }\n",
       "\n",
       "    .dataframe tbody tr th {\n",
       "        vertical-align: top;\n",
       "    }\n",
       "\n",
       "    .dataframe thead th {\n",
       "        text-align: right;\n",
       "    }\n",
       "</style>\n",
       "<table border=\"1\" class=\"dataframe\">\n",
       "  <thead>\n",
       "    <tr style=\"text-align: right;\">\n",
       "      <th></th>\n",
       "      <th>id</th>\n",
       "      <th>synopsis</th>\n",
       "      <th>rating</th>\n",
       "      <th>genre</th>\n",
       "      <th>director</th>\n",
       "      <th>writer</th>\n",
       "      <th>theater_date</th>\n",
       "      <th>dvd_date</th>\n",
       "      <th>currency</th>\n",
       "      <th>box_office</th>\n",
       "      <th>runtime</th>\n",
       "      <th>studio</th>\n",
       "    </tr>\n",
       "  </thead>\n",
       "  <tbody>\n",
       "    <tr>\n",
       "      <th>1555</th>\n",
       "      <td>1996</td>\n",
       "      <td>Forget terrorists or hijackers -- there's a ha...</td>\n",
       "      <td>R</td>\n",
       "      <td>Action and Adventure|Horror|Mystery and Suspense</td>\n",
       "      <td>NaN</td>\n",
       "      <td>NaN</td>\n",
       "      <td>Aug 18, 2006</td>\n",
       "      <td>Jan 2, 2007</td>\n",
       "      <td>$</td>\n",
       "      <td>33,886,034</td>\n",
       "      <td>106 minutes</td>\n",
       "      <td>New Line Cinema</td>\n",
       "    </tr>\n",
       "    <tr>\n",
       "      <th>1556</th>\n",
       "      <td>1997</td>\n",
       "      <td>The popular Saturday Night Live sketch was exp...</td>\n",
       "      <td>PG</td>\n",
       "      <td>Comedy|Science Fiction and Fantasy</td>\n",
       "      <td>Steve Barron</td>\n",
       "      <td>Terry Turner|Tom Davis|Dan Aykroyd|Bonnie Turner</td>\n",
       "      <td>Jul 23, 1993</td>\n",
       "      <td>Apr 17, 2001</td>\n",
       "      <td>NaN</td>\n",
       "      <td>NaN</td>\n",
       "      <td>88 minutes</td>\n",
       "      <td>Paramount Vantage</td>\n",
       "    </tr>\n",
       "    <tr>\n",
       "      <th>1557</th>\n",
       "      <td>1998</td>\n",
       "      <td>Based on a novel by Richard Powell, when the l...</td>\n",
       "      <td>G</td>\n",
       "      <td>Classics|Comedy|Drama|Musical and Performing Arts</td>\n",
       "      <td>Gordon Douglas</td>\n",
       "      <td>NaN</td>\n",
       "      <td>Jan 1, 1962</td>\n",
       "      <td>May 11, 2004</td>\n",
       "      <td>NaN</td>\n",
       "      <td>NaN</td>\n",
       "      <td>111 minutes</td>\n",
       "      <td>NaN</td>\n",
       "    </tr>\n",
       "    <tr>\n",
       "      <th>1558</th>\n",
       "      <td>1999</td>\n",
       "      <td>The Sandlot is a coming-of-age story about a g...</td>\n",
       "      <td>PG</td>\n",
       "      <td>Comedy|Drama|Kids and Family|Sports and Fitness</td>\n",
       "      <td>David Mickey Evans</td>\n",
       "      <td>David Mickey Evans|Robert Gunter</td>\n",
       "      <td>Apr 1, 1993</td>\n",
       "      <td>Jan 29, 2002</td>\n",
       "      <td>NaN</td>\n",
       "      <td>NaN</td>\n",
       "      <td>101 minutes</td>\n",
       "      <td>NaN</td>\n",
       "    </tr>\n",
       "    <tr>\n",
       "      <th>1559</th>\n",
       "      <td>2000</td>\n",
       "      <td>Suspended from the force, Paris cop Hubert is ...</td>\n",
       "      <td>R</td>\n",
       "      <td>Action and Adventure|Art House and Internation...</td>\n",
       "      <td>NaN</td>\n",
       "      <td>Luc Besson</td>\n",
       "      <td>Sep 27, 2001</td>\n",
       "      <td>Feb 11, 2003</td>\n",
       "      <td>NaN</td>\n",
       "      <td>NaN</td>\n",
       "      <td>94 minutes</td>\n",
       "      <td>Columbia Pictures</td>\n",
       "    </tr>\n",
       "  </tbody>\n",
       "</table>\n",
       "</div>"
      ],
      "text/plain": [
       "        id                                           synopsis rating  \\\n",
       "1555  1996  Forget terrorists or hijackers -- there's a ha...      R   \n",
       "1556  1997  The popular Saturday Night Live sketch was exp...     PG   \n",
       "1557  1998  Based on a novel by Richard Powell, when the l...      G   \n",
       "1558  1999  The Sandlot is a coming-of-age story about a g...     PG   \n",
       "1559  2000  Suspended from the force, Paris cop Hubert is ...      R   \n",
       "\n",
       "                                                  genre            director  \\\n",
       "1555   Action and Adventure|Horror|Mystery and Suspense                 NaN   \n",
       "1556                 Comedy|Science Fiction and Fantasy        Steve Barron   \n",
       "1557  Classics|Comedy|Drama|Musical and Performing Arts      Gordon Douglas   \n",
       "1558    Comedy|Drama|Kids and Family|Sports and Fitness  David Mickey Evans   \n",
       "1559  Action and Adventure|Art House and Internation...                 NaN   \n",
       "\n",
       "                                                writer  theater_date  \\\n",
       "1555                                               NaN  Aug 18, 2006   \n",
       "1556  Terry Turner|Tom Davis|Dan Aykroyd|Bonnie Turner  Jul 23, 1993   \n",
       "1557                                               NaN   Jan 1, 1962   \n",
       "1558                  David Mickey Evans|Robert Gunter   Apr 1, 1993   \n",
       "1559                                        Luc Besson  Sep 27, 2001   \n",
       "\n",
       "          dvd_date currency  box_office      runtime             studio  \n",
       "1555   Jan 2, 2007        $  33,886,034  106 minutes    New Line Cinema  \n",
       "1556  Apr 17, 2001      NaN         NaN   88 minutes  Paramount Vantage  \n",
       "1557  May 11, 2004      NaN         NaN  111 minutes                NaN  \n",
       "1558  Jan 29, 2002      NaN         NaN  101 minutes                NaN  \n",
       "1559  Feb 11, 2003      NaN         NaN   94 minutes  Columbia Pictures  "
      ]
     },
     "metadata": {},
     "output_type": "display_data"
    },
    {
     "name": "stdout",
     "output_type": "stream",
     "text": [
      "------------------------------------------------------------\n",
      "tn_movie_budgets_csv_gz\n"
     ]
    },
    {
     "data": {
      "text/html": [
       "<div>\n",
       "<style scoped>\n",
       "    .dataframe tbody tr th:only-of-type {\n",
       "        vertical-align: middle;\n",
       "    }\n",
       "\n",
       "    .dataframe tbody tr th {\n",
       "        vertical-align: top;\n",
       "    }\n",
       "\n",
       "    .dataframe thead th {\n",
       "        text-align: right;\n",
       "    }\n",
       "</style>\n",
       "<table border=\"1\" class=\"dataframe\">\n",
       "  <thead>\n",
       "    <tr style=\"text-align: right;\">\n",
       "      <th></th>\n",
       "      <th>id</th>\n",
       "      <th>release_date</th>\n",
       "      <th>movie</th>\n",
       "      <th>production_budget</th>\n",
       "      <th>domestic_gross</th>\n",
       "      <th>worldwide_gross</th>\n",
       "    </tr>\n",
       "  </thead>\n",
       "  <tbody>\n",
       "    <tr>\n",
       "      <th>0</th>\n",
       "      <td>1</td>\n",
       "      <td>Dec 18, 2009</td>\n",
       "      <td>Avatar</td>\n",
       "      <td>$425,000,000</td>\n",
       "      <td>$760,507,625</td>\n",
       "      <td>$2,776,345,279</td>\n",
       "    </tr>\n",
       "    <tr>\n",
       "      <th>1</th>\n",
       "      <td>2</td>\n",
       "      <td>May 20, 2011</td>\n",
       "      <td>Pirates of the Caribbean: On Stranger Tides</td>\n",
       "      <td>$410,600,000</td>\n",
       "      <td>$241,063,875</td>\n",
       "      <td>$1,045,663,875</td>\n",
       "    </tr>\n",
       "    <tr>\n",
       "      <th>2</th>\n",
       "      <td>3</td>\n",
       "      <td>Jun 7, 2019</td>\n",
       "      <td>Dark Phoenix</td>\n",
       "      <td>$350,000,000</td>\n",
       "      <td>$42,762,350</td>\n",
       "      <td>$149,762,350</td>\n",
       "    </tr>\n",
       "    <tr>\n",
       "      <th>3</th>\n",
       "      <td>4</td>\n",
       "      <td>May 1, 2015</td>\n",
       "      <td>Avengers: Age of Ultron</td>\n",
       "      <td>$330,600,000</td>\n",
       "      <td>$459,005,868</td>\n",
       "      <td>$1,403,013,963</td>\n",
       "    </tr>\n",
       "    <tr>\n",
       "      <th>4</th>\n",
       "      <td>5</td>\n",
       "      <td>Dec 15, 2017</td>\n",
       "      <td>Star Wars Ep. VIII: The Last Jedi</td>\n",
       "      <td>$317,000,000</td>\n",
       "      <td>$620,181,382</td>\n",
       "      <td>$1,316,721,747</td>\n",
       "    </tr>\n",
       "  </tbody>\n",
       "</table>\n",
       "</div>"
      ],
      "text/plain": [
       "   id  release_date                                        movie  \\\n",
       "0   1  Dec 18, 2009                                       Avatar   \n",
       "1   2  May 20, 2011  Pirates of the Caribbean: On Stranger Tides   \n",
       "2   3   Jun 7, 2019                                 Dark Phoenix   \n",
       "3   4   May 1, 2015                      Avengers: Age of Ultron   \n",
       "4   5  Dec 15, 2017            Star Wars Ep. VIII: The Last Jedi   \n",
       "\n",
       "  production_budget domestic_gross worldwide_gross  \n",
       "0      $425,000,000   $760,507,625  $2,776,345,279  \n",
       "1      $410,600,000   $241,063,875  $1,045,663,875  \n",
       "2      $350,000,000    $42,762,350    $149,762,350  \n",
       "3      $330,600,000   $459,005,868  $1,403,013,963  \n",
       "4      $317,000,000   $620,181,382  $1,316,721,747  "
      ]
     },
     "metadata": {},
     "output_type": "display_data"
    },
    {
     "data": {
      "text/html": [
       "<div>\n",
       "<style scoped>\n",
       "    .dataframe tbody tr th:only-of-type {\n",
       "        vertical-align: middle;\n",
       "    }\n",
       "\n",
       "    .dataframe tbody tr th {\n",
       "        vertical-align: top;\n",
       "    }\n",
       "\n",
       "    .dataframe thead th {\n",
       "        text-align: right;\n",
       "    }\n",
       "</style>\n",
       "<table border=\"1\" class=\"dataframe\">\n",
       "  <thead>\n",
       "    <tr style=\"text-align: right;\">\n",
       "      <th></th>\n",
       "      <th>id</th>\n",
       "      <th>release_date</th>\n",
       "      <th>movie</th>\n",
       "      <th>production_budget</th>\n",
       "      <th>domestic_gross</th>\n",
       "      <th>worldwide_gross</th>\n",
       "    </tr>\n",
       "  </thead>\n",
       "  <tbody>\n",
       "    <tr>\n",
       "      <th>5777</th>\n",
       "      <td>78</td>\n",
       "      <td>Dec 31, 2018</td>\n",
       "      <td>Red 11</td>\n",
       "      <td>$7,000</td>\n",
       "      <td>$0</td>\n",
       "      <td>$0</td>\n",
       "    </tr>\n",
       "    <tr>\n",
       "      <th>5778</th>\n",
       "      <td>79</td>\n",
       "      <td>Apr 2, 1999</td>\n",
       "      <td>Following</td>\n",
       "      <td>$6,000</td>\n",
       "      <td>$48,482</td>\n",
       "      <td>$240,495</td>\n",
       "    </tr>\n",
       "    <tr>\n",
       "      <th>5779</th>\n",
       "      <td>80</td>\n",
       "      <td>Jul 13, 2005</td>\n",
       "      <td>Return to the Land of Wonders</td>\n",
       "      <td>$5,000</td>\n",
       "      <td>$1,338</td>\n",
       "      <td>$1,338</td>\n",
       "    </tr>\n",
       "    <tr>\n",
       "      <th>5780</th>\n",
       "      <td>81</td>\n",
       "      <td>Sep 29, 2015</td>\n",
       "      <td>A Plague So Pleasant</td>\n",
       "      <td>$1,400</td>\n",
       "      <td>$0</td>\n",
       "      <td>$0</td>\n",
       "    </tr>\n",
       "    <tr>\n",
       "      <th>5781</th>\n",
       "      <td>82</td>\n",
       "      <td>Aug 5, 2005</td>\n",
       "      <td>My Date With Drew</td>\n",
       "      <td>$1,100</td>\n",
       "      <td>$181,041</td>\n",
       "      <td>$181,041</td>\n",
       "    </tr>\n",
       "  </tbody>\n",
       "</table>\n",
       "</div>"
      ],
      "text/plain": [
       "      id  release_date                          movie production_budget  \\\n",
       "5777  78  Dec 31, 2018                         Red 11            $7,000   \n",
       "5778  79   Apr 2, 1999                      Following            $6,000   \n",
       "5779  80  Jul 13, 2005  Return to the Land of Wonders            $5,000   \n",
       "5780  81  Sep 29, 2015           A Plague So Pleasant            $1,400   \n",
       "5781  82   Aug 5, 2005              My Date With Drew            $1,100   \n",
       "\n",
       "     domestic_gross worldwide_gross  \n",
       "5777             $0              $0  \n",
       "5778        $48,482        $240,495  \n",
       "5779         $1,338          $1,338  \n",
       "5780             $0              $0  \n",
       "5781       $181,041        $181,041  "
      ]
     },
     "metadata": {},
     "output_type": "display_data"
    },
    {
     "name": "stdout",
     "output_type": "stream",
     "text": [
      "------------------------------------------------------------\n",
      "bom_movie_gross_csv_gz\n"
     ]
    },
    {
     "data": {
      "text/html": [
       "<div>\n",
       "<style scoped>\n",
       "    .dataframe tbody tr th:only-of-type {\n",
       "        vertical-align: middle;\n",
       "    }\n",
       "\n",
       "    .dataframe tbody tr th {\n",
       "        vertical-align: top;\n",
       "    }\n",
       "\n",
       "    .dataframe thead th {\n",
       "        text-align: right;\n",
       "    }\n",
       "</style>\n",
       "<table border=\"1\" class=\"dataframe\">\n",
       "  <thead>\n",
       "    <tr style=\"text-align: right;\">\n",
       "      <th></th>\n",
       "      <th>title</th>\n",
       "      <th>studio</th>\n",
       "      <th>domestic_gross</th>\n",
       "      <th>foreign_gross</th>\n",
       "      <th>year</th>\n",
       "    </tr>\n",
       "  </thead>\n",
       "  <tbody>\n",
       "    <tr>\n",
       "      <th>0</th>\n",
       "      <td>Toy Story 3</td>\n",
       "      <td>BV</td>\n",
       "      <td>415000000.0</td>\n",
       "      <td>652000000</td>\n",
       "      <td>2010</td>\n",
       "    </tr>\n",
       "    <tr>\n",
       "      <th>1</th>\n",
       "      <td>Alice in Wonderland (2010)</td>\n",
       "      <td>BV</td>\n",
       "      <td>334200000.0</td>\n",
       "      <td>691300000</td>\n",
       "      <td>2010</td>\n",
       "    </tr>\n",
       "    <tr>\n",
       "      <th>2</th>\n",
       "      <td>Harry Potter and the Deathly Hallows Part 1</td>\n",
       "      <td>WB</td>\n",
       "      <td>296000000.0</td>\n",
       "      <td>664300000</td>\n",
       "      <td>2010</td>\n",
       "    </tr>\n",
       "    <tr>\n",
       "      <th>3</th>\n",
       "      <td>Inception</td>\n",
       "      <td>WB</td>\n",
       "      <td>292600000.0</td>\n",
       "      <td>535700000</td>\n",
       "      <td>2010</td>\n",
       "    </tr>\n",
       "    <tr>\n",
       "      <th>4</th>\n",
       "      <td>Shrek Forever After</td>\n",
       "      <td>P/DW</td>\n",
       "      <td>238700000.0</td>\n",
       "      <td>513900000</td>\n",
       "      <td>2010</td>\n",
       "    </tr>\n",
       "  </tbody>\n",
       "</table>\n",
       "</div>"
      ],
      "text/plain": [
       "                                         title studio  domestic_gross  \\\n",
       "0                                  Toy Story 3     BV     415000000.0   \n",
       "1                   Alice in Wonderland (2010)     BV     334200000.0   \n",
       "2  Harry Potter and the Deathly Hallows Part 1     WB     296000000.0   \n",
       "3                                    Inception     WB     292600000.0   \n",
       "4                          Shrek Forever After   P/DW     238700000.0   \n",
       "\n",
       "  foreign_gross  year  \n",
       "0     652000000  2010  \n",
       "1     691300000  2010  \n",
       "2     664300000  2010  \n",
       "3     535700000  2010  \n",
       "4     513900000  2010  "
      ]
     },
     "metadata": {},
     "output_type": "display_data"
    },
    {
     "data": {
      "text/html": [
       "<div>\n",
       "<style scoped>\n",
       "    .dataframe tbody tr th:only-of-type {\n",
       "        vertical-align: middle;\n",
       "    }\n",
       "\n",
       "    .dataframe tbody tr th {\n",
       "        vertical-align: top;\n",
       "    }\n",
       "\n",
       "    .dataframe thead th {\n",
       "        text-align: right;\n",
       "    }\n",
       "</style>\n",
       "<table border=\"1\" class=\"dataframe\">\n",
       "  <thead>\n",
       "    <tr style=\"text-align: right;\">\n",
       "      <th></th>\n",
       "      <th>title</th>\n",
       "      <th>studio</th>\n",
       "      <th>domestic_gross</th>\n",
       "      <th>foreign_gross</th>\n",
       "      <th>year</th>\n",
       "    </tr>\n",
       "  </thead>\n",
       "  <tbody>\n",
       "    <tr>\n",
       "      <th>3382</th>\n",
       "      <td>The Quake</td>\n",
       "      <td>Magn.</td>\n",
       "      <td>6200.0</td>\n",
       "      <td>NaN</td>\n",
       "      <td>2018</td>\n",
       "    </tr>\n",
       "    <tr>\n",
       "      <th>3383</th>\n",
       "      <td>Edward II (2018 re-release)</td>\n",
       "      <td>FM</td>\n",
       "      <td>4800.0</td>\n",
       "      <td>NaN</td>\n",
       "      <td>2018</td>\n",
       "    </tr>\n",
       "    <tr>\n",
       "      <th>3384</th>\n",
       "      <td>El Pacto</td>\n",
       "      <td>Sony</td>\n",
       "      <td>2500.0</td>\n",
       "      <td>NaN</td>\n",
       "      <td>2018</td>\n",
       "    </tr>\n",
       "    <tr>\n",
       "      <th>3385</th>\n",
       "      <td>The Swan</td>\n",
       "      <td>Synergetic</td>\n",
       "      <td>2400.0</td>\n",
       "      <td>NaN</td>\n",
       "      <td>2018</td>\n",
       "    </tr>\n",
       "    <tr>\n",
       "      <th>3386</th>\n",
       "      <td>An Actor Prepares</td>\n",
       "      <td>Grav.</td>\n",
       "      <td>1700.0</td>\n",
       "      <td>NaN</td>\n",
       "      <td>2018</td>\n",
       "    </tr>\n",
       "  </tbody>\n",
       "</table>\n",
       "</div>"
      ],
      "text/plain": [
       "                            title      studio  domestic_gross foreign_gross  \\\n",
       "3382                    The Quake       Magn.          6200.0           NaN   \n",
       "3383  Edward II (2018 re-release)          FM          4800.0           NaN   \n",
       "3384                     El Pacto        Sony          2500.0           NaN   \n",
       "3385                     The Swan  Synergetic          2400.0           NaN   \n",
       "3386            An Actor Prepares       Grav.          1700.0           NaN   \n",
       "\n",
       "      year  \n",
       "3382  2018  \n",
       "3383  2018  \n",
       "3384  2018  \n",
       "3385  2018  \n",
       "3386  2018  "
      ]
     },
     "metadata": {},
     "output_type": "display_data"
    },
    {
     "name": "stdout",
     "output_type": "stream",
     "text": [
      "------------------------------------------------------------\n",
      "imdb_title_principals_csv_gz\n"
     ]
    },
    {
     "data": {
      "text/html": [
       "<div>\n",
       "<style scoped>\n",
       "    .dataframe tbody tr th:only-of-type {\n",
       "        vertical-align: middle;\n",
       "    }\n",
       "\n",
       "    .dataframe tbody tr th {\n",
       "        vertical-align: top;\n",
       "    }\n",
       "\n",
       "    .dataframe thead th {\n",
       "        text-align: right;\n",
       "    }\n",
       "</style>\n",
       "<table border=\"1\" class=\"dataframe\">\n",
       "  <thead>\n",
       "    <tr style=\"text-align: right;\">\n",
       "      <th></th>\n",
       "      <th>tconst</th>\n",
       "      <th>ordering</th>\n",
       "      <th>nconst</th>\n",
       "      <th>category</th>\n",
       "      <th>job</th>\n",
       "      <th>characters</th>\n",
       "    </tr>\n",
       "  </thead>\n",
       "  <tbody>\n",
       "    <tr>\n",
       "      <th>0</th>\n",
       "      <td>tt0111414</td>\n",
       "      <td>1</td>\n",
       "      <td>nm0246005</td>\n",
       "      <td>actor</td>\n",
       "      <td>NaN</td>\n",
       "      <td>[\"The Man\"]</td>\n",
       "    </tr>\n",
       "    <tr>\n",
       "      <th>1</th>\n",
       "      <td>tt0111414</td>\n",
       "      <td>2</td>\n",
       "      <td>nm0398271</td>\n",
       "      <td>director</td>\n",
       "      <td>NaN</td>\n",
       "      <td>NaN</td>\n",
       "    </tr>\n",
       "    <tr>\n",
       "      <th>2</th>\n",
       "      <td>tt0111414</td>\n",
       "      <td>3</td>\n",
       "      <td>nm3739909</td>\n",
       "      <td>producer</td>\n",
       "      <td>producer</td>\n",
       "      <td>NaN</td>\n",
       "    </tr>\n",
       "    <tr>\n",
       "      <th>3</th>\n",
       "      <td>tt0323808</td>\n",
       "      <td>10</td>\n",
       "      <td>nm0059247</td>\n",
       "      <td>editor</td>\n",
       "      <td>NaN</td>\n",
       "      <td>NaN</td>\n",
       "    </tr>\n",
       "    <tr>\n",
       "      <th>4</th>\n",
       "      <td>tt0323808</td>\n",
       "      <td>1</td>\n",
       "      <td>nm3579312</td>\n",
       "      <td>actress</td>\n",
       "      <td>NaN</td>\n",
       "      <td>[\"Beth Boothby\"]</td>\n",
       "    </tr>\n",
       "  </tbody>\n",
       "</table>\n",
       "</div>"
      ],
      "text/plain": [
       "      tconst  ordering     nconst  category       job        characters\n",
       "0  tt0111414         1  nm0246005     actor       NaN       [\"The Man\"]\n",
       "1  tt0111414         2  nm0398271  director       NaN               NaN\n",
       "2  tt0111414         3  nm3739909  producer  producer               NaN\n",
       "3  tt0323808        10  nm0059247    editor       NaN               NaN\n",
       "4  tt0323808         1  nm3579312   actress       NaN  [\"Beth Boothby\"]"
      ]
     },
     "metadata": {},
     "output_type": "display_data"
    },
    {
     "data": {
      "text/html": [
       "<div>\n",
       "<style scoped>\n",
       "    .dataframe tbody tr th:only-of-type {\n",
       "        vertical-align: middle;\n",
       "    }\n",
       "\n",
       "    .dataframe tbody tr th {\n",
       "        vertical-align: top;\n",
       "    }\n",
       "\n",
       "    .dataframe thead th {\n",
       "        text-align: right;\n",
       "    }\n",
       "</style>\n",
       "<table border=\"1\" class=\"dataframe\">\n",
       "  <thead>\n",
       "    <tr style=\"text-align: right;\">\n",
       "      <th></th>\n",
       "      <th>tconst</th>\n",
       "      <th>ordering</th>\n",
       "      <th>nconst</th>\n",
       "      <th>category</th>\n",
       "      <th>job</th>\n",
       "      <th>characters</th>\n",
       "    </tr>\n",
       "  </thead>\n",
       "  <tbody>\n",
       "    <tr>\n",
       "      <th>1028181</th>\n",
       "      <td>tt9692684</td>\n",
       "      <td>1</td>\n",
       "      <td>nm0186469</td>\n",
       "      <td>actor</td>\n",
       "      <td>NaN</td>\n",
       "      <td>[\"Ebenezer Scrooge\"]</td>\n",
       "    </tr>\n",
       "    <tr>\n",
       "      <th>1028182</th>\n",
       "      <td>tt9692684</td>\n",
       "      <td>2</td>\n",
       "      <td>nm4929530</td>\n",
       "      <td>self</td>\n",
       "      <td>NaN</td>\n",
       "      <td>[\"Herself\",\"Regan\"]</td>\n",
       "    </tr>\n",
       "    <tr>\n",
       "      <th>1028183</th>\n",
       "      <td>tt9692684</td>\n",
       "      <td>3</td>\n",
       "      <td>nm10441594</td>\n",
       "      <td>director</td>\n",
       "      <td>NaN</td>\n",
       "      <td>NaN</td>\n",
       "    </tr>\n",
       "    <tr>\n",
       "      <th>1028184</th>\n",
       "      <td>tt9692684</td>\n",
       "      <td>4</td>\n",
       "      <td>nm6009913</td>\n",
       "      <td>writer</td>\n",
       "      <td>writer</td>\n",
       "      <td>NaN</td>\n",
       "    </tr>\n",
       "    <tr>\n",
       "      <th>1028185</th>\n",
       "      <td>tt9692684</td>\n",
       "      <td>5</td>\n",
       "      <td>nm10441595</td>\n",
       "      <td>producer</td>\n",
       "      <td>producer</td>\n",
       "      <td>NaN</td>\n",
       "    </tr>\n",
       "  </tbody>\n",
       "</table>\n",
       "</div>"
      ],
      "text/plain": [
       "            tconst  ordering      nconst  category       job  \\\n",
       "1028181  tt9692684         1   nm0186469     actor       NaN   \n",
       "1028182  tt9692684         2   nm4929530      self       NaN   \n",
       "1028183  tt9692684         3  nm10441594  director       NaN   \n",
       "1028184  tt9692684         4   nm6009913    writer    writer   \n",
       "1028185  tt9692684         5  nm10441595  producer  producer   \n",
       "\n",
       "                   characters  \n",
       "1028181  [\"Ebenezer Scrooge\"]  \n",
       "1028182   [\"Herself\",\"Regan\"]  \n",
       "1028183                   NaN  \n",
       "1028184                   NaN  \n",
       "1028185                   NaN  "
      ]
     },
     "metadata": {},
     "output_type": "display_data"
    }
   ],
   "source": [
    "tables = {}\n",
    "\n",
    "for file in file_list:\n",
    "    print('---'*20)\n",
    "    file_name = file.replace('zippedData/', '').replace('.', '_')\n",
    "    print(file_name)\n",
    "    \n",
    "    \n",
    "    \n",
    "    if 'tsv.gz' in file:\n",
    "        temp_df = pd.read_csv(file, sep= \"\\t\", encoding = \"latin-1\")\n",
    "    else:\n",
    "        temp_df = pd.read_csv(file)\n",
    "    \n",
    "    display(temp_df.head(), temp_df.tail())\n",
    "    tables[file_name] = temp_df"
   ]
  },
  {
   "cell_type": "markdown",
   "metadata": {},
   "source": [
    "### Formating Cell\n",
    "I am keeping all of my display commands here so I can easily find them if/when I need\n",
    "to change anything."
   ]
  },
  {
   "cell_type": "code",
   "execution_count": 5,
   "metadata": {
    "ExecuteTime": {
     "end_time": "2021-10-01T13:28:39.737408Z",
     "start_time": "2021-10-01T13:28:39.731973Z"
    }
   },
   "outputs": [],
   "source": [
    "pd.set_option('display.max_rows', 1000)\n",
    "#change the amount of rows displayed\n",
    "pd.options.display.float_format = '{:,.0f}'.format \n",
    "#This takes the decimal places out of floats. I may need to change this for some of the other features."
   ]
  },
  {
   "cell_type": "code",
   "execution_count": 6,
   "metadata": {
    "ExecuteTime": {
     "end_time": "2021-10-01T13:28:43.837731Z",
     "start_time": "2021-10-01T13:28:43.821097Z"
    }
   },
   "outputs": [
    {
     "data": {
      "text/html": [
       "<div>\n",
       "<style scoped>\n",
       "    .dataframe tbody tr th:only-of-type {\n",
       "        vertical-align: middle;\n",
       "    }\n",
       "\n",
       "    .dataframe tbody tr th {\n",
       "        vertical-align: top;\n",
       "    }\n",
       "\n",
       "    .dataframe thead th {\n",
       "        text-align: right;\n",
       "    }\n",
       "</style>\n",
       "<table border=\"1\" class=\"dataframe\">\n",
       "  <thead>\n",
       "    <tr style=\"text-align: right;\">\n",
       "      <th></th>\n",
       "      <th>id</th>\n",
       "      <th>release_date</th>\n",
       "      <th>movie</th>\n",
       "      <th>production_budget</th>\n",
       "      <th>domestic_gross</th>\n",
       "      <th>worldwide_gross</th>\n",
       "    </tr>\n",
       "  </thead>\n",
       "  <tbody>\n",
       "    <tr>\n",
       "      <th>3737</th>\n",
       "      <td>38</td>\n",
       "      <td>Aug 21, 2009</td>\n",
       "      <td>Fifty Dead Men Walking</td>\n",
       "      <td>$10,000,000</td>\n",
       "      <td>$0</td>\n",
       "      <td>$997,921</td>\n",
       "    </tr>\n",
       "    <tr>\n",
       "      <th>3432</th>\n",
       "      <td>33</td>\n",
       "      <td>Sep 30, 2005</td>\n",
       "      <td>Duma</td>\n",
       "      <td>$12,000,000</td>\n",
       "      <td>$870,067</td>\n",
       "      <td>$994,790</td>\n",
       "    </tr>\n",
       "    <tr>\n",
       "      <th>5062</th>\n",
       "      <td>63</td>\n",
       "      <td>Apr 1, 2011</td>\n",
       "      <td>Insidious</td>\n",
       "      <td>$1,500,000</td>\n",
       "      <td>$54,009,150</td>\n",
       "      <td>$99,870,886</td>\n",
       "    </tr>\n",
       "    <tr>\n",
       "      <th>883</th>\n",
       "      <td>84</td>\n",
       "      <td>Apr 2, 2004</td>\n",
       "      <td>Hellboy</td>\n",
       "      <td>$60,000,000</td>\n",
       "      <td>$59,623,958</td>\n",
       "      <td>$99,823,958</td>\n",
       "    </tr>\n",
       "    <tr>\n",
       "      <th>5613</th>\n",
       "      <td>14</td>\n",
       "      <td>Mar 21, 1980</td>\n",
       "      <td>Mad Max</td>\n",
       "      <td>$200,000</td>\n",
       "      <td>$8,750,000</td>\n",
       "      <td>$99,750,000</td>\n",
       "    </tr>\n",
       "  </tbody>\n",
       "</table>\n",
       "</div>"
      ],
      "text/plain": [
       "      id  release_date                   movie production_budget  \\\n",
       "3737  38  Aug 21, 2009  Fifty Dead Men Walking       $10,000,000   \n",
       "3432  33  Sep 30, 2005                    Duma       $12,000,000   \n",
       "5062  63   Apr 1, 2011               Insidious        $1,500,000   \n",
       "883   84   Apr 2, 2004                 Hellboy       $60,000,000   \n",
       "5613  14  Mar 21, 1980                 Mad Max          $200,000   \n",
       "\n",
       "     domestic_gross worldwide_gross  \n",
       "3737             $0        $997,921  \n",
       "3432       $870,067        $994,790  \n",
       "5062    $54,009,150     $99,870,886  \n",
       "883     $59,623,958     $99,823,958  \n",
       "5613     $8,750,000     $99,750,000  "
      ]
     },
     "execution_count": 6,
     "metadata": {},
     "output_type": "execute_result"
    }
   ],
   "source": [
    "#sorting by worldwide gross\n",
    "tables['tn_movie_budgets_csv_gz'].sort_values(by='worldwide_gross', ascending=False).head(5)"
   ]
  },
  {
   "cell_type": "markdown",
   "metadata": {},
   "source": [
    "Something is wrong here. I assume that it is sorting anything with a '9' in the front first.\n",
    "I presume that the dollar amounts are strings instead of integers. I should also check for\n",
    "null values while I'm checking for this."
   ]
  },
  {
   "cell_type": "markdown",
   "metadata": {},
   "source": [
    "### Table Aliases\n",
    "Setting an alias for each table so that it is easier to use them."
   ]
  },
  {
   "cell_type": "code",
   "execution_count": 7,
   "metadata": {
    "ExecuteTime": {
     "end_time": "2021-10-01T13:29:07.854950Z",
     "start_time": "2021-10-01T13:29:07.846486Z"
    }
   },
   "outputs": [],
   "source": [
    "table1 = tables['imdb_title_crew_csv_gz']\n",
    "table2 = tables['tmdb_movies_csv_gz']\n",
    "table3 = tables['imdb_title_akas_csv_gz']\n",
    "table4 = tables['imdb_title_ratings_csv_gz']\n",
    "table5 = tables['imdb_name_basics_csv_gz']\n",
    "table6 = tables['rt_reviews_tsv_gz']\n",
    "table7 = tables['imdb_title_basics_csv_gz']\n",
    "table8 = tables['rt_movie_info_tsv_gz']\n",
    "table9 = tables['tn_movie_budgets_csv_gz']\n",
    "table10 = tables['bom_movie_gross_csv_gz']\n",
    "table11 = tables['imdb_title_principals_csv_gz']"
   ]
  },
  {
   "cell_type": "code",
   "execution_count": 8,
   "metadata": {
    "ExecuteTime": {
     "end_time": "2021-10-01T13:29:13.162967Z",
     "start_time": "2021-10-01T13:29:13.137977Z"
    }
   },
   "outputs": [
    {
     "name": "stdout",
     "output_type": "stream",
     "text": [
      "<class 'pandas.core.frame.DataFrame'>\n",
      "RangeIndex: 5782 entries, 0 to 5781\n",
      "Data columns (total 6 columns):\n",
      " #   Column             Non-Null Count  Dtype \n",
      "---  ------             --------------  ----- \n",
      " 0   id                 5782 non-null   int64 \n",
      " 1   release_date       5782 non-null   object\n",
      " 2   movie              5782 non-null   object\n",
      " 3   production_budget  5782 non-null   object\n",
      " 4   domestic_gross     5782 non-null   object\n",
      " 5   worldwide_gross    5782 non-null   object\n",
      "dtypes: int64(1), object(5)\n",
      "memory usage: 271.2+ KB\n"
     ]
    }
   ],
   "source": [
    "table9.info()"
   ]
  },
  {
   "cell_type": "markdown",
   "metadata": {},
   "source": [
    "## Initial Data Cleaning"
   ]
  },
  {
   "cell_type": "markdown",
   "metadata": {},
   "source": [
    "Sure enough, everything is a string except for the ID field. I will convert all of the financial information\n",
    "to floats and while I'm at it. I will also convert the release date field to date/time."
   ]
  },
  {
   "cell_type": "code",
   "execution_count": 9,
   "metadata": {
    "ExecuteTime": {
     "end_time": "2021-10-01T13:29:24.425920Z",
     "start_time": "2021-10-01T13:29:24.411288Z"
    }
   },
   "outputs": [
    {
     "data": {
      "text/plain": [
       "id                   0\n",
       "release_date         0\n",
       "movie                0\n",
       "production_budget    0\n",
       "domestic_gross       0\n",
       "worldwide_gross      0\n",
       "dtype: int64"
      ]
     },
     "execution_count": 9,
     "metadata": {},
     "output_type": "execute_result"
    }
   ],
   "source": [
    "table9.isna().sum()"
   ]
  },
  {
   "cell_type": "markdown",
   "metadata": {},
   "source": [
    "There are no null values, but there are likely placeholders"
   ]
  },
  {
   "cell_type": "markdown",
   "metadata": {},
   "source": [
    "I will now clean the three financial columns. Removing the $, removing the comma, then converting to float."
   ]
  },
  {
   "cell_type": "code",
   "execution_count": 10,
   "metadata": {
    "ExecuteTime": {
     "end_time": "2021-10-01T13:29:29.768543Z",
     "start_time": "2021-10-01T13:29:29.737236Z"
    }
   },
   "outputs": [],
   "source": [
    "cleaned_budget = table9['production_budget'].map(lambda x: x.replace('$',' '))\n",
    "cleaned_budget = cleaned_budget.map(lambda x: x.replace(',',''))\n",
    "cleaned_budget = cleaned_budget.astype(float)\n",
    "\n",
    "cleaned_domestic = table9['domestic_gross'].map(lambda x: x.replace('$',' '))\n",
    "cleaned_domestic =cleaned_domestic.map(lambda x: x.replace(',',''))\n",
    "cleaned_domestic = cleaned_domestic.astype(float)\n",
    "\n",
    "cleaned_worldwide = table9['worldwide_gross'].map(lambda x: x.replace('$',' '))\n",
    "cleaned_worldwide = cleaned_worldwide.map(lambda x: x.replace(',',''))\n",
    "cleaned_worldwide = cleaned_worldwide.astype(float)"
   ]
  },
  {
   "cell_type": "code",
   "execution_count": 11,
   "metadata": {
    "ExecuteTime": {
     "end_time": "2021-10-01T13:29:34.911285Z",
     "start_time": "2021-10-01T13:29:34.600461Z"
    }
   },
   "outputs": [
    {
     "data": {
      "text/html": [
       "<div>\n",
       "<style scoped>\n",
       "    .dataframe tbody tr th:only-of-type {\n",
       "        vertical-align: middle;\n",
       "    }\n",
       "\n",
       "    .dataframe tbody tr th {\n",
       "        vertical-align: top;\n",
       "    }\n",
       "\n",
       "    .dataframe thead th {\n",
       "        text-align: right;\n",
       "    }\n",
       "</style>\n",
       "<table border=\"1\" class=\"dataframe\">\n",
       "  <thead>\n",
       "    <tr style=\"text-align: right;\">\n",
       "      <th></th>\n",
       "      <th>id</th>\n",
       "      <th>release_date</th>\n",
       "      <th>movie</th>\n",
       "      <th>production_budget</th>\n",
       "      <th>domestic_gross</th>\n",
       "      <th>worldwide_gross</th>\n",
       "      <th>release_year</th>\n",
       "    </tr>\n",
       "  </thead>\n",
       "  <tbody>\n",
       "    <tr>\n",
       "      <th>0</th>\n",
       "      <td>1</td>\n",
       "      <td>2009-12-18</td>\n",
       "      <td>Avatar</td>\n",
       "      <td>425,000,000</td>\n",
       "      <td>760,507,625</td>\n",
       "      <td>2,776,345,279</td>\n",
       "      <td>2009</td>\n",
       "    </tr>\n",
       "    <tr>\n",
       "      <th>42</th>\n",
       "      <td>43</td>\n",
       "      <td>1997-12-19</td>\n",
       "      <td>Titanic</td>\n",
       "      <td>200,000,000</td>\n",
       "      <td>659,363,944</td>\n",
       "      <td>2,208,208,395</td>\n",
       "      <td>1997</td>\n",
       "    </tr>\n",
       "    <tr>\n",
       "      <th>5</th>\n",
       "      <td>6</td>\n",
       "      <td>2015-12-18</td>\n",
       "      <td>Star Wars Ep. VII: The Force Awakens</td>\n",
       "      <td>306,000,000</td>\n",
       "      <td>936,662,225</td>\n",
       "      <td>2,053,311,220</td>\n",
       "      <td>2015</td>\n",
       "    </tr>\n",
       "    <tr>\n",
       "      <th>6</th>\n",
       "      <td>7</td>\n",
       "      <td>2018-04-27</td>\n",
       "      <td>Avengers: Infinity War</td>\n",
       "      <td>300,000,000</td>\n",
       "      <td>678,815,482</td>\n",
       "      <td>2,048,134,200</td>\n",
       "      <td>2018</td>\n",
       "    </tr>\n",
       "    <tr>\n",
       "      <th>33</th>\n",
       "      <td>34</td>\n",
       "      <td>2015-06-12</td>\n",
       "      <td>Jurassic World</td>\n",
       "      <td>215,000,000</td>\n",
       "      <td>652,270,625</td>\n",
       "      <td>1,648,854,864</td>\n",
       "      <td>2015</td>\n",
       "    </tr>\n",
       "  </tbody>\n",
       "</table>\n",
       "</div>"
      ],
      "text/plain": [
       "    id release_date                                 movie  production_budget  \\\n",
       "0    1   2009-12-18                                Avatar        425,000,000   \n",
       "42  43   1997-12-19                               Titanic        200,000,000   \n",
       "5    6   2015-12-18  Star Wars Ep. VII: The Force Awakens        306,000,000   \n",
       "6    7   2018-04-27                Avengers: Infinity War        300,000,000   \n",
       "33  34   2015-06-12                        Jurassic World        215,000,000   \n",
       "\n",
       "    domestic_gross  worldwide_gross  release_year  \n",
       "0      760,507,625    2,776,345,279          2009  \n",
       "42     659,363,944    2,208,208,395          1997  \n",
       "5      936,662,225    2,053,311,220          2015  \n",
       "6      678,815,482    2,048,134,200          2018  \n",
       "33     652,270,625    1,648,854,864          2015  "
      ]
     },
     "execution_count": 11,
     "metadata": {},
     "output_type": "execute_result"
    }
   ],
   "source": [
    "#Putting my cleaned data into the table.\n",
    "table9[\"production_budget\"] = cleaned_budget\n",
    "table9[\"domestic_gross\"] = cleaned_domestic\n",
    "table9[\"worldwide_gross\"] = cleaned_worldwide\n",
    "table9 = table9.sort_values(by='worldwide_gross', ascending=False)\n",
    "\n",
    "#converting release_date to datetime format.\n",
    "cleaned_release_date = pd.to_datetime(table9['release_date'])\n",
    "table9['release_date']= cleaned_release_date\n",
    "\n",
    "#Creating a column 'release_year' to more easily search general release dates, etc.\n",
    "table9['release_year'] = table9['release_date'].dt.year\n",
    "\n",
    "table9.head(5)\n"
   ]
  },
  {
   "cell_type": "markdown",
   "metadata": {},
   "source": [
    "**What is the range of release dates in this data set?**"
   ]
  },
  {
   "cell_type": "code",
   "execution_count": 12,
   "metadata": {
    "ExecuteTime": {
     "end_time": "2021-10-01T13:29:58.127402Z",
     "start_time": "2021-10-01T13:29:58.105656Z"
    }
   },
   "outputs": [
    {
     "data": {
      "text/html": [
       "<div>\n",
       "<style scoped>\n",
       "    .dataframe tbody tr th:only-of-type {\n",
       "        vertical-align: middle;\n",
       "    }\n",
       "\n",
       "    .dataframe tbody tr th {\n",
       "        vertical-align: top;\n",
       "    }\n",
       "\n",
       "    .dataframe thead th {\n",
       "        text-align: right;\n",
       "    }\n",
       "</style>\n",
       "<table border=\"1\" class=\"dataframe\">\n",
       "  <thead>\n",
       "    <tr style=\"text-align: right;\">\n",
       "      <th></th>\n",
       "      <th>id</th>\n",
       "      <th>release_date</th>\n",
       "      <th>movie</th>\n",
       "      <th>production_budget</th>\n",
       "      <th>domestic_gross</th>\n",
       "      <th>worldwide_gross</th>\n",
       "      <th>release_year</th>\n",
       "    </tr>\n",
       "  </thead>\n",
       "  <tbody>\n",
       "    <tr>\n",
       "      <th>5614</th>\n",
       "      <td>15</td>\n",
       "      <td>1916-12-24</td>\n",
       "      <td>20,000 Leagues Under the Sea</td>\n",
       "      <td>200,000</td>\n",
       "      <td>8,000,000</td>\n",
       "      <td>8,000,000</td>\n",
       "      <td>1916</td>\n",
       "    </tr>\n",
       "    <tr>\n",
       "      <th>5523</th>\n",
       "      <td>24</td>\n",
       "      <td>1916-09-05</td>\n",
       "      <td>Intolerance</td>\n",
       "      <td>385,907</td>\n",
       "      <td>0</td>\n",
       "      <td>0</td>\n",
       "      <td>1916</td>\n",
       "    </tr>\n",
       "    <tr>\n",
       "      <th>5677</th>\n",
       "      <td>78</td>\n",
       "      <td>1915-02-08</td>\n",
       "      <td>The Birth of a Nation</td>\n",
       "      <td>110,000</td>\n",
       "      <td>10,000,000</td>\n",
       "      <td>11,000,000</td>\n",
       "      <td>1915</td>\n",
       "    </tr>\n",
       "  </tbody>\n",
       "</table>\n",
       "</div>"
      ],
      "text/plain": [
       "      id release_date                         movie  production_budget  \\\n",
       "5614  15   1916-12-24  20,000 Leagues Under the Sea            200,000   \n",
       "5523  24   1916-09-05                   Intolerance            385,907   \n",
       "5677  78   1915-02-08         The Birth of a Nation            110,000   \n",
       "\n",
       "      domestic_gross  worldwide_gross  release_year  \n",
       "5614       8,000,000        8,000,000          1916  \n",
       "5523               0                0          1916  \n",
       "5677      10,000,000       11,000,000          1915  "
      ]
     },
     "execution_count": 12,
     "metadata": {},
     "output_type": "execute_result"
    }
   ],
   "source": [
    "table9.sort_values(by='release_date', ascending=False).tail(3)"
   ]
  },
  {
   "cell_type": "code",
   "execution_count": 13,
   "metadata": {
    "ExecuteTime": {
     "end_time": "2021-10-01T13:30:00.855631Z",
     "start_time": "2021-10-01T13:30:00.836892Z"
    }
   },
   "outputs": [
    {
     "data": {
      "text/html": [
       "<div>\n",
       "<style scoped>\n",
       "    .dataframe tbody tr th:only-of-type {\n",
       "        vertical-align: middle;\n",
       "    }\n",
       "\n",
       "    .dataframe tbody tr th {\n",
       "        vertical-align: top;\n",
       "    }\n",
       "\n",
       "    .dataframe thead th {\n",
       "        text-align: right;\n",
       "    }\n",
       "</style>\n",
       "<table border=\"1\" class=\"dataframe\">\n",
       "  <thead>\n",
       "    <tr style=\"text-align: right;\">\n",
       "      <th></th>\n",
       "      <th>id</th>\n",
       "      <th>release_date</th>\n",
       "      <th>movie</th>\n",
       "      <th>production_budget</th>\n",
       "      <th>domestic_gross</th>\n",
       "      <th>worldwide_gross</th>\n",
       "      <th>release_year</th>\n",
       "    </tr>\n",
       "  </thead>\n",
       "  <tbody>\n",
       "    <tr>\n",
       "      <th>194</th>\n",
       "      <td>95</td>\n",
       "      <td>2020-12-31</td>\n",
       "      <td>Moonfall</td>\n",
       "      <td>150,000,000</td>\n",
       "      <td>0</td>\n",
       "      <td>0</td>\n",
       "      <td>2020</td>\n",
       "    </tr>\n",
       "    <tr>\n",
       "      <th>1205</th>\n",
       "      <td>6</td>\n",
       "      <td>2020-12-31</td>\n",
       "      <td>Hannibal the Conqueror</td>\n",
       "      <td>50,000,000</td>\n",
       "      <td>0</td>\n",
       "      <td>0</td>\n",
       "      <td>2020</td>\n",
       "    </tr>\n",
       "    <tr>\n",
       "      <th>535</th>\n",
       "      <td>36</td>\n",
       "      <td>2020-02-21</td>\n",
       "      <td>Call of the Wild</td>\n",
       "      <td>82,000,000</td>\n",
       "      <td>0</td>\n",
       "      <td>0</td>\n",
       "      <td>2020</td>\n",
       "    </tr>\n",
       "  </tbody>\n",
       "</table>\n",
       "</div>"
      ],
      "text/plain": [
       "      id release_date                   movie  production_budget  \\\n",
       "194   95   2020-12-31                Moonfall        150,000,000   \n",
       "1205   6   2020-12-31  Hannibal the Conqueror         50,000,000   \n",
       "535   36   2020-02-21        Call of the Wild         82,000,000   \n",
       "\n",
       "      domestic_gross  worldwide_gross  release_year  \n",
       "194                0                0          2020  \n",
       "1205               0                0          2020  \n",
       "535                0                0          2020  "
      ]
     },
     "execution_count": 13,
     "metadata": {},
     "output_type": "execute_result"
    }
   ],
   "source": [
    "table9.sort_values(by='release_date', ascending=False).head(3)"
   ]
  },
  {
   "cell_type": "markdown",
   "metadata": {},
   "source": [
    "The earliest movie is from 1915. The most recent are from 2020.\n",
    "- I doubt that I will need data from movies from more than a few decades ago. I will slice out recent movie data as I proceed with my data cleaning.\n",
    "- The movies from 2020 have no performance data. It will be okay to exclude them from analysis as they aren't relevant.\n",
    "- The bulk of the data starts in 1996 where there are 100+ movies every year afterward until 2018. There is a little bit of info for 2019."
   ]
  },
  {
   "cell_type": "markdown",
   "metadata": {},
   "source": [
    "### Calculating Total Profit and ROI\n",
    "- The first way that I will be manipulating the cleaned data is to calculate two financial performance metrics: Total Profit, and Return on Investment (ROI)"
   ]
  },
  {
   "cell_type": "code",
   "execution_count": 14,
   "metadata": {
    "ExecuteTime": {
     "end_time": "2021-10-01T13:30:23.782469Z",
     "start_time": "2021-10-01T13:30:23.643286Z"
    }
   },
   "outputs": [
    {
     "data": {
      "text/html": [
       "<div>\n",
       "<style scoped>\n",
       "    .dataframe tbody tr th:only-of-type {\n",
       "        vertical-align: middle;\n",
       "    }\n",
       "\n",
       "    .dataframe tbody tr th {\n",
       "        vertical-align: top;\n",
       "    }\n",
       "\n",
       "    .dataframe thead th {\n",
       "        text-align: right;\n",
       "    }\n",
       "</style>\n",
       "<table border=\"1\" class=\"dataframe\">\n",
       "  <thead>\n",
       "    <tr style=\"text-align: right;\">\n",
       "      <th></th>\n",
       "      <th>id</th>\n",
       "      <th>release_date</th>\n",
       "      <th>movie</th>\n",
       "      <th>production_budget</th>\n",
       "      <th>domestic_gross</th>\n",
       "      <th>worldwide_gross</th>\n",
       "      <th>release_year</th>\n",
       "      <th>total_profit</th>\n",
       "      <th>ROI</th>\n",
       "    </tr>\n",
       "  </thead>\n",
       "  <tbody>\n",
       "    <tr>\n",
       "      <th>0</th>\n",
       "      <td>1</td>\n",
       "      <td>2009-12-18</td>\n",
       "      <td>Avatar</td>\n",
       "      <td>425,000,000</td>\n",
       "      <td>760,507,625</td>\n",
       "      <td>2,776,345,279</td>\n",
       "      <td>2009</td>\n",
       "      <td>2,351,345,279</td>\n",
       "      <td>6</td>\n",
       "    </tr>\n",
       "    <tr>\n",
       "      <th>42</th>\n",
       "      <td>43</td>\n",
       "      <td>1997-12-19</td>\n",
       "      <td>Titanic</td>\n",
       "      <td>200,000,000</td>\n",
       "      <td>659,363,944</td>\n",
       "      <td>2,208,208,395</td>\n",
       "      <td>1997</td>\n",
       "      <td>2,008,208,395</td>\n",
       "      <td>10</td>\n",
       "    </tr>\n",
       "    <tr>\n",
       "      <th>5</th>\n",
       "      <td>6</td>\n",
       "      <td>2015-12-18</td>\n",
       "      <td>Star Wars Ep. VII: The Force Awakens</td>\n",
       "      <td>306,000,000</td>\n",
       "      <td>936,662,225</td>\n",
       "      <td>2,053,311,220</td>\n",
       "      <td>2015</td>\n",
       "      <td>1,747,311,220</td>\n",
       "      <td>6</td>\n",
       "    </tr>\n",
       "    <tr>\n",
       "      <th>6</th>\n",
       "      <td>7</td>\n",
       "      <td>2018-04-27</td>\n",
       "      <td>Avengers: Infinity War</td>\n",
       "      <td>300,000,000</td>\n",
       "      <td>678,815,482</td>\n",
       "      <td>2,048,134,200</td>\n",
       "      <td>2018</td>\n",
       "      <td>1,748,134,200</td>\n",
       "      <td>6</td>\n",
       "    </tr>\n",
       "    <tr>\n",
       "      <th>33</th>\n",
       "      <td>34</td>\n",
       "      <td>2015-06-12</td>\n",
       "      <td>Jurassic World</td>\n",
       "      <td>215,000,000</td>\n",
       "      <td>652,270,625</td>\n",
       "      <td>1,648,854,864</td>\n",
       "      <td>2015</td>\n",
       "      <td>1,433,854,864</td>\n",
       "      <td>7</td>\n",
       "    </tr>\n",
       "    <tr>\n",
       "      <th>...</th>\n",
       "      <td>...</td>\n",
       "      <td>...</td>\n",
       "      <td>...</td>\n",
       "      <td>...</td>\n",
       "      <td>...</td>\n",
       "      <td>...</td>\n",
       "      <td>...</td>\n",
       "      <td>...</td>\n",
       "      <td>...</td>\n",
       "    </tr>\n",
       "    <tr>\n",
       "      <th>5474</th>\n",
       "      <td>75</td>\n",
       "      <td>2005-12-31</td>\n",
       "      <td>Insomnia Manica</td>\n",
       "      <td>500,000</td>\n",
       "      <td>0</td>\n",
       "      <td>0</td>\n",
       "      <td>2005</td>\n",
       "      <td>-500,000</td>\n",
       "      <td>-1</td>\n",
       "    </tr>\n",
       "    <tr>\n",
       "      <th>5473</th>\n",
       "      <td>74</td>\n",
       "      <td>2012-07-17</td>\n",
       "      <td>Girls Gone Dead</td>\n",
       "      <td>500,000</td>\n",
       "      <td>0</td>\n",
       "      <td>0</td>\n",
       "      <td>2012</td>\n",
       "      <td>-500,000</td>\n",
       "      <td>-1</td>\n",
       "    </tr>\n",
       "    <tr>\n",
       "      <th>5472</th>\n",
       "      <td>73</td>\n",
       "      <td>2012-04-03</td>\n",
       "      <td>Enter Nowhere</td>\n",
       "      <td>500,000</td>\n",
       "      <td>0</td>\n",
       "      <td>0</td>\n",
       "      <td>2012</td>\n",
       "      <td>-500,000</td>\n",
       "      <td>-1</td>\n",
       "    </tr>\n",
       "    <tr>\n",
       "      <th>5471</th>\n",
       "      <td>72</td>\n",
       "      <td>2010-12-31</td>\n",
       "      <td>Drones</td>\n",
       "      <td>500,000</td>\n",
       "      <td>0</td>\n",
       "      <td>0</td>\n",
       "      <td>2010</td>\n",
       "      <td>-500,000</td>\n",
       "      <td>-1</td>\n",
       "    </tr>\n",
       "    <tr>\n",
       "      <th>4068</th>\n",
       "      <td>69</td>\n",
       "      <td>2008-12-12</td>\n",
       "      <td>The Kings of Appletown</td>\n",
       "      <td>7,000,000</td>\n",
       "      <td>0</td>\n",
       "      <td>0</td>\n",
       "      <td>2008</td>\n",
       "      <td>-7,000,000</td>\n",
       "      <td>-1</td>\n",
       "    </tr>\n",
       "  </tbody>\n",
       "</table>\n",
       "<p>5782 rows × 9 columns</p>\n",
       "</div>"
      ],
      "text/plain": [
       "      id release_date                                 movie  \\\n",
       "0      1   2009-12-18                                Avatar   \n",
       "42    43   1997-12-19                               Titanic   \n",
       "5      6   2015-12-18  Star Wars Ep. VII: The Force Awakens   \n",
       "6      7   2018-04-27                Avengers: Infinity War   \n",
       "33    34   2015-06-12                        Jurassic World   \n",
       "...   ..          ...                                   ...   \n",
       "5474  75   2005-12-31                       Insomnia Manica   \n",
       "5473  74   2012-07-17                       Girls Gone Dead   \n",
       "5472  73   2012-04-03                         Enter Nowhere   \n",
       "5471  72   2010-12-31                                Drones   \n",
       "4068  69   2008-12-12                The Kings of Appletown   \n",
       "\n",
       "      production_budget  domestic_gross  worldwide_gross  release_year  \\\n",
       "0           425,000,000     760,507,625    2,776,345,279          2009   \n",
       "42          200,000,000     659,363,944    2,208,208,395          1997   \n",
       "5           306,000,000     936,662,225    2,053,311,220          2015   \n",
       "6           300,000,000     678,815,482    2,048,134,200          2018   \n",
       "33          215,000,000     652,270,625    1,648,854,864          2015   \n",
       "...                 ...             ...              ...           ...   \n",
       "5474            500,000               0                0          2005   \n",
       "5473            500,000               0                0          2012   \n",
       "5472            500,000               0                0          2012   \n",
       "5471            500,000               0                0          2010   \n",
       "4068          7,000,000               0                0          2008   \n",
       "\n",
       "      total_profit  ROI  \n",
       "0    2,351,345,279    6  \n",
       "42   2,008,208,395   10  \n",
       "5    1,747,311,220    6  \n",
       "6    1,748,134,200    6  \n",
       "33   1,433,854,864    7  \n",
       "...            ...  ...  \n",
       "5474      -500,000   -1  \n",
       "5473      -500,000   -1  \n",
       "5472      -500,000   -1  \n",
       "5471      -500,000   -1  \n",
       "4068    -7,000,000   -1  \n",
       "\n",
       "[5782 rows x 9 columns]"
      ]
     },
     "execution_count": 14,
     "metadata": {},
     "output_type": "execute_result"
    }
   ],
   "source": [
    "#creating a column that calculates the profit for each movie. (gross - budget)\n",
    "total_profit = table9.apply(lambda x: x['worldwide_gross'] - x['production_budget'], axis=1)\n",
    "table9['total_profit'] = total_profit\n",
    "\n",
    "#creating a column that calculates ROI for each movie. (Profit divided by budget)\n",
    "roi = table9.apply(lambda x: x['total_profit'] / x['production_budget'], axis=1)\n",
    "table9['ROI'] = roi\n",
    "\n",
    "table9\n"
   ]
  },
  {
   "cell_type": "code",
   "execution_count": 15,
   "metadata": {
    "ExecuteTime": {
     "end_time": "2021-10-01T13:30:50.787094Z",
     "start_time": "2021-10-01T13:30:50.752197Z"
    }
   },
   "outputs": [
    {
     "data": {
      "text/html": [
       "<div>\n",
       "<style scoped>\n",
       "    .dataframe tbody tr th:only-of-type {\n",
       "        vertical-align: middle;\n",
       "    }\n",
       "\n",
       "    .dataframe tbody tr th {\n",
       "        vertical-align: top;\n",
       "    }\n",
       "\n",
       "    .dataframe thead th {\n",
       "        text-align: right;\n",
       "    }\n",
       "</style>\n",
       "<table border=\"1\" class=\"dataframe\">\n",
       "  <thead>\n",
       "    <tr style=\"text-align: right;\">\n",
       "      <th></th>\n",
       "      <th>id</th>\n",
       "      <th>production_budget</th>\n",
       "      <th>domestic_gross</th>\n",
       "      <th>worldwide_gross</th>\n",
       "      <th>release_year</th>\n",
       "      <th>total_profit</th>\n",
       "      <th>ROI</th>\n",
       "    </tr>\n",
       "  </thead>\n",
       "  <tbody>\n",
       "    <tr>\n",
       "      <th>count</th>\n",
       "      <td>5,782</td>\n",
       "      <td>5,782</td>\n",
       "      <td>5,782</td>\n",
       "      <td>5,782</td>\n",
       "      <td>5,782</td>\n",
       "      <td>5,782</td>\n",
       "      <td>5,782</td>\n",
       "    </tr>\n",
       "    <tr>\n",
       "      <th>mean</th>\n",
       "      <td>50</td>\n",
       "      <td>31,587,757</td>\n",
       "      <td>41,873,327</td>\n",
       "      <td>91,487,461</td>\n",
       "      <td>2,004</td>\n",
       "      <td>59,899,704</td>\n",
       "      <td>4</td>\n",
       "    </tr>\n",
       "    <tr>\n",
       "      <th>std</th>\n",
       "      <td>29</td>\n",
       "      <td>41,812,077</td>\n",
       "      <td>68,240,597</td>\n",
       "      <td>174,719,969</td>\n",
       "      <td>13</td>\n",
       "      <td>146,088,881</td>\n",
       "      <td>30</td>\n",
       "    </tr>\n",
       "    <tr>\n",
       "      <th>min</th>\n",
       "      <td>1</td>\n",
       "      <td>1,100</td>\n",
       "      <td>0</td>\n",
       "      <td>0</td>\n",
       "      <td>1,915</td>\n",
       "      <td>-200,237,650</td>\n",
       "      <td>-1</td>\n",
       "    </tr>\n",
       "    <tr>\n",
       "      <th>25%</th>\n",
       "      <td>25</td>\n",
       "      <td>5,000,000</td>\n",
       "      <td>1,429,534</td>\n",
       "      <td>4,125,415</td>\n",
       "      <td>2,000</td>\n",
       "      <td>-2,189,071</td>\n",
       "      <td>-1</td>\n",
       "    </tr>\n",
       "    <tr>\n",
       "      <th>50%</th>\n",
       "      <td>50</td>\n",
       "      <td>17,000,000</td>\n",
       "      <td>17,225,945</td>\n",
       "      <td>27,984,448</td>\n",
       "      <td>2,007</td>\n",
       "      <td>8,550,286</td>\n",
       "      <td>1</td>\n",
       "    </tr>\n",
       "    <tr>\n",
       "      <th>75%</th>\n",
       "      <td>75</td>\n",
       "      <td>40,000,000</td>\n",
       "      <td>52,348,662</td>\n",
       "      <td>97,645,836</td>\n",
       "      <td>2,012</td>\n",
       "      <td>60,968,502</td>\n",
       "      <td>3</td>\n",
       "    </tr>\n",
       "    <tr>\n",
       "      <th>max</th>\n",
       "      <td>100</td>\n",
       "      <td>425,000,000</td>\n",
       "      <td>936,662,225</td>\n",
       "      <td>2,776,345,279</td>\n",
       "      <td>2,020</td>\n",
       "      <td>2,351,345,279</td>\n",
       "      <td>1,799</td>\n",
       "    </tr>\n",
       "  </tbody>\n",
       "</table>\n",
       "</div>"
      ],
      "text/plain": [
       "         id  production_budget  domestic_gross  worldwide_gross  release_year  \\\n",
       "count 5,782              5,782           5,782            5,782         5,782   \n",
       "mean     50         31,587,757      41,873,327       91,487,461         2,004   \n",
       "std      29         41,812,077      68,240,597      174,719,969            13   \n",
       "min       1              1,100               0                0         1,915   \n",
       "25%      25          5,000,000       1,429,534        4,125,415         2,000   \n",
       "50%      50         17,000,000      17,225,945       27,984,448         2,007   \n",
       "75%      75         40,000,000      52,348,662       97,645,836         2,012   \n",
       "max     100        425,000,000     936,662,225    2,776,345,279         2,020   \n",
       "\n",
       "       total_profit   ROI  \n",
       "count         5,782 5,782  \n",
       "mean     59,899,704     4  \n",
       "std     146,088,881    30  \n",
       "min    -200,237,650    -1  \n",
       "25%      -2,189,071    -1  \n",
       "50%       8,550,286     1  \n",
       "75%      60,968,502     3  \n",
       "max   2,351,345,279 1,799  "
      ]
     },
     "execution_count": 15,
     "metadata": {},
     "output_type": "execute_result"
    }
   ],
   "source": [
    "#A quick snapshot of the information. \n",
    "table9.describe()"
   ]
  },
  {
   "cell_type": "markdown",
   "metadata": {},
   "source": [
    "## Getting Genre Data\n",
    "I am happy with where my financial data is at the moment. Now I want to find a way to indentify the **genres** of these movies as that will help me answer the specific question of what ***types*** **of movies should be made.**"
   ]
  },
  {
   "cell_type": "code",
   "execution_count": 16,
   "metadata": {
    "ExecuteTime": {
     "end_time": "2021-10-01T13:32:13.388497Z",
     "start_time": "2021-10-01T13:32:13.369567Z"
    }
   },
   "outputs": [
    {
     "data": {
      "text/html": [
       "<div>\n",
       "<style scoped>\n",
       "    .dataframe tbody tr th:only-of-type {\n",
       "        vertical-align: middle;\n",
       "    }\n",
       "\n",
       "    .dataframe tbody tr th {\n",
       "        vertical-align: top;\n",
       "    }\n",
       "\n",
       "    .dataframe thead th {\n",
       "        text-align: right;\n",
       "    }\n",
       "</style>\n",
       "<table border=\"1\" class=\"dataframe\">\n",
       "  <thead>\n",
       "    <tr style=\"text-align: right;\">\n",
       "      <th></th>\n",
       "      <th>tconst</th>\n",
       "      <th>primary_title</th>\n",
       "      <th>original_title</th>\n",
       "      <th>start_year</th>\n",
       "      <th>runtime_minutes</th>\n",
       "      <th>genres</th>\n",
       "    </tr>\n",
       "  </thead>\n",
       "  <tbody>\n",
       "    <tr>\n",
       "      <th>0</th>\n",
       "      <td>tt0063540</td>\n",
       "      <td>Sunghursh</td>\n",
       "      <td>Sunghursh</td>\n",
       "      <td>2013</td>\n",
       "      <td>175</td>\n",
       "      <td>Action,Crime,Drama</td>\n",
       "    </tr>\n",
       "    <tr>\n",
       "      <th>1</th>\n",
       "      <td>tt0066787</td>\n",
       "      <td>One Day Before the Rainy Season</td>\n",
       "      <td>Ashad Ka Ek Din</td>\n",
       "      <td>2019</td>\n",
       "      <td>114</td>\n",
       "      <td>Biography,Drama</td>\n",
       "    </tr>\n",
       "  </tbody>\n",
       "</table>\n",
       "</div>"
      ],
      "text/plain": [
       "      tconst                    primary_title   original_title  start_year  \\\n",
       "0  tt0063540                        Sunghursh        Sunghursh        2013   \n",
       "1  tt0066787  One Day Before the Rainy Season  Ashad Ka Ek Din        2019   \n",
       "\n",
       "   runtime_minutes              genres  \n",
       "0              175  Action,Crime,Drama  \n",
       "1              114     Biography,Drama  "
      ]
     },
     "execution_count": 16,
     "metadata": {},
     "output_type": "execute_result"
    }
   ],
   "source": [
    "table7.head(2)"
   ]
  },
  {
   "cell_type": "markdown",
   "metadata": {},
   "source": [
    "IMDB Basics (Table 7) seems to be the best place to get my genres."
   ]
  },
  {
   "cell_type": "code",
   "execution_count": 17,
   "metadata": {
    "ExecuteTime": {
     "end_time": "2021-10-01T13:32:21.592033Z",
     "start_time": "2021-10-01T13:32:21.533780Z"
    }
   },
   "outputs": [
    {
     "data": {
      "text/html": [
       "<div>\n",
       "<style scoped>\n",
       "    .dataframe tbody tr th:only-of-type {\n",
       "        vertical-align: middle;\n",
       "    }\n",
       "\n",
       "    .dataframe tbody tr th {\n",
       "        vertical-align: top;\n",
       "    }\n",
       "\n",
       "    .dataframe thead th {\n",
       "        text-align: right;\n",
       "    }\n",
       "</style>\n",
       "<table border=\"1\" class=\"dataframe\">\n",
       "  <thead>\n",
       "    <tr style=\"text-align: right;\">\n",
       "      <th></th>\n",
       "      <th>tconst</th>\n",
       "      <th>primary_title</th>\n",
       "      <th>original_title</th>\n",
       "      <th>start_year</th>\n",
       "      <th>runtime_minutes</th>\n",
       "      <th>genres</th>\n",
       "    </tr>\n",
       "  </thead>\n",
       "  <tbody>\n",
       "    <tr>\n",
       "      <th>9599</th>\n",
       "      <td>tt1566491</td>\n",
       "      <td>Brainiacs in La La Land</td>\n",
       "      <td>Brainiacs in La La Land</td>\n",
       "      <td>2010</td>\n",
       "      <td>nan</td>\n",
       "      <td>Comedy</td>\n",
       "    </tr>\n",
       "    <tr>\n",
       "      <th>43264</th>\n",
       "      <td>tt2578092</td>\n",
       "      <td>Fireplace for your Home: Crackling Fireplace w...</td>\n",
       "      <td>Fireplace for your Home: Crackling Fireplace w...</td>\n",
       "      <td>2010</td>\n",
       "      <td>61</td>\n",
       "      <td>Music</td>\n",
       "    </tr>\n",
       "    <tr>\n",
       "      <th>11550</th>\n",
       "      <td>tt1634300</td>\n",
       "      <td>Role/Play</td>\n",
       "      <td>Role/Play</td>\n",
       "      <td>2010</td>\n",
       "      <td>85</td>\n",
       "      <td>Drama,Romance</td>\n",
       "    </tr>\n",
       "  </tbody>\n",
       "</table>\n",
       "</div>"
      ],
      "text/plain": [
       "          tconst                                      primary_title  \\\n",
       "9599   tt1566491                            Brainiacs in La La Land   \n",
       "43264  tt2578092  Fireplace for your Home: Crackling Fireplace w...   \n",
       "11550  tt1634300                                          Role/Play   \n",
       "\n",
       "                                          original_title  start_year  \\\n",
       "9599                             Brainiacs in La La Land        2010   \n",
       "43264  Fireplace for your Home: Crackling Fireplace w...        2010   \n",
       "11550                                          Role/Play        2010   \n",
       "\n",
       "       runtime_minutes         genres  \n",
       "9599               nan         Comedy  \n",
       "43264               61          Music  \n",
       "11550               85  Drama,Romance  "
      ]
     },
     "execution_count": 17,
     "metadata": {},
     "output_type": "execute_result"
    }
   ],
   "source": [
    "table7.sort_values(by='start_year', ascending=True).head(3)\n"
   ]
  },
  {
   "cell_type": "markdown",
   "metadata": {},
   "source": [
    "**IMDB Basics (Table 7)** seems to be the best place to get my genres.\n",
    "- This data only goes back to 2010. This will still be useful as Microsoft will want current information on\n",
    "which genres are popular.\n",
    "- I want to see what other data I can collect from the IMDB datasets before attempting to merge the titles from this dataset with my financial data.\n",
    "- Many of the IMDB datasets contain a field 'tconst' which will link more data to the genres and titles that I have here."
   ]
  },
  {
   "cell_type": "code",
   "execution_count": 18,
   "metadata": {
    "ExecuteTime": {
     "end_time": "2021-10-01T13:34:00.128151Z",
     "start_time": "2021-10-01T13:33:59.447638Z"
    }
   },
   "outputs": [
    {
     "data": {
      "text/html": [
       "<div>\n",
       "<style scoped>\n",
       "    .dataframe tbody tr th:only-of-type {\n",
       "        vertical-align: middle;\n",
       "    }\n",
       "\n",
       "    .dataframe tbody tr th {\n",
       "        vertical-align: top;\n",
       "    }\n",
       "\n",
       "    .dataframe thead th {\n",
       "        text-align: right;\n",
       "    }\n",
       "</style>\n",
       "<table border=\"1\" class=\"dataframe\">\n",
       "  <thead>\n",
       "    <tr style=\"text-align: right;\">\n",
       "      <th></th>\n",
       "      <th>tconst</th>\n",
       "      <th>primary_title</th>\n",
       "      <th>original_title</th>\n",
       "      <th>start_year</th>\n",
       "      <th>runtime_minutes</th>\n",
       "      <th>genres</th>\n",
       "      <th>averagerating</th>\n",
       "      <th>numvotes</th>\n",
       "      <th>directors</th>\n",
       "      <th>writers</th>\n",
       "      <th>ordering</th>\n",
       "      <th>nconst</th>\n",
       "      <th>category</th>\n",
       "      <th>job</th>\n",
       "      <th>characters</th>\n",
       "    </tr>\n",
       "  </thead>\n",
       "  <tbody>\n",
       "    <tr>\n",
       "      <th>0</th>\n",
       "      <td>tt0063540</td>\n",
       "      <td>Sunghursh</td>\n",
       "      <td>Sunghursh</td>\n",
       "      <td>2013</td>\n",
       "      <td>175</td>\n",
       "      <td>Action,Crime,Drama</td>\n",
       "      <td>7</td>\n",
       "      <td>77</td>\n",
       "      <td>nm0712540</td>\n",
       "      <td>nm0023551,nm1194313,nm0347899,nm1391276</td>\n",
       "      <td>10</td>\n",
       "      <td>nm0006210</td>\n",
       "      <td>composer</td>\n",
       "      <td>NaN</td>\n",
       "      <td>NaN</td>\n",
       "    </tr>\n",
       "    <tr>\n",
       "      <th>1</th>\n",
       "      <td>tt0063540</td>\n",
       "      <td>Sunghursh</td>\n",
       "      <td>Sunghursh</td>\n",
       "      <td>2013</td>\n",
       "      <td>175</td>\n",
       "      <td>Action,Crime,Drama</td>\n",
       "      <td>7</td>\n",
       "      <td>77</td>\n",
       "      <td>nm0712540</td>\n",
       "      <td>nm0023551,nm1194313,nm0347899,nm1391276</td>\n",
       "      <td>1</td>\n",
       "      <td>nm0474801</td>\n",
       "      <td>actor</td>\n",
       "      <td>NaN</td>\n",
       "      <td>[\"Kundan S. Prasad\",\"Bajrangi\"]</td>\n",
       "    </tr>\n",
       "    <tr>\n",
       "      <th>2</th>\n",
       "      <td>tt0063540</td>\n",
       "      <td>Sunghursh</td>\n",
       "      <td>Sunghursh</td>\n",
       "      <td>2013</td>\n",
       "      <td>175</td>\n",
       "      <td>Action,Crime,Drama</td>\n",
       "      <td>7</td>\n",
       "      <td>77</td>\n",
       "      <td>nm0712540</td>\n",
       "      <td>nm0023551,nm1194313,nm0347899,nm1391276</td>\n",
       "      <td>2</td>\n",
       "      <td>nm0904537</td>\n",
       "      <td>actress</td>\n",
       "      <td>NaN</td>\n",
       "      <td>[\"Munni\",\"Laila-E-Aasmaan\"]</td>\n",
       "    </tr>\n",
       "  </tbody>\n",
       "</table>\n",
       "</div>"
      ],
      "text/plain": [
       "      tconst primary_title original_title  start_year  runtime_minutes  \\\n",
       "0  tt0063540     Sunghursh      Sunghursh        2013              175   \n",
       "1  tt0063540     Sunghursh      Sunghursh        2013              175   \n",
       "2  tt0063540     Sunghursh      Sunghursh        2013              175   \n",
       "\n",
       "               genres  averagerating  numvotes  directors  \\\n",
       "0  Action,Crime,Drama              7        77  nm0712540   \n",
       "1  Action,Crime,Drama              7        77  nm0712540   \n",
       "2  Action,Crime,Drama              7        77  nm0712540   \n",
       "\n",
       "                                   writers  ordering     nconst  category  \\\n",
       "0  nm0023551,nm1194313,nm0347899,nm1391276        10  nm0006210  composer   \n",
       "1  nm0023551,nm1194313,nm0347899,nm1391276         1  nm0474801     actor   \n",
       "2  nm0023551,nm1194313,nm0347899,nm1391276         2  nm0904537   actress   \n",
       "\n",
       "   job                       characters  \n",
       "0  NaN                              NaN  \n",
       "1  NaN  [\"Kundan S. Prasad\",\"Bajrangi\"]  \n",
       "2  NaN      [\"Munni\",\"Laila-E-Aasmaan\"]  "
      ]
     },
     "execution_count": 18,
     "metadata": {},
     "output_type": "execute_result"
    }
   ],
   "source": [
    "#merging, using the tconst as a key.\n",
    "imdb_df = pd.merge(table7, table4, left_on= 'tconst', right_on= 'tconst', how='left')\n",
    "imdb_df= pd.merge(imdb_df, table1, left_on= 'tconst', right_on= 'tconst', how='left')\n",
    "imdb_df= pd.merge(imdb_df, table11, left_on= 'tconst', right_on= 'tconst', how='left')\n",
    "imdb_df.head(3)"
   ]
  },
  {
   "cell_type": "markdown",
   "metadata": {},
   "source": [
    "There are a lot of duplicates due to the personnel attached to each movie getting their own record. I doubt that I will need to check the personnel, so let's drop the duplicates."
   ]
  },
  {
   "cell_type": "code",
   "execution_count": 19,
   "metadata": {
    "ExecuteTime": {
     "end_time": "2021-10-01T13:34:09.708317Z",
     "start_time": "2021-10-01T13:34:09.345293Z"
    }
   },
   "outputs": [
    {
     "data": {
      "text/html": [
       "<div>\n",
       "<style scoped>\n",
       "    .dataframe tbody tr th:only-of-type {\n",
       "        vertical-align: middle;\n",
       "    }\n",
       "\n",
       "    .dataframe tbody tr th {\n",
       "        vertical-align: top;\n",
       "    }\n",
       "\n",
       "    .dataframe thead th {\n",
       "        text-align: right;\n",
       "    }\n",
       "</style>\n",
       "<table border=\"1\" class=\"dataframe\">\n",
       "  <thead>\n",
       "    <tr style=\"text-align: right;\">\n",
       "      <th></th>\n",
       "      <th>tconst</th>\n",
       "      <th>primary_title</th>\n",
       "      <th>original_title</th>\n",
       "      <th>start_year</th>\n",
       "      <th>runtime_minutes</th>\n",
       "      <th>genres</th>\n",
       "      <th>averagerating</th>\n",
       "      <th>numvotes</th>\n",
       "      <th>directors</th>\n",
       "      <th>writers</th>\n",
       "      <th>ordering</th>\n",
       "      <th>nconst</th>\n",
       "      <th>category</th>\n",
       "      <th>job</th>\n",
       "      <th>characters</th>\n",
       "    </tr>\n",
       "  </thead>\n",
       "  <tbody>\n",
       "    <tr>\n",
       "      <th>0</th>\n",
       "      <td>tt0063540</td>\n",
       "      <td>Sunghursh</td>\n",
       "      <td>Sunghursh</td>\n",
       "      <td>2013</td>\n",
       "      <td>175</td>\n",
       "      <td>Action,Crime,Drama</td>\n",
       "      <td>7</td>\n",
       "      <td>77</td>\n",
       "      <td>nm0712540</td>\n",
       "      <td>nm0023551,nm1194313,nm0347899,nm1391276</td>\n",
       "      <td>10</td>\n",
       "      <td>nm0006210</td>\n",
       "      <td>composer</td>\n",
       "      <td>NaN</td>\n",
       "      <td>NaN</td>\n",
       "    </tr>\n",
       "    <tr>\n",
       "      <th>10</th>\n",
       "      <td>tt0066787</td>\n",
       "      <td>One Day Before the Rainy Season</td>\n",
       "      <td>Ashad Ka Ek Din</td>\n",
       "      <td>2019</td>\n",
       "      <td>114</td>\n",
       "      <td>Biography,Drama</td>\n",
       "      <td>7</td>\n",
       "      <td>43</td>\n",
       "      <td>nm0002411</td>\n",
       "      <td>NaN</td>\n",
       "      <td>1</td>\n",
       "      <td>nm0045119</td>\n",
       "      <td>actress</td>\n",
       "      <td>NaN</td>\n",
       "      <td>NaN</td>\n",
       "    </tr>\n",
       "    <tr>\n",
       "      <th>17</th>\n",
       "      <td>tt0069049</td>\n",
       "      <td>The Other Side of the Wind</td>\n",
       "      <td>The Other Side of the Wind</td>\n",
       "      <td>2018</td>\n",
       "      <td>122</td>\n",
       "      <td>Drama</td>\n",
       "      <td>7</td>\n",
       "      <td>4,517</td>\n",
       "      <td>nm0000080</td>\n",
       "      <td>nm0000080,nm0462648</td>\n",
       "      <td>10</td>\n",
       "      <td>nm0613657</td>\n",
       "      <td>editor</td>\n",
       "      <td>NaN</td>\n",
       "      <td>NaN</td>\n",
       "    </tr>\n",
       "  </tbody>\n",
       "</table>\n",
       "</div>"
      ],
      "text/plain": [
       "       tconst                    primary_title              original_title  \\\n",
       "0   tt0063540                        Sunghursh                   Sunghursh   \n",
       "10  tt0066787  One Day Before the Rainy Season             Ashad Ka Ek Din   \n",
       "17  tt0069049       The Other Side of the Wind  The Other Side of the Wind   \n",
       "\n",
       "    start_year  runtime_minutes              genres  averagerating  numvotes  \\\n",
       "0         2013              175  Action,Crime,Drama              7        77   \n",
       "10        2019              114     Biography,Drama              7        43   \n",
       "17        2018              122               Drama              7     4,517   \n",
       "\n",
       "    directors                                  writers  ordering     nconst  \\\n",
       "0   nm0712540  nm0023551,nm1194313,nm0347899,nm1391276        10  nm0006210   \n",
       "10  nm0002411                                      NaN         1  nm0045119   \n",
       "17  nm0000080                      nm0000080,nm0462648        10  nm0613657   \n",
       "\n",
       "    category  job characters  \n",
       "0   composer  NaN        NaN  \n",
       "10   actress  NaN        NaN  \n",
       "17    editor  NaN        NaN  "
      ]
     },
     "execution_count": 19,
     "metadata": {},
     "output_type": "execute_result"
    }
   ],
   "source": [
    "imdb_df = imdb_df.drop_duplicates('original_title', keep='first')\n",
    "imdb_df.head(3)"
   ]
  },
  {
   "cell_type": "markdown",
   "metadata": {},
   "source": [
    "I am dropping a lot of the other fields as well. If I need them again, I can re-merge them using the tconst. I am dropping: *directors, writers, ordering, nconst, category, job, characters*."
   ]
  },
  {
   "cell_type": "code",
   "execution_count": 20,
   "metadata": {
    "ExecuteTime": {
     "end_time": "2021-10-01T13:34:18.473924Z",
     "start_time": "2021-10-01T13:34:18.436742Z"
    }
   },
   "outputs": [
    {
     "data": {
      "text/html": [
       "<div>\n",
       "<style scoped>\n",
       "    .dataframe tbody tr th:only-of-type {\n",
       "        vertical-align: middle;\n",
       "    }\n",
       "\n",
       "    .dataframe tbody tr th {\n",
       "        vertical-align: top;\n",
       "    }\n",
       "\n",
       "    .dataframe thead th {\n",
       "        text-align: right;\n",
       "    }\n",
       "</style>\n",
       "<table border=\"1\" class=\"dataframe\">\n",
       "  <thead>\n",
       "    <tr style=\"text-align: right;\">\n",
       "      <th></th>\n",
       "      <th>tconst</th>\n",
       "      <th>primary_title</th>\n",
       "      <th>original_title</th>\n",
       "      <th>start_year</th>\n",
       "      <th>runtime_minutes</th>\n",
       "      <th>genres</th>\n",
       "      <th>averagerating</th>\n",
       "      <th>numvotes</th>\n",
       "    </tr>\n",
       "  </thead>\n",
       "  <tbody>\n",
       "    <tr>\n",
       "      <th>0</th>\n",
       "      <td>tt0063540</td>\n",
       "      <td>Sunghursh</td>\n",
       "      <td>Sunghursh</td>\n",
       "      <td>2013</td>\n",
       "      <td>175</td>\n",
       "      <td>Action,Crime,Drama</td>\n",
       "      <td>7</td>\n",
       "      <td>77</td>\n",
       "    </tr>\n",
       "    <tr>\n",
       "      <th>10</th>\n",
       "      <td>tt0066787</td>\n",
       "      <td>One Day Before the Rainy Season</td>\n",
       "      <td>Ashad Ka Ek Din</td>\n",
       "      <td>2019</td>\n",
       "      <td>114</td>\n",
       "      <td>Biography,Drama</td>\n",
       "      <td>7</td>\n",
       "      <td>43</td>\n",
       "    </tr>\n",
       "  </tbody>\n",
       "</table>\n",
       "</div>"
      ],
      "text/plain": [
       "       tconst                    primary_title   original_title  start_year  \\\n",
       "0   tt0063540                        Sunghursh        Sunghursh        2013   \n",
       "10  tt0066787  One Day Before the Rainy Season  Ashad Ka Ek Din        2019   \n",
       "\n",
       "    runtime_minutes              genres  averagerating  numvotes  \n",
       "0               175  Action,Crime,Drama              7        77  \n",
       "10              114     Biography,Drama              7        43  "
      ]
     },
     "execution_count": 20,
     "metadata": {},
     "output_type": "execute_result"
    }
   ],
   "source": [
    "imdb_df = imdb_df.drop(['directors', 'writers', 'ordering', 'nconst', 'category', 'job', 'characters'], axis = 1)\n",
    "imdb_df.head(2)"
   ]
  },
  {
   "cell_type": "markdown",
   "metadata": {},
   "source": [
    "### Merging the Dataframes"
   ]
  },
  {
   "cell_type": "markdown",
   "metadata": {},
   "source": [
    "I want to now merge this imdb_df with my financial information from The Numbers (table9). I know that if I just do a merge on primary title, some of the results will be incorrect. (Avatar is the top grossing movie but is listed as a horror movie)\n"
   ]
  },
  {
   "cell_type": "code",
   "execution_count": 21,
   "metadata": {
    "ExecuteTime": {
     "end_time": "2021-10-01T13:35:03.904992Z",
     "start_time": "2021-10-01T13:35:03.785142Z"
    }
   },
   "outputs": [
    {
     "data": {
      "text/html": [
       "<div>\n",
       "<style scoped>\n",
       "    .dataframe tbody tr th:only-of-type {\n",
       "        vertical-align: middle;\n",
       "    }\n",
       "\n",
       "    .dataframe tbody tr th {\n",
       "        vertical-align: top;\n",
       "    }\n",
       "\n",
       "    .dataframe thead th {\n",
       "        text-align: right;\n",
       "    }\n",
       "</style>\n",
       "<table border=\"1\" class=\"dataframe\">\n",
       "  <thead>\n",
       "    <tr style=\"text-align: right;\">\n",
       "      <th></th>\n",
       "      <th>id</th>\n",
       "      <th>release_date</th>\n",
       "      <th>movie</th>\n",
       "      <th>production_budget</th>\n",
       "      <th>domestic_gross</th>\n",
       "      <th>worldwide_gross</th>\n",
       "      <th>release_year</th>\n",
       "      <th>total_profit</th>\n",
       "      <th>ROI</th>\n",
       "      <th>tconst</th>\n",
       "      <th>primary_title</th>\n",
       "      <th>original_title</th>\n",
       "      <th>start_year</th>\n",
       "      <th>runtime_minutes</th>\n",
       "      <th>genres</th>\n",
       "      <th>averagerating</th>\n",
       "      <th>numvotes</th>\n",
       "      <th>_merge</th>\n",
       "    </tr>\n",
       "  </thead>\n",
       "  <tbody>\n",
       "    <tr>\n",
       "      <th>0</th>\n",
       "      <td>1</td>\n",
       "      <td>2009-12-18</td>\n",
       "      <td>Avatar</td>\n",
       "      <td>425,000,000</td>\n",
       "      <td>760,507,625</td>\n",
       "      <td>2,776,345,279</td>\n",
       "      <td>2009</td>\n",
       "      <td>2,351,345,279</td>\n",
       "      <td>6</td>\n",
       "      <td>NaN</td>\n",
       "      <td>NaN</td>\n",
       "      <td>NaN</td>\n",
       "      <td>nan</td>\n",
       "      <td>nan</td>\n",
       "      <td>NaN</td>\n",
       "      <td>nan</td>\n",
       "      <td>nan</td>\n",
       "      <td>left_only</td>\n",
       "    </tr>\n",
       "    <tr>\n",
       "      <th>1</th>\n",
       "      <td>43</td>\n",
       "      <td>1997-12-19</td>\n",
       "      <td>Titanic</td>\n",
       "      <td>200,000,000</td>\n",
       "      <td>659,363,944</td>\n",
       "      <td>2,208,208,395</td>\n",
       "      <td>1997</td>\n",
       "      <td>2,008,208,395</td>\n",
       "      <td>10</td>\n",
       "      <td>tt2495766</td>\n",
       "      <td>Titanic</td>\n",
       "      <td>Titanic</td>\n",
       "      <td>2,012</td>\n",
       "      <td>nan</td>\n",
       "      <td>Adventure</td>\n",
       "      <td>6</td>\n",
       "      <td>20</td>\n",
       "      <td>both</td>\n",
       "    </tr>\n",
       "    <tr>\n",
       "      <th>2</th>\n",
       "      <td>6</td>\n",
       "      <td>2015-12-18</td>\n",
       "      <td>Star Wars Ep. VII: The Force Awakens</td>\n",
       "      <td>306,000,000</td>\n",
       "      <td>936,662,225</td>\n",
       "      <td>2,053,311,220</td>\n",
       "      <td>2015</td>\n",
       "      <td>1,747,311,220</td>\n",
       "      <td>6</td>\n",
       "      <td>NaN</td>\n",
       "      <td>NaN</td>\n",
       "      <td>NaN</td>\n",
       "      <td>nan</td>\n",
       "      <td>nan</td>\n",
       "      <td>NaN</td>\n",
       "      <td>nan</td>\n",
       "      <td>nan</td>\n",
       "      <td>left_only</td>\n",
       "    </tr>\n",
       "    <tr>\n",
       "      <th>3</th>\n",
       "      <td>7</td>\n",
       "      <td>2018-04-27</td>\n",
       "      <td>Avengers: Infinity War</td>\n",
       "      <td>300,000,000</td>\n",
       "      <td>678,815,482</td>\n",
       "      <td>2,048,134,200</td>\n",
       "      <td>2018</td>\n",
       "      <td>1,748,134,200</td>\n",
       "      <td>6</td>\n",
       "      <td>tt4154756</td>\n",
       "      <td>Avengers: Infinity War</td>\n",
       "      <td>Avengers: Infinity War</td>\n",
       "      <td>2,018</td>\n",
       "      <td>149</td>\n",
       "      <td>Action,Adventure,Sci-Fi</td>\n",
       "      <td>8</td>\n",
       "      <td>670,926</td>\n",
       "      <td>both</td>\n",
       "    </tr>\n",
       "    <tr>\n",
       "      <th>4</th>\n",
       "      <td>34</td>\n",
       "      <td>2015-06-12</td>\n",
       "      <td>Jurassic World</td>\n",
       "      <td>215,000,000</td>\n",
       "      <td>652,270,625</td>\n",
       "      <td>1,648,854,864</td>\n",
       "      <td>2015</td>\n",
       "      <td>1,433,854,864</td>\n",
       "      <td>7</td>\n",
       "      <td>tt0369610</td>\n",
       "      <td>Jurassic World</td>\n",
       "      <td>Jurassic World</td>\n",
       "      <td>2,015</td>\n",
       "      <td>124</td>\n",
       "      <td>Action,Adventure,Sci-Fi</td>\n",
       "      <td>7</td>\n",
       "      <td>539,338</td>\n",
       "      <td>both</td>\n",
       "    </tr>\n",
       "  </tbody>\n",
       "</table>\n",
       "</div>"
      ],
      "text/plain": [
       "   id release_date                                 movie  production_budget  \\\n",
       "0   1   2009-12-18                                Avatar        425,000,000   \n",
       "1  43   1997-12-19                               Titanic        200,000,000   \n",
       "2   6   2015-12-18  Star Wars Ep. VII: The Force Awakens        306,000,000   \n",
       "3   7   2018-04-27                Avengers: Infinity War        300,000,000   \n",
       "4  34   2015-06-12                        Jurassic World        215,000,000   \n",
       "\n",
       "   domestic_gross  worldwide_gross  release_year  total_profit  ROI  \\\n",
       "0     760,507,625    2,776,345,279          2009 2,351,345,279    6   \n",
       "1     659,363,944    2,208,208,395          1997 2,008,208,395   10   \n",
       "2     936,662,225    2,053,311,220          2015 1,747,311,220    6   \n",
       "3     678,815,482    2,048,134,200          2018 1,748,134,200    6   \n",
       "4     652,270,625    1,648,854,864          2015 1,433,854,864    7   \n",
       "\n",
       "      tconst           primary_title          original_title  start_year  \\\n",
       "0        NaN                     NaN                     NaN         nan   \n",
       "1  tt2495766                 Titanic                 Titanic       2,012   \n",
       "2        NaN                     NaN                     NaN         nan   \n",
       "3  tt4154756  Avengers: Infinity War  Avengers: Infinity War       2,018   \n",
       "4  tt0369610          Jurassic World          Jurassic World       2,015   \n",
       "\n",
       "   runtime_minutes                   genres  averagerating  numvotes  \\\n",
       "0              nan                      NaN            nan       nan   \n",
       "1              nan                Adventure              6        20   \n",
       "2              nan                      NaN            nan       nan   \n",
       "3              149  Action,Adventure,Sci-Fi              8   670,926   \n",
       "4              124  Action,Adventure,Sci-Fi              7   539,338   \n",
       "\n",
       "      _merge  \n",
       "0  left_only  \n",
       "1       both  \n",
       "2  left_only  \n",
       "3       both  \n",
       "4       both  "
      ]
     },
     "execution_count": 21,
     "metadata": {},
     "output_type": "execute_result"
    }
   ],
   "source": [
    "#inner join with the indiciator column so I can track where everything is coming from.\n",
    "merged_originals = pd.merge(table9, imdb_df, left_on= 'movie', right_on= 'original_title', how='left', indicator=True)\n",
    "merged_originals.head()"
   ]
  },
  {
   "cell_type": "code",
   "execution_count": 22,
   "metadata": {
    "ExecuteTime": {
     "end_time": "2021-10-01T13:35:24.628830Z",
     "start_time": "2021-10-01T13:35:24.606259Z"
    }
   },
   "outputs": [
    {
     "name": "stdout",
     "output_type": "stream",
     "text": [
      "<class 'pandas.core.frame.DataFrame'>\n",
      "Int64Index: 5782 entries, 0 to 5781\n",
      "Data columns (total 18 columns):\n",
      " #   Column             Non-Null Count  Dtype         \n",
      "---  ------             --------------  -----         \n",
      " 0   id                 5782 non-null   int64         \n",
      " 1   release_date       5782 non-null   datetime64[ns]\n",
      " 2   movie              5782 non-null   object        \n",
      " 3   production_budget  5782 non-null   float64       \n",
      " 4   domestic_gross     5782 non-null   float64       \n",
      " 5   worldwide_gross    5782 non-null   float64       \n",
      " 6   release_year       5782 non-null   int64         \n",
      " 7   total_profit       5782 non-null   float64       \n",
      " 8   ROI                5782 non-null   float64       \n",
      " 9   tconst             2330 non-null   object        \n",
      " 10  primary_title      2330 non-null   object        \n",
      " 11  original_title     2330 non-null   object        \n",
      " 12  start_year         2330 non-null   float64       \n",
      " 13  runtime_minutes    2152 non-null   float64       \n",
      " 14  genres             2304 non-null   object        \n",
      " 15  averagerating      2021 non-null   float64       \n",
      " 16  numvotes           2021 non-null   float64       \n",
      " 17  _merge             5782 non-null   category      \n",
      "dtypes: category(1), datetime64[ns](1), float64(9), int64(2), object(5)\n",
      "memory usage: 818.8+ KB\n"
     ]
    }
   ],
   "source": [
    "merged_originals.info()"
   ]
  },
  {
   "cell_type": "markdown",
   "metadata": {},
   "source": [
    "- 5782 records after the join.\n",
    "- I am going to slice these records into two datasets. One that merged on original title, and everything else that still needs to merge."
   ]
  },
  {
   "cell_type": "code",
   "execution_count": 24,
   "metadata": {
    "ExecuteTime": {
     "end_time": "2021-10-01T13:36:45.611117Z",
     "start_time": "2021-10-01T13:36:45.593971Z"
    }
   },
   "outputs": [],
   "source": [
    "correct_merge_df = merged_originals.loc[(merged_originals[\"_merge\"] == \"both\")]\n",
    "need_to_merge = merged_originals.loc[(merged_originals[\"_merge\"] != \"both\")]"
   ]
  },
  {
   "cell_type": "code",
   "execution_count": 27,
   "metadata": {
    "ExecuteTime": {
     "end_time": "2021-10-01T13:37:41.505846Z",
     "start_time": "2021-10-01T13:37:41.481174Z"
    }
   },
   "outputs": [
    {
     "data": {
      "text/html": [
       "<div>\n",
       "<style scoped>\n",
       "    .dataframe tbody tr th:only-of-type {\n",
       "        vertical-align: middle;\n",
       "    }\n",
       "\n",
       "    .dataframe tbody tr th {\n",
       "        vertical-align: top;\n",
       "    }\n",
       "\n",
       "    .dataframe thead th {\n",
       "        text-align: right;\n",
       "    }\n",
       "</style>\n",
       "<table border=\"1\" class=\"dataframe\">\n",
       "  <thead>\n",
       "    <tr style=\"text-align: right;\">\n",
       "      <th></th>\n",
       "      <th>id</th>\n",
       "      <th>release_date</th>\n",
       "      <th>movie</th>\n",
       "      <th>production_budget</th>\n",
       "      <th>domestic_gross</th>\n",
       "      <th>worldwide_gross</th>\n",
       "      <th>release_year</th>\n",
       "      <th>total_profit</th>\n",
       "      <th>ROI</th>\n",
       "      <th>tconst</th>\n",
       "      <th>primary_title</th>\n",
       "      <th>original_title</th>\n",
       "      <th>start_year</th>\n",
       "      <th>runtime_minutes</th>\n",
       "      <th>genres</th>\n",
       "      <th>averagerating</th>\n",
       "      <th>numvotes</th>\n",
       "      <th>_merge</th>\n",
       "    </tr>\n",
       "  </thead>\n",
       "  <tbody>\n",
       "    <tr>\n",
       "      <th>0</th>\n",
       "      <td>1</td>\n",
       "      <td>2009-12-18</td>\n",
       "      <td>Avatar</td>\n",
       "      <td>425,000,000</td>\n",
       "      <td>760,507,625</td>\n",
       "      <td>2,776,345,279</td>\n",
       "      <td>2009</td>\n",
       "      <td>2,351,345,279</td>\n",
       "      <td>6</td>\n",
       "      <td>NaN</td>\n",
       "      <td>NaN</td>\n",
       "      <td>NaN</td>\n",
       "      <td>nan</td>\n",
       "      <td>nan</td>\n",
       "      <td>NaN</td>\n",
       "      <td>nan</td>\n",
       "      <td>nan</td>\n",
       "      <td>left_only</td>\n",
       "    </tr>\n",
       "    <tr>\n",
       "      <th>2</th>\n",
       "      <td>6</td>\n",
       "      <td>2015-12-18</td>\n",
       "      <td>Star Wars Ep. VII: The Force Awakens</td>\n",
       "      <td>306,000,000</td>\n",
       "      <td>936,662,225</td>\n",
       "      <td>2,053,311,220</td>\n",
       "      <td>2015</td>\n",
       "      <td>1,747,311,220</td>\n",
       "      <td>6</td>\n",
       "      <td>NaN</td>\n",
       "      <td>NaN</td>\n",
       "      <td>NaN</td>\n",
       "      <td>nan</td>\n",
       "      <td>nan</td>\n",
       "      <td>NaN</td>\n",
       "      <td>nan</td>\n",
       "      <td>nan</td>\n",
       "      <td>left_only</td>\n",
       "    </tr>\n",
       "    <tr>\n",
       "      <th>5</th>\n",
       "      <td>67</td>\n",
       "      <td>2015-04-03</td>\n",
       "      <td>Furious 7</td>\n",
       "      <td>190,000,000</td>\n",
       "      <td>353,007,020</td>\n",
       "      <td>1,518,722,794</td>\n",
       "      <td>2015</td>\n",
       "      <td>1,328,722,794</td>\n",
       "      <td>7</td>\n",
       "      <td>NaN</td>\n",
       "      <td>NaN</td>\n",
       "      <td>NaN</td>\n",
       "      <td>nan</td>\n",
       "      <td>nan</td>\n",
       "      <td>NaN</td>\n",
       "      <td>nan</td>\n",
       "      <td>nan</td>\n",
       "      <td>left_only</td>\n",
       "    </tr>\n",
       "  </tbody>\n",
       "</table>\n",
       "</div>"
      ],
      "text/plain": [
       "   id release_date                                 movie  production_budget  \\\n",
       "0   1   2009-12-18                                Avatar        425,000,000   \n",
       "2   6   2015-12-18  Star Wars Ep. VII: The Force Awakens        306,000,000   \n",
       "5  67   2015-04-03                             Furious 7        190,000,000   \n",
       "\n",
       "   domestic_gross  worldwide_gross  release_year  total_profit  ROI tconst  \\\n",
       "0     760,507,625    2,776,345,279          2009 2,351,345,279    6    NaN   \n",
       "2     936,662,225    2,053,311,220          2015 1,747,311,220    6    NaN   \n",
       "5     353,007,020    1,518,722,794          2015 1,328,722,794    7    NaN   \n",
       "\n",
       "  primary_title original_title  start_year  runtime_minutes genres  \\\n",
       "0           NaN            NaN         nan              nan    NaN   \n",
       "2           NaN            NaN         nan              nan    NaN   \n",
       "5           NaN            NaN         nan              nan    NaN   \n",
       "\n",
       "   averagerating  numvotes     _merge  \n",
       "0            nan       nan  left_only  \n",
       "2            nan       nan  left_only  \n",
       "5            nan       nan  left_only  "
      ]
     },
     "execution_count": 27,
     "metadata": {},
     "output_type": "execute_result"
    }
   ],
   "source": [
    "need_to_merge.head(3)"
   ]
  },
  {
   "cell_type": "markdown",
   "metadata": {},
   "source": [
    "#### Dealing with Avatar"
   ]
  },
  {
   "cell_type": "code",
   "execution_count": 28,
   "metadata": {
    "ExecuteTime": {
     "end_time": "2021-10-01T13:38:08.781449Z",
     "start_time": "2021-10-01T13:38:08.777367Z"
    }
   },
   "outputs": [],
   "source": [
    "correct_merge_df = correct_merge_df.drop(['_merge'], axis=1) #dropping '_merge' so I can continue"
   ]
  },
  {
   "cell_type": "markdown",
   "metadata": {},
   "source": [
    "Locating Avatar and moving it to the correct_merge_df as I can tell from the release_year, and original_title that the horror movie Avatar is not the one that was the best grossing movie of all time."
   ]
  },
  {
   "cell_type": "code",
   "execution_count": 29,
   "metadata": {
    "ExecuteTime": {
     "end_time": "2021-10-01T13:38:17.553791Z",
     "start_time": "2021-10-01T13:38:17.517422Z"
    }
   },
   "outputs": [],
   "source": [
    "avatar = merged_originals.loc[(merged_originals['movie'] == 'Avatar')]\n",
    "correct_merge_df = correct_merge_df.append(avatar, ignore_index = True)"
   ]
  },
  {
   "cell_type": "code",
   "execution_count": 30,
   "metadata": {
    "ExecuteTime": {
     "end_time": "2021-10-01T13:38:29.985125Z",
     "start_time": "2021-10-01T13:38:29.958074Z"
    }
   },
   "outputs": [
    {
     "data": {
      "text/html": [
       "<div>\n",
       "<style scoped>\n",
       "    .dataframe tbody tr th:only-of-type {\n",
       "        vertical-align: middle;\n",
       "    }\n",
       "\n",
       "    .dataframe tbody tr th {\n",
       "        vertical-align: top;\n",
       "    }\n",
       "\n",
       "    .dataframe thead th {\n",
       "        text-align: right;\n",
       "    }\n",
       "</style>\n",
       "<table border=\"1\" class=\"dataframe\">\n",
       "  <thead>\n",
       "    <tr style=\"text-align: right;\">\n",
       "      <th></th>\n",
       "      <th>id</th>\n",
       "      <th>release_date</th>\n",
       "      <th>movie</th>\n",
       "      <th>production_budget</th>\n",
       "      <th>domestic_gross</th>\n",
       "      <th>worldwide_gross</th>\n",
       "      <th>release_year</th>\n",
       "      <th>total_profit</th>\n",
       "      <th>ROI</th>\n",
       "      <th>tconst</th>\n",
       "      <th>primary_title</th>\n",
       "      <th>original_title</th>\n",
       "      <th>start_year</th>\n",
       "      <th>runtime_minutes</th>\n",
       "      <th>genres</th>\n",
       "      <th>averagerating</th>\n",
       "      <th>numvotes</th>\n",
       "      <th>_merge</th>\n",
       "    </tr>\n",
       "  </thead>\n",
       "  <tbody>\n",
       "    <tr>\n",
       "      <th>2330</th>\n",
       "      <td>1</td>\n",
       "      <td>2009-12-18</td>\n",
       "      <td>Avatar</td>\n",
       "      <td>425,000,000</td>\n",
       "      <td>760,507,625</td>\n",
       "      <td>2,776,345,279</td>\n",
       "      <td>2009</td>\n",
       "      <td>2,351,345,279</td>\n",
       "      <td>6</td>\n",
       "      <td>NaN</td>\n",
       "      <td>NaN</td>\n",
       "      <td>NaN</td>\n",
       "      <td>nan</td>\n",
       "      <td>nan</td>\n",
       "      <td>NaN</td>\n",
       "      <td>nan</td>\n",
       "      <td>nan</td>\n",
       "      <td>left_only</td>\n",
       "    </tr>\n",
       "    <tr>\n",
       "      <th>0</th>\n",
       "      <td>43</td>\n",
       "      <td>1997-12-19</td>\n",
       "      <td>Titanic</td>\n",
       "      <td>200,000,000</td>\n",
       "      <td>659,363,944</td>\n",
       "      <td>2,208,208,395</td>\n",
       "      <td>1997</td>\n",
       "      <td>2,008,208,395</td>\n",
       "      <td>10</td>\n",
       "      <td>tt2495766</td>\n",
       "      <td>Titanic</td>\n",
       "      <td>Titanic</td>\n",
       "      <td>2,012</td>\n",
       "      <td>nan</td>\n",
       "      <td>Adventure</td>\n",
       "      <td>6</td>\n",
       "      <td>20</td>\n",
       "      <td>NaN</td>\n",
       "    </tr>\n",
       "    <tr>\n",
       "      <th>1</th>\n",
       "      <td>7</td>\n",
       "      <td>2018-04-27</td>\n",
       "      <td>Avengers: Infinity War</td>\n",
       "      <td>300,000,000</td>\n",
       "      <td>678,815,482</td>\n",
       "      <td>2,048,134,200</td>\n",
       "      <td>2018</td>\n",
       "      <td>1,748,134,200</td>\n",
       "      <td>6</td>\n",
       "      <td>tt4154756</td>\n",
       "      <td>Avengers: Infinity War</td>\n",
       "      <td>Avengers: Infinity War</td>\n",
       "      <td>2,018</td>\n",
       "      <td>149</td>\n",
       "      <td>Action,Adventure,Sci-Fi</td>\n",
       "      <td>8</td>\n",
       "      <td>670,926</td>\n",
       "      <td>NaN</td>\n",
       "    </tr>\n",
       "  </tbody>\n",
       "</table>\n",
       "</div>"
      ],
      "text/plain": [
       "      id release_date                   movie  production_budget  \\\n",
       "2330   1   2009-12-18                  Avatar        425,000,000   \n",
       "0     43   1997-12-19                 Titanic        200,000,000   \n",
       "1      7   2018-04-27  Avengers: Infinity War        300,000,000   \n",
       "\n",
       "      domestic_gross  worldwide_gross  release_year  total_profit  ROI  \\\n",
       "2330     760,507,625    2,776,345,279          2009 2,351,345,279    6   \n",
       "0        659,363,944    2,208,208,395          1997 2,008,208,395   10   \n",
       "1        678,815,482    2,048,134,200          2018 1,748,134,200    6   \n",
       "\n",
       "         tconst           primary_title          original_title  start_year  \\\n",
       "2330        NaN                     NaN                     NaN         nan   \n",
       "0     tt2495766                 Titanic                 Titanic       2,012   \n",
       "1     tt4154756  Avengers: Infinity War  Avengers: Infinity War       2,018   \n",
       "\n",
       "      runtime_minutes                   genres  averagerating  numvotes  \\\n",
       "2330              nan                      NaN            nan       nan   \n",
       "0                 nan                Adventure              6        20   \n",
       "1                 149  Action,Adventure,Sci-Fi              8   670,926   \n",
       "\n",
       "         _merge  \n",
       "2330  left_only  \n",
       "0           NaN  \n",
       "1           NaN  "
      ]
     },
     "execution_count": 30,
     "metadata": {},
     "output_type": "execute_result"
    }
   ],
   "source": [
    "correct_merge_df.sort_values('total_profit', ascending=False).head(3) "
   ]
  },
  {
   "cell_type": "code",
   "execution_count": 31,
   "metadata": {
    "ExecuteTime": {
     "end_time": "2021-10-01T13:39:49.701497Z",
     "start_time": "2021-10-01T13:39:49.679741Z"
    }
   },
   "outputs": [],
   "source": [
    "#need to drop the indicator column if I want to use it again.\n",
    "need_to_merge = need_to_merge.drop(['_merge'], axis=1)"
   ]
  },
  {
   "cell_type": "code",
   "execution_count": 32,
   "metadata": {
    "ExecuteTime": {
     "end_time": "2021-10-01T13:39:52.982661Z",
     "start_time": "2021-10-01T13:39:52.958138Z"
    }
   },
   "outputs": [
    {
     "data": {
      "text/html": [
       "<div>\n",
       "<style scoped>\n",
       "    .dataframe tbody tr th:only-of-type {\n",
       "        vertical-align: middle;\n",
       "    }\n",
       "\n",
       "    .dataframe tbody tr th {\n",
       "        vertical-align: top;\n",
       "    }\n",
       "\n",
       "    .dataframe thead th {\n",
       "        text-align: right;\n",
       "    }\n",
       "</style>\n",
       "<table border=\"1\" class=\"dataframe\">\n",
       "  <thead>\n",
       "    <tr style=\"text-align: right;\">\n",
       "      <th></th>\n",
       "      <th>id</th>\n",
       "      <th>release_date</th>\n",
       "      <th>movie</th>\n",
       "      <th>production_budget</th>\n",
       "      <th>domestic_gross</th>\n",
       "      <th>worldwide_gross</th>\n",
       "      <th>release_year</th>\n",
       "      <th>total_profit</th>\n",
       "      <th>ROI</th>\n",
       "      <th>tconst</th>\n",
       "      <th>primary_title</th>\n",
       "      <th>original_title</th>\n",
       "      <th>start_year</th>\n",
       "      <th>runtime_minutes</th>\n",
       "      <th>genres</th>\n",
       "      <th>averagerating</th>\n",
       "      <th>numvotes</th>\n",
       "    </tr>\n",
       "  </thead>\n",
       "  <tbody>\n",
       "    <tr>\n",
       "      <th>2</th>\n",
       "      <td>6</td>\n",
       "      <td>2015-12-18</td>\n",
       "      <td>Star Wars Ep. VII: The Force Awakens</td>\n",
       "      <td>306,000,000</td>\n",
       "      <td>936,662,225</td>\n",
       "      <td>2,053,311,220</td>\n",
       "      <td>2015</td>\n",
       "      <td>1,747,311,220</td>\n",
       "      <td>6</td>\n",
       "      <td>NaN</td>\n",
       "      <td>NaN</td>\n",
       "      <td>NaN</td>\n",
       "      <td>nan</td>\n",
       "      <td>nan</td>\n",
       "      <td>NaN</td>\n",
       "      <td>nan</td>\n",
       "      <td>nan</td>\n",
       "    </tr>\n",
       "    <tr>\n",
       "      <th>5</th>\n",
       "      <td>67</td>\n",
       "      <td>2015-04-03</td>\n",
       "      <td>Furious 7</td>\n",
       "      <td>190,000,000</td>\n",
       "      <td>353,007,020</td>\n",
       "      <td>1,518,722,794</td>\n",
       "      <td>2015</td>\n",
       "      <td>1,328,722,794</td>\n",
       "      <td>7</td>\n",
       "      <td>NaN</td>\n",
       "      <td>NaN</td>\n",
       "      <td>NaN</td>\n",
       "      <td>nan</td>\n",
       "      <td>nan</td>\n",
       "      <td>NaN</td>\n",
       "      <td>nan</td>\n",
       "      <td>nan</td>\n",
       "    </tr>\n",
       "    <tr>\n",
       "      <th>9</th>\n",
       "      <td>61</td>\n",
       "      <td>2011-07-15</td>\n",
       "      <td>Harry Potter and the Deathly Hallows: Part II</td>\n",
       "      <td>125,000,000</td>\n",
       "      <td>381,193,157</td>\n",
       "      <td>1,341,693,157</td>\n",
       "      <td>2011</td>\n",
       "      <td>1,216,693,157</td>\n",
       "      <td>10</td>\n",
       "      <td>NaN</td>\n",
       "      <td>NaN</td>\n",
       "      <td>NaN</td>\n",
       "      <td>nan</td>\n",
       "      <td>nan</td>\n",
       "      <td>NaN</td>\n",
       "      <td>nan</td>\n",
       "      <td>nan</td>\n",
       "    </tr>\n",
       "  </tbody>\n",
       "</table>\n",
       "</div>"
      ],
      "text/plain": [
       "   id release_date                                          movie  \\\n",
       "2   6   2015-12-18           Star Wars Ep. VII: The Force Awakens   \n",
       "5  67   2015-04-03                                      Furious 7   \n",
       "9  61   2011-07-15  Harry Potter and the Deathly Hallows: Part II   \n",
       "\n",
       "   production_budget  domestic_gross  worldwide_gross  release_year  \\\n",
       "2        306,000,000     936,662,225    2,053,311,220          2015   \n",
       "5        190,000,000     353,007,020    1,518,722,794          2015   \n",
       "9        125,000,000     381,193,157    1,341,693,157          2011   \n",
       "\n",
       "   total_profit  ROI tconst primary_title original_title  start_year  \\\n",
       "2 1,747,311,220    6    NaN           NaN            NaN         nan   \n",
       "5 1,328,722,794    7    NaN           NaN            NaN         nan   \n",
       "9 1,216,693,157   10    NaN           NaN            NaN         nan   \n",
       "\n",
       "   runtime_minutes genres  averagerating  numvotes  \n",
       "2              nan    NaN            nan       nan  \n",
       "5              nan    NaN            nan       nan  \n",
       "9              nan    NaN            nan       nan  "
      ]
     },
     "execution_count": 32,
     "metadata": {},
     "output_type": "execute_result"
    }
   ],
   "source": [
    "#dropping Avatar as I know that it is not merging correctly.\n",
    "need_to_merge = need_to_merge.drop(0)\n",
    "need_to_merge.head(3)"
   ]
  },
  {
   "cell_type": "markdown",
   "metadata": {},
   "source": [
    "#### Merging into Project Dataframe\n",
    "- This is the dataframe that I plan on using for the majority of my analysis."
   ]
  },
  {
   "cell_type": "code",
   "execution_count": 36,
   "metadata": {
    "ExecuteTime": {
     "end_time": "2021-10-01T13:46:38.072087Z",
     "start_time": "2021-10-01T13:46:38.043813Z"
    }
   },
   "outputs": [
    {
     "data": {
      "text/html": [
       "<div>\n",
       "<style scoped>\n",
       "    .dataframe tbody tr th:only-of-type {\n",
       "        vertical-align: middle;\n",
       "    }\n",
       "\n",
       "    .dataframe tbody tr th {\n",
       "        vertical-align: top;\n",
       "    }\n",
       "\n",
       "    .dataframe thead th {\n",
       "        text-align: right;\n",
       "    }\n",
       "</style>\n",
       "<table border=\"1\" class=\"dataframe\">\n",
       "  <thead>\n",
       "    <tr style=\"text-align: right;\">\n",
       "      <th></th>\n",
       "      <th>id</th>\n",
       "      <th>release_date</th>\n",
       "      <th>movie</th>\n",
       "      <th>production_budget</th>\n",
       "      <th>domestic_gross</th>\n",
       "      <th>worldwide_gross</th>\n",
       "      <th>release_year</th>\n",
       "      <th>total_profit</th>\n",
       "      <th>ROI</th>\n",
       "      <th>tconst_x</th>\n",
       "      <th>...</th>\n",
       "      <th>numvotes_x</th>\n",
       "      <th>tconst_y</th>\n",
       "      <th>primary_title_y</th>\n",
       "      <th>original_title_y</th>\n",
       "      <th>start_year_y</th>\n",
       "      <th>runtime_minutes_y</th>\n",
       "      <th>genres_y</th>\n",
       "      <th>averagerating_y</th>\n",
       "      <th>numvotes_y</th>\n",
       "      <th>_merge</th>\n",
       "    </tr>\n",
       "  </thead>\n",
       "  <tbody>\n",
       "    <tr>\n",
       "      <th>0</th>\n",
       "      <td>6</td>\n",
       "      <td>2015-12-18</td>\n",
       "      <td>Star Wars Ep. VII: The Force Awakens</td>\n",
       "      <td>306,000,000</td>\n",
       "      <td>936,662,225</td>\n",
       "      <td>2,053,311,220</td>\n",
       "      <td>2015</td>\n",
       "      <td>1,747,311,220</td>\n",
       "      <td>6</td>\n",
       "      <td>NaN</td>\n",
       "      <td>...</td>\n",
       "      <td>nan</td>\n",
       "      <td>NaN</td>\n",
       "      <td>NaN</td>\n",
       "      <td>NaN</td>\n",
       "      <td>nan</td>\n",
       "      <td>nan</td>\n",
       "      <td>NaN</td>\n",
       "      <td>nan</td>\n",
       "      <td>nan</td>\n",
       "      <td>left_only</td>\n",
       "    </tr>\n",
       "    <tr>\n",
       "      <th>1</th>\n",
       "      <td>67</td>\n",
       "      <td>2015-04-03</td>\n",
       "      <td>Furious 7</td>\n",
       "      <td>190,000,000</td>\n",
       "      <td>353,007,020</td>\n",
       "      <td>1,518,722,794</td>\n",
       "      <td>2015</td>\n",
       "      <td>1,328,722,794</td>\n",
       "      <td>7</td>\n",
       "      <td>NaN</td>\n",
       "      <td>...</td>\n",
       "      <td>nan</td>\n",
       "      <td>tt2820852</td>\n",
       "      <td>Furious 7</td>\n",
       "      <td>Furious Seven</td>\n",
       "      <td>2,015</td>\n",
       "      <td>137</td>\n",
       "      <td>Action,Crime,Thriller</td>\n",
       "      <td>7</td>\n",
       "      <td>335,074</td>\n",
       "      <td>both</td>\n",
       "    </tr>\n",
       "    <tr>\n",
       "      <th>2</th>\n",
       "      <td>61</td>\n",
       "      <td>2011-07-15</td>\n",
       "      <td>Harry Potter and the Deathly Hallows: Part II</td>\n",
       "      <td>125,000,000</td>\n",
       "      <td>381,193,157</td>\n",
       "      <td>1,341,693,157</td>\n",
       "      <td>2011</td>\n",
       "      <td>1,216,693,157</td>\n",
       "      <td>10</td>\n",
       "      <td>NaN</td>\n",
       "      <td>...</td>\n",
       "      <td>nan</td>\n",
       "      <td>NaN</td>\n",
       "      <td>NaN</td>\n",
       "      <td>NaN</td>\n",
       "      <td>nan</td>\n",
       "      <td>nan</td>\n",
       "      <td>NaN</td>\n",
       "      <td>nan</td>\n",
       "      <td>nan</td>\n",
       "      <td>left_only</td>\n",
       "    </tr>\n",
       "    <tr>\n",
       "      <th>3</th>\n",
       "      <td>5</td>\n",
       "      <td>2017-12-15</td>\n",
       "      <td>Star Wars Ep. VIII: The Last Jedi</td>\n",
       "      <td>317,000,000</td>\n",
       "      <td>620,181,382</td>\n",
       "      <td>1,316,721,747</td>\n",
       "      <td>2017</td>\n",
       "      <td>999,721,747</td>\n",
       "      <td>3</td>\n",
       "      <td>NaN</td>\n",
       "      <td>...</td>\n",
       "      <td>nan</td>\n",
       "      <td>NaN</td>\n",
       "      <td>NaN</td>\n",
       "      <td>NaN</td>\n",
       "      <td>nan</td>\n",
       "      <td>nan</td>\n",
       "      <td>NaN</td>\n",
       "      <td>nan</td>\n",
       "      <td>nan</td>\n",
       "      <td>left_only</td>\n",
       "    </tr>\n",
       "    <tr>\n",
       "      <th>4</th>\n",
       "      <td>48</td>\n",
       "      <td>2013-05-03</td>\n",
       "      <td>Iron Man 3</td>\n",
       "      <td>200,000,000</td>\n",
       "      <td>408,992,272</td>\n",
       "      <td>1,215,392,272</td>\n",
       "      <td>2013</td>\n",
       "      <td>1,015,392,272</td>\n",
       "      <td>5</td>\n",
       "      <td>NaN</td>\n",
       "      <td>...</td>\n",
       "      <td>nan</td>\n",
       "      <td>tt1300854</td>\n",
       "      <td>Iron Man 3</td>\n",
       "      <td>Iron Man Three</td>\n",
       "      <td>2,013</td>\n",
       "      <td>130</td>\n",
       "      <td>Action,Adventure,Sci-Fi</td>\n",
       "      <td>7</td>\n",
       "      <td>692,794</td>\n",
       "      <td>both</td>\n",
       "    </tr>\n",
       "  </tbody>\n",
       "</table>\n",
       "<p>5 rows × 26 columns</p>\n",
       "</div>"
      ],
      "text/plain": [
       "   id release_date                                          movie  \\\n",
       "0   6   2015-12-18           Star Wars Ep. VII: The Force Awakens   \n",
       "1  67   2015-04-03                                      Furious 7   \n",
       "2  61   2011-07-15  Harry Potter and the Deathly Hallows: Part II   \n",
       "3   5   2017-12-15              Star Wars Ep. VIII: The Last Jedi   \n",
       "4  48   2013-05-03                                     Iron Man 3   \n",
       "\n",
       "   production_budget  domestic_gross  worldwide_gross  release_year  \\\n",
       "0        306,000,000     936,662,225    2,053,311,220          2015   \n",
       "1        190,000,000     353,007,020    1,518,722,794          2015   \n",
       "2        125,000,000     381,193,157    1,341,693,157          2011   \n",
       "3        317,000,000     620,181,382    1,316,721,747          2017   \n",
       "4        200,000,000     408,992,272    1,215,392,272          2013   \n",
       "\n",
       "   total_profit  ROI tconst_x  ... numvotes_x   tconst_y  primary_title_y  \\\n",
       "0 1,747,311,220    6      NaN  ...        nan        NaN              NaN   \n",
       "1 1,328,722,794    7      NaN  ...        nan  tt2820852        Furious 7   \n",
       "2 1,216,693,157   10      NaN  ...        nan        NaN              NaN   \n",
       "3   999,721,747    3      NaN  ...        nan        NaN              NaN   \n",
       "4 1,015,392,272    5      NaN  ...        nan  tt1300854       Iron Man 3   \n",
       "\n",
       "   original_title_y start_year_y  runtime_minutes_y                 genres_y  \\\n",
       "0               NaN          nan                nan                      NaN   \n",
       "1     Furious Seven        2,015                137    Action,Crime,Thriller   \n",
       "2               NaN          nan                nan                      NaN   \n",
       "3               NaN          nan                nan                      NaN   \n",
       "4    Iron Man Three        2,013                130  Action,Adventure,Sci-Fi   \n",
       "\n",
       "  averagerating_y numvotes_y     _merge  \n",
       "0             nan        nan  left_only  \n",
       "1               7    335,074       both  \n",
       "2             nan        nan  left_only  \n",
       "3             nan        nan  left_only  \n",
       "4               7    692,794       both  \n",
       "\n",
       "[5 rows x 26 columns]"
      ]
     },
     "execution_count": 36,
     "metadata": {},
     "output_type": "execute_result"
    }
   ],
   "source": [
    "merged_with_primary.head()"
   ]
  },
  {
   "cell_type": "code",
   "execution_count": 39,
   "metadata": {
    "ExecuteTime": {
     "end_time": "2021-10-01T13:48:37.678120Z",
     "start_time": "2021-10-01T13:48:37.574474Z"
    }
   },
   "outputs": [
    {
     "data": {
      "text/html": [
       "<div>\n",
       "<style scoped>\n",
       "    .dataframe tbody tr th:only-of-type {\n",
       "        vertical-align: middle;\n",
       "    }\n",
       "\n",
       "    .dataframe tbody tr th {\n",
       "        vertical-align: top;\n",
       "    }\n",
       "\n",
       "    .dataframe thead th {\n",
       "        text-align: right;\n",
       "    }\n",
       "</style>\n",
       "<table border=\"1\" class=\"dataframe\">\n",
       "  <thead>\n",
       "    <tr style=\"text-align: right;\">\n",
       "      <th></th>\n",
       "      <th>id</th>\n",
       "      <th>release_date</th>\n",
       "      <th>movie</th>\n",
       "      <th>production_budget</th>\n",
       "      <th>domestic_gross</th>\n",
       "      <th>worldwide_gross</th>\n",
       "      <th>release_year</th>\n",
       "      <th>total_profit</th>\n",
       "      <th>ROI</th>\n",
       "      <th>tconst_x</th>\n",
       "      <th>...</th>\n",
       "      <th>numvotes_x</th>\n",
       "      <th>tconst_y</th>\n",
       "      <th>primary_title_y</th>\n",
       "      <th>original_title_y</th>\n",
       "      <th>start_year_y</th>\n",
       "      <th>runtime_minutes_y</th>\n",
       "      <th>genres_y</th>\n",
       "      <th>averagerating_y</th>\n",
       "      <th>numvotes_y</th>\n",
       "      <th>_merge</th>\n",
       "    </tr>\n",
       "  </thead>\n",
       "  <tbody>\n",
       "    <tr>\n",
       "      <th>0</th>\n",
       "      <td>6</td>\n",
       "      <td>2015-12-18</td>\n",
       "      <td>Star Wars Ep. VII: The Force Awakens</td>\n",
       "      <td>306,000,000</td>\n",
       "      <td>936,662,225</td>\n",
       "      <td>2,053,311,220</td>\n",
       "      <td>2015</td>\n",
       "      <td>1,747,311,220</td>\n",
       "      <td>6</td>\n",
       "      <td>NaN</td>\n",
       "      <td>...</td>\n",
       "      <td>nan</td>\n",
       "      <td>NaN</td>\n",
       "      <td>NaN</td>\n",
       "      <td>NaN</td>\n",
       "      <td>nan</td>\n",
       "      <td>nan</td>\n",
       "      <td>NaN</td>\n",
       "      <td>nan</td>\n",
       "      <td>nan</td>\n",
       "      <td>left_only</td>\n",
       "    </tr>\n",
       "    <tr>\n",
       "      <th>1</th>\n",
       "      <td>67</td>\n",
       "      <td>2015-04-03</td>\n",
       "      <td>Furious 7</td>\n",
       "      <td>190,000,000</td>\n",
       "      <td>353,007,020</td>\n",
       "      <td>1,518,722,794</td>\n",
       "      <td>2015</td>\n",
       "      <td>1,328,722,794</td>\n",
       "      <td>7</td>\n",
       "      <td>NaN</td>\n",
       "      <td>...</td>\n",
       "      <td>nan</td>\n",
       "      <td>tt2820852</td>\n",
       "      <td>Furious 7</td>\n",
       "      <td>Furious Seven</td>\n",
       "      <td>2,015</td>\n",
       "      <td>137</td>\n",
       "      <td>Action,Crime,Thriller</td>\n",
       "      <td>7</td>\n",
       "      <td>335,074</td>\n",
       "      <td>both</td>\n",
       "    </tr>\n",
       "    <tr>\n",
       "      <th>2</th>\n",
       "      <td>61</td>\n",
       "      <td>2011-07-15</td>\n",
       "      <td>Harry Potter and the Deathly Hallows: Part II</td>\n",
       "      <td>125,000,000</td>\n",
       "      <td>381,193,157</td>\n",
       "      <td>1,341,693,157</td>\n",
       "      <td>2011</td>\n",
       "      <td>1,216,693,157</td>\n",
       "      <td>10</td>\n",
       "      <td>NaN</td>\n",
       "      <td>...</td>\n",
       "      <td>nan</td>\n",
       "      <td>NaN</td>\n",
       "      <td>NaN</td>\n",
       "      <td>NaN</td>\n",
       "      <td>nan</td>\n",
       "      <td>nan</td>\n",
       "      <td>NaN</td>\n",
       "      <td>nan</td>\n",
       "      <td>nan</td>\n",
       "      <td>left_only</td>\n",
       "    </tr>\n",
       "    <tr>\n",
       "      <th>3</th>\n",
       "      <td>5</td>\n",
       "      <td>2017-12-15</td>\n",
       "      <td>Star Wars Ep. VIII: The Last Jedi</td>\n",
       "      <td>317,000,000</td>\n",
       "      <td>620,181,382</td>\n",
       "      <td>1,316,721,747</td>\n",
       "      <td>2017</td>\n",
       "      <td>999,721,747</td>\n",
       "      <td>3</td>\n",
       "      <td>NaN</td>\n",
       "      <td>...</td>\n",
       "      <td>nan</td>\n",
       "      <td>NaN</td>\n",
       "      <td>NaN</td>\n",
       "      <td>NaN</td>\n",
       "      <td>nan</td>\n",
       "      <td>nan</td>\n",
       "      <td>NaN</td>\n",
       "      <td>nan</td>\n",
       "      <td>nan</td>\n",
       "      <td>left_only</td>\n",
       "    </tr>\n",
       "    <tr>\n",
       "      <th>4</th>\n",
       "      <td>48</td>\n",
       "      <td>2013-05-03</td>\n",
       "      <td>Iron Man 3</td>\n",
       "      <td>200,000,000</td>\n",
       "      <td>408,992,272</td>\n",
       "      <td>1,215,392,272</td>\n",
       "      <td>2013</td>\n",
       "      <td>1,015,392,272</td>\n",
       "      <td>5</td>\n",
       "      <td>NaN</td>\n",
       "      <td>...</td>\n",
       "      <td>nan</td>\n",
       "      <td>tt1300854</td>\n",
       "      <td>Iron Man 3</td>\n",
       "      <td>Iron Man Three</td>\n",
       "      <td>2,013</td>\n",
       "      <td>130</td>\n",
       "      <td>Action,Adventure,Sci-Fi</td>\n",
       "      <td>7</td>\n",
       "      <td>692,794</td>\n",
       "      <td>both</td>\n",
       "    </tr>\n",
       "  </tbody>\n",
       "</table>\n",
       "<p>5 rows × 26 columns</p>\n",
       "</div>"
      ],
      "text/plain": [
       "   id release_date                                          movie  \\\n",
       "0   6   2015-12-18           Star Wars Ep. VII: The Force Awakens   \n",
       "1  67   2015-04-03                                      Furious 7   \n",
       "2  61   2011-07-15  Harry Potter and the Deathly Hallows: Part II   \n",
       "3   5   2017-12-15              Star Wars Ep. VIII: The Last Jedi   \n",
       "4  48   2013-05-03                                     Iron Man 3   \n",
       "\n",
       "   production_budget  domestic_gross  worldwide_gross  release_year  \\\n",
       "0        306,000,000     936,662,225    2,053,311,220          2015   \n",
       "1        190,000,000     353,007,020    1,518,722,794          2015   \n",
       "2        125,000,000     381,193,157    1,341,693,157          2011   \n",
       "3        317,000,000     620,181,382    1,316,721,747          2017   \n",
       "4        200,000,000     408,992,272    1,215,392,272          2013   \n",
       "\n",
       "   total_profit  ROI tconst_x  ... numvotes_x   tconst_y  primary_title_y  \\\n",
       "0 1,747,311,220    6      NaN  ...        nan        NaN              NaN   \n",
       "1 1,328,722,794    7      NaN  ...        nan  tt2820852        Furious 7   \n",
       "2 1,216,693,157   10      NaN  ...        nan        NaN              NaN   \n",
       "3   999,721,747    3      NaN  ...        nan        NaN              NaN   \n",
       "4 1,015,392,272    5      NaN  ...        nan  tt1300854       Iron Man 3   \n",
       "\n",
       "   original_title_y start_year_y  runtime_minutes_y                 genres_y  \\\n",
       "0               NaN          nan                nan                      NaN   \n",
       "1     Furious Seven        2,015                137    Action,Crime,Thriller   \n",
       "2               NaN          nan                nan                      NaN   \n",
       "3               NaN          nan                nan                      NaN   \n",
       "4    Iron Man Three        2,013                130  Action,Adventure,Sci-Fi   \n",
       "\n",
       "  averagerating_y numvotes_y     _merge  \n",
       "0             nan        nan  left_only  \n",
       "1               7    335,074       both  \n",
       "2             nan        nan  left_only  \n",
       "3             nan        nan  left_only  \n",
       "4               7    692,794       both  \n",
       "\n",
       "[5 rows x 26 columns]"
      ]
     },
     "execution_count": 39,
     "metadata": {},
     "output_type": "execute_result"
    }
   ],
   "source": [
    "#merging need_to_merge  with primary name.\n",
    "merged_with_primary = pd.merge(need_to_merge, imdb_df, left_on= 'movie', right_on= 'primary_title', how='left', indicator=True)\n",
    "merged_with_primary.head()"
   ]
  },
  {
   "cell_type": "code",
   "execution_count": 40,
   "metadata": {
    "ExecuteTime": {
     "end_time": "2021-10-01T13:48:41.481799Z",
     "start_time": "2021-10-01T13:48:41.454638Z"
    }
   },
   "outputs": [
    {
     "data": {
      "text/html": [
       "<div>\n",
       "<style scoped>\n",
       "    .dataframe tbody tr th:only-of-type {\n",
       "        vertical-align: middle;\n",
       "    }\n",
       "\n",
       "    .dataframe tbody tr th {\n",
       "        vertical-align: top;\n",
       "    }\n",
       "\n",
       "    .dataframe thead th {\n",
       "        text-align: right;\n",
       "    }\n",
       "</style>\n",
       "<table border=\"1\" class=\"dataframe\">\n",
       "  <thead>\n",
       "    <tr style=\"text-align: right;\">\n",
       "      <th></th>\n",
       "      <th>id</th>\n",
       "      <th>release_date</th>\n",
       "      <th>movie</th>\n",
       "      <th>production_budget</th>\n",
       "      <th>domestic_gross</th>\n",
       "      <th>worldwide_gross</th>\n",
       "      <th>release_year</th>\n",
       "      <th>total_profit</th>\n",
       "      <th>ROI</th>\n",
       "      <th>numvotes_x</th>\n",
       "      <th>tconst_y</th>\n",
       "      <th>primary_title_y</th>\n",
       "      <th>original_title_y</th>\n",
       "      <th>start_year_y</th>\n",
       "      <th>runtime_minutes_y</th>\n",
       "      <th>genres_y</th>\n",
       "      <th>averagerating_y</th>\n",
       "      <th>numvotes_y</th>\n",
       "      <th>_merge</th>\n",
       "    </tr>\n",
       "  </thead>\n",
       "  <tbody>\n",
       "    <tr>\n",
       "      <th>0</th>\n",
       "      <td>6</td>\n",
       "      <td>2015-12-18</td>\n",
       "      <td>Star Wars Ep. VII: The Force Awakens</td>\n",
       "      <td>306,000,000</td>\n",
       "      <td>936,662,225</td>\n",
       "      <td>2,053,311,220</td>\n",
       "      <td>2015</td>\n",
       "      <td>1,747,311,220</td>\n",
       "      <td>6</td>\n",
       "      <td>nan</td>\n",
       "      <td>NaN</td>\n",
       "      <td>NaN</td>\n",
       "      <td>NaN</td>\n",
       "      <td>nan</td>\n",
       "      <td>nan</td>\n",
       "      <td>NaN</td>\n",
       "      <td>nan</td>\n",
       "      <td>nan</td>\n",
       "      <td>left_only</td>\n",
       "    </tr>\n",
       "    <tr>\n",
       "      <th>1</th>\n",
       "      <td>67</td>\n",
       "      <td>2015-04-03</td>\n",
       "      <td>Furious 7</td>\n",
       "      <td>190,000,000</td>\n",
       "      <td>353,007,020</td>\n",
       "      <td>1,518,722,794</td>\n",
       "      <td>2015</td>\n",
       "      <td>1,328,722,794</td>\n",
       "      <td>7</td>\n",
       "      <td>nan</td>\n",
       "      <td>tt2820852</td>\n",
       "      <td>Furious 7</td>\n",
       "      <td>Furious Seven</td>\n",
       "      <td>2,015</td>\n",
       "      <td>137</td>\n",
       "      <td>Action,Crime,Thriller</td>\n",
       "      <td>7</td>\n",
       "      <td>335,074</td>\n",
       "      <td>both</td>\n",
       "    </tr>\n",
       "    <tr>\n",
       "      <th>2</th>\n",
       "      <td>61</td>\n",
       "      <td>2011-07-15</td>\n",
       "      <td>Harry Potter and the Deathly Hallows: Part II</td>\n",
       "      <td>125,000,000</td>\n",
       "      <td>381,193,157</td>\n",
       "      <td>1,341,693,157</td>\n",
       "      <td>2011</td>\n",
       "      <td>1,216,693,157</td>\n",
       "      <td>10</td>\n",
       "      <td>nan</td>\n",
       "      <td>NaN</td>\n",
       "      <td>NaN</td>\n",
       "      <td>NaN</td>\n",
       "      <td>nan</td>\n",
       "      <td>nan</td>\n",
       "      <td>NaN</td>\n",
       "      <td>nan</td>\n",
       "      <td>nan</td>\n",
       "      <td>left_only</td>\n",
       "    </tr>\n",
       "  </tbody>\n",
       "</table>\n",
       "</div>"
      ],
      "text/plain": [
       "   id release_date                                          movie  \\\n",
       "0   6   2015-12-18           Star Wars Ep. VII: The Force Awakens   \n",
       "1  67   2015-04-03                                      Furious 7   \n",
       "2  61   2011-07-15  Harry Potter and the Deathly Hallows: Part II   \n",
       "\n",
       "   production_budget  domestic_gross  worldwide_gross  release_year  \\\n",
       "0        306,000,000     936,662,225    2,053,311,220          2015   \n",
       "1        190,000,000     353,007,020    1,518,722,794          2015   \n",
       "2        125,000,000     381,193,157    1,341,693,157          2011   \n",
       "\n",
       "   total_profit  ROI  numvotes_x   tconst_y primary_title_y original_title_y  \\\n",
       "0 1,747,311,220    6         nan        NaN             NaN              NaN   \n",
       "1 1,328,722,794    7         nan  tt2820852       Furious 7    Furious Seven   \n",
       "2 1,216,693,157   10         nan        NaN             NaN              NaN   \n",
       "\n",
       "   start_year_y  runtime_minutes_y               genres_y  averagerating_y  \\\n",
       "0           nan                nan                    NaN              nan   \n",
       "1         2,015                137  Action,Crime,Thriller                7   \n",
       "2           nan                nan                    NaN              nan   \n",
       "\n",
       "   numvotes_y     _merge  \n",
       "0         nan  left_only  \n",
       "1     335,074       both  \n",
       "2         nan  left_only  "
      ]
     },
     "execution_count": 40,
     "metadata": {},
     "output_type": "execute_result"
    }
   ],
   "source": [
    "merged_with_primary = merged_with_primary.drop(merged_with_primary.columns[9:16], axis = 1)\n",
    "merged_with_primary.head(3)"
   ]
  },
  {
   "cell_type": "code",
   "execution_count": 41,
   "metadata": {
    "ExecuteTime": {
     "end_time": "2021-10-01T13:48:44.072732Z",
     "start_time": "2021-10-01T13:48:44.044288Z"
    }
   },
   "outputs": [
    {
     "data": {
      "text/html": [
       "<div>\n",
       "<style scoped>\n",
       "    .dataframe tbody tr th:only-of-type {\n",
       "        vertical-align: middle;\n",
       "    }\n",
       "\n",
       "    .dataframe tbody tr th {\n",
       "        vertical-align: top;\n",
       "    }\n",
       "\n",
       "    .dataframe thead th {\n",
       "        text-align: right;\n",
       "    }\n",
       "</style>\n",
       "<table border=\"1\" class=\"dataframe\">\n",
       "  <thead>\n",
       "    <tr style=\"text-align: right;\">\n",
       "      <th></th>\n",
       "      <th>id</th>\n",
       "      <th>release_date</th>\n",
       "      <th>movie</th>\n",
       "      <th>production_budget</th>\n",
       "      <th>domestic_gross</th>\n",
       "      <th>worldwide_gross</th>\n",
       "      <th>release_year</th>\n",
       "      <th>total_profit</th>\n",
       "      <th>ROI</th>\n",
       "      <th>tconst_y</th>\n",
       "      <th>primary_title_y</th>\n",
       "      <th>original_title_y</th>\n",
       "      <th>start_year_y</th>\n",
       "      <th>runtime_minutes_y</th>\n",
       "      <th>genres_y</th>\n",
       "      <th>averagerating_y</th>\n",
       "      <th>numvotes_y</th>\n",
       "      <th>_merge</th>\n",
       "    </tr>\n",
       "  </thead>\n",
       "  <tbody>\n",
       "    <tr>\n",
       "      <th>0</th>\n",
       "      <td>6</td>\n",
       "      <td>2015-12-18</td>\n",
       "      <td>Star Wars Ep. VII: The Force Awakens</td>\n",
       "      <td>306,000,000</td>\n",
       "      <td>936,662,225</td>\n",
       "      <td>2,053,311,220</td>\n",
       "      <td>2015</td>\n",
       "      <td>1,747,311,220</td>\n",
       "      <td>6</td>\n",
       "      <td>NaN</td>\n",
       "      <td>NaN</td>\n",
       "      <td>NaN</td>\n",
       "      <td>nan</td>\n",
       "      <td>nan</td>\n",
       "      <td>NaN</td>\n",
       "      <td>nan</td>\n",
       "      <td>nan</td>\n",
       "      <td>left_only</td>\n",
       "    </tr>\n",
       "    <tr>\n",
       "      <th>1</th>\n",
       "      <td>67</td>\n",
       "      <td>2015-04-03</td>\n",
       "      <td>Furious 7</td>\n",
       "      <td>190,000,000</td>\n",
       "      <td>353,007,020</td>\n",
       "      <td>1,518,722,794</td>\n",
       "      <td>2015</td>\n",
       "      <td>1,328,722,794</td>\n",
       "      <td>7</td>\n",
       "      <td>tt2820852</td>\n",
       "      <td>Furious 7</td>\n",
       "      <td>Furious Seven</td>\n",
       "      <td>2,015</td>\n",
       "      <td>137</td>\n",
       "      <td>Action,Crime,Thriller</td>\n",
       "      <td>7</td>\n",
       "      <td>335,074</td>\n",
       "      <td>both</td>\n",
       "    </tr>\n",
       "    <tr>\n",
       "      <th>2</th>\n",
       "      <td>61</td>\n",
       "      <td>2011-07-15</td>\n",
       "      <td>Harry Potter and the Deathly Hallows: Part II</td>\n",
       "      <td>125,000,000</td>\n",
       "      <td>381,193,157</td>\n",
       "      <td>1,341,693,157</td>\n",
       "      <td>2011</td>\n",
       "      <td>1,216,693,157</td>\n",
       "      <td>10</td>\n",
       "      <td>NaN</td>\n",
       "      <td>NaN</td>\n",
       "      <td>NaN</td>\n",
       "      <td>nan</td>\n",
       "      <td>nan</td>\n",
       "      <td>NaN</td>\n",
       "      <td>nan</td>\n",
       "      <td>nan</td>\n",
       "      <td>left_only</td>\n",
       "    </tr>\n",
       "  </tbody>\n",
       "</table>\n",
       "</div>"
      ],
      "text/plain": [
       "   id release_date                                          movie  \\\n",
       "0   6   2015-12-18           Star Wars Ep. VII: The Force Awakens   \n",
       "1  67   2015-04-03                                      Furious 7   \n",
       "2  61   2011-07-15  Harry Potter and the Deathly Hallows: Part II   \n",
       "\n",
       "   production_budget  domestic_gross  worldwide_gross  release_year  \\\n",
       "0        306,000,000     936,662,225    2,053,311,220          2015   \n",
       "1        190,000,000     353,007,020    1,518,722,794          2015   \n",
       "2        125,000,000     381,193,157    1,341,693,157          2011   \n",
       "\n",
       "   total_profit  ROI   tconst_y primary_title_y original_title_y  \\\n",
       "0 1,747,311,220    6        NaN             NaN              NaN   \n",
       "1 1,328,722,794    7  tt2820852       Furious 7    Furious Seven   \n",
       "2 1,216,693,157   10        NaN             NaN              NaN   \n",
       "\n",
       "   start_year_y  runtime_minutes_y               genres_y  averagerating_y  \\\n",
       "0           nan                nan                    NaN              nan   \n",
       "1         2,015                137  Action,Crime,Thriller                7   \n",
       "2           nan                nan                    NaN              nan   \n",
       "\n",
       "   numvotes_y     _merge  \n",
       "0         nan  left_only  \n",
       "1     335,074       both  \n",
       "2         nan  left_only  "
      ]
     },
     "execution_count": 41,
     "metadata": {},
     "output_type": "execute_result"
    }
   ],
   "source": [
    "merged_with_primary = merged_with_primary.drop(merged_with_primary.columns[9], axis = 1)\n",
    "merged_with_primary.head(3)"
   ]
  },
  {
   "cell_type": "code",
   "execution_count": 42,
   "metadata": {
    "ExecuteTime": {
     "end_time": "2021-10-01T13:48:47.024670Z",
     "start_time": "2021-10-01T13:48:46.996598Z"
    }
   },
   "outputs": [
    {
     "data": {
      "text/html": [
       "<div>\n",
       "<style scoped>\n",
       "    .dataframe tbody tr th:only-of-type {\n",
       "        vertical-align: middle;\n",
       "    }\n",
       "\n",
       "    .dataframe tbody tr th {\n",
       "        vertical-align: top;\n",
       "    }\n",
       "\n",
       "    .dataframe thead th {\n",
       "        text-align: right;\n",
       "    }\n",
       "</style>\n",
       "<table border=\"1\" class=\"dataframe\">\n",
       "  <thead>\n",
       "    <tr style=\"text-align: right;\">\n",
       "      <th></th>\n",
       "      <th>id</th>\n",
       "      <th>release_date</th>\n",
       "      <th>movie</th>\n",
       "      <th>production_budget</th>\n",
       "      <th>domestic_gross</th>\n",
       "      <th>worldwide_gross</th>\n",
       "      <th>release_year</th>\n",
       "      <th>total_profit</th>\n",
       "      <th>ROI</th>\n",
       "      <th>tconst_y</th>\n",
       "      <th>primary_title_y</th>\n",
       "      <th>original_title_y</th>\n",
       "      <th>start_year_y</th>\n",
       "      <th>runtime_minutes_y</th>\n",
       "      <th>genres_y</th>\n",
       "      <th>averagerating_y</th>\n",
       "      <th>_merge</th>\n",
       "    </tr>\n",
       "  </thead>\n",
       "  <tbody>\n",
       "    <tr>\n",
       "      <th>0</th>\n",
       "      <td>6</td>\n",
       "      <td>2015-12-18</td>\n",
       "      <td>Star Wars Ep. VII: The Force Awakens</td>\n",
       "      <td>306,000,000</td>\n",
       "      <td>936,662,225</td>\n",
       "      <td>2,053,311,220</td>\n",
       "      <td>2015</td>\n",
       "      <td>1,747,311,220</td>\n",
       "      <td>6</td>\n",
       "      <td>NaN</td>\n",
       "      <td>NaN</td>\n",
       "      <td>NaN</td>\n",
       "      <td>nan</td>\n",
       "      <td>nan</td>\n",
       "      <td>NaN</td>\n",
       "      <td>nan</td>\n",
       "      <td>left_only</td>\n",
       "    </tr>\n",
       "    <tr>\n",
       "      <th>1</th>\n",
       "      <td>67</td>\n",
       "      <td>2015-04-03</td>\n",
       "      <td>Furious 7</td>\n",
       "      <td>190,000,000</td>\n",
       "      <td>353,007,020</td>\n",
       "      <td>1,518,722,794</td>\n",
       "      <td>2015</td>\n",
       "      <td>1,328,722,794</td>\n",
       "      <td>7</td>\n",
       "      <td>tt2820852</td>\n",
       "      <td>Furious 7</td>\n",
       "      <td>Furious Seven</td>\n",
       "      <td>2,015</td>\n",
       "      <td>137</td>\n",
       "      <td>Action,Crime,Thriller</td>\n",
       "      <td>7</td>\n",
       "      <td>both</td>\n",
       "    </tr>\n",
       "    <tr>\n",
       "      <th>2</th>\n",
       "      <td>61</td>\n",
       "      <td>2011-07-15</td>\n",
       "      <td>Harry Potter and the Deathly Hallows: Part II</td>\n",
       "      <td>125,000,000</td>\n",
       "      <td>381,193,157</td>\n",
       "      <td>1,341,693,157</td>\n",
       "      <td>2011</td>\n",
       "      <td>1,216,693,157</td>\n",
       "      <td>10</td>\n",
       "      <td>NaN</td>\n",
       "      <td>NaN</td>\n",
       "      <td>NaN</td>\n",
       "      <td>nan</td>\n",
       "      <td>nan</td>\n",
       "      <td>NaN</td>\n",
       "      <td>nan</td>\n",
       "      <td>left_only</td>\n",
       "    </tr>\n",
       "  </tbody>\n",
       "</table>\n",
       "</div>"
      ],
      "text/plain": [
       "   id release_date                                          movie  \\\n",
       "0   6   2015-12-18           Star Wars Ep. VII: The Force Awakens   \n",
       "1  67   2015-04-03                                      Furious 7   \n",
       "2  61   2011-07-15  Harry Potter and the Deathly Hallows: Part II   \n",
       "\n",
       "   production_budget  domestic_gross  worldwide_gross  release_year  \\\n",
       "0        306,000,000     936,662,225    2,053,311,220          2015   \n",
       "1        190,000,000     353,007,020    1,518,722,794          2015   \n",
       "2        125,000,000     381,193,157    1,341,693,157          2011   \n",
       "\n",
       "   total_profit  ROI   tconst_y primary_title_y original_title_y  \\\n",
       "0 1,747,311,220    6        NaN             NaN              NaN   \n",
       "1 1,328,722,794    7  tt2820852       Furious 7    Furious Seven   \n",
       "2 1,216,693,157   10        NaN             NaN              NaN   \n",
       "\n",
       "   start_year_y  runtime_minutes_y               genres_y  averagerating_y  \\\n",
       "0           nan                nan                    NaN              nan   \n",
       "1         2,015                137  Action,Crime,Thriller                7   \n",
       "2           nan                nan                    NaN              nan   \n",
       "\n",
       "      _merge  \n",
       "0  left_only  \n",
       "1       both  \n",
       "2  left_only  "
      ]
     },
     "execution_count": 42,
     "metadata": {},
     "output_type": "execute_result"
    }
   ],
   "source": [
    "#dropping indicator column\n",
    "merged_with_primary = merged_with_primary.drop(merged_with_primary.columns[16], axis = 1)\n",
    "merged_with_primary.head(3)"
   ]
  },
  {
   "cell_type": "code",
   "execution_count": 43,
   "metadata": {
    "ExecuteTime": {
     "end_time": "2021-10-01T13:48:51.825132Z",
     "start_time": "2021-10-01T13:48:51.820161Z"
    }
   },
   "outputs": [],
   "source": [
    "#Renaming the columns which contain _y\n",
    "merged_with_primary.rename(columns = {'averagerating_y':'averagerating', 'numvotes_y':'numvotes',\n",
    "                              'primary_title_y':'primary_title', 'original_title_y':'original_title',\n",
    "                              'start_year_y': 'start_year', 'runtime_minutes_y': 'runtime_minutes',\n",
    "                              'genres_y' : 'genres'}, inplace = True)"
   ]
  },
  {
   "cell_type": "code",
   "execution_count": 44,
   "metadata": {
    "ExecuteTime": {
     "end_time": "2021-10-01T13:48:54.832920Z",
     "start_time": "2021-10-01T13:48:54.811549Z"
    }
   },
   "outputs": [
    {
     "data": {
      "text/html": [
       "<div>\n",
       "<style scoped>\n",
       "    .dataframe tbody tr th:only-of-type {\n",
       "        vertical-align: middle;\n",
       "    }\n",
       "\n",
       "    .dataframe tbody tr th {\n",
       "        vertical-align: top;\n",
       "    }\n",
       "\n",
       "    .dataframe thead th {\n",
       "        text-align: right;\n",
       "    }\n",
       "</style>\n",
       "<table border=\"1\" class=\"dataframe\">\n",
       "  <thead>\n",
       "    <tr style=\"text-align: right;\">\n",
       "      <th></th>\n",
       "      <th>id</th>\n",
       "      <th>release_date</th>\n",
       "      <th>movie</th>\n",
       "      <th>production_budget</th>\n",
       "      <th>domestic_gross</th>\n",
       "      <th>worldwide_gross</th>\n",
       "      <th>release_year</th>\n",
       "      <th>total_profit</th>\n",
       "      <th>ROI</th>\n",
       "      <th>tconst_y</th>\n",
       "      <th>primary_title</th>\n",
       "      <th>original_title</th>\n",
       "      <th>start_year</th>\n",
       "      <th>runtime_minutes</th>\n",
       "      <th>genres</th>\n",
       "      <th>averagerating</th>\n",
       "      <th>_merge</th>\n",
       "    </tr>\n",
       "  </thead>\n",
       "  <tbody>\n",
       "    <tr>\n",
       "      <th>0</th>\n",
       "      <td>6</td>\n",
       "      <td>2015-12-18</td>\n",
       "      <td>Star Wars Ep. VII: The Force Awakens</td>\n",
       "      <td>306,000,000</td>\n",
       "      <td>936,662,225</td>\n",
       "      <td>2,053,311,220</td>\n",
       "      <td>2015</td>\n",
       "      <td>1,747,311,220</td>\n",
       "      <td>6</td>\n",
       "      <td>NaN</td>\n",
       "      <td>NaN</td>\n",
       "      <td>NaN</td>\n",
       "      <td>nan</td>\n",
       "      <td>nan</td>\n",
       "      <td>NaN</td>\n",
       "      <td>nan</td>\n",
       "      <td>left_only</td>\n",
       "    </tr>\n",
       "    <tr>\n",
       "      <th>1</th>\n",
       "      <td>67</td>\n",
       "      <td>2015-04-03</td>\n",
       "      <td>Furious 7</td>\n",
       "      <td>190,000,000</td>\n",
       "      <td>353,007,020</td>\n",
       "      <td>1,518,722,794</td>\n",
       "      <td>2015</td>\n",
       "      <td>1,328,722,794</td>\n",
       "      <td>7</td>\n",
       "      <td>tt2820852</td>\n",
       "      <td>Furious 7</td>\n",
       "      <td>Furious Seven</td>\n",
       "      <td>2,015</td>\n",
       "      <td>137</td>\n",
       "      <td>Action,Crime,Thriller</td>\n",
       "      <td>7</td>\n",
       "      <td>both</td>\n",
       "    </tr>\n",
       "    <tr>\n",
       "      <th>2</th>\n",
       "      <td>61</td>\n",
       "      <td>2011-07-15</td>\n",
       "      <td>Harry Potter and the Deathly Hallows: Part II</td>\n",
       "      <td>125,000,000</td>\n",
       "      <td>381,193,157</td>\n",
       "      <td>1,341,693,157</td>\n",
       "      <td>2011</td>\n",
       "      <td>1,216,693,157</td>\n",
       "      <td>10</td>\n",
       "      <td>NaN</td>\n",
       "      <td>NaN</td>\n",
       "      <td>NaN</td>\n",
       "      <td>nan</td>\n",
       "      <td>nan</td>\n",
       "      <td>NaN</td>\n",
       "      <td>nan</td>\n",
       "      <td>left_only</td>\n",
       "    </tr>\n",
       "  </tbody>\n",
       "</table>\n",
       "</div>"
      ],
      "text/plain": [
       "   id release_date                                          movie  \\\n",
       "0   6   2015-12-18           Star Wars Ep. VII: The Force Awakens   \n",
       "1  67   2015-04-03                                      Furious 7   \n",
       "2  61   2011-07-15  Harry Potter and the Deathly Hallows: Part II   \n",
       "\n",
       "   production_budget  domestic_gross  worldwide_gross  release_year  \\\n",
       "0        306,000,000     936,662,225    2,053,311,220          2015   \n",
       "1        190,000,000     353,007,020    1,518,722,794          2015   \n",
       "2        125,000,000     381,193,157    1,341,693,157          2011   \n",
       "\n",
       "   total_profit  ROI   tconst_y primary_title original_title  start_year  \\\n",
       "0 1,747,311,220    6        NaN           NaN            NaN         nan   \n",
       "1 1,328,722,794    7  tt2820852     Furious 7  Furious Seven       2,015   \n",
       "2 1,216,693,157   10        NaN           NaN            NaN         nan   \n",
       "\n",
       "   runtime_minutes                 genres  averagerating     _merge  \n",
       "0              nan                    NaN            nan  left_only  \n",
       "1              137  Action,Crime,Thriller              7       both  \n",
       "2              nan                    NaN            nan  left_only  "
      ]
     },
     "execution_count": 44,
     "metadata": {},
     "output_type": "execute_result"
    }
   ],
   "source": [
    "merged_with_primary.head(3)"
   ]
  },
  {
   "cell_type": "markdown",
   "metadata": {},
   "source": [
    "Appending \"merged with primary\" to correct merge to make project_df."
   ]
  },
  {
   "cell_type": "code",
   "execution_count": 45,
   "metadata": {
    "ExecuteTime": {
     "end_time": "2021-10-01T13:49:03.078791Z",
     "start_time": "2021-10-01T13:49:03.049946Z"
    }
   },
   "outputs": [
    {
     "data": {
      "text/html": [
       "<div>\n",
       "<style scoped>\n",
       "    .dataframe tbody tr th:only-of-type {\n",
       "        vertical-align: middle;\n",
       "    }\n",
       "\n",
       "    .dataframe tbody tr th {\n",
       "        vertical-align: top;\n",
       "    }\n",
       "\n",
       "    .dataframe thead th {\n",
       "        text-align: right;\n",
       "    }\n",
       "</style>\n",
       "<table border=\"1\" class=\"dataframe\">\n",
       "  <thead>\n",
       "    <tr style=\"text-align: right;\">\n",
       "      <th></th>\n",
       "      <th>id</th>\n",
       "      <th>release_date</th>\n",
       "      <th>movie</th>\n",
       "      <th>production_budget</th>\n",
       "      <th>domestic_gross</th>\n",
       "      <th>worldwide_gross</th>\n",
       "      <th>release_year</th>\n",
       "      <th>total_profit</th>\n",
       "      <th>ROI</th>\n",
       "      <th>tconst</th>\n",
       "      <th>primary_title</th>\n",
       "      <th>original_title</th>\n",
       "      <th>start_year</th>\n",
       "      <th>runtime_minutes</th>\n",
       "      <th>genres</th>\n",
       "      <th>averagerating</th>\n",
       "      <th>numvotes</th>\n",
       "      <th>_merge</th>\n",
       "      <th>tconst_y</th>\n",
       "    </tr>\n",
       "  </thead>\n",
       "  <tbody>\n",
       "    <tr>\n",
       "      <th>0</th>\n",
       "      <td>43</td>\n",
       "      <td>1997-12-19</td>\n",
       "      <td>Titanic</td>\n",
       "      <td>200,000,000</td>\n",
       "      <td>659,363,944</td>\n",
       "      <td>2,208,208,395</td>\n",
       "      <td>1997</td>\n",
       "      <td>2,008,208,395</td>\n",
       "      <td>10</td>\n",
       "      <td>tt2495766</td>\n",
       "      <td>Titanic</td>\n",
       "      <td>Titanic</td>\n",
       "      <td>2,012</td>\n",
       "      <td>nan</td>\n",
       "      <td>Adventure</td>\n",
       "      <td>6</td>\n",
       "      <td>20</td>\n",
       "      <td>NaN</td>\n",
       "      <td>NaN</td>\n",
       "    </tr>\n",
       "    <tr>\n",
       "      <th>1</th>\n",
       "      <td>7</td>\n",
       "      <td>2018-04-27</td>\n",
       "      <td>Avengers: Infinity War</td>\n",
       "      <td>300,000,000</td>\n",
       "      <td>678,815,482</td>\n",
       "      <td>2,048,134,200</td>\n",
       "      <td>2018</td>\n",
       "      <td>1,748,134,200</td>\n",
       "      <td>6</td>\n",
       "      <td>tt4154756</td>\n",
       "      <td>Avengers: Infinity War</td>\n",
       "      <td>Avengers: Infinity War</td>\n",
       "      <td>2,018</td>\n",
       "      <td>149</td>\n",
       "      <td>Action,Adventure,Sci-Fi</td>\n",
       "      <td>8</td>\n",
       "      <td>670,926</td>\n",
       "      <td>NaN</td>\n",
       "      <td>NaN</td>\n",
       "    </tr>\n",
       "    <tr>\n",
       "      <th>2</th>\n",
       "      <td>34</td>\n",
       "      <td>2015-06-12</td>\n",
       "      <td>Jurassic World</td>\n",
       "      <td>215,000,000</td>\n",
       "      <td>652,270,625</td>\n",
       "      <td>1,648,854,864</td>\n",
       "      <td>2015</td>\n",
       "      <td>1,433,854,864</td>\n",
       "      <td>7</td>\n",
       "      <td>tt0369610</td>\n",
       "      <td>Jurassic World</td>\n",
       "      <td>Jurassic World</td>\n",
       "      <td>2,015</td>\n",
       "      <td>124</td>\n",
       "      <td>Action,Adventure,Sci-Fi</td>\n",
       "      <td>7</td>\n",
       "      <td>539,338</td>\n",
       "      <td>NaN</td>\n",
       "      <td>NaN</td>\n",
       "    </tr>\n",
       "    <tr>\n",
       "      <th>3</th>\n",
       "      <td>27</td>\n",
       "      <td>2012-05-04</td>\n",
       "      <td>The Avengers</td>\n",
       "      <td>225,000,000</td>\n",
       "      <td>623,279,547</td>\n",
       "      <td>1,517,935,897</td>\n",
       "      <td>2012</td>\n",
       "      <td>1,292,935,897</td>\n",
       "      <td>6</td>\n",
       "      <td>tt0848228</td>\n",
       "      <td>The Avengers</td>\n",
       "      <td>The Avengers</td>\n",
       "      <td>2,012</td>\n",
       "      <td>143</td>\n",
       "      <td>Action,Adventure,Sci-Fi</td>\n",
       "      <td>8</td>\n",
       "      <td>1,183,655</td>\n",
       "      <td>NaN</td>\n",
       "      <td>NaN</td>\n",
       "    </tr>\n",
       "    <tr>\n",
       "      <th>4</th>\n",
       "      <td>4</td>\n",
       "      <td>2015-05-01</td>\n",
       "      <td>Avengers: Age of Ultron</td>\n",
       "      <td>330,600,000</td>\n",
       "      <td>459,005,868</td>\n",
       "      <td>1,403,013,963</td>\n",
       "      <td>2015</td>\n",
       "      <td>1,072,413,963</td>\n",
       "      <td>3</td>\n",
       "      <td>tt2395427</td>\n",
       "      <td>Avengers: Age of Ultron</td>\n",
       "      <td>Avengers: Age of Ultron</td>\n",
       "      <td>2,015</td>\n",
       "      <td>141</td>\n",
       "      <td>Action,Adventure,Sci-Fi</td>\n",
       "      <td>7</td>\n",
       "      <td>665,594</td>\n",
       "      <td>NaN</td>\n",
       "      <td>NaN</td>\n",
       "    </tr>\n",
       "  </tbody>\n",
       "</table>\n",
       "</div>"
      ],
      "text/plain": [
       "   id release_date                    movie  production_budget  \\\n",
       "0  43   1997-12-19                  Titanic        200,000,000   \n",
       "1   7   2018-04-27   Avengers: Infinity War        300,000,000   \n",
       "2  34   2015-06-12           Jurassic World        215,000,000   \n",
       "3  27   2012-05-04             The Avengers        225,000,000   \n",
       "4   4   2015-05-01  Avengers: Age of Ultron        330,600,000   \n",
       "\n",
       "   domestic_gross  worldwide_gross  release_year  total_profit  ROI  \\\n",
       "0     659,363,944    2,208,208,395          1997 2,008,208,395   10   \n",
       "1     678,815,482    2,048,134,200          2018 1,748,134,200    6   \n",
       "2     652,270,625    1,648,854,864          2015 1,433,854,864    7   \n",
       "3     623,279,547    1,517,935,897          2012 1,292,935,897    6   \n",
       "4     459,005,868    1,403,013,963          2015 1,072,413,963    3   \n",
       "\n",
       "      tconst            primary_title           original_title  start_year  \\\n",
       "0  tt2495766                  Titanic                  Titanic       2,012   \n",
       "1  tt4154756   Avengers: Infinity War   Avengers: Infinity War       2,018   \n",
       "2  tt0369610           Jurassic World           Jurassic World       2,015   \n",
       "3  tt0848228             The Avengers             The Avengers       2,012   \n",
       "4  tt2395427  Avengers: Age of Ultron  Avengers: Age of Ultron       2,015   \n",
       "\n",
       "   runtime_minutes                   genres  averagerating  numvotes _merge  \\\n",
       "0              nan                Adventure              6        20    NaN   \n",
       "1              149  Action,Adventure,Sci-Fi              8   670,926    NaN   \n",
       "2              124  Action,Adventure,Sci-Fi              7   539,338    NaN   \n",
       "3              143  Action,Adventure,Sci-Fi              8 1,183,655    NaN   \n",
       "4              141  Action,Adventure,Sci-Fi              7   665,594    NaN   \n",
       "\n",
       "  tconst_y  \n",
       "0      NaN  \n",
       "1      NaN  \n",
       "2      NaN  \n",
       "3      NaN  \n",
       "4      NaN  "
      ]
     },
     "execution_count": 45,
     "metadata": {},
     "output_type": "execute_result"
    }
   ],
   "source": [
    "project_df =  correct_merge_df.append(merged_with_primary, ignore_index=True)\n",
    "project_df.head()"
   ]
  },
  {
   "cell_type": "code",
   "execution_count": 46,
   "metadata": {
    "ExecuteTime": {
     "end_time": "2021-10-01T13:49:14.579867Z",
     "start_time": "2021-10-01T13:49:14.545008Z"
    }
   },
   "outputs": [
    {
     "data": {
      "text/html": [
       "<div>\n",
       "<style scoped>\n",
       "    .dataframe tbody tr th:only-of-type {\n",
       "        vertical-align: middle;\n",
       "    }\n",
       "\n",
       "    .dataframe tbody tr th {\n",
       "        vertical-align: top;\n",
       "    }\n",
       "\n",
       "    .dataframe thead th {\n",
       "        text-align: right;\n",
       "    }\n",
       "</style>\n",
       "<table border=\"1\" class=\"dataframe\">\n",
       "  <thead>\n",
       "    <tr style=\"text-align: right;\">\n",
       "      <th></th>\n",
       "      <th>id</th>\n",
       "      <th>release_date</th>\n",
       "      <th>movie</th>\n",
       "      <th>production_budget</th>\n",
       "      <th>domestic_gross</th>\n",
       "      <th>worldwide_gross</th>\n",
       "      <th>release_year</th>\n",
       "      <th>total_profit</th>\n",
       "      <th>ROI</th>\n",
       "      <th>tconst</th>\n",
       "      <th>primary_title</th>\n",
       "      <th>original_title</th>\n",
       "      <th>start_year</th>\n",
       "      <th>runtime_minutes</th>\n",
       "      <th>genres</th>\n",
       "      <th>averagerating</th>\n",
       "      <th>numvotes</th>\n",
       "    </tr>\n",
       "  </thead>\n",
       "  <tbody>\n",
       "    <tr>\n",
       "      <th>0</th>\n",
       "      <td>43</td>\n",
       "      <td>1997-12-19</td>\n",
       "      <td>Titanic</td>\n",
       "      <td>200,000,000</td>\n",
       "      <td>659,363,944</td>\n",
       "      <td>2,208,208,395</td>\n",
       "      <td>1997</td>\n",
       "      <td>2,008,208,395</td>\n",
       "      <td>10</td>\n",
       "      <td>tt2495766</td>\n",
       "      <td>Titanic</td>\n",
       "      <td>Titanic</td>\n",
       "      <td>2,012</td>\n",
       "      <td>nan</td>\n",
       "      <td>Adventure</td>\n",
       "      <td>6</td>\n",
       "      <td>20</td>\n",
       "    </tr>\n",
       "    <tr>\n",
       "      <th>1</th>\n",
       "      <td>7</td>\n",
       "      <td>2018-04-27</td>\n",
       "      <td>Avengers: Infinity War</td>\n",
       "      <td>300,000,000</td>\n",
       "      <td>678,815,482</td>\n",
       "      <td>2,048,134,200</td>\n",
       "      <td>2018</td>\n",
       "      <td>1,748,134,200</td>\n",
       "      <td>6</td>\n",
       "      <td>tt4154756</td>\n",
       "      <td>Avengers: Infinity War</td>\n",
       "      <td>Avengers: Infinity War</td>\n",
       "      <td>2,018</td>\n",
       "      <td>149</td>\n",
       "      <td>Action,Adventure,Sci-Fi</td>\n",
       "      <td>8</td>\n",
       "      <td>670,926</td>\n",
       "    </tr>\n",
       "    <tr>\n",
       "      <th>2</th>\n",
       "      <td>34</td>\n",
       "      <td>2015-06-12</td>\n",
       "      <td>Jurassic World</td>\n",
       "      <td>215,000,000</td>\n",
       "      <td>652,270,625</td>\n",
       "      <td>1,648,854,864</td>\n",
       "      <td>2015</td>\n",
       "      <td>1,433,854,864</td>\n",
       "      <td>7</td>\n",
       "      <td>tt0369610</td>\n",
       "      <td>Jurassic World</td>\n",
       "      <td>Jurassic World</td>\n",
       "      <td>2,015</td>\n",
       "      <td>124</td>\n",
       "      <td>Action,Adventure,Sci-Fi</td>\n",
       "      <td>7</td>\n",
       "      <td>539,338</td>\n",
       "    </tr>\n",
       "    <tr>\n",
       "      <th>3</th>\n",
       "      <td>27</td>\n",
       "      <td>2012-05-04</td>\n",
       "      <td>The Avengers</td>\n",
       "      <td>225,000,000</td>\n",
       "      <td>623,279,547</td>\n",
       "      <td>1,517,935,897</td>\n",
       "      <td>2012</td>\n",
       "      <td>1,292,935,897</td>\n",
       "      <td>6</td>\n",
       "      <td>tt0848228</td>\n",
       "      <td>The Avengers</td>\n",
       "      <td>The Avengers</td>\n",
       "      <td>2,012</td>\n",
       "      <td>143</td>\n",
       "      <td>Action,Adventure,Sci-Fi</td>\n",
       "      <td>8</td>\n",
       "      <td>1,183,655</td>\n",
       "    </tr>\n",
       "    <tr>\n",
       "      <th>4</th>\n",
       "      <td>4</td>\n",
       "      <td>2015-05-01</td>\n",
       "      <td>Avengers: Age of Ultron</td>\n",
       "      <td>330,600,000</td>\n",
       "      <td>459,005,868</td>\n",
       "      <td>1,403,013,963</td>\n",
       "      <td>2015</td>\n",
       "      <td>1,072,413,963</td>\n",
       "      <td>3</td>\n",
       "      <td>tt2395427</td>\n",
       "      <td>Avengers: Age of Ultron</td>\n",
       "      <td>Avengers: Age of Ultron</td>\n",
       "      <td>2,015</td>\n",
       "      <td>141</td>\n",
       "      <td>Action,Adventure,Sci-Fi</td>\n",
       "      <td>7</td>\n",
       "      <td>665,594</td>\n",
       "    </tr>\n",
       "    <tr>\n",
       "      <th>...</th>\n",
       "      <td>...</td>\n",
       "      <td>...</td>\n",
       "      <td>...</td>\n",
       "      <td>...</td>\n",
       "      <td>...</td>\n",
       "      <td>...</td>\n",
       "      <td>...</td>\n",
       "      <td>...</td>\n",
       "      <td>...</td>\n",
       "      <td>...</td>\n",
       "      <td>...</td>\n",
       "      <td>...</td>\n",
       "      <td>...</td>\n",
       "      <td>...</td>\n",
       "      <td>...</td>\n",
       "      <td>...</td>\n",
       "      <td>...</td>\n",
       "    </tr>\n",
       "    <tr>\n",
       "      <th>5782</th>\n",
       "      <td>88</td>\n",
       "      <td>2015-12-01</td>\n",
       "      <td>Brooklyn Bizarre</td>\n",
       "      <td>500,000</td>\n",
       "      <td>0</td>\n",
       "      <td>0</td>\n",
       "      <td>2015</td>\n",
       "      <td>-500,000</td>\n",
       "      <td>-1</td>\n",
       "      <td>NaN</td>\n",
       "      <td>NaN</td>\n",
       "      <td>NaN</td>\n",
       "      <td>nan</td>\n",
       "      <td>nan</td>\n",
       "      <td>NaN</td>\n",
       "      <td>nan</td>\n",
       "      <td>nan</td>\n",
       "    </tr>\n",
       "    <tr>\n",
       "      <th>5783</th>\n",
       "      <td>44</td>\n",
       "      <td>2007-02-02</td>\n",
       "      <td>Partition</td>\n",
       "      <td>10,000,000</td>\n",
       "      <td>0</td>\n",
       "      <td>0</td>\n",
       "      <td>2007</td>\n",
       "      <td>-10,000,000</td>\n",
       "      <td>-1</td>\n",
       "      <td>NaN</td>\n",
       "      <td>NaN</td>\n",
       "      <td>NaN</td>\n",
       "      <td>nan</td>\n",
       "      <td>nan</td>\n",
       "      <td>NaN</td>\n",
       "      <td>nan</td>\n",
       "      <td>nan</td>\n",
       "    </tr>\n",
       "    <tr>\n",
       "      <th>5784</th>\n",
       "      <td>76</td>\n",
       "      <td>2014-12-31</td>\n",
       "      <td>America Is Still The Place</td>\n",
       "      <td>500,000</td>\n",
       "      <td>0</td>\n",
       "      <td>0</td>\n",
       "      <td>2014</td>\n",
       "      <td>-500,000</td>\n",
       "      <td>-1</td>\n",
       "      <td>NaN</td>\n",
       "      <td>NaN</td>\n",
       "      <td>NaN</td>\n",
       "      <td>nan</td>\n",
       "      <td>nan</td>\n",
       "      <td>NaN</td>\n",
       "      <td>nan</td>\n",
       "      <td>nan</td>\n",
       "    </tr>\n",
       "    <tr>\n",
       "      <th>5785</th>\n",
       "      <td>75</td>\n",
       "      <td>2005-12-31</td>\n",
       "      <td>Insomnia Manica</td>\n",
       "      <td>500,000</td>\n",
       "      <td>0</td>\n",
       "      <td>0</td>\n",
       "      <td>2005</td>\n",
       "      <td>-500,000</td>\n",
       "      <td>-1</td>\n",
       "      <td>NaN</td>\n",
       "      <td>NaN</td>\n",
       "      <td>NaN</td>\n",
       "      <td>nan</td>\n",
       "      <td>nan</td>\n",
       "      <td>NaN</td>\n",
       "      <td>nan</td>\n",
       "      <td>nan</td>\n",
       "    </tr>\n",
       "    <tr>\n",
       "      <th>5786</th>\n",
       "      <td>69</td>\n",
       "      <td>2008-12-12</td>\n",
       "      <td>The Kings of Appletown</td>\n",
       "      <td>7,000,000</td>\n",
       "      <td>0</td>\n",
       "      <td>0</td>\n",
       "      <td>2008</td>\n",
       "      <td>-7,000,000</td>\n",
       "      <td>-1</td>\n",
       "      <td>NaN</td>\n",
       "      <td>NaN</td>\n",
       "      <td>NaN</td>\n",
       "      <td>nan</td>\n",
       "      <td>nan</td>\n",
       "      <td>NaN</td>\n",
       "      <td>nan</td>\n",
       "      <td>nan</td>\n",
       "    </tr>\n",
       "  </tbody>\n",
       "</table>\n",
       "<p>5787 rows × 17 columns</p>\n",
       "</div>"
      ],
      "text/plain": [
       "      id release_date                       movie  production_budget  \\\n",
       "0     43   1997-12-19                     Titanic        200,000,000   \n",
       "1      7   2018-04-27      Avengers: Infinity War        300,000,000   \n",
       "2     34   2015-06-12              Jurassic World        215,000,000   \n",
       "3     27   2012-05-04                The Avengers        225,000,000   \n",
       "4      4   2015-05-01     Avengers: Age of Ultron        330,600,000   \n",
       "...   ..          ...                         ...                ...   \n",
       "5782  88   2015-12-01            Brooklyn Bizarre            500,000   \n",
       "5783  44   2007-02-02                   Partition         10,000,000   \n",
       "5784  76   2014-12-31  America Is Still The Place            500,000   \n",
       "5785  75   2005-12-31             Insomnia Manica            500,000   \n",
       "5786  69   2008-12-12      The Kings of Appletown          7,000,000   \n",
       "\n",
       "      domestic_gross  worldwide_gross  release_year  total_profit  ROI  \\\n",
       "0        659,363,944    2,208,208,395          1997 2,008,208,395   10   \n",
       "1        678,815,482    2,048,134,200          2018 1,748,134,200    6   \n",
       "2        652,270,625    1,648,854,864          2015 1,433,854,864    7   \n",
       "3        623,279,547    1,517,935,897          2012 1,292,935,897    6   \n",
       "4        459,005,868    1,403,013,963          2015 1,072,413,963    3   \n",
       "...              ...              ...           ...           ...  ...   \n",
       "5782               0                0          2015      -500,000   -1   \n",
       "5783               0                0          2007   -10,000,000   -1   \n",
       "5784               0                0          2014      -500,000   -1   \n",
       "5785               0                0          2005      -500,000   -1   \n",
       "5786               0                0          2008    -7,000,000   -1   \n",
       "\n",
       "         tconst            primary_title           original_title  start_year  \\\n",
       "0     tt2495766                  Titanic                  Titanic       2,012   \n",
       "1     tt4154756   Avengers: Infinity War   Avengers: Infinity War       2,018   \n",
       "2     tt0369610           Jurassic World           Jurassic World       2,015   \n",
       "3     tt0848228             The Avengers             The Avengers       2,012   \n",
       "4     tt2395427  Avengers: Age of Ultron  Avengers: Age of Ultron       2,015   \n",
       "...         ...                      ...                      ...         ...   \n",
       "5782        NaN                      NaN                      NaN         nan   \n",
       "5783        NaN                      NaN                      NaN         nan   \n",
       "5784        NaN                      NaN                      NaN         nan   \n",
       "5785        NaN                      NaN                      NaN         nan   \n",
       "5786        NaN                      NaN                      NaN         nan   \n",
       "\n",
       "      runtime_minutes                   genres  averagerating  numvotes  \n",
       "0                 nan                Adventure              6        20  \n",
       "1                 149  Action,Adventure,Sci-Fi              8   670,926  \n",
       "2                 124  Action,Adventure,Sci-Fi              7   539,338  \n",
       "3                 143  Action,Adventure,Sci-Fi              8 1,183,655  \n",
       "4                 141  Action,Adventure,Sci-Fi              7   665,594  \n",
       "...               ...                      ...            ...       ...  \n",
       "5782              nan                      NaN            nan       nan  \n",
       "5783              nan                      NaN            nan       nan  \n",
       "5784              nan                      NaN            nan       nan  \n",
       "5785              nan                      NaN            nan       nan  \n",
       "5786              nan                      NaN            nan       nan  \n",
       "\n",
       "[5787 rows x 17 columns]"
      ]
     },
     "execution_count": 46,
     "metadata": {},
     "output_type": "execute_result"
    }
   ],
   "source": [
    "#dropping the columns that I missed before.\n",
    "project_df = project_df.drop(project_df[['_merge', 'tconst_y']], axis = 1)\n",
    "project_df"
   ]
  },
  {
   "cell_type": "code",
   "execution_count": 48,
   "metadata": {
    "ExecuteTime": {
     "end_time": "2021-10-01T13:50:47.446366Z",
     "start_time": "2021-10-01T13:50:47.425988Z"
    }
   },
   "outputs": [
    {
     "name": "stdout",
     "output_type": "stream",
     "text": [
      "<class 'pandas.core.frame.DataFrame'>\n",
      "RangeIndex: 5787 entries, 0 to 5786\n",
      "Data columns (total 17 columns):\n",
      " #   Column             Non-Null Count  Dtype         \n",
      "---  ------             --------------  -----         \n",
      " 0   id                 5787 non-null   int64         \n",
      " 1   release_date       5787 non-null   datetime64[ns]\n",
      " 2   movie              5787 non-null   object        \n",
      " 3   production_budget  5787 non-null   float64       \n",
      " 4   domestic_gross     5787 non-null   float64       \n",
      " 5   worldwide_gross    5787 non-null   float64       \n",
      " 6   release_year       5787 non-null   int64         \n",
      " 7   total_profit       5787 non-null   float64       \n",
      " 8   ROI                5787 non-null   float64       \n",
      " 9   tconst             2330 non-null   object        \n",
      " 10  primary_title      2430 non-null   object        \n",
      " 11  original_title     2430 non-null   object        \n",
      " 12  start_year         2430 non-null   float64       \n",
      " 13  runtime_minutes    2245 non-null   float64       \n",
      " 14  genres             2404 non-null   object        \n",
      " 15  averagerating      2111 non-null   float64       \n",
      " 16  numvotes           2021 non-null   float64       \n",
      "dtypes: datetime64[ns](1), float64(9), int64(2), object(5)\n",
      "memory usage: 768.7+ KB\n"
     ]
    }
   ],
   "source": [
    "project_df.info()"
   ]
  },
  {
   "cell_type": "code",
   "execution_count": 47,
   "metadata": {
    "ExecuteTime": {
     "end_time": "2021-10-01T13:50:44.457530Z",
     "start_time": "2021-10-01T13:50:44.405493Z"
    }
   },
   "outputs": [
    {
     "name": "stdout",
     "output_type": "stream",
     "text": [
      "0\n"
     ]
    },
    {
     "data": {
      "text/html": [
       "<div>\n",
       "<style scoped>\n",
       "    .dataframe tbody tr th:only-of-type {\n",
       "        vertical-align: middle;\n",
       "    }\n",
       "\n",
       "    .dataframe tbody tr th {\n",
       "        vertical-align: top;\n",
       "    }\n",
       "\n",
       "    .dataframe thead th {\n",
       "        text-align: right;\n",
       "    }\n",
       "</style>\n",
       "<table border=\"1\" class=\"dataframe\">\n",
       "  <thead>\n",
       "    <tr style=\"text-align: right;\">\n",
       "      <th></th>\n",
       "      <th>id</th>\n",
       "      <th>release_date</th>\n",
       "      <th>movie</th>\n",
       "      <th>production_budget</th>\n",
       "      <th>domestic_gross</th>\n",
       "      <th>worldwide_gross</th>\n",
       "      <th>release_year</th>\n",
       "      <th>total_profit</th>\n",
       "      <th>ROI</th>\n",
       "      <th>tconst</th>\n",
       "      <th>primary_title</th>\n",
       "      <th>original_title</th>\n",
       "      <th>start_year</th>\n",
       "      <th>runtime_minutes</th>\n",
       "      <th>genres</th>\n",
       "      <th>averagerating</th>\n",
       "      <th>numvotes</th>\n",
       "    </tr>\n",
       "  </thead>\n",
       "  <tbody>\n",
       "  </tbody>\n",
       "</table>\n",
       "</div>"
      ],
      "text/plain": [
       "Empty DataFrame\n",
       "Columns: [id, release_date, movie, production_budget, domestic_gross, worldwide_gross, release_year, total_profit, ROI, tconst, primary_title, original_title, start_year, runtime_minutes, genres, averagerating, numvotes]\n",
       "Index: []"
      ]
     },
     "execution_count": 47,
     "metadata": {},
     "output_type": "execute_result"
    }
   ],
   "source": [
    "#checking for duplicates\n",
    "duplicates = project_df[project_df.duplicated()]\n",
    "print(len(duplicates))\n",
    "duplicates.head()"
   ]
  },
  {
   "cell_type": "code",
   "execution_count": 50,
   "metadata": {
    "ExecuteTime": {
     "end_time": "2021-10-01T13:52:09.064406Z",
     "start_time": "2021-10-01T13:52:09.059124Z"
    }
   },
   "outputs": [],
   "source": [
    "#storing this df as project_df_master to keep all of this data safe before I start slicing out what I need.\n",
    "project_df_master = project_df"
   ]
  },
  {
   "cell_type": "markdown",
   "metadata": {},
   "source": [
    "#### Cleaning the genre data"
   ]
  },
  {
   "cell_type": "markdown",
   "metadata": {},
   "source": [
    "The genres that I got from the IMDB dataset are still a set of strings contianed in a single field. I need to split them out into three seperate cells so that I can properly analyze them."
   ]
  },
  {
   "cell_type": "code",
   "execution_count": 52,
   "metadata": {
    "ExecuteTime": {
     "end_time": "2021-10-01T13:59:14.079577Z",
     "start_time": "2021-10-01T13:59:13.990020Z"
    }
   },
   "outputs": [],
   "source": [
    "project_df[['genre_1', 'genre_2', 'genre_3']] = project_df['genres'].str.split(pat=\",\", expand=True)\n",
    "\n",
    "#adding my new genre columns to the master df\n",
    "project_df_master = project_df"
   ]
  },
  {
   "cell_type": "code",
   "execution_count": null,
   "metadata": {
    "ExecuteTime": {
     "end_time": "2021-10-01T01:53:23.399238Z",
     "start_time": "2021-10-01T01:53:23.394050Z"
    }
   },
   "outputs": [],
   "source": [
    "#adding my new genre columns to the master df\n",
    "#project_df_master = project_df"
   ]
  },
  {
   "cell_type": "code",
   "execution_count": 53,
   "metadata": {
    "ExecuteTime": {
     "end_time": "2021-10-01T13:59:16.509922Z",
     "start_time": "2021-10-01T13:59:16.485076Z"
    }
   },
   "outputs": [
    {
     "data": {
      "text/html": [
       "<div>\n",
       "<style scoped>\n",
       "    .dataframe tbody tr th:only-of-type {\n",
       "        vertical-align: middle;\n",
       "    }\n",
       "\n",
       "    .dataframe tbody tr th {\n",
       "        vertical-align: top;\n",
       "    }\n",
       "\n",
       "    .dataframe thead th {\n",
       "        text-align: right;\n",
       "    }\n",
       "</style>\n",
       "<table border=\"1\" class=\"dataframe\">\n",
       "  <thead>\n",
       "    <tr style=\"text-align: right;\">\n",
       "      <th></th>\n",
       "      <th>id</th>\n",
       "      <th>release_date</th>\n",
       "      <th>movie</th>\n",
       "      <th>production_budget</th>\n",
       "      <th>domestic_gross</th>\n",
       "      <th>worldwide_gross</th>\n",
       "      <th>release_year</th>\n",
       "      <th>total_profit</th>\n",
       "      <th>ROI</th>\n",
       "      <th>tconst</th>\n",
       "      <th>primary_title</th>\n",
       "      <th>original_title</th>\n",
       "      <th>start_year</th>\n",
       "      <th>runtime_minutes</th>\n",
       "      <th>genres</th>\n",
       "      <th>averagerating</th>\n",
       "      <th>numvotes</th>\n",
       "      <th>genre_1</th>\n",
       "      <th>genre_2</th>\n",
       "      <th>genre_3</th>\n",
       "    </tr>\n",
       "  </thead>\n",
       "  <tbody>\n",
       "    <tr>\n",
       "      <th>0</th>\n",
       "      <td>43</td>\n",
       "      <td>1997-12-19</td>\n",
       "      <td>Titanic</td>\n",
       "      <td>200,000,000</td>\n",
       "      <td>659,363,944</td>\n",
       "      <td>2,208,208,395</td>\n",
       "      <td>1997</td>\n",
       "      <td>2,008,208,395</td>\n",
       "      <td>10</td>\n",
       "      <td>tt2495766</td>\n",
       "      <td>Titanic</td>\n",
       "      <td>Titanic</td>\n",
       "      <td>2,012</td>\n",
       "      <td>nan</td>\n",
       "      <td>Adventure</td>\n",
       "      <td>6</td>\n",
       "      <td>20</td>\n",
       "      <td>Adventure</td>\n",
       "      <td>None</td>\n",
       "      <td>None</td>\n",
       "    </tr>\n",
       "    <tr>\n",
       "      <th>1</th>\n",
       "      <td>7</td>\n",
       "      <td>2018-04-27</td>\n",
       "      <td>Avengers: Infinity War</td>\n",
       "      <td>300,000,000</td>\n",
       "      <td>678,815,482</td>\n",
       "      <td>2,048,134,200</td>\n",
       "      <td>2018</td>\n",
       "      <td>1,748,134,200</td>\n",
       "      <td>6</td>\n",
       "      <td>tt4154756</td>\n",
       "      <td>Avengers: Infinity War</td>\n",
       "      <td>Avengers: Infinity War</td>\n",
       "      <td>2,018</td>\n",
       "      <td>149</td>\n",
       "      <td>Action,Adventure,Sci-Fi</td>\n",
       "      <td>8</td>\n",
       "      <td>670,926</td>\n",
       "      <td>Action</td>\n",
       "      <td>Adventure</td>\n",
       "      <td>Sci-Fi</td>\n",
       "    </tr>\n",
       "    <tr>\n",
       "      <th>2</th>\n",
       "      <td>34</td>\n",
       "      <td>2015-06-12</td>\n",
       "      <td>Jurassic World</td>\n",
       "      <td>215,000,000</td>\n",
       "      <td>652,270,625</td>\n",
       "      <td>1,648,854,864</td>\n",
       "      <td>2015</td>\n",
       "      <td>1,433,854,864</td>\n",
       "      <td>7</td>\n",
       "      <td>tt0369610</td>\n",
       "      <td>Jurassic World</td>\n",
       "      <td>Jurassic World</td>\n",
       "      <td>2,015</td>\n",
       "      <td>124</td>\n",
       "      <td>Action,Adventure,Sci-Fi</td>\n",
       "      <td>7</td>\n",
       "      <td>539,338</td>\n",
       "      <td>Action</td>\n",
       "      <td>Adventure</td>\n",
       "      <td>Sci-Fi</td>\n",
       "    </tr>\n",
       "  </tbody>\n",
       "</table>\n",
       "</div>"
      ],
      "text/plain": [
       "   id release_date                   movie  production_budget  domestic_gross  \\\n",
       "0  43   1997-12-19                 Titanic        200,000,000     659,363,944   \n",
       "1   7   2018-04-27  Avengers: Infinity War        300,000,000     678,815,482   \n",
       "2  34   2015-06-12          Jurassic World        215,000,000     652,270,625   \n",
       "\n",
       "   worldwide_gross  release_year  total_profit  ROI     tconst  \\\n",
       "0    2,208,208,395          1997 2,008,208,395   10  tt2495766   \n",
       "1    2,048,134,200          2018 1,748,134,200    6  tt4154756   \n",
       "2    1,648,854,864          2015 1,433,854,864    7  tt0369610   \n",
       "\n",
       "            primary_title          original_title  start_year  \\\n",
       "0                 Titanic                 Titanic       2,012   \n",
       "1  Avengers: Infinity War  Avengers: Infinity War       2,018   \n",
       "2          Jurassic World          Jurassic World       2,015   \n",
       "\n",
       "   runtime_minutes                   genres  averagerating  numvotes  \\\n",
       "0              nan                Adventure              6        20   \n",
       "1              149  Action,Adventure,Sci-Fi              8   670,926   \n",
       "2              124  Action,Adventure,Sci-Fi              7   539,338   \n",
       "\n",
       "     genre_1    genre_2 genre_3  \n",
       "0  Adventure       None    None  \n",
       "1     Action  Adventure  Sci-Fi  \n",
       "2     Action  Adventure  Sci-Fi  "
      ]
     },
     "execution_count": 53,
     "metadata": {},
     "output_type": "execute_result"
    }
   ],
   "source": [
    "project_df_master.head(3)"
   ]
  },
  {
   "cell_type": "markdown",
   "metadata": {},
   "source": [
    "## Initial Data Analysis"
   ]
  },
  {
   "cell_type": "markdown",
   "metadata": {},
   "source": [
    "Slicing out the columns that I want to use for my analysis."
   ]
  },
  {
   "cell_type": "code",
   "execution_count": 54,
   "metadata": {
    "ExecuteTime": {
     "end_time": "2021-10-01T14:00:09.880361Z",
     "start_time": "2021-10-01T14:00:09.848754Z"
    }
   },
   "outputs": [
    {
     "data": {
      "text/html": [
       "<div>\n",
       "<style scoped>\n",
       "    .dataframe tbody tr th:only-of-type {\n",
       "        vertical-align: middle;\n",
       "    }\n",
       "\n",
       "    .dataframe tbody tr th {\n",
       "        vertical-align: top;\n",
       "    }\n",
       "\n",
       "    .dataframe thead th {\n",
       "        text-align: right;\n",
       "    }\n",
       "</style>\n",
       "<table border=\"1\" class=\"dataframe\">\n",
       "  <thead>\n",
       "    <tr style=\"text-align: right;\">\n",
       "      <th></th>\n",
       "      <th>movie</th>\n",
       "      <th>release_year</th>\n",
       "      <th>production_budget</th>\n",
       "      <th>total_profit</th>\n",
       "      <th>ROI</th>\n",
       "      <th>averagerating</th>\n",
       "      <th>numvotes</th>\n",
       "      <th>runtime_minutes</th>\n",
       "      <th>genre_1</th>\n",
       "      <th>genre_2</th>\n",
       "      <th>genre_3</th>\n",
       "    </tr>\n",
       "  </thead>\n",
       "  <tbody>\n",
       "    <tr>\n",
       "      <th>0</th>\n",
       "      <td>Titanic</td>\n",
       "      <td>1997</td>\n",
       "      <td>200,000,000</td>\n",
       "      <td>2,008,208,395</td>\n",
       "      <td>10</td>\n",
       "      <td>6</td>\n",
       "      <td>20</td>\n",
       "      <td>nan</td>\n",
       "      <td>Adventure</td>\n",
       "      <td>None</td>\n",
       "      <td>None</td>\n",
       "    </tr>\n",
       "    <tr>\n",
       "      <th>1</th>\n",
       "      <td>Avengers: Infinity War</td>\n",
       "      <td>2018</td>\n",
       "      <td>300,000,000</td>\n",
       "      <td>1,748,134,200</td>\n",
       "      <td>6</td>\n",
       "      <td>8</td>\n",
       "      <td>670,926</td>\n",
       "      <td>149</td>\n",
       "      <td>Action</td>\n",
       "      <td>Adventure</td>\n",
       "      <td>Sci-Fi</td>\n",
       "    </tr>\n",
       "    <tr>\n",
       "      <th>2</th>\n",
       "      <td>Jurassic World</td>\n",
       "      <td>2015</td>\n",
       "      <td>215,000,000</td>\n",
       "      <td>1,433,854,864</td>\n",
       "      <td>7</td>\n",
       "      <td>7</td>\n",
       "      <td>539,338</td>\n",
       "      <td>124</td>\n",
       "      <td>Action</td>\n",
       "      <td>Adventure</td>\n",
       "      <td>Sci-Fi</td>\n",
       "    </tr>\n",
       "  </tbody>\n",
       "</table>\n",
       "</div>"
      ],
      "text/plain": [
       "                    movie  release_year  production_budget  total_profit  ROI  \\\n",
       "0                 Titanic          1997        200,000,000 2,008,208,395   10   \n",
       "1  Avengers: Infinity War          2018        300,000,000 1,748,134,200    6   \n",
       "2          Jurassic World          2015        215,000,000 1,433,854,864    7   \n",
       "\n",
       "   averagerating  numvotes  runtime_minutes    genre_1    genre_2 genre_3  \n",
       "0              6        20              nan  Adventure       None    None  \n",
       "1              8   670,926              149     Action  Adventure  Sci-Fi  \n",
       "2              7   539,338              124     Action  Adventure  Sci-Fi  "
      ]
     },
     "execution_count": 54,
     "metadata": {},
     "output_type": "execute_result"
    }
   ],
   "source": [
    "project_analysis_df = project_df_master[['movie','release_year', 'production_budget', 'total_profit', 'ROI',\n",
    "                                       'averagerating', 'numvotes','runtime_minutes', 'genre_1', 'genre_2',\n",
    "                                        'genre_3', ]]\n",
    "project_analysis_df.head(3)"
   ]
  },
  {
   "cell_type": "markdown",
   "metadata": {
    "ExecuteTime": {
     "end_time": "2021-09-28T21:16:05.913252Z",
     "start_time": "2021-09-28T21:16:05.894806Z"
    }
   },
   "source": [
    "### Analysis of the Project Dataframe\n",
    "- using **.info** and **.describe** methods to get a snapshot of the data contained in my project_analysis dataframe."
   ]
  },
  {
   "cell_type": "code",
   "execution_count": 55,
   "metadata": {
    "ExecuteTime": {
     "end_time": "2021-10-01T14:01:22.184721Z",
     "start_time": "2021-10-01T14:01:22.164906Z"
    }
   },
   "outputs": [
    {
     "name": "stdout",
     "output_type": "stream",
     "text": [
      "<class 'pandas.core.frame.DataFrame'>\n",
      "RangeIndex: 5787 entries, 0 to 5786\n",
      "Data columns (total 11 columns):\n",
      " #   Column             Non-Null Count  Dtype  \n",
      "---  ------             --------------  -----  \n",
      " 0   movie              5787 non-null   object \n",
      " 1   release_year       5787 non-null   int64  \n",
      " 2   production_budget  5787 non-null   float64\n",
      " 3   total_profit       5787 non-null   float64\n",
      " 4   ROI                5787 non-null   float64\n",
      " 5   averagerating      2111 non-null   float64\n",
      " 6   numvotes           2021 non-null   float64\n",
      " 7   runtime_minutes    2245 non-null   float64\n",
      " 8   genre_1            2404 non-null   object \n",
      " 9   genre_2            1863 non-null   object \n",
      " 10  genre_3            1300 non-null   object \n",
      "dtypes: float64(6), int64(1), object(4)\n",
      "memory usage: 497.4+ KB\n"
     ]
    }
   ],
   "source": [
    "project_analysis_df.info()"
   ]
  },
  {
   "cell_type": "code",
   "execution_count": 56,
   "metadata": {
    "ExecuteTime": {
     "end_time": "2021-10-01T14:05:00.357022Z",
     "start_time": "2021-10-01T14:05:00.321274Z"
    }
   },
   "outputs": [
    {
     "data": {
      "text/html": [
       "<div>\n",
       "<style scoped>\n",
       "    .dataframe tbody tr th:only-of-type {\n",
       "        vertical-align: middle;\n",
       "    }\n",
       "\n",
       "    .dataframe tbody tr th {\n",
       "        vertical-align: top;\n",
       "    }\n",
       "\n",
       "    .dataframe thead th {\n",
       "        text-align: right;\n",
       "    }\n",
       "</style>\n",
       "<table border=\"1\" class=\"dataframe\">\n",
       "  <thead>\n",
       "    <tr style=\"text-align: right;\">\n",
       "      <th></th>\n",
       "      <th>release_year</th>\n",
       "      <th>production_budget</th>\n",
       "      <th>total_profit</th>\n",
       "      <th>ROI</th>\n",
       "      <th>averagerating</th>\n",
       "      <th>numvotes</th>\n",
       "      <th>runtime_minutes</th>\n",
       "    </tr>\n",
       "  </thead>\n",
       "  <tbody>\n",
       "    <tr>\n",
       "      <th>count</th>\n",
       "      <td>5,787</td>\n",
       "      <td>5,787</td>\n",
       "      <td>5,787</td>\n",
       "      <td>5,787</td>\n",
       "      <td>2,111</td>\n",
       "      <td>2,021</td>\n",
       "      <td>2,245</td>\n",
       "    </tr>\n",
       "    <tr>\n",
       "      <th>mean</th>\n",
       "      <td>2,004</td>\n",
       "      <td>31,578,160</td>\n",
       "      <td>59,903,032</td>\n",
       "      <td>4</td>\n",
       "      <td>6</td>\n",
       "      <td>87,954</td>\n",
       "      <td>102</td>\n",
       "    </tr>\n",
       "    <tr>\n",
       "      <th>std</th>\n",
       "      <td>13</td>\n",
       "      <td>41,795,575</td>\n",
       "      <td>146,033,169</td>\n",
       "      <td>30</td>\n",
       "      <td>1</td>\n",
       "      <td>150,063</td>\n",
       "      <td>22</td>\n",
       "    </tr>\n",
       "    <tr>\n",
       "      <th>min</th>\n",
       "      <td>1,915</td>\n",
       "      <td>1,100</td>\n",
       "      <td>-200,237,650</td>\n",
       "      <td>-1</td>\n",
       "      <td>2</td>\n",
       "      <td>5</td>\n",
       "      <td>1</td>\n",
       "    </tr>\n",
       "    <tr>\n",
       "      <th>25%</th>\n",
       "      <td>2,000</td>\n",
       "      <td>5,000,000</td>\n",
       "      <td>-2,185,710</td>\n",
       "      <td>-1</td>\n",
       "      <td>6</td>\n",
       "      <td>1,680</td>\n",
       "      <td>90</td>\n",
       "    </tr>\n",
       "    <tr>\n",
       "      <th>50%</th>\n",
       "      <td>2,007</td>\n",
       "      <td>17,000,000</td>\n",
       "      <td>8,585,503</td>\n",
       "      <td>1</td>\n",
       "      <td>6</td>\n",
       "      <td>32,327</td>\n",
       "      <td>101</td>\n",
       "    </tr>\n",
       "    <tr>\n",
       "      <th>75%</th>\n",
       "      <td>2,012</td>\n",
       "      <td>40,000,000</td>\n",
       "      <td>61,053,888</td>\n",
       "      <td>3</td>\n",
       "      <td>7</td>\n",
       "      <td>105,279</td>\n",
       "      <td>114</td>\n",
       "    </tr>\n",
       "    <tr>\n",
       "      <th>max</th>\n",
       "      <td>2,020</td>\n",
       "      <td>425,000,000</td>\n",
       "      <td>2,351,345,279</td>\n",
       "      <td>1,799</td>\n",
       "      <td>9</td>\n",
       "      <td>1,841,066</td>\n",
       "      <td>189</td>\n",
       "    </tr>\n",
       "  </tbody>\n",
       "</table>\n",
       "</div>"
      ],
      "text/plain": [
       "       release_year  production_budget  total_profit   ROI  averagerating  \\\n",
       "count         5,787              5,787         5,787 5,787          2,111   \n",
       "mean          2,004         31,578,160    59,903,032     4              6   \n",
       "std              13         41,795,575   146,033,169    30              1   \n",
       "min           1,915              1,100  -200,237,650    -1              2   \n",
       "25%           2,000          5,000,000    -2,185,710    -1              6   \n",
       "50%           2,007         17,000,000     8,585,503     1              6   \n",
       "75%           2,012         40,000,000    61,053,888     3              7   \n",
       "max           2,020        425,000,000 2,351,345,279 1,799              9   \n",
       "\n",
       "       numvotes  runtime_minutes  \n",
       "count     2,021            2,245  \n",
       "mean     87,954              102  \n",
       "std     150,063               22  \n",
       "min           5                1  \n",
       "25%       1,680               90  \n",
       "50%      32,327              101  \n",
       "75%     105,279              114  \n",
       "max   1,841,066              189  "
      ]
     },
     "execution_count": 56,
     "metadata": {},
     "output_type": "execute_result"
    }
   ],
   "source": [
    "project_analysis_df.describe()"
   ]
  },
  {
   "cell_type": "markdown",
   "metadata": {},
   "source": [
    "**Project Analysis dataframe:**\n",
    "\n",
    "- Contains **financial data** from The Numbers and **genres** and **ratings** from IMDB.\n",
    "- 5787 movies in this dataset\n",
    "- 2111 have ratings and genre information\n",
    "- Earliest movie is 1915.\n",
    "- Most recent movie is 2020.\n",
    "\n",
    "**Next Steps:**\n",
    "- Recent data will be the most useful, so I will slice out the last 30-40 years of financial data.\n",
    "- However, I only have genre data for the years 2010-2019, so **I will be limited to that for genre analysis.**\n",
    "- It would also be beneficial to look at the data in 10 year slices to analyze trends.\n",
    "- Also remove movies that are too new to have relevent data. (ex. 2020 movies that have a budget but no revenue)"
   ]
  },
  {
   "cell_type": "markdown",
   "metadata": {},
   "source": [
    "### Analysis of Recent Movies (2000-2019)"
   ]
  },
  {
   "cell_type": "code",
   "execution_count": 57,
   "metadata": {
    "ExecuteTime": {
     "end_time": "2021-10-01T14:06:34.731211Z",
     "start_time": "2021-10-01T14:06:34.707902Z"
    }
   },
   "outputs": [
    {
     "name": "stdout",
     "output_type": "stream",
     "text": [
      "<class 'pandas.core.frame.DataFrame'>\n",
      "Int64Index: 4387 entries, 1 to 5786\n",
      "Data columns (total 11 columns):\n",
      " #   Column             Non-Null Count  Dtype  \n",
      "---  ------             --------------  -----  \n",
      " 0   movie              4387 non-null   object \n",
      " 1   release_year       4387 non-null   int64  \n",
      " 2   production_budget  4387 non-null   float64\n",
      " 3   total_profit       4387 non-null   float64\n",
      " 4   ROI                4387 non-null   float64\n",
      " 5   averagerating      1966 non-null   float64\n",
      " 6   numvotes           1902 non-null   float64\n",
      " 7   runtime_minutes    2050 non-null   float64\n",
      " 8   genre_1            2153 non-null   object \n",
      " 9   genre_2            1731 non-null   object \n",
      " 10  genre_3            1233 non-null   object \n",
      "dtypes: float64(6), int64(1), object(4)\n",
      "memory usage: 411.3+ KB\n"
     ]
    }
   ],
   "source": [
    "#creating recent_movies which contains all movies since 2000.\n",
    "recent_movies = project_analysis_df\n",
    "recent_movies = recent_movies[recent_movies['release_year'] >= 2000]\n",
    "recent_movies = recent_movies[recent_movies['release_year'] < 2020]\n",
    "recent_movies.info()"
   ]
  },
  {
   "cell_type": "code",
   "execution_count": 58,
   "metadata": {
    "ExecuteTime": {
     "end_time": "2021-10-01T14:06:39.103443Z",
     "start_time": "2021-10-01T14:06:39.069140Z"
    }
   },
   "outputs": [
    {
     "data": {
      "text/html": [
       "<div>\n",
       "<style scoped>\n",
       "    .dataframe tbody tr th:only-of-type {\n",
       "        vertical-align: middle;\n",
       "    }\n",
       "\n",
       "    .dataframe tbody tr th {\n",
       "        vertical-align: top;\n",
       "    }\n",
       "\n",
       "    .dataframe thead th {\n",
       "        text-align: right;\n",
       "    }\n",
       "</style>\n",
       "<table border=\"1\" class=\"dataframe\">\n",
       "  <thead>\n",
       "    <tr style=\"text-align: right;\">\n",
       "      <th></th>\n",
       "      <th>release_year</th>\n",
       "      <th>production_budget</th>\n",
       "      <th>total_profit</th>\n",
       "      <th>ROI</th>\n",
       "      <th>averagerating</th>\n",
       "      <th>numvotes</th>\n",
       "      <th>runtime_minutes</th>\n",
       "    </tr>\n",
       "  </thead>\n",
       "  <tbody>\n",
       "    <tr>\n",
       "      <th>count</th>\n",
       "      <td>4,387</td>\n",
       "      <td>4,387</td>\n",
       "      <td>4,387</td>\n",
       "      <td>4,387</td>\n",
       "      <td>1,966</td>\n",
       "      <td>1,902</td>\n",
       "      <td>2,050</td>\n",
       "    </tr>\n",
       "    <tr>\n",
       "      <th>mean</th>\n",
       "      <td>2,009</td>\n",
       "      <td>34,458,994</td>\n",
       "      <td>62,507,732</td>\n",
       "      <td>2</td>\n",
       "      <td>6</td>\n",
       "      <td>90,709</td>\n",
       "      <td>103</td>\n",
       "    </tr>\n",
       "    <tr>\n",
       "      <th>std</th>\n",
       "      <td>5</td>\n",
       "      <td>45,470,758</td>\n",
       "      <td>153,386,325</td>\n",
       "      <td>13</td>\n",
       "      <td>1</td>\n",
       "      <td>150,633</td>\n",
       "      <td>22</td>\n",
       "    </tr>\n",
       "    <tr>\n",
       "      <th>min</th>\n",
       "      <td>2,000</td>\n",
       "      <td>1,100</td>\n",
       "      <td>-200,237,650</td>\n",
       "      <td>-1</td>\n",
       "      <td>2</td>\n",
       "      <td>5</td>\n",
       "      <td>1</td>\n",
       "    </tr>\n",
       "    <tr>\n",
       "      <th>25%</th>\n",
       "      <td>2,005</td>\n",
       "      <td>5,000,000</td>\n",
       "      <td>-2,325,372</td>\n",
       "      <td>-1</td>\n",
       "      <td>6</td>\n",
       "      <td>3,004</td>\n",
       "      <td>91</td>\n",
       "    </tr>\n",
       "    <tr>\n",
       "      <th>50%</th>\n",
       "      <td>2,009</td>\n",
       "      <td>18,000,000</td>\n",
       "      <td>7,747,682</td>\n",
       "      <td>1</td>\n",
       "      <td>6</td>\n",
       "      <td>36,004</td>\n",
       "      <td>101</td>\n",
       "    </tr>\n",
       "    <tr>\n",
       "      <th>75%</th>\n",
       "      <td>2,014</td>\n",
       "      <td>43,000,000</td>\n",
       "      <td>63,175,527</td>\n",
       "      <td>2</td>\n",
       "      <td>7</td>\n",
       "      <td>107,919</td>\n",
       "      <td>114</td>\n",
       "    </tr>\n",
       "    <tr>\n",
       "      <th>max</th>\n",
       "      <td>2,019</td>\n",
       "      <td>425,000,000</td>\n",
       "      <td>2,351,345,279</td>\n",
       "      <td>431</td>\n",
       "      <td>9</td>\n",
       "      <td>1,841,066</td>\n",
       "      <td>189</td>\n",
       "    </tr>\n",
       "  </tbody>\n",
       "</table>\n",
       "</div>"
      ],
      "text/plain": [
       "       release_year  production_budget  total_profit   ROI  averagerating  \\\n",
       "count         4,387              4,387         4,387 4,387          1,966   \n",
       "mean          2,009         34,458,994    62,507,732     2              6   \n",
       "std               5         45,470,758   153,386,325    13              1   \n",
       "min           2,000              1,100  -200,237,650    -1              2   \n",
       "25%           2,005          5,000,000    -2,325,372    -1              6   \n",
       "50%           2,009         18,000,000     7,747,682     1              6   \n",
       "75%           2,014         43,000,000    63,175,527     2              7   \n",
       "max           2,019        425,000,000 2,351,345,279   431              9   \n",
       "\n",
       "       numvotes  runtime_minutes  \n",
       "count     1,902            2,050  \n",
       "mean     90,709              103  \n",
       "std     150,633               22  \n",
       "min           5                1  \n",
       "25%       3,004               91  \n",
       "50%      36,004              101  \n",
       "75%     107,919              114  \n",
       "max   1,841,066              189  "
      ]
     },
     "execution_count": 58,
     "metadata": {},
     "output_type": "execute_result"
    }
   ],
   "source": [
    "recent_movies.describe()"
   ]
  },
  {
   "cell_type": "markdown",
   "metadata": {},
   "source": [
    "**Recent Movies (2000 - 2019):**\n",
    "- There are 4,387 movies, which is a good sample size.\n",
    "- Nearly half of them have genre information (but all are from 2010-2019)\n",
    "- A movie needs to be near the median to make a profit.\n",
    "- The median and the mean are very different. I need to look for outliers.\n",
    "- The better performing movies have a slightly higher averagerating and longer average runtime.\n"
   ]
  },
  {
   "cell_type": "markdown",
   "metadata": {},
   "source": [
    "## Questions to Answer\n",
    "\n",
    "Now that I have pulled recent movies (2000 - 2019) from my analysis dataframe. I can set out to answer my key questions.\n",
    "\n",
    "1. How do we determine what a successful movie is?\n",
    "2. Which genres have been the most successful recently?\n",
    "3. Which of these genres should Microsoft pursue?\n",
    "4. How much should Microsoft budget for the movies they produce?"
   ]
  },
  {
   "cell_type": "markdown",
   "metadata": {},
   "source": [
    "### Question 1: Measuring Success\n",
    "I am going to use the 2010-2019 dataset as it contains the genre data that I want to use to answer future questions. I will slice out the most successful movies.\n",
    "The two metrics that I will be using are **total profit and return on investment (ROI)**\n",
    "I will then slice out the top 500 movies as that is roughly the top quartile for this dataset.\n",
    "**These movies would be good for Microsoft to emulate as we want to be as successful as possible.**"
   ]
  },
  {
   "cell_type": "code",
   "execution_count": 59,
   "metadata": {
    "ExecuteTime": {
     "end_time": "2021-10-01T14:10:44.744206Z",
     "start_time": "2021-10-01T14:10:44.724883Z"
    }
   },
   "outputs": [],
   "source": [
    "recent_movies_2010 = recent_movies[recent_movies['release_year'] >= 2010]\n",
    "recent_movies_2000 = recent_movies[recent_movies['release_year'] < 2010]"
   ]
  },
  {
   "cell_type": "code",
   "execution_count": 60,
   "metadata": {
    "ExecuteTime": {
     "end_time": "2021-10-01T14:11:47.759551Z",
     "start_time": "2021-10-01T14:11:47.741926Z"
    }
   },
   "outputs": [
    {
     "name": "stdout",
     "output_type": "stream",
     "text": [
      "<class 'pandas.core.frame.DataFrame'>\n",
      "Int64Index: 2191 entries, 1 to 5784\n",
      "Data columns (total 11 columns):\n",
      " #   Column             Non-Null Count  Dtype  \n",
      "---  ------             --------------  -----  \n",
      " 0   movie              2191 non-null   object \n",
      " 1   release_year       2191 non-null   int64  \n",
      " 2   production_budget  2191 non-null   float64\n",
      " 3   total_profit       2191 non-null   float64\n",
      " 4   ROI                2191 non-null   float64\n",
      " 5   averagerating      1785 non-null   float64\n",
      " 6   numvotes           1747 non-null   float64\n",
      " 7   runtime_minutes    1804 non-null   float64\n",
      " 8   genre_1            1838 non-null   object \n",
      " 9   genre_2            1571 non-null   object \n",
      " 10  genre_3            1132 non-null   object \n",
      "dtypes: float64(6), int64(1), object(4)\n",
      "memory usage: 205.4+ KB\n"
     ]
    }
   ],
   "source": [
    "recent_movies_2010.info()"
   ]
  },
  {
   "cell_type": "code",
   "execution_count": 61,
   "metadata": {
    "ExecuteTime": {
     "end_time": "2021-10-01T14:12:19.168900Z",
     "start_time": "2021-10-01T14:12:19.136669Z"
    }
   },
   "outputs": [
    {
     "data": {
      "text/html": [
       "<div>\n",
       "<style scoped>\n",
       "    .dataframe tbody tr th:only-of-type {\n",
       "        vertical-align: middle;\n",
       "    }\n",
       "\n",
       "    .dataframe tbody tr th {\n",
       "        vertical-align: top;\n",
       "    }\n",
       "\n",
       "    .dataframe thead th {\n",
       "        text-align: right;\n",
       "    }\n",
       "</style>\n",
       "<table border=\"1\" class=\"dataframe\">\n",
       "  <thead>\n",
       "    <tr style=\"text-align: right;\">\n",
       "      <th></th>\n",
       "      <th>release_year</th>\n",
       "      <th>production_budget</th>\n",
       "      <th>total_profit</th>\n",
       "      <th>ROI</th>\n",
       "      <th>averagerating</th>\n",
       "      <th>numvotes</th>\n",
       "      <th>runtime_minutes</th>\n",
       "    </tr>\n",
       "  </thead>\n",
       "  <tbody>\n",
       "    <tr>\n",
       "      <th>count</th>\n",
       "      <td>2,191</td>\n",
       "      <td>2,191</td>\n",
       "      <td>2,191</td>\n",
       "      <td>2,191</td>\n",
       "      <td>1,785</td>\n",
       "      <td>1,747</td>\n",
       "      <td>1,804</td>\n",
       "    </tr>\n",
       "    <tr>\n",
       "      <th>mean</th>\n",
       "      <td>2,014</td>\n",
       "      <td>36,454,786</td>\n",
       "      <td>75,591,780</td>\n",
       "      <td>2</td>\n",
       "      <td>6</td>\n",
       "      <td>98,036</td>\n",
       "      <td>105</td>\n",
       "    </tr>\n",
       "    <tr>\n",
       "      <th>std</th>\n",
       "      <td>3</td>\n",
       "      <td>51,512,399</td>\n",
       "      <td>177,114,582</td>\n",
       "      <td>11</td>\n",
       "      <td>1</td>\n",
       "      <td>154,717</td>\n",
       "      <td>19</td>\n",
       "    </tr>\n",
       "    <tr>\n",
       "      <th>min</th>\n",
       "      <td>2,010</td>\n",
       "      <td>1,400</td>\n",
       "      <td>-200,237,650</td>\n",
       "      <td>-1</td>\n",
       "      <td>2</td>\n",
       "      <td>5</td>\n",
       "      <td>6</td>\n",
       "    </tr>\n",
       "    <tr>\n",
       "      <th>25%</th>\n",
       "      <td>2,012</td>\n",
       "      <td>4,500,000</td>\n",
       "      <td>-2,000,000</td>\n",
       "      <td>-1</td>\n",
       "      <td>6</td>\n",
       "      <td>6,440</td>\n",
       "      <td>93</td>\n",
       "    </tr>\n",
       "    <tr>\n",
       "      <th>50%</th>\n",
       "      <td>2,014</td>\n",
       "      <td>16,000,000</td>\n",
       "      <td>8,495,213</td>\n",
       "      <td>1</td>\n",
       "      <td>6</td>\n",
       "      <td>41,782</td>\n",
       "      <td>103</td>\n",
       "    </tr>\n",
       "    <tr>\n",
       "      <th>75%</th>\n",
       "      <td>2,016</td>\n",
       "      <td>42,000,000</td>\n",
       "      <td>71,463,116</td>\n",
       "      <td>3</td>\n",
       "      <td>7</td>\n",
       "      <td>117,674</td>\n",
       "      <td>116</td>\n",
       "    </tr>\n",
       "    <tr>\n",
       "      <th>max</th>\n",
       "      <td>2,019</td>\n",
       "      <td>410,600,000</td>\n",
       "      <td>1,748,134,200</td>\n",
       "      <td>416</td>\n",
       "      <td>9</td>\n",
       "      <td>1,841,066</td>\n",
       "      <td>189</td>\n",
       "    </tr>\n",
       "  </tbody>\n",
       "</table>\n",
       "</div>"
      ],
      "text/plain": [
       "       release_year  production_budget  total_profit   ROI  averagerating  \\\n",
       "count         2,191              2,191         2,191 2,191          1,785   \n",
       "mean          2,014         36,454,786    75,591,780     2              6   \n",
       "std               3         51,512,399   177,114,582    11              1   \n",
       "min           2,010              1,400  -200,237,650    -1              2   \n",
       "25%           2,012          4,500,000    -2,000,000    -1              6   \n",
       "50%           2,014         16,000,000     8,495,213     1              6   \n",
       "75%           2,016         42,000,000    71,463,116     3              7   \n",
       "max           2,019        410,600,000 1,748,134,200   416              9   \n",
       "\n",
       "       numvotes  runtime_minutes  \n",
       "count     1,747            1,804  \n",
       "mean     98,036              105  \n",
       "std     154,717               19  \n",
       "min           5                6  \n",
       "25%       6,440               93  \n",
       "50%      41,782              103  \n",
       "75%     117,674              116  \n",
       "max   1,841,066              189  "
      ]
     },
     "execution_count": 61,
     "metadata": {},
     "output_type": "execute_result"
    }
   ],
   "source": [
    "recent_movies_2010.describe()"
   ]
  },
  {
   "cell_type": "markdown",
   "metadata": {},
   "source": [
    "#### Answer: Metrics Microsoft should aim for\n",
    "\n",
    "**Based on 2010 - 2019 releases. To be successful (on average):**\n",
    "- **Need to be near the top 50% to get a return on investement**.\n",
    "- If in the top 50%, the **expected budget should be 20 - 40 million dollars, with a expected profit range of 10 - 70 million dollars**.\n",
    "- The IMDB **ratings seem to be \"good, not great\" at 6-7 out of 10**, although the movies in the top quartile have a higher average (barely)\n",
    "- I have genre information for most movies in this dataset, so it is what I will use for all genre analysis.\n",
    "- This is fine because **Microsoft will want the most recent data about which genres have been successful.**\n",
    "- Roughly 2200 movies in this dataframe after the split."
   ]
  },
  {
   "cell_type": "markdown",
   "metadata": {},
   "source": [
    "#### What happens Microsoft doesn't succeed?\n",
    "\n",
    "While we are looking at successful movies for Microsoft to emulate, **it is also helpful to look at the movies that didn't do well**. My metric for this is movies that lost money."
   ]
  },
  {
   "cell_type": "code",
   "execution_count": 64,
   "metadata": {
    "ExecuteTime": {
     "end_time": "2021-10-01T14:17:32.590277Z",
     "start_time": "2021-10-01T14:17:32.581003Z"
    }
   },
   "outputs": [],
   "source": [
    "#movies that did not make a profit\n",
    "loss_df= recent_movies_2010.sort_values('total_profit', ascending=True)\n",
    "loss_df = loss_df[0:800]"
   ]
  },
  {
   "cell_type": "code",
   "execution_count": 66,
   "metadata": {
    "ExecuteTime": {
     "end_time": "2021-10-01T14:18:01.600490Z",
     "start_time": "2021-10-01T14:18:01.564518Z"
    }
   },
   "outputs": [
    {
     "data": {
      "text/html": [
       "<div>\n",
       "<style scoped>\n",
       "    .dataframe tbody tr th:only-of-type {\n",
       "        vertical-align: middle;\n",
       "    }\n",
       "\n",
       "    .dataframe tbody tr th {\n",
       "        vertical-align: top;\n",
       "    }\n",
       "\n",
       "    .dataframe thead th {\n",
       "        text-align: right;\n",
       "    }\n",
       "</style>\n",
       "<table border=\"1\" class=\"dataframe\">\n",
       "  <thead>\n",
       "    <tr style=\"text-align: right;\">\n",
       "      <th></th>\n",
       "      <th>release_year</th>\n",
       "      <th>production_budget</th>\n",
       "      <th>total_profit</th>\n",
       "      <th>ROI</th>\n",
       "      <th>averagerating</th>\n",
       "      <th>numvotes</th>\n",
       "      <th>runtime_minutes</th>\n",
       "    </tr>\n",
       "  </thead>\n",
       "  <tbody>\n",
       "    <tr>\n",
       "      <th>count</th>\n",
       "      <td>800</td>\n",
       "      <td>800</td>\n",
       "      <td>800</td>\n",
       "      <td>800</td>\n",
       "      <td>605</td>\n",
       "      <td>581</td>\n",
       "      <td>615</td>\n",
       "    </tr>\n",
       "    <tr>\n",
       "      <th>mean</th>\n",
       "      <td>2,014</td>\n",
       "      <td>16,705,714</td>\n",
       "      <td>-9,391,128</td>\n",
       "      <td>-1</td>\n",
       "      <td>6</td>\n",
       "      <td>22,858</td>\n",
       "      <td>102</td>\n",
       "    </tr>\n",
       "    <tr>\n",
       "      <th>std</th>\n",
       "      <td>2</td>\n",
       "      <td>27,798,340</td>\n",
       "      <td>14,906,225</td>\n",
       "      <td>0</td>\n",
       "      <td>1</td>\n",
       "      <td>38,011</td>\n",
       "      <td>19</td>\n",
       "    </tr>\n",
       "    <tr>\n",
       "      <th>min</th>\n",
       "      <td>2,010</td>\n",
       "      <td>200,000</td>\n",
       "      <td>-200,237,650</td>\n",
       "      <td>-1</td>\n",
       "      <td>2</td>\n",
       "      <td>6</td>\n",
       "      <td>6</td>\n",
       "    </tr>\n",
       "    <tr>\n",
       "      <th>25%</th>\n",
       "      <td>2,012</td>\n",
       "      <td>2,000,000</td>\n",
       "      <td>-11,205,269</td>\n",
       "      <td>-1</td>\n",
       "      <td>5</td>\n",
       "      <td>882</td>\n",
       "      <td>90</td>\n",
       "    </tr>\n",
       "    <tr>\n",
       "      <th>50%</th>\n",
       "      <td>2,014</td>\n",
       "      <td>7,500,000</td>\n",
       "      <td>-4,449,910</td>\n",
       "      <td>-1</td>\n",
       "      <td>6</td>\n",
       "      <td>7,060</td>\n",
       "      <td>99</td>\n",
       "    </tr>\n",
       "    <tr>\n",
       "      <th>75%</th>\n",
       "      <td>2,015</td>\n",
       "      <td>20,000,000</td>\n",
       "      <td>-1,416,352</td>\n",
       "      <td>-1</td>\n",
       "      <td>7</td>\n",
       "      <td>33,603</td>\n",
       "      <td>110</td>\n",
       "    </tr>\n",
       "    <tr>\n",
       "      <th>max</th>\n",
       "      <td>2,019</td>\n",
       "      <td>350,000,000</td>\n",
       "      <td>-187,625</td>\n",
       "      <td>-0</td>\n",
       "      <td>9</td>\n",
       "      <td>403,755</td>\n",
       "      <td>177</td>\n",
       "    </tr>\n",
       "  </tbody>\n",
       "</table>\n",
       "</div>"
      ],
      "text/plain": [
       "       release_year  production_budget  total_profit  ROI  averagerating  \\\n",
       "count           800                800           800  800            605   \n",
       "mean          2,014         16,705,714    -9,391,128   -1              6   \n",
       "std               2         27,798,340    14,906,225    0              1   \n",
       "min           2,010            200,000  -200,237,650   -1              2   \n",
       "25%           2,012          2,000,000   -11,205,269   -1              5   \n",
       "50%           2,014          7,500,000    -4,449,910   -1              6   \n",
       "75%           2,015         20,000,000    -1,416,352   -1              7   \n",
       "max           2,019        350,000,000      -187,625   -0              9   \n",
       "\n",
       "       numvotes  runtime_minutes  \n",
       "count       581              615  \n",
       "mean     22,858              102  \n",
       "std      38,011               19  \n",
       "min           6                6  \n",
       "25%         882               90  \n",
       "50%       7,060               99  \n",
       "75%      33,603              110  \n",
       "max     403,755              177  "
      ]
     },
     "execution_count": 66,
     "metadata": {},
     "output_type": "execute_result"
    }
   ],
   "source": [
    "loss_df.describe()"
   ]
  },
  {
   "cell_type": "markdown",
   "metadata": {},
   "source": [
    "Analysis:\n",
    "- 800 movies from our data set (out of 2200) lost money.\n",
    "- The **budgets on these movies seem to be smaller** than it is for profitable movies at **8 to 20 million dollars** on the high end (but with at least one going all the way up to 350 million!)\n",
    "- While I'm sure it's possible to lose more money that you have already spent due to marketing, etc, **based on the data that I have, the most money that a movie can lose is it's production budget**. Perhaps this is why these movies tend to have lower budgets. Maybe the studios know that there is more risk and therefore a greater chance of losing money and therefore don't want to invest as much."
   ]
  },
  {
   "cell_type": "markdown",
   "metadata": {},
   "source": [
    "### Question 2: Which Genres have been the most successful?\n",
    "\n",
    "**What genres correspond to the most profitable movies as well as the movies with the best ROI?**\n",
    "\n",
    "I will use the 2010-2019 dataset for this analysis as it has the most complete genre information.\n",
    "Since a movie can have multiple genres, I will do value counts for each of the 3 genre columns, and then do value counts to determine how many times each genre is associated with each dataset."
   ]
  },
  {
   "cell_type": "markdown",
   "metadata": {
    "ExecuteTime": {
     "end_time": "2021-10-01T02:44:39.084367Z",
     "start_time": "2021-10-01T02:44:39.080146Z"
    }
   },
   "source": [
    "#### Genre Analysis\n",
    "- I am creating variables that I can use to analyze Genres using the metrics for success that I identified earlier.\n",
    "- I am also going to create a function that gets the value counsts of each genre type."
   ]
  },
  {
   "cell_type": "code",
   "execution_count": 67,
   "metadata": {
    "ExecuteTime": {
     "end_time": "2021-10-01T14:29:49.570423Z",
     "start_time": "2021-10-01T14:29:49.551241Z"
    }
   },
   "outputs": [],
   "source": [
    "#creating variables\n",
    "profit_df= recent_movies_2010.sort_values('total_profit', ascending=False) #all recent movies ranked by profit.\n",
    "roi_df = recent_movies_2010.sort_values('ROI', ascending=False) #all recent movies ranked by ROI.\n",
    "top_profit = profit_df[0:500] #Top 500 movies by Total Profit\n",
    "all_profit = profit_df[0:1250] #all movies that made a profit. (top 1250)\n",
    "top_roi = roi_df[0:500] # top 500 movies by ROI."
   ]
  },
  {
   "cell_type": "code",
   "execution_count": 68,
   "metadata": {
    "ExecuteTime": {
     "end_time": "2021-10-01T14:43:00.642354Z",
     "start_time": "2021-10-01T14:43:00.628942Z"
    }
   },
   "outputs": [],
   "source": [
    "#creating function\n",
    "def genre_df(df): #gets the value counts of the genre columns in a dataframe\n",
    "    genre_df = df[['genre_1', 'genre_2' , 'genre_3']]\n",
    "    genre_counts= genre_df.apply(pd.Series.value_counts)\n",
    "    genre_df = genre_counts.fillna(0)\n",
    "    genre_df['total'] = genre_counts.sum(axis=1)\n",
    "    genre_df = genre_df.reset_index()\n",
    "    return genre_df"
   ]
  },
  {
   "cell_type": "markdown",
   "metadata": {},
   "source": [
    "Using my genre_df function to get the genres associated with profitable movies (top 500 profit), as well as movies that lost money."
   ]
  },
  {
   "cell_type": "code",
   "execution_count": 69,
   "metadata": {
    "ExecuteTime": {
     "end_time": "2021-10-01T14:46:03.789909Z",
     "start_time": "2021-10-01T14:46:03.751770Z"
    }
   },
   "outputs": [
    {
     "data": {
      "text/html": [
       "<div>\n",
       "<style scoped>\n",
       "    .dataframe tbody tr th:only-of-type {\n",
       "        vertical-align: middle;\n",
       "    }\n",
       "\n",
       "    .dataframe tbody tr th {\n",
       "        vertical-align: top;\n",
       "    }\n",
       "\n",
       "    .dataframe thead th {\n",
       "        text-align: right;\n",
       "    }\n",
       "</style>\n",
       "<table border=\"1\" class=\"dataframe\">\n",
       "  <thead>\n",
       "    <tr style=\"text-align: right;\">\n",
       "      <th></th>\n",
       "      <th>index</th>\n",
       "      <th>total</th>\n",
       "    </tr>\n",
       "  </thead>\n",
       "  <tbody>\n",
       "    <tr>\n",
       "      <th>7</th>\n",
       "      <td>Drama</td>\n",
       "      <td>357</td>\n",
       "    </tr>\n",
       "    <tr>\n",
       "      <th>4</th>\n",
       "      <td>Comedy</td>\n",
       "      <td>170</td>\n",
       "    </tr>\n",
       "    <tr>\n",
       "      <th>0</th>\n",
       "      <td>Action</td>\n",
       "      <td>155</td>\n",
       "    </tr>\n",
       "    <tr>\n",
       "      <th>18</th>\n",
       "      <td>Thriller</td>\n",
       "      <td>117</td>\n",
       "    </tr>\n",
       "    <tr>\n",
       "      <th>5</th>\n",
       "      <td>Crime</td>\n",
       "      <td>117</td>\n",
       "    </tr>\n",
       "  </tbody>\n",
       "</table>\n",
       "</div>"
      ],
      "text/plain": [
       "       index  total\n",
       "7      Drama    357\n",
       "4     Comedy    170\n",
       "0     Action    155\n",
       "18  Thriller    117\n",
       "5      Crime    117"
      ]
     },
     "execution_count": 69,
     "metadata": {},
     "output_type": "execute_result"
    }
   ],
   "source": [
    "loss_genre_df = genre_df(loss_df)\n",
    "loss_genre_df = loss_genre_df.reset_index()\n",
    "loss_genre_df = loss_genre_df.drop(loss_genre_df[['level_0','genre_1', 'genre_2', 'genre_3']], axis=1)\n",
    "loss_genre_df = loss_genre_df.sort_values('total', ascending=False)\n",
    "loss_genre_df.head()"
   ]
  },
  {
   "cell_type": "code",
   "execution_count": 70,
   "metadata": {
    "ExecuteTime": {
     "end_time": "2021-10-01T14:46:09.603889Z",
     "start_time": "2021-10-01T14:46:09.582046Z"
    }
   },
   "outputs": [
    {
     "data": {
      "text/html": [
       "<div>\n",
       "<style scoped>\n",
       "    .dataframe tbody tr th:only-of-type {\n",
       "        vertical-align: middle;\n",
       "    }\n",
       "\n",
       "    .dataframe tbody tr th {\n",
       "        vertical-align: top;\n",
       "    }\n",
       "\n",
       "    .dataframe thead th {\n",
       "        text-align: right;\n",
       "    }\n",
       "</style>\n",
       "<table border=\"1\" class=\"dataframe\">\n",
       "  <thead>\n",
       "    <tr style=\"text-align: right;\">\n",
       "      <th></th>\n",
       "      <th>index</th>\n",
       "      <th>total</th>\n",
       "    </tr>\n",
       "  </thead>\n",
       "  <tbody>\n",
       "    <tr>\n",
       "      <th>1</th>\n",
       "      <td>Adventure</td>\n",
       "      <td>202</td>\n",
       "    </tr>\n",
       "    <tr>\n",
       "      <th>0</th>\n",
       "      <td>Action</td>\n",
       "      <td>195</td>\n",
       "    </tr>\n",
       "    <tr>\n",
       "      <th>4</th>\n",
       "      <td>Comedy</td>\n",
       "      <td>160</td>\n",
       "    </tr>\n",
       "    <tr>\n",
       "      <th>7</th>\n",
       "      <td>Drama</td>\n",
       "      <td>121</td>\n",
       "    </tr>\n",
       "    <tr>\n",
       "      <th>18</th>\n",
       "      <td>Thriller</td>\n",
       "      <td>72</td>\n",
       "    </tr>\n",
       "  </tbody>\n",
       "</table>\n",
       "</div>"
      ],
      "text/plain": [
       "        index  total\n",
       "1   Adventure    202\n",
       "0      Action    195\n",
       "4      Comedy    160\n",
       "7       Drama    121\n",
       "18   Thriller     72"
      ]
     },
     "execution_count": 70,
     "metadata": {},
     "output_type": "execute_result"
    }
   ],
   "source": [
    "#These are the genres from the 500 most profitable movies from 2010-2019\n",
    "genre_df_profit = genre_df(top_profit)\n",
    "genre_df_profit = genre_df_profit.sort_values('total', ascending=False)\n",
    "genre_df_profit = genre_df_profit.drop(genre_df_profit[['genre_1', 'genre_2', 'genre_3']], axis=1)\n",
    "\n",
    "genre_df_profit.head()"
   ]
  },
  {
   "cell_type": "markdown",
   "metadata": {},
   "source": [
    "Creating a Genre Dataframe for all movies in the dataset."
   ]
  },
  {
   "cell_type": "code",
   "execution_count": 71,
   "metadata": {
    "ExecuteTime": {
     "end_time": "2021-10-01T14:47:22.646112Z",
     "start_time": "2021-10-01T14:47:22.620849Z"
    }
   },
   "outputs": [
    {
     "data": {
      "text/html": [
       "<div>\n",
       "<style scoped>\n",
       "    .dataframe tbody tr th:only-of-type {\n",
       "        vertical-align: middle;\n",
       "    }\n",
       "\n",
       "    .dataframe tbody tr th {\n",
       "        vertical-align: top;\n",
       "    }\n",
       "\n",
       "    .dataframe thead th {\n",
       "        text-align: right;\n",
       "    }\n",
       "</style>\n",
       "<table border=\"1\" class=\"dataframe\">\n",
       "  <thead>\n",
       "    <tr style=\"text-align: right;\">\n",
       "      <th></th>\n",
       "      <th>index</th>\n",
       "      <th>total</th>\n",
       "    </tr>\n",
       "  </thead>\n",
       "  <tbody>\n",
       "    <tr>\n",
       "      <th>7</th>\n",
       "      <td>Drama</td>\n",
       "      <td>902</td>\n",
       "    </tr>\n",
       "    <tr>\n",
       "      <th>4</th>\n",
       "      <td>Comedy</td>\n",
       "      <td>597</td>\n",
       "    </tr>\n",
       "    <tr>\n",
       "      <th>0</th>\n",
       "      <td>Action</td>\n",
       "      <td>493</td>\n",
       "    </tr>\n",
       "    <tr>\n",
       "      <th>1</th>\n",
       "      <td>Adventure</td>\n",
       "      <td>387</td>\n",
       "    </tr>\n",
       "    <tr>\n",
       "      <th>18</th>\n",
       "      <td>Thriller</td>\n",
       "      <td>321</td>\n",
       "    </tr>\n",
       "    <tr>\n",
       "      <th>5</th>\n",
       "      <td>Crime</td>\n",
       "      <td>276</td>\n",
       "    </tr>\n",
       "    <tr>\n",
       "      <th>11</th>\n",
       "      <td>Horror</td>\n",
       "      <td>231</td>\n",
       "    </tr>\n",
       "    <tr>\n",
       "      <th>15</th>\n",
       "      <td>Romance</td>\n",
       "      <td>229</td>\n",
       "    </tr>\n",
       "    <tr>\n",
       "      <th>3</th>\n",
       "      <td>Biography</td>\n",
       "      <td>158</td>\n",
       "    </tr>\n",
       "    <tr>\n",
       "      <th>16</th>\n",
       "      <td>Sci-Fi</td>\n",
       "      <td>156</td>\n",
       "    </tr>\n",
       "    <tr>\n",
       "      <th>14</th>\n",
       "      <td>Mystery</td>\n",
       "      <td>146</td>\n",
       "    </tr>\n",
       "    <tr>\n",
       "      <th>9</th>\n",
       "      <td>Fantasy</td>\n",
       "      <td>135</td>\n",
       "    </tr>\n",
       "    <tr>\n",
       "      <th>2</th>\n",
       "      <td>Animation</td>\n",
       "      <td>115</td>\n",
       "    </tr>\n",
       "    <tr>\n",
       "      <th>8</th>\n",
       "      <td>Family</td>\n",
       "      <td>108</td>\n",
       "    </tr>\n",
       "    <tr>\n",
       "      <th>6</th>\n",
       "      <td>Documentary</td>\n",
       "      <td>88</td>\n",
       "    </tr>\n",
       "    <tr>\n",
       "      <th>10</th>\n",
       "      <td>History</td>\n",
       "      <td>58</td>\n",
       "    </tr>\n",
       "    <tr>\n",
       "      <th>12</th>\n",
       "      <td>Music</td>\n",
       "      <td>58</td>\n",
       "    </tr>\n",
       "    <tr>\n",
       "      <th>17</th>\n",
       "      <td>Sport</td>\n",
       "      <td>34</td>\n",
       "    </tr>\n",
       "    <tr>\n",
       "      <th>19</th>\n",
       "      <td>War</td>\n",
       "      <td>25</td>\n",
       "    </tr>\n",
       "    <tr>\n",
       "      <th>20</th>\n",
       "      <td>Western</td>\n",
       "      <td>13</td>\n",
       "    </tr>\n",
       "    <tr>\n",
       "      <th>13</th>\n",
       "      <td>Musical</td>\n",
       "      <td>11</td>\n",
       "    </tr>\n",
       "  </tbody>\n",
       "</table>\n",
       "</div>"
      ],
      "text/plain": [
       "          index  total\n",
       "7         Drama    902\n",
       "4        Comedy    597\n",
       "0        Action    493\n",
       "1     Adventure    387\n",
       "18     Thriller    321\n",
       "5         Crime    276\n",
       "11       Horror    231\n",
       "15      Romance    229\n",
       "3     Biography    158\n",
       "16       Sci-Fi    156\n",
       "14      Mystery    146\n",
       "9       Fantasy    135\n",
       "2     Animation    115\n",
       "8        Family    108\n",
       "6   Documentary     88\n",
       "10      History     58\n",
       "12        Music     58\n",
       "17        Sport     34\n",
       "19          War     25\n",
       "20      Western     13\n",
       "13      Musical     11"
      ]
     },
     "execution_count": 71,
     "metadata": {},
     "output_type": "execute_result"
    }
   ],
   "source": [
    "#Genre DF for ALL movies from dataset \n",
    "genre_df_2010 = genre_df(recent_movies_2010)\n",
    "genre_df_2010 = genre_df_2010.drop(genre_df_2010[['genre_1', 'genre_2', 'genre_3']], axis=1)\n",
    "genre_df_2010 = genre_df_2010.sort_values('total', ascending = False)\n",
    "genre_df_2010"
   ]
  },
  {
   "cell_type": "code",
   "execution_count": 72,
   "metadata": {
    "ExecuteTime": {
     "end_time": "2021-10-01T14:49:11.296863Z",
     "start_time": "2021-10-01T14:49:11.261286Z"
    }
   },
   "outputs": [
    {
     "data": {
      "text/html": [
       "<div>\n",
       "<style scoped>\n",
       "    .dataframe tbody tr th:only-of-type {\n",
       "        vertical-align: middle;\n",
       "    }\n",
       "\n",
       "    .dataframe tbody tr th {\n",
       "        vertical-align: top;\n",
       "    }\n",
       "\n",
       "    .dataframe thead th {\n",
       "        text-align: right;\n",
       "    }\n",
       "</style>\n",
       "<table border=\"1\" class=\"dataframe\">\n",
       "  <thead>\n",
       "    <tr style=\"text-align: right;\">\n",
       "      <th></th>\n",
       "      <th>index</th>\n",
       "      <th>total</th>\n",
       "    </tr>\n",
       "  </thead>\n",
       "  <tbody>\n",
       "    <tr>\n",
       "      <th>7</th>\n",
       "      <td>Drama</td>\n",
       "      <td>476</td>\n",
       "    </tr>\n",
       "    <tr>\n",
       "      <th>4</th>\n",
       "      <td>Comedy</td>\n",
       "      <td>399</td>\n",
       "    </tr>\n",
       "    <tr>\n",
       "      <th>0</th>\n",
       "      <td>Action</td>\n",
       "      <td>332</td>\n",
       "    </tr>\n",
       "    <tr>\n",
       "      <th>1</th>\n",
       "      <td>Adventure</td>\n",
       "      <td>301</td>\n",
       "    </tr>\n",
       "    <tr>\n",
       "      <th>18</th>\n",
       "      <td>Thriller</td>\n",
       "      <td>180</td>\n",
       "    </tr>\n",
       "  </tbody>\n",
       "</table>\n",
       "</div>"
      ],
      "text/plain": [
       "        index  total\n",
       "7       Drama    476\n",
       "4      Comedy    399\n",
       "0      Action    332\n",
       "1   Adventure    301\n",
       "18   Thriller    180"
      ]
     },
     "execution_count": 72,
     "metadata": {},
     "output_type": "execute_result"
    }
   ],
   "source": [
    "#These are the genres from ALL profitable movies from 2010-2019\n",
    "\n",
    "genre_df_all_profit = genre_df(all_profit)\n",
    "genre_df_all_profit = genre_df_all_profit.drop(genre_df_all_profit[['genre_1', 'genre_2', 'genre_3']], axis=1)\n",
    "genre_df_all_profit = genre_df_all_profit.sort_values('total', ascending=False)\n",
    "\n",
    "genre_df_all_profit.head()"
   ]
  },
  {
   "cell_type": "code",
   "execution_count": 73,
   "metadata": {
    "ExecuteTime": {
     "end_time": "2021-10-01T14:49:15.379446Z",
     "start_time": "2021-10-01T14:49:15.363081Z"
    }
   },
   "outputs": [
    {
     "data": {
      "text/html": [
       "<div>\n",
       "<style scoped>\n",
       "    .dataframe tbody tr th:only-of-type {\n",
       "        vertical-align: middle;\n",
       "    }\n",
       "\n",
       "    .dataframe tbody tr th {\n",
       "        vertical-align: top;\n",
       "    }\n",
       "\n",
       "    .dataframe thead th {\n",
       "        text-align: right;\n",
       "    }\n",
       "</style>\n",
       "<table border=\"1\" class=\"dataframe\">\n",
       "  <thead>\n",
       "    <tr style=\"text-align: right;\">\n",
       "      <th></th>\n",
       "      <th>index</th>\n",
       "      <th>total</th>\n",
       "    </tr>\n",
       "  </thead>\n",
       "  <tbody>\n",
       "    <tr>\n",
       "      <th>7</th>\n",
       "      <td>Drama</td>\n",
       "      <td>199</td>\n",
       "    </tr>\n",
       "    <tr>\n",
       "      <th>4</th>\n",
       "      <td>Comedy</td>\n",
       "      <td>152</td>\n",
       "    </tr>\n",
       "    <tr>\n",
       "      <th>0</th>\n",
       "      <td>Action</td>\n",
       "      <td>104</td>\n",
       "    </tr>\n",
       "  </tbody>\n",
       "</table>\n",
       "</div>"
      ],
      "text/plain": [
       "    index  total\n",
       "7   Drama    199\n",
       "4  Comedy    152\n",
       "0  Action    104"
      ]
     },
     "execution_count": 73,
     "metadata": {},
     "output_type": "execute_result"
    }
   ],
   "source": [
    "#These are the genres from the 500 movies with the best ROI from 2010-2019\n",
    "genre_df_roi = genre_df(top_roi)\n",
    "genre_df_roi = genre_df_roi.sort_values('total', ascending=False)\n",
    "genre_df_roi = genre_df_roi.drop(genre_df_roi[['genre_1', 'genre_2', 'genre_3']], axis=1)\n",
    "genre_df_roi.head(3)"
   ]
  },
  {
   "cell_type": "markdown",
   "metadata": {
    "ExecuteTime": {
     "end_time": "2021-10-01T02:59:11.633879Z",
     "start_time": "2021-10-01T02:59:11.626603Z"
    }
   },
   "source": [
    "#### Genre Top Profit & ROI"
   ]
  },
  {
   "cell_type": "code",
   "execution_count": 75,
   "metadata": {
    "ExecuteTime": {
     "end_time": "2021-10-01T14:49:46.405486Z",
     "start_time": "2021-10-01T14:49:46.381917Z"
    }
   },
   "outputs": [
    {
     "data": {
      "text/html": [
       "<div>\n",
       "<style scoped>\n",
       "    .dataframe tbody tr th:only-of-type {\n",
       "        vertical-align: middle;\n",
       "    }\n",
       "\n",
       "    .dataframe tbody tr th {\n",
       "        vertical-align: top;\n",
       "    }\n",
       "\n",
       "    .dataframe thead th {\n",
       "        text-align: right;\n",
       "    }\n",
       "</style>\n",
       "<table border=\"1\" class=\"dataframe\">\n",
       "  <thead>\n",
       "    <tr style=\"text-align: right;\">\n",
       "      <th></th>\n",
       "      <th>index</th>\n",
       "      <th>profit_genres</th>\n",
       "      <th>roi_genres</th>\n",
       "    </tr>\n",
       "  </thead>\n",
       "  <tbody>\n",
       "    <tr>\n",
       "      <th>0</th>\n",
       "      <td>Adventure</td>\n",
       "      <td>202</td>\n",
       "      <td>101</td>\n",
       "    </tr>\n",
       "    <tr>\n",
       "      <th>1</th>\n",
       "      <td>Action</td>\n",
       "      <td>195</td>\n",
       "      <td>104</td>\n",
       "    </tr>\n",
       "    <tr>\n",
       "      <th>2</th>\n",
       "      <td>Comedy</td>\n",
       "      <td>160</td>\n",
       "      <td>152</td>\n",
       "    </tr>\n",
       "    <tr>\n",
       "      <th>3</th>\n",
       "      <td>Drama</td>\n",
       "      <td>121</td>\n",
       "      <td>199</td>\n",
       "    </tr>\n",
       "    <tr>\n",
       "      <th>4</th>\n",
       "      <td>Thriller</td>\n",
       "      <td>72</td>\n",
       "      <td>79</td>\n",
       "    </tr>\n",
       "    <tr>\n",
       "      <th>5</th>\n",
       "      <td>Sci-Fi</td>\n",
       "      <td>72</td>\n",
       "      <td>48</td>\n",
       "    </tr>\n",
       "    <tr>\n",
       "      <th>6</th>\n",
       "      <td>Animation</td>\n",
       "      <td>70</td>\n",
       "      <td>37</td>\n",
       "    </tr>\n",
       "    <tr>\n",
       "      <th>7</th>\n",
       "      <td>Fantasy</td>\n",
       "      <td>46</td>\n",
       "      <td>27</td>\n",
       "    </tr>\n",
       "    <tr>\n",
       "      <th>8</th>\n",
       "      <td>Crime</td>\n",
       "      <td>40</td>\n",
       "      <td>39</td>\n",
       "    </tr>\n",
       "    <tr>\n",
       "      <th>9</th>\n",
       "      <td>Horror</td>\n",
       "      <td>39</td>\n",
       "      <td>72</td>\n",
       "    </tr>\n",
       "    <tr>\n",
       "      <th>10</th>\n",
       "      <td>Romance</td>\n",
       "      <td>39</td>\n",
       "      <td>62</td>\n",
       "    </tr>\n",
       "    <tr>\n",
       "      <th>11</th>\n",
       "      <td>Mystery</td>\n",
       "      <td>35</td>\n",
       "      <td>55</td>\n",
       "    </tr>\n",
       "    <tr>\n",
       "      <th>12</th>\n",
       "      <td>Family</td>\n",
       "      <td>32</td>\n",
       "      <td>19</td>\n",
       "    </tr>\n",
       "    <tr>\n",
       "      <th>13</th>\n",
       "      <td>Biography</td>\n",
       "      <td>29</td>\n",
       "      <td>40</td>\n",
       "    </tr>\n",
       "    <tr>\n",
       "      <th>14</th>\n",
       "      <td>History</td>\n",
       "      <td>12</td>\n",
       "      <td>12</td>\n",
       "    </tr>\n",
       "    <tr>\n",
       "      <th>15</th>\n",
       "      <td>Music</td>\n",
       "      <td>10</td>\n",
       "      <td>16</td>\n",
       "    </tr>\n",
       "    <tr>\n",
       "      <th>16</th>\n",
       "      <td>Documentary</td>\n",
       "      <td>8</td>\n",
       "      <td>17</td>\n",
       "    </tr>\n",
       "    <tr>\n",
       "      <th>17</th>\n",
       "      <td>Sport</td>\n",
       "      <td>4</td>\n",
       "      <td>4</td>\n",
       "    </tr>\n",
       "    <tr>\n",
       "      <th>18</th>\n",
       "      <td>War</td>\n",
       "      <td>4</td>\n",
       "      <td>3</td>\n",
       "    </tr>\n",
       "    <tr>\n",
       "      <th>19</th>\n",
       "      <td>Musical</td>\n",
       "      <td>3</td>\n",
       "      <td>4</td>\n",
       "    </tr>\n",
       "    <tr>\n",
       "      <th>20</th>\n",
       "      <td>Western</td>\n",
       "      <td>2</td>\n",
       "      <td>2</td>\n",
       "    </tr>\n",
       "  </tbody>\n",
       "</table>\n",
       "</div>"
      ],
      "text/plain": [
       "          index  profit_genres  roi_genres\n",
       "0     Adventure            202         101\n",
       "1        Action            195         104\n",
       "2        Comedy            160         152\n",
       "3         Drama            121         199\n",
       "4      Thriller             72          79\n",
       "5        Sci-Fi             72          48\n",
       "6     Animation             70          37\n",
       "7       Fantasy             46          27\n",
       "8         Crime             40          39\n",
       "9        Horror             39          72\n",
       "10      Romance             39          62\n",
       "11      Mystery             35          55\n",
       "12       Family             32          19\n",
       "13    Biography             29          40\n",
       "14      History             12          12\n",
       "15        Music             10          16\n",
       "16  Documentary              8          17\n",
       "17        Sport              4           4\n",
       "18          War              4           3\n",
       "19      Musical              3           4\n",
       "20      Western              2           2"
      ]
     },
     "execution_count": 75,
     "metadata": {},
     "output_type": "execute_result"
    }
   ],
   "source": [
    "#Genres that are associated with the Top 500 most profitable movies and/or the 500 movies with the best ROI.\n",
    "\n",
    "genre_df_merged = pd.merge(genre_df_profit, genre_df_roi, on= 'index', how='left')\n",
    "genre_df_merged = genre_df_merged.rename(columns={'total_x': 'profit_genres', 'total_y': 'roi_genres'})\n",
    "genre_df_merged.sort_values('roi_genres', ascending=False)\n",
    "genre_df_merged"
   ]
  },
  {
   "cell_type": "code",
   "execution_count": 76,
   "metadata": {
    "ExecuteTime": {
     "end_time": "2021-10-01T15:04:48.950405Z",
     "start_time": "2021-10-01T15:04:48.913893Z"
    }
   },
   "outputs": [
    {
     "data": {
      "text/html": [
       "<div>\n",
       "<style scoped>\n",
       "    .dataframe tbody tr th:only-of-type {\n",
       "        vertical-align: middle;\n",
       "    }\n",
       "\n",
       "    .dataframe tbody tr th {\n",
       "        vertical-align: top;\n",
       "    }\n",
       "\n",
       "    .dataframe thead th {\n",
       "        text-align: right;\n",
       "    }\n",
       "</style>\n",
       "<table border=\"1\" class=\"dataframe\">\n",
       "  <thead>\n",
       "    <tr style=\"text-align: right;\">\n",
       "      <th></th>\n",
       "      <th>index</th>\n",
       "      <th>profit_genres</th>\n",
       "      <th>roi_genres</th>\n",
       "    </tr>\n",
       "  </thead>\n",
       "  <tbody>\n",
       "    <tr>\n",
       "      <th>3</th>\n",
       "      <td>Drama</td>\n",
       "      <td>121</td>\n",
       "      <td>199</td>\n",
       "    </tr>\n",
       "    <tr>\n",
       "      <th>2</th>\n",
       "      <td>Comedy</td>\n",
       "      <td>160</td>\n",
       "      <td>152</td>\n",
       "    </tr>\n",
       "    <tr>\n",
       "      <th>1</th>\n",
       "      <td>Action</td>\n",
       "      <td>195</td>\n",
       "      <td>104</td>\n",
       "    </tr>\n",
       "    <tr>\n",
       "      <th>0</th>\n",
       "      <td>Adventure</td>\n",
       "      <td>202</td>\n",
       "      <td>101</td>\n",
       "    </tr>\n",
       "    <tr>\n",
       "      <th>4</th>\n",
       "      <td>Thriller</td>\n",
       "      <td>72</td>\n",
       "      <td>79</td>\n",
       "    </tr>\n",
       "    <tr>\n",
       "      <th>9</th>\n",
       "      <td>Horror</td>\n",
       "      <td>39</td>\n",
       "      <td>72</td>\n",
       "    </tr>\n",
       "    <tr>\n",
       "      <th>10</th>\n",
       "      <td>Romance</td>\n",
       "      <td>39</td>\n",
       "      <td>62</td>\n",
       "    </tr>\n",
       "    <tr>\n",
       "      <th>11</th>\n",
       "      <td>Mystery</td>\n",
       "      <td>35</td>\n",
       "      <td>55</td>\n",
       "    </tr>\n",
       "    <tr>\n",
       "      <th>5</th>\n",
       "      <td>Sci-Fi</td>\n",
       "      <td>72</td>\n",
       "      <td>48</td>\n",
       "    </tr>\n",
       "    <tr>\n",
       "      <th>13</th>\n",
       "      <td>Biography</td>\n",
       "      <td>29</td>\n",
       "      <td>40</td>\n",
       "    </tr>\n",
       "    <tr>\n",
       "      <th>8</th>\n",
       "      <td>Crime</td>\n",
       "      <td>40</td>\n",
       "      <td>39</td>\n",
       "    </tr>\n",
       "    <tr>\n",
       "      <th>6</th>\n",
       "      <td>Animation</td>\n",
       "      <td>70</td>\n",
       "      <td>37</td>\n",
       "    </tr>\n",
       "    <tr>\n",
       "      <th>7</th>\n",
       "      <td>Fantasy</td>\n",
       "      <td>46</td>\n",
       "      <td>27</td>\n",
       "    </tr>\n",
       "    <tr>\n",
       "      <th>12</th>\n",
       "      <td>Family</td>\n",
       "      <td>32</td>\n",
       "      <td>19</td>\n",
       "    </tr>\n",
       "    <tr>\n",
       "      <th>16</th>\n",
       "      <td>Documentary</td>\n",
       "      <td>8</td>\n",
       "      <td>17</td>\n",
       "    </tr>\n",
       "    <tr>\n",
       "      <th>15</th>\n",
       "      <td>Music</td>\n",
       "      <td>10</td>\n",
       "      <td>16</td>\n",
       "    </tr>\n",
       "    <tr>\n",
       "      <th>14</th>\n",
       "      <td>History</td>\n",
       "      <td>12</td>\n",
       "      <td>12</td>\n",
       "    </tr>\n",
       "    <tr>\n",
       "      <th>17</th>\n",
       "      <td>Sport</td>\n",
       "      <td>4</td>\n",
       "      <td>4</td>\n",
       "    </tr>\n",
       "    <tr>\n",
       "      <th>19</th>\n",
       "      <td>Musical</td>\n",
       "      <td>3</td>\n",
       "      <td>4</td>\n",
       "    </tr>\n",
       "    <tr>\n",
       "      <th>18</th>\n",
       "      <td>War</td>\n",
       "      <td>4</td>\n",
       "      <td>3</td>\n",
       "    </tr>\n",
       "    <tr>\n",
       "      <th>20</th>\n",
       "      <td>Western</td>\n",
       "      <td>2</td>\n",
       "      <td>2</td>\n",
       "    </tr>\n",
       "  </tbody>\n",
       "</table>\n",
       "</div>"
      ],
      "text/plain": [
       "          index  profit_genres  roi_genres\n",
       "3         Drama            121         199\n",
       "2        Comedy            160         152\n",
       "1        Action            195         104\n",
       "0     Adventure            202         101\n",
       "4      Thriller             72          79\n",
       "9        Horror             39          72\n",
       "10      Romance             39          62\n",
       "11      Mystery             35          55\n",
       "5        Sci-Fi             72          48\n",
       "13    Biography             29          40\n",
       "8         Crime             40          39\n",
       "6     Animation             70          37\n",
       "7       Fantasy             46          27\n",
       "12       Family             32          19\n",
       "16  Documentary              8          17\n",
       "15        Music             10          16\n",
       "14      History             12          12\n",
       "17        Sport              4           4\n",
       "19      Musical              3           4\n",
       "18          War              4           3\n",
       "20      Western              2           2"
      ]
     },
     "execution_count": 76,
     "metadata": {},
     "output_type": "execute_result"
    }
   ],
   "source": [
    "genre_df_merged.sort_values('roi_genres', ascending=False)"
   ]
  },
  {
   "cell_type": "markdown",
   "metadata": {},
   "source": [
    "#### Answer: Top Performaning Genres\n",
    "- **Adventure, Action, Drama and Comedy** are at the top of both lists.\n",
    "-**Thriller is the 5th genre on both list, but considerably lower than the other 4.**\n",
    "- **Sci-fi and Animation** are the next tier for profit.\n",
    "- **Horror, Romance, and Mystery** have a higher ROI than most other genres.\n",
    "\n",
    "This information tells us how many of the top profit and ROI movies are classified as each genre.**However, the data does NOT tell us how many of each type of movie is being made, and how many are unsuccessful. We will need to to dig further to uncover that information.**\n",
    "\n",
    "However, **this data set does accurately show which genres were successful in the time period that we have data for**. So it's safe to assume that these are the most popular genres being made, answering question 2.\n",
    "\n",
    "\n"
   ]
  },
  {
   "cell_type": "markdown",
   "metadata": {},
   "source": [
    "### Genre Success Rate\n",
    "- Let's find out how successful each genre is when you also take into consideration how many movies of that genre did not meet our success metrics."
   ]
  },
  {
   "cell_type": "code",
   "execution_count": 77,
   "metadata": {
    "ExecuteTime": {
     "end_time": "2021-10-01T15:18:48.541128Z",
     "start_time": "2021-10-01T15:18:48.522773Z"
    }
   },
   "outputs": [],
   "source": [
    "#function for determining success rate\n",
    "\n",
    "def success_rate_df(df):\n",
    "    success_rate = df.apply(lambda x: x['Profit'] / x['Total'], axis=1)\n",
    "    df['success_rate'] = success_rate\n",
    "    df['success_rate'] = df['success_rate'].map(\"{:.2%}\".format)\n",
    "    df = df.sort_values('success_rate', ascending=False)\n"
   ]
  },
  {
   "cell_type": "markdown",
   "metadata": {},
   "source": [
    "**The first hurdle that we want to clear is making sure that the movie doesn't lose money.**"
   ]
  },
  {
   "cell_type": "code",
   "execution_count": 78,
   "metadata": {
    "ExecuteTime": {
     "end_time": "2021-10-01T15:19:02.580771Z",
     "start_time": "2021-10-01T15:19:02.541119Z"
    }
   },
   "outputs": [
    {
     "data": {
      "text/html": [
       "<div>\n",
       "<style scoped>\n",
       "    .dataframe tbody tr th:only-of-type {\n",
       "        vertical-align: middle;\n",
       "    }\n",
       "\n",
       "    .dataframe tbody tr th {\n",
       "        vertical-align: top;\n",
       "    }\n",
       "\n",
       "    .dataframe thead th {\n",
       "        text-align: right;\n",
       "    }\n",
       "</style>\n",
       "<table border=\"1\" class=\"dataframe\">\n",
       "  <thead>\n",
       "    <tr style=\"text-align: right;\">\n",
       "      <th></th>\n",
       "      <th>index</th>\n",
       "      <th>Profit</th>\n",
       "      <th>Loss</th>\n",
       "      <th>Total</th>\n",
       "      <th>success_rate</th>\n",
       "    </tr>\n",
       "  </thead>\n",
       "  <tbody>\n",
       "    <tr>\n",
       "      <th>9</th>\n",
       "      <td>Animation</td>\n",
       "      <td>98</td>\n",
       "      <td>17</td>\n",
       "      <td>115</td>\n",
       "      <td>85.22%</td>\n",
       "    </tr>\n",
       "    <tr>\n",
       "      <th>3</th>\n",
       "      <td>Adventure</td>\n",
       "      <td>301</td>\n",
       "      <td>81</td>\n",
       "      <td>382</td>\n",
       "      <td>78.80%</td>\n",
       "    </tr>\n",
       "    <tr>\n",
       "      <th>10</th>\n",
       "      <td>Fantasy</td>\n",
       "      <td>97</td>\n",
       "      <td>34</td>\n",
       "      <td>131</td>\n",
       "      <td>74.05%</td>\n",
       "    </tr>\n",
       "    <tr>\n",
       "      <th>13</th>\n",
       "      <td>Family</td>\n",
       "      <td>74</td>\n",
       "      <td>28</td>\n",
       "      <td>102</td>\n",
       "      <td>72.55%</td>\n",
       "    </tr>\n",
       "    <tr>\n",
       "      <th>8</th>\n",
       "      <td>Sci-Fi</td>\n",
       "      <td>104</td>\n",
       "      <td>43</td>\n",
       "      <td>147</td>\n",
       "      <td>70.75%</td>\n",
       "    </tr>\n",
       "    <tr>\n",
       "      <th>1</th>\n",
       "      <td>Comedy</td>\n",
       "      <td>399</td>\n",
       "      <td>170</td>\n",
       "      <td>569</td>\n",
       "      <td>70.12%</td>\n",
       "    </tr>\n",
       "    <tr>\n",
       "      <th>2</th>\n",
       "      <td>Action</td>\n",
       "      <td>332</td>\n",
       "      <td>155</td>\n",
       "      <td>487</td>\n",
       "      <td>68.17%</td>\n",
       "    </tr>\n",
       "    <tr>\n",
       "      <th>11</th>\n",
       "      <td>Mystery</td>\n",
       "      <td>92</td>\n",
       "      <td>46</td>\n",
       "      <td>138</td>\n",
       "      <td>66.67%</td>\n",
       "    </tr>\n",
       "    <tr>\n",
       "      <th>14</th>\n",
       "      <td>Music</td>\n",
       "      <td>35</td>\n",
       "      <td>18</td>\n",
       "      <td>53</td>\n",
       "      <td>66.04%</td>\n",
       "    </tr>\n",
       "    <tr>\n",
       "      <th>6</th>\n",
       "      <td>Romance</td>\n",
       "      <td>141</td>\n",
       "      <td>73</td>\n",
       "      <td>214</td>\n",
       "      <td>65.89%</td>\n",
       "    </tr>\n",
       "    <tr>\n",
       "      <th>4</th>\n",
       "      <td>Thriller</td>\n",
       "      <td>180</td>\n",
       "      <td>117</td>\n",
       "      <td>297</td>\n",
       "      <td>60.61%</td>\n",
       "    </tr>\n",
       "    <tr>\n",
       "      <th>12</th>\n",
       "      <td>Biography</td>\n",
       "      <td>91</td>\n",
       "      <td>60</td>\n",
       "      <td>151</td>\n",
       "      <td>60.26%</td>\n",
       "    </tr>\n",
       "    <tr>\n",
       "      <th>0</th>\n",
       "      <td>Drama</td>\n",
       "      <td>476</td>\n",
       "      <td>357</td>\n",
       "      <td>833</td>\n",
       "      <td>57.14%</td>\n",
       "    </tr>\n",
       "    <tr>\n",
       "      <th>7</th>\n",
       "      <td>Horror</td>\n",
       "      <td>121</td>\n",
       "      <td>92</td>\n",
       "      <td>213</td>\n",
       "      <td>56.81%</td>\n",
       "    </tr>\n",
       "    <tr>\n",
       "      <th>5</th>\n",
       "      <td>Crime</td>\n",
       "      <td>145</td>\n",
       "      <td>117</td>\n",
       "      <td>262</td>\n",
       "      <td>55.34%</td>\n",
       "    </tr>\n",
       "    <tr>\n",
       "      <th>17</th>\n",
       "      <td>Sport</td>\n",
       "      <td>16</td>\n",
       "      <td>14</td>\n",
       "      <td>30</td>\n",
       "      <td>53.33%</td>\n",
       "    </tr>\n",
       "    <tr>\n",
       "      <th>16</th>\n",
       "      <td>History</td>\n",
       "      <td>29</td>\n",
       "      <td>27</td>\n",
       "      <td>56</td>\n",
       "      <td>51.79%</td>\n",
       "    </tr>\n",
       "    <tr>\n",
       "      <th>15</th>\n",
       "      <td>Documentary</td>\n",
       "      <td>34</td>\n",
       "      <td>34</td>\n",
       "      <td>68</td>\n",
       "      <td>50.00%</td>\n",
       "    </tr>\n",
       "    <tr>\n",
       "      <th>19</th>\n",
       "      <td>Musical</td>\n",
       "      <td>5</td>\n",
       "      <td>6</td>\n",
       "      <td>11</td>\n",
       "      <td>45.45%</td>\n",
       "    </tr>\n",
       "    <tr>\n",
       "      <th>18</th>\n",
       "      <td>War</td>\n",
       "      <td>10</td>\n",
       "      <td>14</td>\n",
       "      <td>24</td>\n",
       "      <td>41.67%</td>\n",
       "    </tr>\n",
       "    <tr>\n",
       "      <th>20</th>\n",
       "      <td>Western</td>\n",
       "      <td>4</td>\n",
       "      <td>8</td>\n",
       "      <td>12</td>\n",
       "      <td>33.33%</td>\n",
       "    </tr>\n",
       "  </tbody>\n",
       "</table>\n",
       "</div>"
      ],
      "text/plain": [
       "          index  Profit  Loss  Total success_rate\n",
       "9     Animation      98    17    115       85.22%\n",
       "3     Adventure     301    81    382       78.80%\n",
       "10      Fantasy      97    34    131       74.05%\n",
       "13       Family      74    28    102       72.55%\n",
       "8        Sci-Fi     104    43    147       70.75%\n",
       "1        Comedy     399   170    569       70.12%\n",
       "2        Action     332   155    487       68.17%\n",
       "11      Mystery      92    46    138       66.67%\n",
       "14        Music      35    18     53       66.04%\n",
       "6       Romance     141    73    214       65.89%\n",
       "4      Thriller     180   117    297       60.61%\n",
       "12    Biography      91    60    151       60.26%\n",
       "0         Drama     476   357    833       57.14%\n",
       "7        Horror     121    92    213       56.81%\n",
       "5         Crime     145   117    262       55.34%\n",
       "17        Sport      16    14     30       53.33%\n",
       "16      History      29    27     56       51.79%\n",
       "15  Documentary      34    34     68       50.00%\n",
       "19      Musical       5     6     11       45.45%\n",
       "18          War      10    14     24       41.67%\n",
       "20      Western       4     8     12       33.33%"
      ]
     },
     "execution_count": 78,
     "metadata": {},
     "output_type": "execute_result"
    }
   ],
   "source": [
    "#Comparing genres of ALL profitable movies from 2010 df with genres of movies that lost money.\n",
    "\n",
    "genre_comparison_df_2 = pd.merge(genre_df_all_profit, loss_genre_df, on='index', how='inner')\n",
    "genre_comparison_df_2 = genre_comparison_df_2.rename(columns={\"total_x\": \"Profit\", \"total_y\": \"Loss\"})\n",
    "total_genre_count_2 = genre_comparison_df_2.apply(lambda x: x['Profit'] + x['Loss'], axis=1)\n",
    "genre_comparison_df_2['Total'] = total_genre_count_2\n",
    "\n",
    "success_rate_df(genre_comparison_df_2)\n",
    "genre_comparison_df_2 = genre_comparison_df_2.sort_values('success_rate',ascending=False)\n",
    "genre_comparison_df_2"
   ]
  },
  {
   "cell_type": "markdown",
   "metadata": {},
   "source": [
    "**Not losing money is good. But let's look at the top performing movies, so Microsoft can emulate the most successful examples**"
   ]
  },
  {
   "cell_type": "code",
   "execution_count": 79,
   "metadata": {
    "ExecuteTime": {
     "end_time": "2021-10-01T15:19:08.139835Z",
     "start_time": "2021-10-01T15:19:08.108529Z"
    }
   },
   "outputs": [
    {
     "data": {
      "text/html": [
       "<div>\n",
       "<style scoped>\n",
       "    .dataframe tbody tr th:only-of-type {\n",
       "        vertical-align: middle;\n",
       "    }\n",
       "\n",
       "    .dataframe tbody tr th {\n",
       "        vertical-align: top;\n",
       "    }\n",
       "\n",
       "    .dataframe thead th {\n",
       "        text-align: right;\n",
       "    }\n",
       "</style>\n",
       "<table border=\"1\" class=\"dataframe\">\n",
       "  <thead>\n",
       "    <tr style=\"text-align: right;\">\n",
       "      <th></th>\n",
       "      <th>index</th>\n",
       "      <th>Profit</th>\n",
       "      <th>Loss</th>\n",
       "      <th>Total</th>\n",
       "      <th>success_rate</th>\n",
       "    </tr>\n",
       "  </thead>\n",
       "  <tbody>\n",
       "    <tr>\n",
       "      <th>6</th>\n",
       "      <td>Animation</td>\n",
       "      <td>70</td>\n",
       "      <td>17</td>\n",
       "      <td>87</td>\n",
       "      <td>80.46%</td>\n",
       "    </tr>\n",
       "    <tr>\n",
       "      <th>0</th>\n",
       "      <td>Adventure</td>\n",
       "      <td>202</td>\n",
       "      <td>81</td>\n",
       "      <td>283</td>\n",
       "      <td>71.38%</td>\n",
       "    </tr>\n",
       "    <tr>\n",
       "      <th>5</th>\n",
       "      <td>Sci-Fi</td>\n",
       "      <td>72</td>\n",
       "      <td>43</td>\n",
       "      <td>115</td>\n",
       "      <td>62.61%</td>\n",
       "    </tr>\n",
       "    <tr>\n",
       "      <th>7</th>\n",
       "      <td>Fantasy</td>\n",
       "      <td>46</td>\n",
       "      <td>34</td>\n",
       "      <td>80</td>\n",
       "      <td>57.50%</td>\n",
       "    </tr>\n",
       "    <tr>\n",
       "      <th>1</th>\n",
       "      <td>Action</td>\n",
       "      <td>195</td>\n",
       "      <td>155</td>\n",
       "      <td>350</td>\n",
       "      <td>55.71%</td>\n",
       "    </tr>\n",
       "    <tr>\n",
       "      <th>12</th>\n",
       "      <td>Family</td>\n",
       "      <td>32</td>\n",
       "      <td>28</td>\n",
       "      <td>60</td>\n",
       "      <td>53.33%</td>\n",
       "    </tr>\n",
       "    <tr>\n",
       "      <th>2</th>\n",
       "      <td>Comedy</td>\n",
       "      <td>160</td>\n",
       "      <td>170</td>\n",
       "      <td>330</td>\n",
       "      <td>48.48%</td>\n",
       "    </tr>\n",
       "    <tr>\n",
       "      <th>11</th>\n",
       "      <td>Mystery</td>\n",
       "      <td>35</td>\n",
       "      <td>46</td>\n",
       "      <td>81</td>\n",
       "      <td>43.21%</td>\n",
       "    </tr>\n",
       "    <tr>\n",
       "      <th>4</th>\n",
       "      <td>Thriller</td>\n",
       "      <td>72</td>\n",
       "      <td>117</td>\n",
       "      <td>189</td>\n",
       "      <td>38.10%</td>\n",
       "    </tr>\n",
       "    <tr>\n",
       "      <th>15</th>\n",
       "      <td>Music</td>\n",
       "      <td>10</td>\n",
       "      <td>18</td>\n",
       "      <td>28</td>\n",
       "      <td>35.71%</td>\n",
       "    </tr>\n",
       "    <tr>\n",
       "      <th>10</th>\n",
       "      <td>Romance</td>\n",
       "      <td>39</td>\n",
       "      <td>73</td>\n",
       "      <td>112</td>\n",
       "      <td>34.82%</td>\n",
       "    </tr>\n",
       "    <tr>\n",
       "      <th>19</th>\n",
       "      <td>Musical</td>\n",
       "      <td>3</td>\n",
       "      <td>6</td>\n",
       "      <td>9</td>\n",
       "      <td>33.33%</td>\n",
       "    </tr>\n",
       "    <tr>\n",
       "      <th>13</th>\n",
       "      <td>Biography</td>\n",
       "      <td>29</td>\n",
       "      <td>60</td>\n",
       "      <td>89</td>\n",
       "      <td>32.58%</td>\n",
       "    </tr>\n",
       "    <tr>\n",
       "      <th>14</th>\n",
       "      <td>History</td>\n",
       "      <td>12</td>\n",
       "      <td>27</td>\n",
       "      <td>39</td>\n",
       "      <td>30.77%</td>\n",
       "    </tr>\n",
       "    <tr>\n",
       "      <th>9</th>\n",
       "      <td>Horror</td>\n",
       "      <td>39</td>\n",
       "      <td>92</td>\n",
       "      <td>131</td>\n",
       "      <td>29.77%</td>\n",
       "    </tr>\n",
       "    <tr>\n",
       "      <th>8</th>\n",
       "      <td>Crime</td>\n",
       "      <td>40</td>\n",
       "      <td>117</td>\n",
       "      <td>157</td>\n",
       "      <td>25.48%</td>\n",
       "    </tr>\n",
       "    <tr>\n",
       "      <th>3</th>\n",
       "      <td>Drama</td>\n",
       "      <td>121</td>\n",
       "      <td>357</td>\n",
       "      <td>478</td>\n",
       "      <td>25.31%</td>\n",
       "    </tr>\n",
       "    <tr>\n",
       "      <th>17</th>\n",
       "      <td>Sport</td>\n",
       "      <td>4</td>\n",
       "      <td>14</td>\n",
       "      <td>18</td>\n",
       "      <td>22.22%</td>\n",
       "    </tr>\n",
       "    <tr>\n",
       "      <th>18</th>\n",
       "      <td>War</td>\n",
       "      <td>4</td>\n",
       "      <td>14</td>\n",
       "      <td>18</td>\n",
       "      <td>22.22%</td>\n",
       "    </tr>\n",
       "    <tr>\n",
       "      <th>20</th>\n",
       "      <td>Western</td>\n",
       "      <td>2</td>\n",
       "      <td>8</td>\n",
       "      <td>10</td>\n",
       "      <td>20.00%</td>\n",
       "    </tr>\n",
       "    <tr>\n",
       "      <th>16</th>\n",
       "      <td>Documentary</td>\n",
       "      <td>8</td>\n",
       "      <td>34</td>\n",
       "      <td>42</td>\n",
       "      <td>19.05%</td>\n",
       "    </tr>\n",
       "  </tbody>\n",
       "</table>\n",
       "</div>"
      ],
      "text/plain": [
       "          index  Profit  Loss  Total success_rate\n",
       "6     Animation      70    17     87       80.46%\n",
       "0     Adventure     202    81    283       71.38%\n",
       "5        Sci-Fi      72    43    115       62.61%\n",
       "7       Fantasy      46    34     80       57.50%\n",
       "1        Action     195   155    350       55.71%\n",
       "12       Family      32    28     60       53.33%\n",
       "2        Comedy     160   170    330       48.48%\n",
       "11      Mystery      35    46     81       43.21%\n",
       "4      Thriller      72   117    189       38.10%\n",
       "15        Music      10    18     28       35.71%\n",
       "10      Romance      39    73    112       34.82%\n",
       "19      Musical       3     6      9       33.33%\n",
       "13    Biography      29    60     89       32.58%\n",
       "14      History      12    27     39       30.77%\n",
       "9        Horror      39    92    131       29.77%\n",
       "8         Crime      40   117    157       25.48%\n",
       "3         Drama     121   357    478       25.31%\n",
       "17        Sport       4    14     18       22.22%\n",
       "18          War       4    14     18       22.22%\n",
       "20      Western       2     8     10       20.00%\n",
       "16  Documentary       8    34     42       19.05%"
      ]
     },
     "execution_count": 79,
     "metadata": {},
     "output_type": "execute_result"
    }
   ],
   "source": [
    "#Comparing genres of top 500 profitable movies from 2010 df with genres of movies that lost money.\n",
    "\n",
    "genre_comparison_df = pd.merge(genre_df_profit, loss_genre_df, on='index', how='inner')\n",
    "genre_comparison_df = genre_comparison_df.rename(columns={\"total_x\": \"Profit\", \"total_y\": \"Loss\"})\n",
    "total_genre_count = genre_comparison_df.apply(lambda x: x['Profit'] + x['Loss'], axis=1)\n",
    "genre_comparison_df['Total'] = total_genre_count\n",
    "success_rate = genre_comparison_df.apply(lambda x: x['Profit'] / x['Total'], axis=1)\n",
    "genre_comparison_df['success_rate'] = success_rate\n",
    "genre_comparison_df['success_rate'] = genre_comparison_df['success_rate'].map(\"{:.2%}\".format)\n",
    "genre_comparison_df = genre_comparison_df.sort_values('success_rate', ascending=False)\n",
    "\n",
    "genre_comparison_df"
   ]
  },
  {
   "cell_type": "code",
   "execution_count": 81,
   "metadata": {
    "ExecuteTime": {
     "end_time": "2021-10-01T15:19:54.384790Z",
     "start_time": "2021-10-01T15:19:54.356684Z"
    }
   },
   "outputs": [
    {
     "data": {
      "text/html": [
       "<div>\n",
       "<style scoped>\n",
       "    .dataframe tbody tr th:only-of-type {\n",
       "        vertical-align: middle;\n",
       "    }\n",
       "\n",
       "    .dataframe tbody tr th {\n",
       "        vertical-align: top;\n",
       "    }\n",
       "\n",
       "    .dataframe thead th {\n",
       "        text-align: right;\n",
       "    }\n",
       "</style>\n",
       "<table border=\"1\" class=\"dataframe\">\n",
       "  <thead>\n",
       "    <tr style=\"text-align: right;\">\n",
       "      <th></th>\n",
       "      <th>index</th>\n",
       "      <th>top_500_success_rate</th>\n",
       "      <th>break_even_success_rate</th>\n",
       "    </tr>\n",
       "  </thead>\n",
       "  <tbody>\n",
       "    <tr>\n",
       "      <th>0</th>\n",
       "      <td>Animation</td>\n",
       "      <td>80.46%</td>\n",
       "      <td>85.22%</td>\n",
       "    </tr>\n",
       "    <tr>\n",
       "      <th>1</th>\n",
       "      <td>Adventure</td>\n",
       "      <td>71.38%</td>\n",
       "      <td>78.80%</td>\n",
       "    </tr>\n",
       "    <tr>\n",
       "      <th>2</th>\n",
       "      <td>Sci-Fi</td>\n",
       "      <td>62.61%</td>\n",
       "      <td>70.75%</td>\n",
       "    </tr>\n",
       "    <tr>\n",
       "      <th>3</th>\n",
       "      <td>Fantasy</td>\n",
       "      <td>57.50%</td>\n",
       "      <td>74.05%</td>\n",
       "    </tr>\n",
       "    <tr>\n",
       "      <th>4</th>\n",
       "      <td>Action</td>\n",
       "      <td>55.71%</td>\n",
       "      <td>68.17%</td>\n",
       "    </tr>\n",
       "    <tr>\n",
       "      <th>5</th>\n",
       "      <td>Family</td>\n",
       "      <td>53.33%</td>\n",
       "      <td>72.55%</td>\n",
       "    </tr>\n",
       "    <tr>\n",
       "      <th>6</th>\n",
       "      <td>Comedy</td>\n",
       "      <td>48.48%</td>\n",
       "      <td>70.12%</td>\n",
       "    </tr>\n",
       "    <tr>\n",
       "      <th>7</th>\n",
       "      <td>Mystery</td>\n",
       "      <td>43.21%</td>\n",
       "      <td>66.67%</td>\n",
       "    </tr>\n",
       "    <tr>\n",
       "      <th>8</th>\n",
       "      <td>Thriller</td>\n",
       "      <td>38.10%</td>\n",
       "      <td>60.61%</td>\n",
       "    </tr>\n",
       "    <tr>\n",
       "      <th>9</th>\n",
       "      <td>Music</td>\n",
       "      <td>35.71%</td>\n",
       "      <td>66.04%</td>\n",
       "    </tr>\n",
       "    <tr>\n",
       "      <th>10</th>\n",
       "      <td>Romance</td>\n",
       "      <td>34.82%</td>\n",
       "      <td>65.89%</td>\n",
       "    </tr>\n",
       "    <tr>\n",
       "      <th>11</th>\n",
       "      <td>Musical</td>\n",
       "      <td>33.33%</td>\n",
       "      <td>45.45%</td>\n",
       "    </tr>\n",
       "    <tr>\n",
       "      <th>12</th>\n",
       "      <td>Biography</td>\n",
       "      <td>32.58%</td>\n",
       "      <td>60.26%</td>\n",
       "    </tr>\n",
       "    <tr>\n",
       "      <th>13</th>\n",
       "      <td>History</td>\n",
       "      <td>30.77%</td>\n",
       "      <td>51.79%</td>\n",
       "    </tr>\n",
       "    <tr>\n",
       "      <th>14</th>\n",
       "      <td>Horror</td>\n",
       "      <td>29.77%</td>\n",
       "      <td>56.81%</td>\n",
       "    </tr>\n",
       "    <tr>\n",
       "      <th>15</th>\n",
       "      <td>Crime</td>\n",
       "      <td>25.48%</td>\n",
       "      <td>55.34%</td>\n",
       "    </tr>\n",
       "    <tr>\n",
       "      <th>16</th>\n",
       "      <td>Drama</td>\n",
       "      <td>25.31%</td>\n",
       "      <td>57.14%</td>\n",
       "    </tr>\n",
       "    <tr>\n",
       "      <th>17</th>\n",
       "      <td>Sport</td>\n",
       "      <td>22.22%</td>\n",
       "      <td>53.33%</td>\n",
       "    </tr>\n",
       "    <tr>\n",
       "      <th>18</th>\n",
       "      <td>War</td>\n",
       "      <td>22.22%</td>\n",
       "      <td>41.67%</td>\n",
       "    </tr>\n",
       "    <tr>\n",
       "      <th>19</th>\n",
       "      <td>Western</td>\n",
       "      <td>20.00%</td>\n",
       "      <td>33.33%</td>\n",
       "    </tr>\n",
       "    <tr>\n",
       "      <th>20</th>\n",
       "      <td>Documentary</td>\n",
       "      <td>19.05%</td>\n",
       "      <td>50.00%</td>\n",
       "    </tr>\n",
       "  </tbody>\n",
       "</table>\n",
       "</div>"
      ],
      "text/plain": [
       "          index top_500_success_rate break_even_success_rate\n",
       "0     Animation               80.46%                  85.22%\n",
       "1     Adventure               71.38%                  78.80%\n",
       "2        Sci-Fi               62.61%                  70.75%\n",
       "3       Fantasy               57.50%                  74.05%\n",
       "4        Action               55.71%                  68.17%\n",
       "5        Family               53.33%                  72.55%\n",
       "6        Comedy               48.48%                  70.12%\n",
       "7       Mystery               43.21%                  66.67%\n",
       "8      Thriller               38.10%                  60.61%\n",
       "9         Music               35.71%                  66.04%\n",
       "10      Romance               34.82%                  65.89%\n",
       "11      Musical               33.33%                  45.45%\n",
       "12    Biography               32.58%                  60.26%\n",
       "13      History               30.77%                  51.79%\n",
       "14       Horror               29.77%                  56.81%\n",
       "15        Crime               25.48%                  55.34%\n",
       "16        Drama               25.31%                  57.14%\n",
       "17        Sport               22.22%                  53.33%\n",
       "18          War               22.22%                  41.67%\n",
       "19      Western               20.00%                  33.33%\n",
       "20  Documentary               19.05%                  50.00%"
      ]
     },
     "execution_count": 81,
     "metadata": {},
     "output_type": "execute_result"
    }
   ],
   "source": [
    "genre_success_df = genre_comparison_df\n",
    "genre_success_df = genre_success_df.drop(genre_success_df[['Profit', 'Loss', 'Total']], axis=1)\n",
    "genre_success_df['top_500_success_rate'] = genre_success_df['success_rate']\n",
    "\n",
    "genre_success_df_2 = genre_comparison_df_2\n",
    "genre_success_df_2 = genre_success_df_2.drop(genre_success_df_2[['Profit', 'Loss', 'Total']], axis=1)\n",
    "genre_success_df_2['break_even_success_rate'] = genre_success_df_2['success_rate']\n",
    "\n",
    "genre_success_combined = pd.merge(genre_success_df, genre_success_df_2, on='index', how='inner')\n",
    "genre_success_combined = genre_success_combined.drop(genre_success_combined[['success_rate_x', 'success_rate_y']], axis=1)\n",
    "genre_success_combined\n",
    "\n"
   ]
  },
  {
   "cell_type": "markdown",
   "metadata": {},
   "source": [
    "### Genre Performance DataFrame"
   ]
  },
  {
   "cell_type": "code",
   "execution_count": null,
   "metadata": {
    "ExecuteTime": {
     "end_time": "2021-10-01T03:39:16.877971Z",
     "start_time": "2021-10-01T03:39:16.849682Z"
    }
   },
   "outputs": [],
   "source": [
    "genre_performance_df = pd.merge(genre_success_combined, genre_df_merged, on= 'index', how='left')\n",
    "genre_performance_df['total_in_top_500_profit'] = genre_performance_df['profit_genres']\n",
    "genre_performance_df['total_in_top_500_roi'] = genre_performance_df['roi_genres']\n",
    "genre_performance_df = genre_performance_df.drop(genre_performance_df[['profit_genres', 'roi_genres']], axis=1)\n",
    "\n",
    "genre_performance_df"
   ]
  },
  {
   "cell_type": "code",
   "execution_count": null,
   "metadata": {
    "ExecuteTime": {
     "end_time": "2021-10-01T03:39:59.761002Z",
     "start_time": "2021-10-01T03:39:59.751084Z"
    }
   },
   "outputs": [],
   "source": [
    "#success rate of the top 500 most profitable movies from 2010-2019\n",
    "genre_performance_success_1 = genre_performance_df.sort_values('top_500_success_rate', ascending=False)\n",
    "\n",
    "#success rate of all profitable movies from 2010-2019\n",
    "genre_performance_success_2 = genre_performance_df.sort_values('any_profit_success_rate', ascending=False)\n",
    "\n",
    "# number of movies in the top 500 most profitable movies from 2010-2019\n",
    "genre_performance_500_profit = genre_performance_df.sort_values('total_in_top_500_profit', ascending=False)\n",
    "\n",
    "# number of movies in the top 500 ROI from 2010-2019\n",
    "genre_performance_500_roi = genre_performance_df.sort_values('total_in_top_500_roi', ascending=False)"
   ]
  },
  {
   "cell_type": "markdown",
   "metadata": {},
   "source": [
    "### Recommendations\n",
    "- We can now analyze all this data and come up with some concrete recommendations.\n",
    "- Let's start by looking at the genres that are associated with the top profit earners from 2010-2019."
   ]
  },
  {
   "cell_type": "code",
   "execution_count": null,
   "metadata": {
    "ExecuteTime": {
     "end_time": "2021-10-01T03:43:36.982619Z",
     "start_time": "2021-10-01T03:43:36.949665Z"
    }
   },
   "outputs": [],
   "source": [
    "genre_performance_500_profit"
   ]
  },
  {
   "cell_type": "markdown",
   "metadata": {},
   "source": [
    "**Analysis: Adventure Movies are the best bet!**\n",
    "- Sorting by top profit shows that **nearly half** of the top 500 most profitable movies were **Adventure** movies.\n",
    "- Also important to see that **Adventure** movies have the **Second Highest Success Rate at 71 percent*\n",
    "- By this criteria, **Adventure movies are the top genre that I recommend that Microsoft pursue.**\n",
    "|"
   ]
  },
  {
   "cell_type": "markdown",
   "metadata": {},
   "source": [
    "**The other top profit genres:**\n",
    "- **Action** and **Comedy** also have relatively high rates of success in generating a profit.\n",
    "-  While fewer of these movies make it into the top 500. I'd classify them as a **safe bet**, and recommend that Microsoft pursue them as well.\n",
    "- As for **Drama**, while there is still a greater than 50% chance of making money, it is in the **bottom 5 genres in top 500 success rate**  This is because many, many, Drama movies made each year, and when one is a hit, it is a big hit! **BUT** most Drama films aren't super profitable, and nearly half don't make any money. They are also the genre that does best on ROI, so they are presumably cheaper to make than other genres. Still, **I recommend that Microsoft stay away from Drama movies.**\n"
   ]
  },
  {
   "cell_type": "markdown",
   "metadata": {},
   "source": [
    "Other Genres with high success rates:\n",
    "- **Animation** has the **highest success** rate to make money of any genre at 80%. Successful Animation films are profitable, and you're almost guaranteed to not lose money. **This is another top genre for Microsoft.**\n",
    "- **Sci-Fi**, **Fantasy**, and to a lesser extent **Family** movies all have really strong success rates. Add these to the **safe bets**."
   ]
  },
  {
   "cell_type": "markdown",
   "metadata": {},
   "source": [
    "Middle of the road:\n",
    "- **Mystery, Music, Romance, Thrillers, and Biographies** have a decent chance of making money, and there is a possibility that they can crack the top 500. "
   ]
  },
  {
   "cell_type": "markdown",
   "metadata": {},
   "source": [
    "Return on Investment:\n",
    "- **Comedy, Action, and Adventure** all have a really high ROI. This is more support for pursuing these movies.\n",
    "- **Thrillers, Horror, Romance, and Mystery** also have good ROI potential."
   ]
  },
  {
   "cell_type": "markdown",
   "metadata": {},
   "source": [
    "Avoid at all costs!\n",
    "- **Westerns, War Movies, Musicals (different than Music movies)** are bad investments on every one of these metrics. Yes, there is a chance that they can be successful, but it would be smarter to focus elsewhere with genres that have more potential to make a lot of money.\n"
   ]
  },
  {
   "cell_type": "markdown",
   "metadata": {},
   "source": [
    "### How much should Microsoft spend on these movies?"
   ]
  },
  {
   "cell_type": "code",
   "execution_count": null,
   "metadata": {
    "ExecuteTime": {
     "end_time": "2021-10-01T04:34:10.000274Z",
     "start_time": "2021-10-01T04:34:09.991887Z"
    }
   },
   "outputs": [],
   "source": [
    "roi_budget_df = top_roi.sort_values('production_budget', ascending=True)\n",
    "low_budget_roi = roi_budget_df[0:150] #the 150 lowest budget movies in the top 500 ROI\n",
    "\n",
    "high_budget_roi = roi_budget_df.sort_values('production_budget', ascending=False)\n",
    "high_budget_roi = high_budget_roi[0:150] #the 150 highest budget movies in the top 500 ROI\n"
   ]
  },
  {
   "cell_type": "code",
   "execution_count": null,
   "metadata": {
    "ExecuteTime": {
     "end_time": "2021-10-01T04:46:06.101118Z",
     "start_time": "2021-10-01T04:46:06.070655Z"
    }
   },
   "outputs": [],
   "source": [
    "#These are the genres for the 150 highest budget movies out of the top 500 ROI\n",
    "high_budget_genres = genre_df(high_budget_roi)\n",
    "high_budget_genres = high_budget_genres.reset_index()\n",
    "high_budget_genres = high_budget_genres.sort_values('total', ascending=False)\n",
    "high_budget_genres = high_budget_genres.drop(high_budget_genres[['level_0', 'genre_1', 'genre_2',\n",
    "                                                                'genre_3']], axis=1)"
   ]
  },
  {
   "cell_type": "code",
   "execution_count": null,
   "metadata": {
    "ExecuteTime": {
     "end_time": "2021-10-01T04:46:19.074224Z",
     "start_time": "2021-10-01T04:46:19.054850Z"
    }
   },
   "outputs": [],
   "source": [
    "#These are the genres for the 150 lowest budget movies out of the top 500 ROI\n",
    "low_budget_genres = genre_df(low_budget_roi)\n",
    "low_budget_genres = low_budget_genres.reset_index()\n",
    "low_budget_genres = low_budget_genres.drop(low_budget_genres[['level_0', 'genre_1', 'genre_2',\n",
    "                                                                'genre_3']], axis=1)\n",
    "low_budget_genres = low_budget_genres.sort_values('total', ascending=False)\n"
   ]
  },
  {
   "cell_type": "code",
   "execution_count": null,
   "metadata": {
    "ExecuteTime": {
     "end_time": "2021-10-01T04:43:37.715986Z",
     "start_time": "2021-10-01T04:43:37.700947Z"
    }
   },
   "outputs": [],
   "source": [
    "high_budget_genres"
   ]
  },
  {
   "cell_type": "code",
   "execution_count": null,
   "metadata": {
    "ExecuteTime": {
     "end_time": "2021-10-01T04:56:42.638304Z",
     "start_time": "2021-10-01T04:56:42.618343Z"
    }
   },
   "outputs": [],
   "source": [
    "genre_budget_rank_df = pd.merge(high_budget_genres, low_budget_genres, on= 'index', how='left')\n",
    "genre_budget_rank_df['high_budget'] = genre_budget_rank_df['total_x']\n",
    "genre_budget_rank_df['low_budget'] = genre_budget_rank_df['total_y']\n",
    "genre_budget_rank_df = genre_budget_rank_df.drop(genre_budget_rank_df[['total_x', 'total_y',]], axis=1)\n",
    "\n"
   ]
  },
  {
   "cell_type": "markdown",
   "metadata": {},
   "source": [
    "#### Analysis\n",
    "- Looking at the **500 Top ROI movies**, I tried to determine which genres had the lowest budgets of those successful movies. I did the same to see which had the highest budgets. \n",
    "- I used ROI, because Microsoft will want to have the potentional to get the most money back for the money that they spend."
   ]
  },
  {
   "cell_type": "markdown",
   "metadata": {},
   "source": [
    "**Big Budget**\n",
    "- **Action, Adventure, and Animation** are at the top of the high budget list. **I recommend that Microsoft put considerable funds into movies in these genres.**\n",
    "- **Sci-Fi and Fantasy** will likely need large budgets as well. "
   ]
  },
  {
   "cell_type": "markdown",
   "metadata": {},
   "source": [
    "**Low Budget**\n",
    "- **Drama and Horror** are the very top of the list. Low budget, high ROI, **why didn't I recommend these genres?** Yes, they both have a chance of being a home run, but with Microsoft entering the movie business for the first time, I still recommend a more conservative strategy than looking for the rare low budget Drama or Horror movie that hits it big.\n",
    "- **Mystery and Romance** are my low budget recommendations. These genres have a decent chance of being highly profitable even with a modest budget."
   ]
  },
  {
   "cell_type": "markdown",
   "metadata": {
    "ExecuteTime": {
     "end_time": "2021-10-01T05:08:55.786877Z",
     "start_time": "2021-10-01T05:08:55.766962Z"
    }
   },
   "source": [
    "**Both!**\n",
    "- There are a few genres that are high in both categories. For these genres, a mix of high budget and low budget could work.\n",
    "- Try this strategy with: **Comedies & Thrillers**"
   ]
  },
  {
   "cell_type": "code",
   "execution_count": null,
   "metadata": {
    "ExecuteTime": {
     "end_time": "2021-10-01T05:11:07.467141Z",
     "start_time": "2021-10-01T05:11:07.451644Z"
    }
   },
   "outputs": [],
   "source": [
    "genre_budget_rank_df.sort_values('low_budget', ascending=False)"
   ]
  },
  {
   "cell_type": "markdown",
   "metadata": {},
   "source": [
    "### Give Me a Dollar Amount!"
   ]
  },
  {
   "cell_type": "code",
   "execution_count": null,
   "metadata": {
    "ExecuteTime": {
     "end_time": "2021-10-01T05:19:02.358342Z",
     "start_time": "2021-10-01T05:19:02.323267Z"
    }
   },
   "outputs": [],
   "source": [
    "low_budget_roi.describe()"
   ]
  },
  {
   "cell_type": "code",
   "execution_count": null,
   "metadata": {
    "ExecuteTime": {
     "end_time": "2021-10-01T05:19:37.811174Z",
     "start_time": "2021-10-01T05:19:37.777632Z"
    }
   },
   "outputs": [],
   "source": [
    "high_budget_roi.describe()"
   ]
  },
  {
   "cell_type": "markdown",
   "metadata": {},
   "source": [
    "High Budget Genres:\n",
    "- Based on the data from the 2010-2019 ROI dataframe, I would estimate a **110 - 170 million dollar budget**, with **profits in the 500 million to 750 million dollar range**. Expect a **ROI of 4 to 6**.\n",
    "\n",
    "Low Budget Genres:\n",
    "- Budgets of ** 3 to 5 million dollars** with expected **profits between 22 and 42 million dollars** with a **ROI of 8 to 15**."
   ]
  },
  {
   "cell_type": "markdown",
   "metadata": {},
   "source": [
    "# ARCHIVE"
   ]
  },
  {
   "cell_type": "markdown",
   "metadata": {},
   "source": [
    "I am splitting the dataset. Most of my genre information is for 2010-2019, so I want to isolate it. It will also be useful to look at the data in 10(ish) year increments so see which trends change, and which stay consistent. I also plan on getting data for 80s and 90s in a little while. "
   ]
  },
  {
   "cell_type": "code",
   "execution_count": null,
   "metadata": {
    "ExecuteTime": {
     "end_time": "2021-09-30T20:07:55.308308Z",
     "start_time": "2021-09-30T20:07:55.286375Z"
    }
   },
   "outputs": [],
   "source": [
    "#recent_movies_2010 = recent_movies[recent_movies['release_year'] >= 2010]\n",
    "#recent_movies_2000 = recent_movies[recent_movies['release_year'] < 2010]"
   ]
  },
  {
   "cell_type": "code",
   "execution_count": null,
   "metadata": {
    "ExecuteTime": {
     "end_time": "2021-09-30T20:07:57.612536Z",
     "start_time": "2021-09-30T20:07:57.591743Z"
    }
   },
   "outputs": [],
   "source": [
    "#recent_movies_2010.info()"
   ]
  },
  {
   "cell_type": "code",
   "execution_count": null,
   "metadata": {
    "ExecuteTime": {
     "end_time": "2021-09-30T20:07:59.886654Z",
     "start_time": "2021-09-30T20:07:59.869557Z"
    }
   },
   "outputs": [],
   "source": [
    "#recent_movies_2000.info()"
   ]
  },
  {
   "cell_type": "markdown",
   "metadata": {},
   "source": [
    "Roughly 2200 movies in each dataframe after the split."
   ]
  },
  {
   "cell_type": "code",
   "execution_count": null,
   "metadata": {
    "ExecuteTime": {
     "end_time": "2021-09-30T20:08:04.404379Z",
     "start_time": "2021-09-30T20:08:04.367411Z"
    }
   },
   "outputs": [],
   "source": [
    "#recent_movies_2010.describe()"
   ]
  },
  {
   "cell_type": "markdown",
   "metadata": {},
   "source": [
    "**For 2010 - 2019 releases. On average:**\n",
    "- Need to be in the top 50% to get a return on investement. \n",
    "- If in the top 50%, the median budget is 16 million, with a profit of 8.5 million.\n",
    "- The IMDB ratings all see to be middle of the road, although the movies in the top quartile have a higher average (barely)\n",
    "- I have genre information for most movies in this dataset, so it is what I will use for all genre analysis.\n",
    "- This is fine because Microsoft will want the most recent data about what movies people want to see."
   ]
  },
  {
   "cell_type": "code",
   "execution_count": null,
   "metadata": {
    "ExecuteTime": {
     "end_time": "2021-09-30T20:08:08.497361Z",
     "start_time": "2021-09-30T20:08:08.463715Z"
    }
   },
   "outputs": [],
   "source": [
    "#recent_movies_2000.describe()"
   ]
  },
  {
   "cell_type": "code",
   "execution_count": null,
   "metadata": {
    "ExecuteTime": {
     "end_time": "2021-09-30T18:42:34.293967Z",
     "start_time": "2021-09-30T18:42:34.267923Z"
    }
   },
   "outputs": [],
   "source": [
    "#creating a variable for all movies 1980-2019\n",
    "recent_movies_2 = project_analysis_df\n",
    "recent_movies_2 = recent_movies_2[recent_movies_2['release_year'] >= 1990]\n",
    "recent_movies_2 = recent_movies_2[recent_movies_2['release_year'] < 2019]\n",
    "recent_movies_2.sort_values('release_year', ascending=True).head(3)"
   ]
  },
  {
   "cell_type": "code",
   "execution_count": null,
   "metadata": {
    "ExecuteTime": {
     "end_time": "2021-09-30T18:42:36.739985Z",
     "start_time": "2021-09-30T18:42:36.555638Z"
    }
   },
   "outputs": [],
   "source": [
    "recent_movies_2.sort_values('production_budget').tail(1000)"
   ]
  },
  {
   "cell_type": "markdown",
   "metadata": {},
   "source": [
    "**For 2000 - 2009 releases. On average:**\n",
    "- Movies need to be in the top 50% to get a return on investement. (same as 2010-2019)\n",
    "- If in the top 50%, the median budget is 20 million, with a profit of 7 million.\n",
    "- Median budget seems to have gone down slightly in 2010-2019 - I will look for outliers.\n",
    "- The IMDB ratings all see to be middle of the road, although the movies in the top quartile have a higher average. (barely)\n",
    "- Data is largely the same as the more recent dataset (2010-2019)\n"
   ]
  },
  {
   "cell_type": "code",
   "execution_count": null,
   "metadata": {},
   "outputs": [],
   "source": []
  },
  {
   "cell_type": "code",
   "execution_count": null,
   "metadata": {},
   "outputs": [],
   "source": []
  },
  {
   "cell_type": "code",
   "execution_count": null,
   "metadata": {},
   "outputs": [],
   "source": []
  },
  {
   "cell_type": "markdown",
   "metadata": {},
   "source": [
    "## Analysis of the last 4 decades"
   ]
  },
  {
   "cell_type": "code",
   "execution_count": null,
   "metadata": {
    "ExecuteTime": {
     "end_time": "2021-09-30T20:09:19.957356Z",
     "start_time": "2021-09-30T20:09:19.925502Z"
    }
   },
   "outputs": [],
   "source": [
    "movies_90s = project_analysis_df[project_analysis_df['release_year'] <= 1999]\n",
    "movies_90s = movies_90s[movies_90s['release_year'] >= 1990]\n",
    "movies_90s.describe()"
   ]
  },
  {
   "cell_type": "markdown",
   "metadata": {},
   "source": [
    "**For 90s releases. On average:**\n",
    "- Need to be in the top 50% to get a return on investement, however it is easier to break even. (first quartile)\n",
    "- If in the top 50%, the median budget is 22.5 million, with a profit of 9 million.\n",
    "- the IMDB ratings all see to be middle of the road, although the movies in the top quartile have a higher average. (barely)\n",
    "- data is largely the same as the more recent data"
   ]
  },
  {
   "cell_type": "code",
   "execution_count": null,
   "metadata": {
    "ExecuteTime": {
     "end_time": "2021-09-30T20:09:23.450612Z",
     "start_time": "2021-09-30T20:09:23.413227Z"
    }
   },
   "outputs": [],
   "source": [
    "movies_80s = project_analysis_df[project_analysis_df['release_year'] <= 1989]\n",
    "movies_80s = movies_80s[movies_80s['release_year'] >= 1980]\n",
    "movies_80s.describe()"
   ]
  },
  {
   "cell_type": "markdown",
   "metadata": {},
   "source": [
    "**For 80s releases. On average:**\n",
    "- Need to be in the top 50% to get a return on investement, however it is easier to break even. (first quartile)\n",
    "- If in the top 50%, the median budget is 12 million, with a profit of 15.5 million.\n",
    "- the IMDB ratings all see to be middle of the road, although the movies in the top quartile have a higher average. (barely)\n",
    "- data is largely the same as the more recent data"
   ]
  },
  {
   "cell_type": "markdown",
   "metadata": {},
   "source": [
    "### ARCHIVE -Profit Analysis (ARCHIVED)\n",
    "\n",
    "**How do we determine what movies are the most successful?**\n",
    "- Using the 2010-2019 dataset, I will slice out the **most successful** movies.\n",
    "- The two metrics that I will be using are **total profit and return on investment (ROI)**\n",
    "- I will then slice out the top 500 movies as that is roughly the top quartile for this dataset. \n",
    "- These movies would be good to emulate as we want to be as successful as possible."
   ]
  },
  {
   "cell_type": "code",
   "execution_count": null,
   "metadata": {
    "ExecuteTime": {
     "end_time": "2021-09-30T20:58:09.238148Z",
     "start_time": "2021-09-30T20:58:09.229760Z"
    }
   },
   "outputs": [],
   "source": [
    "#arranging the 2010 - 2019 movies by most profit and most ROI.\n",
    "#profit_df= recent_movies_2010.sort_values('total_profit', ascending=False)\n",
    "#roi_df = recent_movies_2010.sort_values('ROI', ascending=False)\n",
    "#top_profit = profit_df[0:500]\n",
    "#all_profit = profit_df[0:1250] #new variable as of 9/30\n",
    "#top_roi = roi_df[0:500]"
   ]
  },
  {
   "cell_type": "code",
   "execution_count": null,
   "metadata": {
    "ExecuteTime": {
     "end_time": "2021-09-30T20:09:41.520761Z",
     "start_time": "2021-09-30T20:09:41.512910Z"
    }
   },
   "outputs": [],
   "source": [
    "#movies that did not make a profit\n",
    "#loss_df= recent_movies_2010.sort_values('total_profit', ascending=True)\n",
    "#loss_df = loss_df[0:800]"
   ]
  },
  {
   "cell_type": "code",
   "execution_count": null,
   "metadata": {
    "ExecuteTime": {
     "end_time": "2021-09-30T20:24:30.981109Z",
     "start_time": "2021-09-30T20:24:30.975673Z"
    }
   },
   "outputs": [],
   "source": [
    "#loss_genre_df = genre_df(loss_df)\n",
    "#loss_genre_df = loss_genre_df.reset_index()\n",
    "#loss_genre_df = loss_genre_df.drop(loss_genre_df[['level_0','genre_1', 'genre_2', 'genre_3']], axis=1)\n",
    "#loss_genre_df = loss_genre_df.sort_values('total', ascending=False)\n",
    "#loss_genre_df"
   ]
  },
  {
   "cell_type": "code",
   "execution_count": null,
   "metadata": {
    "ExecuteTime": {
     "end_time": "2021-09-30T20:11:15.870117Z",
     "start_time": "2021-09-30T20:11:15.614255Z"
    }
   },
   "outputs": [],
   "source": []
  },
  {
   "cell_type": "markdown",
   "metadata": {},
   "source": [
    "**INSERT VISUALIZATION OF PROFIT AND ROI**"
   ]
  },
  {
   "cell_type": "markdown",
   "metadata": {},
   "source": [
    "### Preparing for Genre Analysis \n",
    "\n",
    "**What genres correspond to the most profitable movies as well as the movies with the best ROI?**\n",
    "- I will use the 2010-2019 dataset for this analysis as it has the most complete genre information."
   ]
  },
  {
   "cell_type": "code",
   "execution_count": null,
   "metadata": {
    "ExecuteTime": {
     "end_time": "2021-09-30T20:58:29.039345Z",
     "start_time": "2021-09-30T20:58:29.026009Z"
    }
   },
   "outputs": [],
   "source": [
    "#this should already be in the notebook under measuring success\n",
    "\n",
    "#arranging the 2010 - 2019 movies by most profit and most ROI.\n",
    "#profit_df= recent_movies_2010.sort_values('total_profit', ascending=False)\n",
    "#roi_df = recent_movies_2010.sort_values('ROI', ascending=False)\n",
    "#top_profit = profit_df[0:500]\n",
    "#all_profit = profit_df[0:1250] #new variable as of 9/30\n",
    "#top_roi = roi_df[0:500]"
   ]
  },
  {
   "cell_type": "code",
   "execution_count": null,
   "metadata": {
    "ExecuteTime": {
     "end_time": "2021-09-30T20:10:28.466131Z",
     "start_time": "2021-09-30T20:10:28.457692Z"
    }
   },
   "outputs": [],
   "source": [
    "#def genre_df(df): #function to get the value counts of the genre columns in a dataframe\n",
    "#   genre_df = df[['genre_1', 'genre_2' , 'genre_3']]\n",
    "#    genre_counts= genre_df.apply(pd.Series.value_counts)\n",
    "#    genre_df = genre_counts.fillna(0)\n",
    "#    genre_df['total'] = genre_counts.sum(axis=1)\n",
    "#    genre_df = genre_df.reset_index()\n",
    "#    return genre_df"
   ]
  },
  {
   "cell_type": "code",
   "execution_count": null,
   "metadata": {
    "ExecuteTime": {
     "end_time": "2021-09-30T20:23:43.149941Z",
     "start_time": "2021-09-30T20:23:43.140852Z"
    }
   },
   "outputs": [],
   "source": [
    "#movies that did not make a profit\n",
    "#loss_df= recent_movies_2010.sort_values('total_profit', ascending=True)\n",
    "#loss_df = loss_df[0:800]"
   ]
  },
  {
   "cell_type": "code",
   "execution_count": null,
   "metadata": {
    "ExecuteTime": {
     "end_time": "2021-09-30T20:25:09.604615Z",
     "start_time": "2021-09-30T20:25:09.578096Z"
    }
   },
   "outputs": [],
   "source": [
    "#loss_genre_df = genre_df(loss_df)\n",
    "#loss_genre_df = loss_genre_df.reset_index()\n",
    "#loss_genre_df = loss_genre_df.drop(loss_genre_df[['level_0','genre_1', 'genre_2', 'genre_3']], axis=1)\n",
    "#loss_genre_df = loss_genre_df.sort_values('total', ascending=False)\n",
    "#loss_genre_df.head()"
   ]
  },
  {
   "cell_type": "code",
   "execution_count": null,
   "metadata": {},
   "outputs": [],
   "source": []
  },
  {
   "cell_type": "code",
   "execution_count": null,
   "metadata": {},
   "outputs": [],
   "source": []
  },
  {
   "cell_type": "code",
   "execution_count": null,
   "metadata": {},
   "outputs": [],
   "source": []
  },
  {
   "cell_type": "code",
   "execution_count": null,
   "metadata": {
    "ExecuteTime": {
     "end_time": "2021-09-30T20:32:09.075931Z",
     "start_time": "2021-09-30T20:32:09.050041Z"
    }
   },
   "outputs": [],
   "source": [
    "#Genre DF for ALL movies that are in genre_df_2010 \n",
    "#genre_df_2010 = genre_df(recent_movies_2010)\n",
    "#genre_df_2010 = genre_df_2010.drop(genre_df_2010[['genre_1', 'genre_2', 'genre_3']], axis=1)\n",
    "#genre_df_2010 = genre_df_2010.sort_values('total', ascending = False)\n",
    "#genre_df_2010"
   ]
  },
  {
   "cell_type": "code",
   "execution_count": null,
   "metadata": {
    "ExecuteTime": {
     "end_time": "2021-09-30T20:18:24.146223Z",
     "start_time": "2021-09-30T20:18:24.113389Z"
    }
   },
   "outputs": [],
   "source": [
    "#These are the genres from the 500 most profitable movies from 2010-2019\n",
    "#genre_df_profit = genre_df(top_profit)\n",
    "#genre_df_profit = genre_df_profit.sort_values('total', ascending=False)\n",
    "#genre_df_profit = genre_df_profit.drop(genre_df_profit[['genre_1', 'genre_2', 'genre_3']], axis=1)\n",
    "\n",
    "#genre_df_profit"
   ]
  },
  {
   "cell_type": "markdown",
   "metadata": {},
   "source": [
    "### Genre Success Rate"
   ]
  },
  {
   "cell_type": "code",
   "execution_count": null,
   "metadata": {
    "ExecuteTime": {
     "end_time": "2021-09-30T21:14:59.954492Z",
     "start_time": "2021-09-30T21:14:59.945434Z"
    }
   },
   "outputs": [],
   "source": [
    "#function for determining success rate\n",
    "\n",
    "#def success_rate_df(df):\n",
    "#    success_rate = df.apply(lambda x: x['Profit'] / x['Total'], axis=1)\n",
    "#    df['success_rate'] = success_rate\n",
    "#    df['success_rate'] = df['success_rate'].map(\"{:.2%}\".format)\n",
    "#    df = df.sort_values('success_rate', ascending=False)\n",
    "\n",
    "    \n",
    "    \n",
    "\n"
   ]
  },
  {
   "cell_type": "code",
   "execution_count": null,
   "metadata": {
    "ExecuteTime": {
     "end_time": "2021-09-30T20:40:50.474115Z",
     "start_time": "2021-09-30T20:40:50.443430Z"
    }
   },
   "outputs": [],
   "source": [
    "#Comparing genres of top 500 profitable movies from 2010 df with genres of movies that lost money.\n",
    "\n",
    "#genre_comparison_df = pd.merge(genre_df_profit, loss_genre_df, on='index', how='inner')\n",
    "#genre_comparison_df = genre_comparison_df.rename(columns={\"total_x\": \"Profit\", \"total_y\": \"Loss\"})\n",
    "#total_genre_count = genre_comparison_df.apply(lambda x: x['Profit'] + x['Loss'], axis=1)\n",
    "#genre_comparison_df['Total'] = total_genre_count\n",
    "#success_rate = genre_comparison_df.apply(lambda x: x['Profit'] / x['Total'], axis=1)\n",
    "#genre_comparison_df['success_rate'] = success_rate\n",
    "#genre_comparison_df['success_rate'] = genre_comparison_df['success_rate'].map(\"{:.2%}\".format)\n",
    "#genre_comparison_df = genre_comparison_df.sort_values('success_rate', ascending=False)\n",
    "\n",
    "#genre_comparison_df"
   ]
  },
  {
   "cell_type": "code",
   "execution_count": null,
   "metadata": {
    "ExecuteTime": {
     "end_time": "2021-09-30T23:17:23.190530Z",
     "start_time": "2021-09-30T23:17:23.184610Z"
    }
   },
   "outputs": [],
   "source": [
    "#slicing success rate for top 500 movies\n",
    "#genre_success_df = genre_comparison_df\n",
    "#genre_success_df = genre_success_df.drop(genre_success_df[['Profit', 'Loss', 'Total']], axis=1)"
   ]
  },
  {
   "cell_type": "code",
   "execution_count": null,
   "metadata": {
    "ExecuteTime": {
     "end_time": "2021-09-30T23:23:45.035073Z",
     "start_time": "2021-09-30T23:23:45.020750Z"
    }
   },
   "outputs": [],
   "source": [
    "#genre_success_df['top_500_success_rate'] = genre_success_df['success_rate']\n",
    "#genre_success_df.head(2)"
   ]
  },
  {
   "cell_type": "code",
   "execution_count": null,
   "metadata": {
    "ExecuteTime": {
     "end_time": "2021-09-30T23:21:35.201152Z",
     "start_time": "2021-09-30T23:21:35.176684Z"
    }
   },
   "outputs": [],
   "source": [
    "#genre_success_df = genre_comparison_df\n",
    "#genre_success_df = genre_success_df.drop(genre_success_df[['Profit', 'Loss', 'Total']], axis=1)"
   ]
  },
  {
   "cell_type": "code",
   "execution_count": null,
   "metadata": {
    "ExecuteTime": {
     "end_time": "2021-09-30T21:25:40.152658Z",
     "start_time": "2021-09-30T21:25:40.128565Z"
    }
   },
   "outputs": [],
   "source": [
    "#These are the genres from ALL profitable movies from 2010-2019\n",
    "#genre_df_all_profit = genre_df(all_profit)\n",
    "#genre_df_all_profit = genre_df_all_profit.sort_values('total', ascending=False)\n",
    "#genre_df_all_profit = genre_df_all_profit.drop(genre_df_all_profit[['genre_1', 'genre_2', 'genre_3']], axis=1)\n",
    "\n",
    "#genre_df_all_profit.head(3)"
   ]
  },
  {
   "cell_type": "code",
   "execution_count": null,
   "metadata": {
    "ExecuteTime": {
     "end_time": "2021-09-30T21:20:14.761970Z",
     "start_time": "2021-09-30T21:20:14.735753Z"
    }
   },
   "outputs": [],
   "source": [
    "#Comparing genres of ALL profitable movies from 2010 df with genres of movies that lost money.\n",
    "\n",
    "#genre_comparison_df_2 = pd.merge(genre_df_all_profit, loss_genre_df, on='index', how='inner')\n",
    "#genre_comparison_df_2 = genre_comparison_df_2.rename(columns={\"total_x\": \"Profit\", \"total_y\": \"Loss\"})\n",
    "#total_genre_count_2 = genre_comparison_df_2.apply(lambda x: x['Profit'] + x['Loss'], axis=1)\n",
    "#genre_comparison_df_2['Total'] = total_genre_count_2\n",
    "\n",
    "#success_rate_df(genre_comparison_df_2)\n",
    "#genre_comparison_df_2 = genre_comparison_df_2.sort_values('success_rate',ascending=False)\n",
    "#genre_comparison_df_2"
   ]
  },
  {
   "cell_type": "code",
   "execution_count": null,
   "metadata": {
    "ExecuteTime": {
     "end_time": "2021-09-30T23:25:52.856097Z",
     "start_time": "2021-09-30T23:25:52.840481Z"
    }
   },
   "outputs": [],
   "source": [
    "#genre_success_df_2 = genre_comparison_df_2\n",
    "#genre_success_df_2 = genre_success_df_2.drop(genre_success_df_2[['Profit', 'Loss', 'Total']], axis=1)\n",
    "#genre_success_df_2.head(2)"
   ]
  },
  {
   "cell_type": "code",
   "execution_count": null,
   "metadata": {
    "ExecuteTime": {
     "end_time": "2021-09-30T23:28:22.625483Z",
     "start_time": "2021-09-30T23:28:22.598561Z"
    }
   },
   "outputs": [],
   "source": [
    "#genre_success_df_2['any_profit_success_rate'] = genre_success_df_2['success_rate']\n",
    "#genre_success_df_2"
   ]
  },
  {
   "cell_type": "code",
   "execution_count": null,
   "metadata": {
    "ExecuteTime": {
     "end_time": "2021-10-01T00:15:41.249583Z",
     "start_time": "2021-10-01T00:15:41.227939Z"
    }
   },
   "outputs": [],
   "source": [
    "#genre_success_combined = pd.merge(genre_success_df, genre_success_df_2, on='index', how='inner')\n",
    "#genre_success_combined = genre_success_combined.drop(genre_success_combined[['success_rate_x', 'success_rate_y']], axis=1)\n",
    "#genre_success_combined.head(2)"
   ]
  },
  {
   "cell_type": "markdown",
   "metadata": {},
   "source": [
    "### Genre Top Profit & ROI"
   ]
  },
  {
   "cell_type": "code",
   "execution_count": null,
   "metadata": {
    "ExecuteTime": {
     "end_time": "2021-10-01T00:13:38.863683Z",
     "start_time": "2021-10-01T00:13:38.829130Z"
    }
   },
   "outputs": [],
   "source": [
    "#These are the genres from the 500 movies with the best ROI from 2010-2019\n",
    "#genre_df_roi = genre_df(top_roi)\n",
    "#genre_df_roi = genre_df_roi.sort_values('total', ascending=False)\n",
    "#genre_df_roi = genre_df_roi.drop(genre_df_roi[['genre_1', 'genre_2', 'genre_3']], axis=1)\n",
    "#genre_df_roi.head(3)"
   ]
  },
  {
   "cell_type": "code",
   "execution_count": null,
   "metadata": {
    "ExecuteTime": {
     "end_time": "2021-09-30T21:34:23.472223Z",
     "start_time": "2021-09-30T21:34:23.463021Z"
    }
   },
   "outputs": [],
   "source": [
    "#resetting the indexes so that I can merge them\n",
    "#genre_df_roi = genre_df_roi.reset_index()\n",
    "#genre_df_profit = genre_df_profit.reset_index()\n"
   ]
  },
  {
   "cell_type": "code",
   "execution_count": null,
   "metadata": {
    "ExecuteTime": {
     "end_time": "2021-09-30T21:45:36.857584Z",
     "start_time": "2021-09-30T21:45:36.832656Z"
    }
   },
   "outputs": [],
   "source": [
    "#genre_df_merged = pd.merge(genre_df_profit, genre_df_roi, on= 'index', how='left')\n",
    "#genre_df_merged = genre_df_merged.rename(columns={'total_x': 'profit_genres', 'total_y': 'roi_genres'})\n",
    "#genre_df_merged.sort_values('roi_genres', ascending=False)"
   ]
  },
  {
   "cell_type": "code",
   "execution_count": null,
   "metadata": {
    "ExecuteTime": {
     "end_time": "2021-09-30T23:00:50.030669Z",
     "start_time": "2021-09-30T23:00:50.025391Z"
    }
   },
   "outputs": [],
   "source": [
    "#drop the extra columns.\n",
    "#genre_df_merged = genre_df_merged.drop(['genre_1_x', 'genre_2_x', 'genre_3_x',\n",
    "                                         #'genre_1_y', 'genre_2_y', 'genre_3_y'], axis=1)\n",
    "\n",
    "#re-label the two columns that I am keeping.\n",
    "#genre_df_merged = genre_df_merged.rename(columns={'total_x': 'profit_genres', 'total_y': 'roi_genres'})\n",
    "\n",
    "#get the total for each genre and sort from most to least.\n",
    "#genre_df_merged['Total'] = genre_df_merged.apply(lambda x: x['profit_genres'] + x['roi_genres'], axis=1)\n",
    "#genre_df_merged = genre_df_merged.sort_values('Total', ascending = False)\n",
    "#genre_df_merged"
   ]
  },
  {
   "cell_type": "markdown",
   "metadata": {},
   "source": [
    "### Genre Performance Dataframe"
   ]
  },
  {
   "cell_type": "code",
   "execution_count": null,
   "metadata": {
    "ExecuteTime": {
     "end_time": "2021-10-01T00:28:47.635605Z",
     "start_time": "2021-10-01T00:28:47.612256Z"
    }
   },
   "outputs": [],
   "source": [
    "#genre_performance_df = pd.merge(genre_success_combined, genre_df_merged, on= 'index', how='left')\n",
    "#genre_performance_df['total_in_top_500_profit'] = genre_performance_df['profit_genres']\n",
    "#genre_performance_df['total_in_top_500_roi'] = genre_performance_df['roi_genres']\n",
    "#genre_performance_df = genre_performance_df.drop(genre_performance_df[['level_0', 'profit_genres', 'roi_genres']], axis=1)\n",
    "\n",
    "#genre_performance_df.head(2)"
   ]
  },
  {
   "cell_type": "code",
   "execution_count": null,
   "metadata": {
    "ExecuteTime": {
     "end_time": "2021-10-01T00:34:20.726770Z",
     "start_time": "2021-10-01T00:34:20.707596Z"
    }
   },
   "outputs": [],
   "source": [
    "#success rate of the top 500 most profitable movies from 2010-2019\n",
    "genre_performance_success_1 = genre_performance_df.sort_values('top_500_success_rate', ascending=False)\n",
    "\n",
    "#success rate of all profitable movies from 2010-2019\n",
    "genre_performance_success_2 = genre_performance_df.sort_values('any_profit_success_rate', ascending=False)\n",
    "\n",
    "# number of movies in the top 500 most profitable movies from 2010-2019\n",
    "genre_performance_500_profit = genre_performance_df.sort_values('total_in_top_500_profit', ascending=False)\n",
    "\n",
    "# number of movies in the top 500 ROI from 2010-2019\n",
    "genre_performance_500_roi = genre_performance_df.sort_values('total_in_top_500_roi', ascending=False)"
   ]
  },
  {
   "cell_type": "code",
   "execution_count": null,
   "metadata": {
    "ExecuteTime": {
     "end_time": "2021-10-01T00:35:56.494347Z",
     "start_time": "2021-10-01T00:35:56.471990Z"
    }
   },
   "outputs": [],
   "source": [
    "genre_performance_500_profit"
   ]
  },
  {
   "cell_type": "code",
   "execution_count": null,
   "metadata": {
    "ExecuteTime": {
     "end_time": "2021-10-01T00:28:06.484421Z",
     "start_time": "2021-10-01T00:28:06.480181Z"
    }
   },
   "outputs": [],
   "source": [
    "#genre_performance_df['total_in_top_500_profit'] = genre_performance_df['profit_genres']\n",
    "#genre_performance_df['total_in_top_500_roi'] = genre_performance_df['roi_genres']\n",
    "#genre_performance_df"
   ]
  },
  {
   "cell_type": "markdown",
   "metadata": {},
   "source": [
    "### Genre Analysis"
   ]
  },
  {
   "cell_type": "markdown",
   "metadata": {},
   "source": [
    "**GENRE ANALYSIS GOES HERE**"
   ]
  },
  {
   "cell_type": "markdown",
   "metadata": {},
   "source": [
    "#### Genre Visualization"
   ]
  },
  {
   "cell_type": "code",
   "execution_count": null,
   "metadata": {
    "ExecuteTime": {
     "end_time": "2021-09-30T18:45:21.273291Z",
     "start_time": "2021-09-30T18:45:21.088815Z"
    }
   },
   "outputs": [],
   "source": [
    "df =genre_df_merged\n",
    "\n",
    "fig, ax = plt.subplots(figsize = (20,10))\n",
    "\n",
    "ax.bar(x=df['index'], height=df['Total'])\n",
    "\n",
    "ax.set_xlabel('Genre Types')\n",
    "ax.set_ylabel('Number of Movies')\n",
    "ax.set_title('Genre Types Among Top Movies');\n"
   ]
  },
  {
   "cell_type": "code",
   "execution_count": null,
   "metadata": {
    "ExecuteTime": {
     "end_time": "2021-09-30T18:45:24.758869Z",
     "start_time": "2021-09-30T18:45:24.613670Z"
    }
   },
   "outputs": [],
   "source": [
    "#attempting to show roi and profit\n",
    "df =genre_df_merged\n",
    "\n",
    "fig, ax = plt.subplots(figsize = (20,10))\n",
    "\n",
    "ax.bar(x=df['index'], height=df['profit_genres'], color='gold')\n",
    "ax.bar(x=df['index'], height=df['roi_genres'], color='purple')\n",
    "\n",
    "\n",
    "ax.set_xlabel('Genre Types')\n",
    "ax.set_ylabel('Number of Movies')\n",
    "ax.set_title('Genre Types Among Top 500 Movies');\n"
   ]
  },
  {
   "cell_type": "code",
   "execution_count": null,
   "metadata": {},
   "outputs": [],
   "source": []
  },
  {
   "cell_type": "markdown",
   "metadata": {},
   "source": [
    "### Budget Analysis\n",
    "\n",
    "**How much does Microsoft need to spend on these movies?**"
   ]
  },
  {
   "cell_type": "code",
   "execution_count": null,
   "metadata": {
    "ExecuteTime": {
     "end_time": "2021-10-01T04:33:55.733628Z",
     "start_time": "2021-10-01T04:33:55.716130Z"
    }
   },
   "outputs": [],
   "source": [
    "roi_budget_df = top_roi.sort_values('production_budget', ascending=True)\n",
    "low_budget_roi = roi_budget_df[0:150] #the 150 lowest budget movies in the top 500 ROI\n",
    "\n",
    "high_budget_roi = roi_budget_df.sort_values('production_budget', ascending=False)\n",
    "high_budget_roi = high_budget_roi[0:150] #the 150 highest budget movies in the top 500 ROI\n",
    "\n",
    "\n"
   ]
  },
  {
   "cell_type": "code",
   "execution_count": null,
   "metadata": {
    "ExecuteTime": {
     "end_time": "2021-09-30T18:45:32.130978Z",
     "start_time": "2021-09-30T18:45:32.102953Z"
    }
   },
   "outputs": [],
   "source": [
    "low_budget_roi.head(150)"
   ]
  },
  {
   "cell_type": "code",
   "execution_count": null,
   "metadata": {
    "ExecuteTime": {
     "end_time": "2021-09-30T18:45:35.950858Z",
     "start_time": "2021-09-30T18:45:35.936745Z"
    }
   },
   "outputs": [],
   "source": [
    "low_budget_roi.describe()"
   ]
  },
  {
   "cell_type": "code",
   "execution_count": null,
   "metadata": {
    "ExecuteTime": {
     "end_time": "2021-09-30T18:45:39.764160Z",
     "start_time": "2021-09-30T18:45:39.735953Z"
    }
   },
   "outputs": [],
   "source": [
    "high_budget_roi.head(150)"
   ]
  },
  {
   "cell_type": "code",
   "execution_count": null,
   "metadata": {
    "ExecuteTime": {
     "end_time": "2021-09-30T18:45:44.232136Z",
     "start_time": "2021-09-30T18:45:44.196709Z"
    }
   },
   "outputs": [],
   "source": [
    "high_budget_roi.describe()"
   ]
  },
  {
   "cell_type": "markdown",
   "metadata": {},
   "source": [
    "#### Genres by Budget"
   ]
  },
  {
   "cell_type": "code",
   "execution_count": null,
   "metadata": {
    "ExecuteTime": {
     "end_time": "2021-09-30T18:45:48.047992Z",
     "start_time": "2021-09-30T18:45:48.038333Z"
    }
   },
   "outputs": [],
   "source": [
    "#These are the genres for the 150 highest budget movies out of the top 500 ROI\n",
    "high_budget_genres = genre_df(high_budget_roi)\n",
    "high_budget_genres = high_budget_genres.reset_index()\n",
    "high_budget_genres.sort_values('total', ascending=False)"
   ]
  },
  {
   "cell_type": "code",
   "execution_count": null,
   "metadata": {
    "ExecuteTime": {
     "end_time": "2021-09-30T18:45:51.834433Z",
     "start_time": "2021-09-30T18:45:51.821461Z"
    }
   },
   "outputs": [],
   "source": [
    "low_budget_roi.describe()"
   ]
  },
  {
   "cell_type": "code",
   "execution_count": null,
   "metadata": {
    "ExecuteTime": {
     "end_time": "2021-09-30T18:45:55.628954Z",
     "start_time": "2021-09-30T18:45:55.621008Z"
    }
   },
   "outputs": [],
   "source": [
    "#These are the genres for the 150 lowest budget movies out of the top 500 ROI\n",
    "low_budget_genres = genre_df(low_budget_roi)\n",
    "low_budget_genres.sort_values('total', ascending=False)"
   ]
  },
  {
   "cell_type": "markdown",
   "metadata": {},
   "source": [
    "## Visualization Archive"
   ]
  },
  {
   "cell_type": "code",
   "execution_count": null,
   "metadata": {
    "ExecuteTime": {
     "end_time": "2021-10-01T13:26:39.728786Z",
     "start_time": "2021-10-01T13:26:39.518549Z"
    }
   },
   "outputs": [],
   "source": [
    "#GENRE TYPES AMONG MOVIES THAT LOST MONEY\n",
    "df = loss_genre_df\n",
    "\n",
    "fig, ax = plt.subplots(figsize = (20,10))\n",
    "\n",
    "ax.bar(x=df['index'], height=df['total'], color='red')\n",
    "\n",
    "\n",
    "ax.set_xlabel('Genre Types')\n",
    "ax.set_ylabel('Number of Movies')\n",
    "ax.set_title('Genre Types Among Movies that Lost Money');\n"
   ]
  },
  {
   "cell_type": "code",
   "execution_count": null,
   "metadata": {},
   "outputs": [],
   "source": [
    "#Visualization for genre comparison dataframes. Doesn't work because i got rid of Difference column.\n",
    "\n",
    "df = genre_comparison_df\n",
    "\n",
    "fig, ax = plt.subplots(figsize = (20,10))\n",
    "\n",
    "ax.bar(x=df['index'], height=df['difference'],  color=(df['difference'] >= .50).map({True: 'g',\n",
    "                                                    False: 'r'}))\n",
    "\n",
    "\n",
    "ax.set_xlabel('Genre Types', size=20)\n",
    "ax.set_ylabel('Number of Movies', size=20)\n",
    "ax.set_title('Genre Types Among Movies', size=20);\n"
   ]
  },
  {
   "cell_type": "code",
   "execution_count": null,
   "metadata": {},
   "outputs": [],
   "source": [
    "#FIXES FORMATING FOR DOLLAR AMOUNTS IN VISUALIZATIONS\n",
    "#USE ax.yaxis.set_major_formatter(price_fmt_mill)\n",
    "from matplotlib.ticker import FuncFormatter\n",
    "\n",
    "def millions(x,pos):\n",
    "    \"\"\"function for use wth matplotlib FuncFormatter -  formats money in millions\"\"\"\n",
    "    return f\"${x*1e-6:,}M\"\n",
    "\n",
    "# Create the formatter\n",
    "price_fmt_mill =FuncFormatter(millions)\n"
   ]
  },
  {
   "cell_type": "code",
   "execution_count": null,
   "metadata": {},
   "outputs": [],
   "source": [
    "#attempting a visualization\n",
    "sns.barplot(data=recent_movies_2010, x=\"production_budget\", y=\"total_profit\");"
   ]
  },
  {
   "cell_type": "code",
   "execution_count": null,
   "metadata": {},
   "outputs": [],
   "source": [
    "#creating a variable for all movies 1980-2019\n",
    "recent_movies_2 = project_analysis_df\n",
    "recent_movies_2 = recent_movies_2[recent_movies_2['release_year'] >= 1990]\n",
    "recent_movies_2 = recent_movies_2[recent_movies_2['release_year'] < 2019]\n",
    "recent_movies_2.sort_values('release_year', ascending=True).head(3)"
   ]
  },
  {
   "cell_type": "code",
   "execution_count": null,
   "metadata": {},
   "outputs": [],
   "source": [
    "#attempting to show production budget, total profit, and ROI over time.\n",
    "sns.lineplot(x=\"release_year\", y=\"production_budget\", data=recent_movies_2, label=\"Production Budget\")\n",
    "sns.lineplot(x=\"release_year\", y=\"total_profit\", data=recent_movies_2, label=\"Total Profit\")\n",
    "\n",
    "plt.show();"
   ]
  },
  {
   "cell_type": "code",
   "execution_count": null,
   "metadata": {},
   "outputs": [],
   "source": [
    "#another attempt\n",
    "sns.lineplot(x=\"release_year\", y=\"total_profit\", data=recent_movies_2)\n",
    "plt.show()"
   ]
  },
  {
   "cell_type": "code",
   "execution_count": null,
   "metadata": {},
   "outputs": [],
   "source": [
    "#another attempt\n",
    "sns.lineplot(x=\"release_year\", y=\"ROI\", data=recent_movies_2)\n",
    "plt.show()"
   ]
  },
  {
   "cell_type": "code",
   "execution_count": null,
   "metadata": {},
   "outputs": [],
   "source": [
    "df = recent_movies_2\n",
    "\n",
    "fig, ax = plt.subplots(figsize = (20,10))\n",
    "\n",
    "ax.plot(df['release_year'],y = df['production_budget'])\n",
    "\n",
    "ax.set_xlabel('Release Year')\n",
    "ax.set_ylabel('Production Budget')\n",
    "ax.set_title('Insert Title Here');\n"
   ]
  },
  {
   "cell_type": "code",
   "execution_count": null,
   "metadata": {},
   "outputs": [],
   "source": [
    "#Attempting to plot my findings from the two recent movie datasets. \n",
    "\n",
    "df = recent_movies_2\n",
    "\n",
    "# Set up plot\n",
    "fig, ax = plt.subplots(figsize=(20,10))\n",
    "\n",
    "# release year vs. profit\n",
    "ax.bar(df[\"release_year\"], df[\"total_profit\"], color=\"purple\")\n",
    "ax.set_title(\"total profit by year\", size=20)\n",
    "ax.yaxis.set_major_formatter(price_fmt_mill)\n",
    "ax.set_xlabel(\"Release Year\", size=20)\n",
    "ax.set_ylabel(\"Total Profit\", size=20);"
   ]
  },
  {
   "cell_type": "code",
   "execution_count": null,
   "metadata": {},
   "outputs": [],
   "source": [
    "df = recent_movies_2\n",
    "\n",
    "fig, ax = plt.subplots(figsize = (20,10))\n",
    "\n",
    "ax.scatter(df['production_budget'], df['total_profit'])\n",
    "\n",
    "\n",
    "ax.set_xlabel('Production Budget')\n",
    "ax.set_ylabel('Total Profit (in $millions)')\n",
    "ax.set_title('correlation between budget and profit')\n",
    "ax.yaxis.set_major_formatter(price_fmt_mill)\n",
    "plt.tight_layout()"
   ]
  },
  {
   "cell_type": "code",
   "execution_count": null,
   "metadata": {},
   "outputs": [],
   "source": [
    "df = recent_movies_2\n",
    "\n",
    "fig, ax = plt.subplots(figsize = (20,10))\n",
    "\n",
    "ax.scatter(df['production_budget'], df['ROI'])\n",
    "\n",
    "\n",
    "ax.set_xlabel('Production Budget')\n",
    "ax.set_ylabel('ROI')\n",
    "ax.set_title('correlation between budget and ROI')\n",
    "plt.tight_layout()"
   ]
  },
  {
   "cell_type": "markdown",
   "metadata": {},
   "source": [
    "### Visualizations for 2010-2019"
   ]
  },
  {
   "cell_type": "code",
   "execution_count": null,
   "metadata": {},
   "outputs": [],
   "source": [
    "sns.lineplot(x=\"release_year\", y=\"ROI\", data=recent_movies_2010)\n",
    "plt.show()"
   ]
  },
  {
   "cell_type": "code",
   "execution_count": null,
   "metadata": {},
   "outputs": [],
   "source": [
    "sns.lineplot(x=\"release_year\", y=\"production_budget\", data=recent_movies_2010, label=\"Production Budget\")\n",
    "sns.lineplot(x=\"release_year\", y=\"total_profit\", data=recent_movies_2010, label=\"Total Profit\")\n",
    "plt.show();"
   ]
  },
  {
   "cell_type": "code",
   "execution_count": null,
   "metadata": {},
   "outputs": [],
   "source": [
    "df = recent_movies_2010\n",
    "\n",
    "# Set up plot\n",
    "fig, ax = plt.subplots(figsize=(20,10))\n",
    "\n",
    "# release year vs. profit\n",
    "ax.bar(df[\"release_year\"], df[\"total_profit\"], color=\"purple\")\n",
    "ax.set_title(\"total profit by year\", size=20)\n",
    "ax.yaxis.set_major_formatter(price_fmt_mill)\n",
    "ax.set_xlabel(\"Release Year\", size=20)\n",
    "ax.set_ylabel(\"Total Profit\", size=20);"
   ]
  },
  {
   "cell_type": "markdown",
   "metadata": {},
   "source": [
    "### Visualizations for Top Movies"
   ]
  },
  {
   "cell_type": "code",
   "execution_count": null,
   "metadata": {},
   "outputs": [],
   "source": [
    "df = top_profit\n",
    "\n",
    "# Set up plot\n",
    "fig, ax = plt.subplots(figsize=(20,10))\n",
    "\n",
    "# release year vs. profit\n",
    "ax.bar(df[\"release_year\"], df[\"total_profit\"], color=\"green\")\n",
    "ax.set_title(\"total profit by year\", size=20)\n",
    "ax.yaxis.set_major_formatter(price_fmt_mill)\n",
    "ax.set_xlabel(\"Release Year\", size=20)\n",
    "ax.set_ylabel(\"Total Profit\", size=20);"
   ]
  },
  {
   "cell_type": "code",
   "execution_count": null,
   "metadata": {},
   "outputs": [],
   "source": []
  },
  {
   "cell_type": "code",
   "execution_count": null,
   "metadata": {},
   "outputs": [],
   "source": []
  },
  {
   "cell_type": "markdown",
   "metadata": {},
   "source": [
    "## ARCHIVE"
   ]
  },
  {
   "cell_type": "code",
   "execution_count": null,
   "metadata": {},
   "outputs": [],
   "source": [
    "#difference = genre_comparison_df.apply(lambda x: x['Profit'] - x['Loss'], axis=1)\n",
    "#genre_comparison_df['Difference'] = difference\n",
    "#genre_comparison_df\n"
   ]
  },
  {
   "cell_type": "code",
   "execution_count": null,
   "metadata": {
    "ExecuteTime": {
     "end_time": "2021-09-30T18:38:57.865394Z",
     "start_time": "2021-09-30T18:38:57.715Z"
    }
   },
   "outputs": [],
   "source": [
    "\n",
    "#low_budget = budget_df[0:100]\n",
    "#low_budget"
   ]
  },
  {
   "cell_type": "code",
   "execution_count": null,
   "metadata": {
    "ExecuteTime": {
     "end_time": "2021-09-30T18:38:57.865984Z",
     "start_time": "2021-09-30T18:38:57.717Z"
    }
   },
   "outputs": [],
   "source": [
    "#These are the genres for the 100 lowest budget movies out of the top 325 ROI\n",
    "#low_budget_genres = genre_df(low_budget)\n",
    "#low_budget_genres.sort_values('total', ascending=False)"
   ]
  },
  {
   "cell_type": "code",
   "execution_count": null,
   "metadata": {
    "ExecuteTime": {
     "end_time": "2021-09-30T18:38:57.866834Z",
     "start_time": "2021-09-30T18:38:57.718Z"
    }
   },
   "outputs": [],
   "source": [
    "#high_budget_2010_roi = budget_df.sort_values('production_budget', ascending=False)\n",
    "#high_budget_2010_roi = high_budget_2010_roi[0:100]\n"
   ]
  },
  {
   "cell_type": "code",
   "execution_count": null,
   "metadata": {
    "ExecuteTime": {
     "end_time": "2021-09-30T18:38:57.867564Z",
     "start_time": "2021-09-30T18:38:57.720Z"
    }
   },
   "outputs": [],
   "source": [
    "#low_budget_2010 = recent_movies_2010.sort_values('production_budget', ascending=True)\n",
    "#low_budget_2010.head(500)"
   ]
  },
  {
   "cell_type": "code",
   "execution_count": null,
   "metadata": {
    "ExecuteTime": {
     "end_time": "2021-09-30T18:38:57.868102Z",
     "start_time": "2021-09-30T18:38:57.721Z"
    }
   },
   "outputs": [],
   "source": [
    "#attempting to get data on budgets related to genre\n",
    "#test_df = recent_movies_2010.sort_values('genre_1', ascending=True)\n",
    "#test_df.head(100)"
   ]
  },
  {
   "cell_type": "code",
   "execution_count": null,
   "metadata": {
    "ExecuteTime": {
     "end_time": "2021-09-30T18:38:57.868596Z",
     "start_time": "2021-09-30T18:38:57.723Z"
    }
   },
   "outputs": [],
   "source": [
    "#action_movies = recent_movies_2010[recent_movies_2010['genre_1'] == 'Action']\n",
    "#action_movies"
   ]
  },
  {
   "cell_type": "code",
   "execution_count": null,
   "metadata": {
    "ExecuteTime": {
     "end_time": "2021-09-30T18:38:57.869135Z",
     "start_time": "2021-09-30T18:38:57.724Z"
    }
   },
   "outputs": [],
   "source": [
    "#horror_1 = recent_movies_2010[recent_movies_2010['genre_1'] == 'Horror']\n",
    "#horror_2 = recent_movies_2010[recent_movies_2010['genre_2'] == 'Horror']\n",
    "#horror_3 =  recent_movies_2010[recent_movies_2010['genre_3'] == 'Horror']\n",
    "#horror_df = horror_1.append([[horror_2, horror_3]])                     "
   ]
  },
  {
   "cell_type": "code",
   "execution_count": null,
   "metadata": {},
   "outputs": [],
   "source": []
  },
  {
   "cell_type": "code",
   "execution_count": null,
   "metadata": {
    "ExecuteTime": {
     "end_time": "2021-09-30T18:38:57.869605Z",
     "start_time": "2021-09-30T18:38:57.727Z"
    }
   },
   "outputs": [],
   "source": [
    "#is there a coorelation between genre and performance?\n",
    "#budget and genre?"
   ]
  },
  {
   "cell_type": "code",
   "execution_count": null,
   "metadata": {
    "ExecuteTime": {
     "end_time": "2021-09-30T18:38:57.870083Z",
     "start_time": "2021-09-30T18:38:57.728Z"
    }
   },
   "outputs": [],
   "source": [
    "#merged_rt_df_2 = merged_rt_df"
   ]
  },
  {
   "cell_type": "code",
   "execution_count": null,
   "metadata": {
    "ExecuteTime": {
     "end_time": "2021-09-30T18:38:57.870648Z",
     "start_time": "2021-09-30T18:38:57.730Z"
    }
   },
   "outputs": [],
   "source": [
    "#merged_rt_df['runtime'].isna().sum()"
   ]
  },
  {
   "cell_type": "code",
   "execution_count": null,
   "metadata": {
    "ExecuteTime": {
     "end_time": "2021-09-30T18:38:57.871252Z",
     "start_time": "2021-09-30T18:38:57.732Z"
    }
   },
   "outputs": [],
   "source": [
    "#corrected_runtime = merged_rt_df_2['runtime'].fillna(0)"
   ]
  },
  {
   "cell_type": "code",
   "execution_count": null,
   "metadata": {
    "ExecuteTime": {
     "end_time": "2021-09-30T18:38:57.871805Z",
     "start_time": "2021-09-30T18:38:57.733Z"
    }
   },
   "outputs": [],
   "source": [
    "#corrected_runtime"
   ]
  },
  {
   "cell_type": "code",
   "execution_count": null,
   "metadata": {
    "ExecuteTime": {
     "end_time": "2021-09-30T18:38:57.872268Z",
     "start_time": "2021-09-30T18:38:57.735Z"
    }
   },
   "outputs": [],
   "source": [
    "#corrected_runtime_2 = corrected_runtime.str[:3]\n",
    "#corrected_runtime_2"
   ]
  },
  {
   "cell_type": "code",
   "execution_count": null,
   "metadata": {
    "ExecuteTime": {
     "end_time": "2021-09-30T18:38:57.872761Z",
     "start_time": "2021-09-30T18:38:57.736Z"
    }
   },
   "outputs": [],
   "source": [
    "#corrected_runtime_2.isna().sum()"
   ]
  },
  {
   "cell_type": "code",
   "execution_count": null,
   "metadata": {
    "ExecuteTime": {
     "end_time": "2021-09-30T18:38:57.873236Z",
     "start_time": "2021-09-30T18:38:57.738Z"
    }
   },
   "outputs": [],
   "source": [
    "#corrected_runtime_3 = corrected_runtime_2.fillna(0)"
   ]
  },
  {
   "cell_type": "code",
   "execution_count": null,
   "metadata": {
    "ExecuteTime": {
     "end_time": "2021-09-30T18:38:57.873812Z",
     "start_time": "2021-09-30T18:38:57.739Z"
    }
   },
   "outputs": [],
   "source": [
    "#corrected_runtime_3.value_counts()"
   ]
  },
  {
   "cell_type": "code",
   "execution_count": null,
   "metadata": {
    "ExecuteTime": {
     "end_time": "2021-09-30T18:38:57.874315Z",
     "start_time": "2021-09-30T18:38:57.741Z"
    }
   },
   "outputs": [],
   "source": [
    "#merged_rt_df_2['runtime'] = corrected_runtime_3"
   ]
  },
  {
   "cell_type": "code",
   "execution_count": null,
   "metadata": {
    "ExecuteTime": {
     "end_time": "2021-09-30T18:38:57.874778Z",
     "start_time": "2021-09-30T18:38:57.743Z"
    }
   },
   "outputs": [],
   "source": [
    "#merged_rt_df_2.info()"
   ]
  },
  {
   "cell_type": "code",
   "execution_count": null,
   "metadata": {
    "ExecuteTime": {
     "end_time": "2021-09-30T18:38:57.875255Z",
     "start_time": "2021-09-30T18:38:57.744Z"
    }
   },
   "outputs": [],
   "source": [
    "#merged_rt_df_2 = merged_rt_df_2.drop('box_office', axis=1)\n",
    "#merged_rt_df_2.head(10)"
   ]
  },
  {
   "cell_type": "code",
   "execution_count": null,
   "metadata": {
    "ExecuteTime": {
     "end_time": "2021-09-30T18:38:57.875773Z",
     "start_time": "2021-09-30T18:38:57.746Z"
    }
   },
   "outputs": [],
   "source": [
    "#merged_rt_df_2['runtime'].isna().sum()\n",
    "\n"
   ]
  },
  {
   "cell_type": "code",
   "execution_count": null,
   "metadata": {
    "ExecuteTime": {
     "end_time": "2021-09-30T18:38:57.876274Z",
     "start_time": "2021-09-30T18:38:57.747Z"
    }
   },
   "outputs": [],
   "source": [
    "#droping null values so I can convert the reamining ones to float.\n",
    "#merged_rt_df_2['runtime'].dropna(NaN)"
   ]
  },
  {
   "cell_type": "code",
   "execution_count": null,
   "metadata": {
    "ExecuteTime": {
     "end_time": "2021-09-30T18:38:57.876897Z",
     "start_time": "2021-09-30T18:38:57.749Z"
    }
   },
   "outputs": [],
   "source": [
    "#cleaned_runtime = merged_rt_df_2['runtime'].str[:3]\n",
    "#cleaned_runtime.tail(5)"
   ]
  },
  {
   "cell_type": "code",
   "execution_count": null,
   "metadata": {
    "ExecuteTime": {
     "end_time": "2021-09-30T18:38:57.877384Z",
     "start_time": "2021-09-30T18:38:57.751Z"
    }
   },
   "outputs": [],
   "source": [
    "#cleaned_theater_date = pd.to_datetime(merged_rt_df_2['theater_date'])\n",
    "#cleaned_theater_date"
   ]
  },
  {
   "cell_type": "code",
   "execution_count": null,
   "metadata": {
    "ExecuteTime": {
     "end_time": "2021-09-30T18:38:57.877902Z",
     "start_time": "2021-09-30T18:38:57.752Z"
    }
   },
   "outputs": [],
   "source": [
    "#merged_rt_df_2[\"theater_date\"] = cleaned_theater_date\n",
    "#merged_rt_df_2"
   ]
  },
  {
   "cell_type": "code",
   "execution_count": null,
   "metadata": {
    "ExecuteTime": {
     "end_time": "2021-09-30T18:38:57.878429Z",
     "start_time": "2021-09-30T18:38:57.754Z"
    }
   },
   "outputs": [],
   "source": [
    "#df = merged_rt_df_2"
   ]
  },
  {
   "cell_type": "code",
   "execution_count": null,
   "metadata": {
    "ExecuteTime": {
     "end_time": "2021-09-30T18:38:57.878965Z",
     "start_time": "2021-09-30T18:38:57.755Z"
    }
   },
   "outputs": [],
   "source": [
    "#duplicates = df[df.duplicated()]\n",
    "#print(len(duplicates))\n",
    "#duplicates.head()\n"
   ]
  },
  {
   "cell_type": "raw",
   "metadata": {},
   "source": [
    "#df.drop_duplicates(keep='first', inplace=True)"
   ]
  },
  {
   "cell_type": "code",
   "execution_count": null,
   "metadata": {
    "ExecuteTime": {
     "end_time": "2021-09-30T18:38:57.879490Z",
     "start_time": "2021-09-30T18:38:57.777Z"
    }
   },
   "outputs": [],
   "source": [
    "#rt_duplicates = merged_rt_df_2[[merged_rt_df_2['id']].duplicated]\n",
    "\n"
   ]
  },
  {
   "cell_type": "code",
   "execution_count": null,
   "metadata": {
    "ExecuteTime": {
     "end_time": "2021-09-30T18:38:57.879983Z",
     "start_time": "2021-09-30T18:38:57.779Z"
    }
   },
   "outputs": [],
   "source": [
    "#merged_rt_df_2.info()"
   ]
  },
  {
   "cell_type": "code",
   "execution_count": null,
   "metadata": {
    "ExecuteTime": {
     "end_time": "2021-09-30T18:38:57.880545Z",
     "start_time": "2021-09-30T18:38:57.780Z"
    }
   },
   "outputs": [],
   "source": [
    "#merged_df_2.info()"
   ]
  },
  {
   "cell_type": "code",
   "execution_count": null,
   "metadata": {
    "ExecuteTime": {
     "end_time": "2021-09-30T18:38:57.881031Z",
     "start_time": "2021-09-30T18:38:57.782Z"
    }
   },
   "outputs": [],
   "source": [
    "#merged_rt_df['runtime'][299]"
   ]
  },
  {
   "cell_type": "code",
   "execution_count": null,
   "metadata": {
    "ExecuteTime": {
     "end_time": "2021-09-30T18:38:57.881593Z",
     "start_time": "2021-09-30T18:38:57.783Z"
    }
   },
   "outputs": [],
   "source": [
    "merged_rt_df.sort_values('theater_date', ascending=False).head(100)"
   ]
  },
  {
   "cell_type": "code",
   "execution_count": null,
   "metadata": {
    "ExecuteTime": {
     "end_time": "2021-09-30T18:38:57.882095Z",
     "start_time": "2021-09-30T18:38:57.785Z"
    }
   },
   "outputs": [],
   "source": [
    "merged_rt_df"
   ]
  },
  {
   "cell_type": "code",
   "execution_count": null,
   "metadata": {},
   "outputs": [],
   "source": []
  },
  {
   "cell_type": "code",
   "execution_count": null,
   "metadata": {
    "ExecuteTime": {
     "end_time": "2021-09-30T18:38:57.882598Z",
     "start_time": "2021-09-30T18:38:57.787Z"
    }
   },
   "outputs": [],
   "source": [
    "# Here you run your code to clean the data"
   ]
  },
  {
   "cell_type": "markdown",
   "metadata": {},
   "source": [
    "## Data Analysis\n",
    "Describe and justify the process for analyzing or modeling the data.\n",
    "\n",
    "***\n",
    "Questions to consider:\n",
    "* How did you analyze or model the data?\n",
    "* How did you iterate on your initial approach to make it better?\n",
    "* Why are these choices appropriate given the data and the business problem?\n",
    "***"
   ]
  },
  {
   "cell_type": "code",
   "execution_count": null,
   "metadata": {},
   "outputs": [],
   "source": []
  },
  {
   "cell_type": "markdown",
   "metadata": {},
   "source": [
    "###  What I did.\n",
    "\n",
    "There were two main components of data that I was interested in. The first was Financial data, specificially, how much\n",
    "did it cost to make the movie and how much money did it make at the box office. The second was information on what genre (or genres) the best performing movies had.\n",
    "\n",
    "The Numbers dataset had the financial information that I needed. I was able to use the provided production budget and worldwide gross to calculate the total profit or loss for each movie. \n",
    "\n",
    "I then merged all the IMDB datasets into a master data set using the IMDB ID (tconst) as a primary key. There was a lot of extra data there that I didn't end up using, but it did provide the primary title and orginial title, which I could use to link to The Numbers."
   ]
  },
  {
   "cell_type": "code",
   "execution_count": null,
   "metadata": {},
   "outputs": [],
   "source": []
  },
  {
   "cell_type": "markdown",
   "metadata": {},
   "source": [
    "### Limitations of the data:\n",
    "\n",
    "Most of the genre data that I have is from 2010 - 2019. While I would have liked to have consistent genre data for all of the movies, this data is from the most relevant movies for answering the business problem. Microsoft wants data on what types of movies are performing well NOW, so this data was very valuable. I was still able to get financial data for movies from previous years, so it all worked to paint a good picture of the movie industry."
   ]
  },
  {
   "cell_type": "code",
   "execution_count": null,
   "metadata": {},
   "outputs": [],
   "source": []
  },
  {
   "cell_type": "markdown",
   "metadata": {},
   "source": [
    "### Challenges along the way (and how I dealt with them):\n",
    "\n",
    "The biggest challenge that I faced was merging the IMDB data with data from The Numbers. While both provided titles for each movie, there was a little descrepency with some more common titles. Most notably, Avatar, the highest grossing movie in the dataset, was being linked with a low budget horror movie of the same name. I was able to correctly merge the data by using both the primary title and original title from IMDB to determine which was correct. Also, dropping duplicates resolved a lot of the problems.\n",
    "\n",
    "Another challenge was that the genre field on the IMDB dataset had up to 3 genres all contained together in one string, making it hard to search the data. I was able to create a function which seperated this string into 3 seperate genre fields, as well counting the occurances of each genre through value counts."
   ]
  },
  {
   "cell_type": "code",
   "execution_count": null,
   "metadata": {},
   "outputs": [],
   "source": []
  },
  {
   "cell_type": "markdown",
   "metadata": {},
   "source": [
    "## Questions that I want to answer:\n",
    "    \n",
    "    1) What are the genres of the movies that made the most profit?\n",
    "    2) What are the genres of the movies with the best ROI?\n",
    "    3) How much money do you need to spend to make these movies?\n",
    "    4) Maybe look at directors/studios/etc?"
   ]
  },
  {
   "cell_type": "markdown",
   "metadata": {},
   "source": [
    "Findings from Analysis:\n",
    "\n"
   ]
  },
  {
   "cell_type": "markdown",
   "metadata": {},
   "source": [
    "**Recommendations:**\n",
    "    1. "
   ]
  },
  {
   "cell_type": "markdown",
   "metadata": {},
   "source": [
    "## Evaluation\n",
    "Evaluate how well your work solves the stated business problem.\n",
    "\n",
    "***\n",
    "Questions to consider:\n",
    "* How do you interpret the results?\n",
    "* How well does your model fit your data? How much better is this than your baseline model?\n",
    "* How confident are you that your results would generalize beyond the data you have?\n",
    "* How confident are you that this model would benefit the business if put into use?\n",
    "***"
   ]
  },
  {
   "cell_type": "markdown",
   "metadata": {},
   "source": [
    "## Conclusions\n",
    "Provide your conclusions about the work you've done, including any limitations or next steps.\n",
    "\n",
    "***\n",
    "Questions to consider:\n",
    "* What would you recommend the business do as a result of this work?\n",
    "* What are some reasons why your analysis might not fully solve the business problem?\n",
    "* What else could you do in the future to improve this project?\n",
    "***"
   ]
  }
 ],
 "metadata": {
  "kernelspec": {
   "display_name": "Python 3",
   "language": "python",
   "name": "python3"
  },
  "language_info": {
   "codemirror_mode": {
    "name": "ipython",
    "version": 3
   },
   "file_extension": ".py",
   "mimetype": "text/x-python",
   "name": "python",
   "nbconvert_exporter": "python",
   "pygments_lexer": "ipython3",
   "version": "3.8.5"
  },
  "toc": {
   "base_numbering": 1,
   "nav_menu": {},
   "number_sections": true,
   "sideBar": true,
   "skip_h1_title": false,
   "title_cell": "Table of Contents",
   "title_sidebar": "Contents",
   "toc_cell": false,
   "toc_position": {
    "height": "calc(100% - 180px)",
    "left": "10px",
    "top": "150px",
    "width": "288px"
   },
   "toc_section_display": true,
   "toc_window_display": true
  },
  "varInspector": {
   "cols": {
    "lenName": 16,
    "lenType": 16,
    "lenVar": 40
   },
   "kernels_config": {
    "python": {
     "delete_cmd_postfix": "",
     "delete_cmd_prefix": "del ",
     "library": "var_list.py",
     "varRefreshCmd": "print(var_dic_list())"
    },
    "r": {
     "delete_cmd_postfix": ") ",
     "delete_cmd_prefix": "rm(",
     "library": "var_list.r",
     "varRefreshCmd": "cat(var_dic_list()) "
    }
   },
   "types_to_exclude": [
    "module",
    "function",
    "builtin_function_or_method",
    "instance",
    "_Feature"
   ],
   "window_display": false
  }
 },
 "nbformat": 4,
 "nbformat_minor": 4
}
